{
  "nbformat": 4,
  "nbformat_minor": 0,
  "metadata": {
    "colab": {
      "name": "LSTM20210630_present_results.ipynb",
      "provenance": [],
      "collapsed_sections": [],
      "history_visible": true,
      "authorship_tag": "ABX9TyP9YtVmUEK95H+T7r5Vrfif",
      "include_colab_link": true
    },
    "kernelspec": {
      "name": "python3",
      "display_name": "Python 3"
    },
    "language_info": {
      "name": "python"
    },
    "accelerator": "GPU"
  },
  "cells": [
    {
      "cell_type": "markdown",
      "metadata": {
        "id": "view-in-github",
        "colab_type": "text"
      },
      "source": [
        "<a href=\"https://colab.research.google.com/github/voquangtuong/AAA_drought_prediction/blob/main/LSTM20210630_present_results.ipynb\" target=\"_parent\"><img src=\"https://colab.research.google.com/assets/colab-badge.svg\" alt=\"Open In Colab\"/></a>"
      ]
    },
    {
      "cell_type": "markdown",
      "metadata": {
        "id": "HJ2gddnwR_H5"
      },
      "source": [
        "# Phần 1: ví dụ mẫu"
      ]
    },
    {
      "cell_type": "code",
      "metadata": {
        "colab": {
          "base_uri": "https://localhost:8080/"
        },
        "id": "EvBF1U2kSRRh",
        "outputId": "6b6b480f-a22e-4733-fd22-9f8fda2987f4"
      },
      "source": [
        "# multivariate multi-step stacked lstm example\n",
        "from numpy import array\n",
        "from numpy import hstack\n",
        "from keras.models import Sequential\n",
        "from keras.layers import LSTM\n",
        "from keras.layers import Dense\n",
        "from tensorflow.keras import backend as KK\n",
        " \n",
        "# split a multivariate sequence into samples\n",
        "def split_sequences(sequences, n_steps_in, n_steps_out):\n",
        "\tX, y = list(), list()\n",
        "\tfor i in range(len(sequences)):\n",
        "\t\t# find the end of this pattern\n",
        "\t\tend_ix = i + n_steps_in\n",
        "\t\tout_end_ix = end_ix + n_steps_out-1\n",
        "\t\t# check if we are beyond the dataset\n",
        "\t\tif out_end_ix > len(sequences):\n",
        "\t\t\tbreak\n",
        "\t\t# gather input and output parts of the pattern\n",
        "\t\tseq_x, seq_y = sequences[i:end_ix, :-1], sequences[end_ix-1:out_end_ix, -1]\n",
        "\t\tX.append(seq_x)\n",
        "\t\ty.append(seq_y)\n",
        "\treturn array(X), array(y)\n",
        " \n",
        "# define input sequence\n",
        "in_seq1 = array([10, 20, 30, 40, 50, 60, 70, 80, 90])\n",
        "in_seq2 = array([15, 25, 35, 45, 55, 65, 75, 85, 95])\n",
        "out_seq = array([in_seq1[i]+in_seq2[i] for i in range(len(in_seq1))])\n",
        "# convert to [rows, columns] structure\n",
        "in_seq1 = in_seq1.reshape((len(in_seq1), 1))\n",
        "in_seq2 = in_seq2.reshape((len(in_seq2), 1))\n",
        "out_seq = out_seq.reshape((len(out_seq), 1))\n",
        "# horizontally stack columns\n",
        "dataset = hstack((in_seq1, in_seq2, out_seq))\n",
        "# choose a number of time steps\n",
        "n_steps_in, n_steps_out = 3, 2\n",
        "# covert into input/output\n",
        "X, y = split_sequences(dataset, n_steps_in, n_steps_out)\n",
        "# the dataset knows the number of features, e.g. 2\n",
        "n_features = X.shape[2]\n",
        "# define model\n",
        "model = Sequential()\n",
        "model.add(LSTM(100, activation='relu', return_sequences=True, input_shape=(n_steps_in, n_features)))\n",
        "model.add(LSTM(100, activation='relu'))\n",
        "model.add(Dense(n_steps_out))\n",
        "model.compile(optimizer='adam', loss='mse')\n",
        "# fit model\n",
        "model.fit(X, y, epochs=5, verbose=0)\n",
        "# demonstrate prediction\n",
        "x_input = array([[70, 75], [80, 85], [90, 95]])\n",
        "x_input = x_input.reshape((1, n_steps_in, n_features))\n",
        "yhat = model.predict(x_input, verbose=0)\n",
        "print(yhat)"
      ],
      "execution_count": 1,
      "outputs": [
        {
          "output_type": "stream",
          "text": [
            "WARNING:tensorflow:Layer lstm will not use cuDNN kernels since it doesn't meet the criteria. It will use a generic GPU kernel as fallback when running on GPU.\n",
            "WARNING:tensorflow:Layer lstm_1 will not use cuDNN kernels since it doesn't meet the criteria. It will use a generic GPU kernel as fallback when running on GPU.\n",
            "[[3.846682  4.4973364]]\n"
          ],
          "name": "stdout"
        }
      ]
    },
    {
      "cell_type": "code",
      "metadata": {
        "colab": {
          "base_uri": "https://localhost:8080/"
        },
        "id": "m5Mu8HvRuBTr",
        "outputId": "573f9e2f-7098-46da-db4e-95e420703fac"
      },
      "source": [
        "### plot ket qua\n",
        "y_ORG=list(y.flatten().reshape(y.shape[0],y.shape[1])[:,0])\n",
        "for i in range(1,y.shape[1]):\n",
        "  # y_ORG=np.concatenate((y_ORG,y.flatten().reshape(y.shape[0],y.shape[1])[:,i]))\n",
        "  y_ORG.append(y.flatten().reshape(y.shape[0],y.shape[1])[:,i][-1])\n",
        "y_ORG"
      ],
      "execution_count": 2,
      "outputs": [
        {
          "output_type": "execute_result",
          "data": {
            "text/plain": [
              "[65, 85, 105, 125, 145, 165, 185]"
            ]
          },
          "metadata": {
            "tags": []
          },
          "execution_count": 2
        }
      ]
    },
    {
      "cell_type": "markdown",
      "metadata": {
        "id": "78f9VCJbSd9R"
      },
      "source": [
        "# Phần 2 : áp dụng cho correlation 1"
      ]
    },
    {
      "cell_type": "code",
      "metadata": {
        "id": "7Pj-nvurTUzy"
      },
      "source": [
        "# multivariate multi-step stacked lstm example\n",
        "from numpy import array\n",
        "from numpy import hstack\n",
        "from keras.models import Sequential\n",
        "from keras.layers import LSTM\n",
        "from keras.layers import Dense\n",
        " \n",
        "# split a multivariate sequence into samples\n",
        "def split_sequences(sequences, n_steps_in, n_steps_out):\n",
        "\tX, y = list(), list()\n",
        "\tfor i in range(len(sequences)):\n",
        "\t\t# find the end of this pattern\n",
        "\t\tend_ix = i + n_steps_in\n",
        "\t\tout_end_ix = end_ix + n_steps_out-1\n",
        "\t\t# check if we are beyond the dataset\n",
        "\t\tif out_end_ix > len(sequences):\n",
        "\t\t\tbreak\n",
        "\t\t# gather input and output parts of the pattern\n",
        "\t\tseq_x, seq_y = sequences[i:end_ix, :-1], sequences[end_ix-1:out_end_ix, -1]\n",
        "\t\tX.append(seq_x)\n",
        "\t\ty.append(seq_y)\n",
        "\treturn array(X), array(y)\n",
        " \n",
        "# # define input sequence\n",
        "# in_seq1 = array([10, 20, 30, 40, 50, 60, 70, 80, 90])\n",
        "# in_seq2 = array([15, 25, 35, 45, 55, 65, 75, 85, 95])\n",
        "# out_seq = array([in_seq1[i]+in_seq2[i] for i in range(len(in_seq1))])\n",
        "# # convert to [rows, columns] structure\n",
        "# in_seq1 = in_seq1.reshape((len(in_seq1), 1))\n",
        "# in_seq2 = in_seq2.reshape((len(in_seq2), 1))\n",
        "# out_seq = out_seq.reshape((len(out_seq), 1))\n",
        "# horizontally stack columns\n"
      ],
      "execution_count": 3,
      "outputs": []
    },
    {
      "cell_type": "code",
      "metadata": {
        "colab": {
          "base_uri": "https://localhost:8080/"
        },
        "id": "iXaPbXE4TsC3",
        "outputId": "e5daa575-d51c-443e-f3de-12d6b309bd77"
      },
      "source": [
        "# read data\n",
        "from google.colab import drive\n",
        "drive.mount('/content/drive')"
      ],
      "execution_count": 4,
      "outputs": [
        {
          "output_type": "stream",
          "text": [
            "Mounted at /content/drive\n"
          ],
          "name": "stdout"
        }
      ]
    },
    {
      "cell_type": "code",
      "metadata": {
        "id": "5T5tDrplT5ip"
      },
      "source": [
        "import os\n",
        "os.chdir('/content/drive/MyDrive')\n",
        "import pandas as pd\n",
        "import matplotlib.pyplot as plt\n",
        "import seaborn as sns\n",
        "# tao thu muc chua anh xuat ra\n",
        "out_dir_all=['output_fig_210630','output_tab_210630']\n",
        "for out in out_dir_all:\n",
        "  if not os.path.exists(out):\n",
        "    os.makedirs(out)\n"
      ],
      "execution_count": 19,
      "outputs": []
    },
    {
      "cell_type": "code",
      "metadata": {
        "id": "s1wqrEc6BDZ5"
      },
      "source": [
        "\n",
        "\n",
        "# df0=pd.read_csv('input_data/percentile_season_adj.csv')\n",
        "# df0.head()\n",
        "dataset1000=pd.read_csv(\"input_data/percentile_season_adj.csv\")\n",
        "# dataset0.describe()\n",
        "# dataset00.head()\n",
        "# # chuyen data tu 2001/01-2019/12\n",
        "# dataset0=dataset00.iloc[6:-4,0:]\n",
        "# dataset0.reset_index(drop=True,inplace=True)\n",
        "# dataset0\n",
        "# =============================================================================\n",
        "# Arrange predicted column\n",
        "list1 = dataset1000.columns.tolist()\n",
        "# for k in range(1,len(list1)):\n",
        "    #  check station 1\n",
        "k=1  \n",
        "list2=list1[0:1]+list1[k:]+list1[1:k]\n",
        "# print(list2)\n",
        "# Using indent to control loop of station\n",
        "# dataset=dataset0[list2]\n",
        "# dataset.describe()\n",
        "# modified dataset\n",
        "# print(list2)\n",
        "# Using indent to control loop of station\n",
        "# dataset100=dataset0[list2]\n",
        "# dataset.describe()\n",
        "dataset0=dataset1000[list2] # avoid dataset0 not change\n",
        "corr = dataset0.corr()\n",
        "df=corr\n",
        "df2 = df[df.columns[df.iloc[0,:] > 0.9]]\n",
        "df2\n",
        "list3=df2.columns.tolist()\n",
        "list3.insert(0,'Date')\n",
        "dataset=dataset0[list3]\n",
        "dataset0=dataset # avoid dataset0 not change\n",
        "fig0=plt.Figure()\n",
        "plt.Figure(figsize=(8,6))\n",
        "corr1 = dataset.corr()\n",
        "# corr1.style.background_gradient(cmap='coolwarm')\n",
        "# 'RdBu_r' & 'BrBG' are other good diverging colormaps\n",
        "# plt.title(\"Zones have correlation > 0.9 at  \"+list1[k])\n",
        "# plt.tight_layout()\n",
        "# plt.savefig(output_fig+\"\\\\\"+list1[k]+\"Corel\"+\".png\",dpi=300)\n",
        "fig, ax = plt.subplots()\n",
        "sns.heatmap(dataset.corr(method='pearson'), annot=True, fmt='.2f', \n",
        "            cmap=plt.get_cmap('coolwarm'), cbar=False, ax=ax)\n",
        "# ax.set_yticklabels(ax.get_yticklabels(), rotation=\"horizontal\")\n",
        "ax.set_yticklabels(ax.get_yticklabels(), rotation=\"horizontal\")\n",
        "plt.title(\"Zones have correlation > 0.9 at  \"+list1[k])\n",
        "# plt.savefig(output_fig+\"/\"+list1[k]+\"Corel\"+\".png\",dpi=300, bbox_inches='tight', pad_inches=0.0)\n",
        "\n",
        "# corr1.to_csv(output_table+\"/\"+list1[k]+\"cor\"+\".csv\")\n",
        "dataset.to_csv('/content/drive/MyDrive/input_data/correl_in_Andong.csv')\n",
        "dataset.head()"
      ],
      "execution_count": null,
      "outputs": []
    },
    {
      "cell_type": "code",
      "metadata": {
        "id": "ixc6rC1dTnxH"
      },
      "source": [
        "# Don gian lay 3 tram thoi\n",
        "\n",
        "df0=dataset\n",
        "# import numpy as np\n",
        "\n",
        "# in_seq1=df0.iloc[:,2].values\n",
        "# in_seq2=df0.iloc[:,3].values\n",
        "# out_seq=df0.iloc[:,1].values\n",
        "# # define input sequence\n",
        "# # in_seq1 = array([10, 20, 30, 40, 50, 60, 70, 80, 90])\n",
        "# # in_seq2 = array([15, 25, 35, 45, 55, 65, 75, 85, 95])\n",
        "# # out_seq = array([in_seq1[i]+in_seq2[i] for i in range(len(in_seq1))])\n",
        "# # convert to [rows, columns] structure\n",
        "# in_seq1 = in_seq1.reshape((len(in_seq1), 1))\n",
        "# in_seq2 = in_seq2.reshape((len(in_seq2), 1))\n",
        "# out_seq = out_seq.reshape((len(out_seq), 1))\n",
        "# # horizontally stack columns\n",
        "# dataset = hstack((in_seq1, in_seq2, out_seq))\n",
        "dataset=df0.iloc[:,1:].values\n",
        "# split data into train and test\n",
        "dataset_train=dataset[0:31*12,:]\n",
        "dataset_val=dataset[29*12:32*12,:]\n",
        "dataset_test=dataset[33*12:,:]\n",
        "# # choose a number of time steps\n",
        "# n_steps_in, n_steps_out = 24,3\n",
        "# # covert into input/output\n",
        "# Xtrain, ytrain = split_sequences(dataset_train, n_steps_in, n_steps_out)\n",
        "# Xval, yval = split_sequences(dataset_val, n_steps_in, n_steps_out)\n",
        "# Xtest, ytest = split_sequences(dataset_test, n_steps_in, n_steps_out)\n",
        "# the dataset knows the number of features, e.g. 2\n",
        "\n"
      ],
      "execution_count": 6,
      "outputs": []
    },
    {
      "cell_type": "markdown",
      "metadata": {
        "id": "UL6hRqu3tSjV"
      },
      "source": [
        "# Phần 3: Hiệu chỉnh thông số\n",
        "\n",
        "* chọn scale data\n",
        "* chọn learning rate\n",
        "* chọn activate function\n",
        "* Thêm các lớp"
      ]
    },
    {
      "cell_type": "code",
      "metadata": {
        "id": "2APorty2tzXk"
      },
      "source": [
        "# scale data về 0, 1 trước khi chia dữ liệu\n",
        "\n",
        "#https://machinelearningmastery.com/how-to-improve-neural-network-stability-and-modeling-performance-with-data-scaling/\n",
        "# from sklearn.preprocessing import MinMaxScaler\n",
        "# from sklearn.preprocessing import StandardScaler\n",
        "# # create scaler\n",
        "# scaler = MinMaxScaler([0,1])\n",
        "# # scaler = StandardScaler()\n",
        "# # fit and transform in one step\n",
        "# normalized = scaler.fit_transform(dataset)\n",
        "# # inverse transform\n",
        "# inverse = scaler.inverse_transform(normalized)\n",
        "\n",
        "# # \n",
        "# # split data into train and test\n",
        "# dataset=normalized\n",
        "# dataset_train=dataset[0:31*12,:]\n",
        "# dataset_val=dataset[29*12:32*12,:]\n",
        "# dataset_test=dataset[33*12:,:]\n",
        "# # choose a number of time steps\n",
        "# n_steps_in, n_steps_out = 24,12\n",
        "# # covert into input/output\n",
        "# Xtrain, ytrain = split_sequences(dataset_train, n_steps_in, n_steps_out)\n",
        "# Xval, yval = split_sequences(dataset_val, n_steps_in, n_steps_out)\n",
        "# Xtest, ytest = split_sequences(dataset_test, n_steps_in, n_steps_out)\n",
        "# # the dataset knows the number of features, e.g. 2\n",
        "# # scaled data mô hình không hiệu quả?\n"
      ],
      "execution_count": 7,
      "outputs": []
    },
    {
      "cell_type": "code",
      "metadata": {
        "id": "GD3NRS0v7ugx"
      },
      "source": [
        "# scale theo vi du cua tensorflow\n",
        "train_mean = dataset_train.mean()\n",
        "train_std = dataset_train.std()\n",
        "\n",
        "val_mean = dataset_val.mean()\n",
        "val_std = dataset_val.std()\n",
        "####################################################\n",
        "test_mean = dataset_test.mean()\n",
        "test_std = dataset_test.std()\n",
        "# cai goc la scale theo train thoi\n",
        "train_df = (dataset_train - train_mean) / train_std\n",
        "val_df = (dataset_val - train_mean) / train_std\n",
        "test_df = (dataset_test - train_mean) / train_std\n",
        "#####################################################\n",
        "\n",
        "# # minh sua lai scale tung cai\n",
        "# train_df = (dataset_train - train_mean) / train_std\n",
        "# val_df = (dataset_val - val_mean) / val_std\n",
        "# test_df = (dataset_test - test_mean) / test_std\n",
        "# scale tung cai rieng\n",
        "####################################################\n",
        "\n",
        "# # scale theo maxmin về 1,0 để dễ sử dụng các acctivation\n",
        "# # scale theo vi du cua tensorflow\n",
        "# train_max = dataset_train.max()\n",
        "# train_min = dataset_train.min()\n",
        "\n",
        "# val_mean = dataset_val.mean()\n",
        "# val_std = dataset_val.std()\n",
        "\n",
        "# test_mean = dataset_test.mean()\n",
        "# test_std = dataset_test.std()\n",
        "###############################################################\n",
        "# # cai goc la scale theo train thoi\n",
        "# train_df = (dataset_train - train_min) / (train_max-train_min)\n",
        "# val_df = (dataset_val - train_min) / (train_max-train_min)\n",
        "# test_df = (dataset_test - train_min) / (train_max-train_min)\n",
        "##############################################################\n",
        "# # Khong scale gì hết bà nội mày\n",
        "# train_df=dataset_train\n",
        "# val_df=dataset_val\n",
        "# test_df=dataset_test\n",
        "# ##############################################################\n",
        "\n",
        "# \n",
        "# choose a number of time steps\n",
        "n_steps_in, n_steps_out = 12,6\n",
        "# covert into input/output\n",
        "Xtrain, ytrain = split_sequences(train_df, n_steps_in, n_steps_out)\n",
        "Xval, yval = split_sequences(val_df, n_steps_in, n_steps_out)\n",
        "Xtest, ytest = split_sequences(test_df, n_steps_in, n_steps_out)\n",
        "\n",
        "#\n",
        "import tensorflow as tf\n",
        "patience0=50\n",
        "early_stopping = tf.keras.callbacks.EarlyStopping(monitor='val_loss',\n",
        "                                                    patience=patience0,\n",
        "                                                    mode='min')\n",
        "learing_rate0=0.01\n",
        "beta_1_0=0.9\n",
        "beta_2_0=0.999\n",
        "epsilon_0=1e-07\n"
      ],
      "execution_count": 8,
      "outputs": []
    },
    {
      "cell_type": "code",
      "metadata": {
        "colab": {
          "base_uri": "https://localhost:8080/"
        },
        "id": "AMzo0TeUtRmQ",
        "outputId": "00e48ab4-236d-480a-ba32-60ea9384378d"
      },
      "source": [
        "\n",
        "n_features = Xtrain.shape[2]\n",
        "# define model\n",
        "KK.clear_session()\n",
        "model = Sequential()\n",
        "model.add(LSTM(100, activation='relu', return_sequences=True, input_shape=(n_steps_in, n_features)))\n",
        "model.add(LSTM(100, activation='relu', return_sequences=True, input_shape=(n_steps_in, n_features)))\n",
        "model.add(LSTM(100, activation='relu'))\n",
        "model.add(Dense(n_steps_out))\n",
        "model.compile(optimizer=tf.optimizers.Adam(learning_rate=learing_rate0, \n",
        "                                             beta_1=beta_1_0, \n",
        "                                             beta_2=beta_2_0,\n",
        "                                             epsilon=epsilon_0, \n",
        "                                             amsgrad=True),\n",
        "              \n",
        "              loss='mse')\n",
        "# fit model\n",
        "history=model.fit(Xtrain, ytrain,epochs=106, verbose=1,validation_data=(Xval,yval),\n",
        "                  batch_size=32,\n",
        "                  callbacks=[early_stopping])\n"
      ],
      "execution_count": 9,
      "outputs": [
        {
          "output_type": "stream",
          "text": [
            "WARNING:tensorflow:Layer lstm will not use cuDNN kernels since it doesn't meet the criteria. It will use a generic GPU kernel as fallback when running on GPU.\n",
            "WARNING:tensorflow:Layer lstm_1 will not use cuDNN kernels since it doesn't meet the criteria. It will use a generic GPU kernel as fallback when running on GPU.\n",
            "WARNING:tensorflow:Layer lstm_2 will not use cuDNN kernels since it doesn't meet the criteria. It will use a generic GPU kernel as fallback when running on GPU.\n",
            "Epoch 1/106\n",
            "12/12 [==============================] - 6s 176ms/step - loss: 1.0654 - val_loss: 1.0670\n",
            "Epoch 2/106\n",
            "12/12 [==============================] - 1s 65ms/step - loss: 1.1199 - val_loss: 1.0414\n",
            "Epoch 3/106\n",
            "12/12 [==============================] - 1s 64ms/step - loss: 1.0255 - val_loss: 1.0494\n",
            "Epoch 4/106\n",
            "12/12 [==============================] - 1s 62ms/step - loss: 1.0435 - val_loss: 1.0536\n",
            "Epoch 5/106\n",
            "12/12 [==============================] - 1s 62ms/step - loss: 0.9969 - val_loss: 0.9185\n",
            "Epoch 6/106\n",
            "12/12 [==============================] - 1s 64ms/step - loss: 0.8631 - val_loss: 0.8605\n",
            "Epoch 7/106\n",
            "12/12 [==============================] - 1s 63ms/step - loss: 0.8883 - val_loss: 0.8769\n",
            "Epoch 8/106\n",
            "12/12 [==============================] - 1s 66ms/step - loss: 0.8440 - val_loss: 0.8607\n",
            "Epoch 9/106\n",
            "12/12 [==============================] - 1s 62ms/step - loss: 0.8726 - val_loss: 0.8832\n",
            "Epoch 10/106\n",
            "12/12 [==============================] - 1s 62ms/step - loss: 0.8827 - val_loss: 0.8493\n",
            "Epoch 11/106\n",
            "12/12 [==============================] - 1s 67ms/step - loss: 0.8757 - val_loss: 0.9019\n",
            "Epoch 12/106\n",
            "12/12 [==============================] - 1s 62ms/step - loss: 0.9096 - val_loss: 0.8775\n",
            "Epoch 13/106\n",
            "12/12 [==============================] - 1s 62ms/step - loss: 0.8651 - val_loss: 0.8579\n",
            "Epoch 14/106\n",
            "12/12 [==============================] - 1s 65ms/step - loss: 0.8595 - val_loss: 0.8055\n",
            "Epoch 15/106\n",
            "12/12 [==============================] - 1s 61ms/step - loss: 0.8212 - val_loss: 0.9079\n",
            "Epoch 16/106\n",
            "12/12 [==============================] - 1s 65ms/step - loss: 0.7786 - val_loss: 0.9508\n",
            "Epoch 17/106\n",
            "12/12 [==============================] - 1s 61ms/step - loss: 0.7745 - val_loss: 0.8960\n",
            "Epoch 18/106\n",
            "12/12 [==============================] - 1s 60ms/step - loss: 0.7218 - val_loss: 0.8921\n",
            "Epoch 19/106\n",
            "12/12 [==============================] - 1s 62ms/step - loss: 0.7484 - val_loss: 0.9312\n",
            "Epoch 20/106\n",
            "12/12 [==============================] - 1s 64ms/step - loss: 0.6855 - val_loss: 1.0647\n",
            "Epoch 21/106\n",
            "12/12 [==============================] - 1s 61ms/step - loss: 0.6655 - val_loss: 1.0104\n",
            "Epoch 22/106\n",
            "12/12 [==============================] - 1s 63ms/step - loss: 0.6753 - val_loss: 0.8747\n",
            "Epoch 23/106\n",
            "12/12 [==============================] - 1s 65ms/step - loss: 0.6667 - val_loss: 0.8758\n",
            "Epoch 24/106\n",
            "12/12 [==============================] - 1s 62ms/step - loss: 0.6686 - val_loss: 0.9154\n",
            "Epoch 25/106\n",
            "12/12 [==============================] - 1s 61ms/step - loss: 0.6611 - val_loss: 0.8218\n",
            "Epoch 26/106\n",
            "12/12 [==============================] - 1s 59ms/step - loss: 0.5923 - val_loss: 0.8917\n",
            "Epoch 27/106\n",
            "12/12 [==============================] - 1s 61ms/step - loss: 0.5366 - val_loss: 1.1473\n",
            "Epoch 28/106\n",
            "12/12 [==============================] - 1s 62ms/step - loss: 0.5590 - val_loss: 1.1038\n",
            "Epoch 29/106\n",
            "12/12 [==============================] - 1s 61ms/step - loss: 0.5532 - val_loss: 0.9564\n",
            "Epoch 30/106\n",
            "12/12 [==============================] - 1s 65ms/step - loss: 0.4773 - val_loss: 1.1730\n",
            "Epoch 31/106\n",
            "12/12 [==============================] - 1s 73ms/step - loss: 0.4729 - val_loss: 1.2425\n",
            "Epoch 32/106\n",
            "12/12 [==============================] - 1s 64ms/step - loss: 0.4150 - val_loss: 1.2329\n",
            "Epoch 33/106\n",
            "12/12 [==============================] - 1s 65ms/step - loss: 0.4417 - val_loss: 1.3949\n",
            "Epoch 34/106\n",
            "12/12 [==============================] - 1s 65ms/step - loss: 0.4329 - val_loss: 1.2849\n",
            "Epoch 35/106\n",
            "12/12 [==============================] - 1s 68ms/step - loss: 0.4659 - val_loss: 0.9180\n",
            "Epoch 36/106\n",
            "12/12 [==============================] - 1s 63ms/step - loss: 0.3770 - val_loss: 1.1306\n",
            "Epoch 37/106\n",
            "12/12 [==============================] - 1s 66ms/step - loss: 0.2972 - val_loss: 1.3521\n",
            "Epoch 38/106\n",
            "12/12 [==============================] - 1s 60ms/step - loss: 0.2923 - val_loss: 0.9020\n",
            "Epoch 39/106\n",
            "12/12 [==============================] - 1s 61ms/step - loss: 0.3125 - val_loss: 0.9007\n",
            "Epoch 40/106\n",
            "12/12 [==============================] - 1s 59ms/step - loss: 0.2632 - val_loss: 0.8890\n",
            "Epoch 41/106\n",
            "12/12 [==============================] - 1s 67ms/step - loss: 0.3273 - val_loss: 0.9259\n",
            "Epoch 42/106\n",
            "12/12 [==============================] - 1s 69ms/step - loss: 0.2964 - val_loss: 1.1450\n",
            "Epoch 43/106\n",
            "12/12 [==============================] - 1s 61ms/step - loss: 0.2659 - val_loss: 0.9140\n",
            "Epoch 44/106\n",
            "12/12 [==============================] - 1s 64ms/step - loss: 0.2641 - val_loss: 1.1335\n",
            "Epoch 45/106\n",
            "12/12 [==============================] - 1s 63ms/step - loss: 0.2612 - val_loss: 0.9453\n",
            "Epoch 46/106\n",
            "12/12 [==============================] - 1s 62ms/step - loss: 0.2380 - val_loss: 0.9451\n",
            "Epoch 47/106\n",
            "12/12 [==============================] - 1s 63ms/step - loss: 0.2095 - val_loss: 0.9462\n",
            "Epoch 48/106\n",
            "12/12 [==============================] - 1s 61ms/step - loss: 0.1994 - val_loss: 0.8268\n",
            "Epoch 49/106\n",
            "12/12 [==============================] - 1s 62ms/step - loss: 0.2053 - val_loss: 0.7768\n",
            "Epoch 50/106\n",
            "12/12 [==============================] - 1s 65ms/step - loss: 0.1988 - val_loss: 0.7147\n",
            "Epoch 51/106\n",
            "12/12 [==============================] - 1s 64ms/step - loss: 0.1774 - val_loss: 0.7509\n",
            "Epoch 52/106\n",
            "12/12 [==============================] - 1s 63ms/step - loss: 0.1517 - val_loss: 0.6236\n",
            "Epoch 53/106\n",
            "12/12 [==============================] - 1s 64ms/step - loss: 0.2541 - val_loss: 0.8133\n",
            "Epoch 54/106\n",
            "12/12 [==============================] - 1s 65ms/step - loss: 0.2361 - val_loss: 0.7725\n",
            "Epoch 55/106\n",
            "12/12 [==============================] - 1s 61ms/step - loss: 0.2412 - val_loss: 0.7248\n",
            "Epoch 56/106\n",
            "12/12 [==============================] - 1s 63ms/step - loss: 0.2050 - val_loss: 0.6294\n",
            "Epoch 57/106\n",
            "12/12 [==============================] - 1s 62ms/step - loss: 0.1770 - val_loss: 0.7775\n",
            "Epoch 58/106\n",
            "12/12 [==============================] - 1s 65ms/step - loss: 0.2368 - val_loss: 0.8656\n",
            "Epoch 59/106\n",
            "12/12 [==============================] - 1s 70ms/step - loss: 0.2633 - val_loss: 0.8233\n",
            "Epoch 60/106\n",
            "12/12 [==============================] - 1s 62ms/step - loss: 0.1986 - val_loss: 0.7657\n",
            "Epoch 61/106\n",
            "12/12 [==============================] - 1s 64ms/step - loss: 0.1697 - val_loss: 0.6848\n",
            "Epoch 62/106\n",
            "12/12 [==============================] - 1s 60ms/step - loss: 0.1500 - val_loss: 0.7575\n",
            "Epoch 63/106\n",
            "12/12 [==============================] - 1s 64ms/step - loss: 0.1162 - val_loss: 0.7587\n",
            "Epoch 64/106\n",
            "12/12 [==============================] - 1s 64ms/step - loss: 0.1294 - val_loss: 0.8220\n",
            "Epoch 65/106\n",
            "12/12 [==============================] - 1s 65ms/step - loss: 0.1094 - val_loss: 0.7393\n",
            "Epoch 66/106\n",
            "12/12 [==============================] - 1s 65ms/step - loss: 0.0894 - val_loss: 0.9040\n",
            "Epoch 67/106\n",
            "12/12 [==============================] - 1s 62ms/step - loss: 0.0925 - val_loss: 0.8647\n",
            "Epoch 68/106\n",
            "12/12 [==============================] - 1s 65ms/step - loss: 0.0933 - val_loss: 0.7614\n",
            "Epoch 69/106\n",
            "12/12 [==============================] - 1s 61ms/step - loss: 0.0969 - val_loss: 0.8841\n",
            "Epoch 70/106\n",
            "12/12 [==============================] - 1s 67ms/step - loss: 0.0877 - val_loss: 0.9288\n",
            "Epoch 71/106\n",
            "12/12 [==============================] - 1s 62ms/step - loss: 0.0861 - val_loss: 0.9194\n",
            "Epoch 72/106\n",
            "12/12 [==============================] - 1s 64ms/step - loss: 0.0994 - val_loss: 0.9879\n",
            "Epoch 73/106\n",
            "12/12 [==============================] - 1s 62ms/step - loss: 0.0837 - val_loss: 0.9113\n",
            "Epoch 74/106\n",
            "12/12 [==============================] - 1s 66ms/step - loss: 0.0772 - val_loss: 0.8612\n",
            "Epoch 75/106\n",
            "12/12 [==============================] - 1s 66ms/step - loss: 0.0665 - val_loss: 0.9660\n",
            "Epoch 76/106\n",
            "12/12 [==============================] - 1s 64ms/step - loss: 0.0653 - val_loss: 0.8327\n",
            "Epoch 77/106\n",
            "12/12 [==============================] - 1s 71ms/step - loss: 0.0510 - val_loss: 0.8231\n",
            "Epoch 78/106\n",
            "12/12 [==============================] - 1s 66ms/step - loss: 0.0478 - val_loss: 0.8388\n",
            "Epoch 79/106\n",
            "12/12 [==============================] - 1s 62ms/step - loss: 0.0497 - val_loss: 0.9353\n",
            "Epoch 80/106\n",
            "12/12 [==============================] - 1s 62ms/step - loss: 0.0428 - val_loss: 0.9703\n",
            "Epoch 81/106\n",
            "12/12 [==============================] - 1s 65ms/step - loss: 0.0397 - val_loss: 0.8967\n",
            "Epoch 82/106\n",
            "12/12 [==============================] - 1s 61ms/step - loss: 0.0357 - val_loss: 0.8835\n",
            "Epoch 83/106\n",
            "12/12 [==============================] - 1s 64ms/step - loss: 0.0355 - val_loss: 0.8749\n",
            "Epoch 84/106\n",
            "12/12 [==============================] - 1s 63ms/step - loss: 0.0361 - val_loss: 0.8069\n",
            "Epoch 85/106\n",
            "12/12 [==============================] - 1s 64ms/step - loss: 0.0435 - val_loss: 0.8890\n",
            "Epoch 86/106\n",
            "12/12 [==============================] - 1s 65ms/step - loss: 0.0345 - val_loss: 0.8616\n",
            "Epoch 87/106\n",
            "12/12 [==============================] - 1s 65ms/step - loss: 0.0327 - val_loss: 0.8658\n",
            "Epoch 88/106\n",
            "12/12 [==============================] - 1s 66ms/step - loss: 0.0340 - val_loss: 0.8234\n",
            "Epoch 89/106\n",
            "12/12 [==============================] - 1s 62ms/step - loss: 0.0301 - val_loss: 0.7542\n",
            "Epoch 90/106\n",
            "12/12 [==============================] - 1s 65ms/step - loss: 0.0289 - val_loss: 0.8714\n",
            "Epoch 91/106\n",
            "12/12 [==============================] - 1s 62ms/step - loss: 0.0299 - val_loss: 0.8226\n",
            "Epoch 92/106\n",
            "12/12 [==============================] - 1s 62ms/step - loss: 0.0257 - val_loss: 0.8377\n",
            "Epoch 93/106\n",
            "12/12 [==============================] - 1s 62ms/step - loss: 0.0239 - val_loss: 0.8591\n",
            "Epoch 94/106\n",
            "12/12 [==============================] - 1s 64ms/step - loss: 0.0243 - val_loss: 0.8027\n",
            "Epoch 95/106\n",
            "12/12 [==============================] - 1s 61ms/step - loss: 0.0229 - val_loss: 0.8341\n",
            "Epoch 96/106\n",
            "12/12 [==============================] - 1s 60ms/step - loss: 0.0241 - val_loss: 0.8162\n",
            "Epoch 97/106\n",
            "12/12 [==============================] - 1s 64ms/step - loss: 0.0233 - val_loss: 0.9185\n",
            "Epoch 98/106\n",
            "12/12 [==============================] - 1s 62ms/step - loss: 0.0247 - val_loss: 0.8387\n",
            "Epoch 99/106\n",
            "12/12 [==============================] - 1s 66ms/step - loss: 0.0261 - val_loss: 0.8783\n",
            "Epoch 100/106\n",
            "12/12 [==============================] - 1s 63ms/step - loss: 0.0232 - val_loss: 0.7928\n",
            "Epoch 101/106\n",
            "12/12 [==============================] - 1s 62ms/step - loss: 0.0192 - val_loss: 0.8762\n",
            "Epoch 102/106\n",
            "12/12 [==============================] - 1s 67ms/step - loss: 0.0187 - val_loss: 0.8574\n"
          ],
          "name": "stdout"
        }
      ]
    },
    {
      "cell_type": "code",
      "metadata": {
        "id": "bWS96CVUp5oM",
        "colab": {
          "base_uri": "https://localhost:8080/"
        },
        "outputId": "1ee57f93-65e9-43be-af6c-859b5e765879"
      },
      "source": [
        "\n",
        "# demonstrate prediction\n",
        "x_input = Xtest\n",
        "x_input = x_input.reshape((Xtest.shape[0], n_steps_in, n_features))\n",
        "yhat = model.predict(x_input, verbose=0)\n",
        "print(yhat)"
      ],
      "execution_count": 10,
      "outputs": [
        {
          "output_type": "stream",
          "text": [
            "[[-0.06868407  0.0430073   0.28770784  0.928618    0.28830683  0.04953317]\n",
            " [ 0.685847    0.17336793  0.1619852   1.0127765  -0.3324999   1.2755132 ]\n",
            " [-0.41276872  0.24362896  0.6288899  -0.37689042  1.4182216  -1.1723616 ]\n",
            " [ 0.10904346  0.8446534  -0.5569022   1.0998868  -1.0758334  -1.0233432 ]\n",
            " [ 1.3023106  -0.50351167  0.80030507 -1.1477685  -0.8848285   0.60365784]\n",
            " [-0.66125035  0.43763942 -0.6033127  -0.67020196  0.33881193 -1.1778951 ]\n",
            " [ 1.1111748  -0.12368359 -0.6305227   0.01244919 -0.17455876  0.9723023 ]\n",
            " [-0.7593889  -0.37862265 -1.0000125  -0.32348454  0.17460465 -1.1978444 ]\n",
            " [-0.31894693 -0.86395997 -0.501353   -0.22934435 -0.58621895 -0.97102165]\n",
            " [ 0.23868383 -0.48290443 -0.34580636 -0.986958   -0.0702462  -0.3980105 ]\n",
            " [ 0.19040273 -0.58965856 -1.507892    0.25634024 -0.4643692   0.17892887]\n",
            " [-1.8322107  -2.0674174  -0.8197163   0.02935682  1.0962793  -0.76606596]\n",
            " [ 0.6052518  -0.6832666   0.03168428 -0.29713982  0.9079427   0.9826853 ]\n",
            " [ 0.6373954   0.49080557 -0.30362082  0.8316372   0.1871885   0.45000362]\n",
            " [ 1.3813028  -0.32145834  0.77535623  0.12406766  0.32549104  0.0036331 ]\n",
            " [ 1.3681675   0.17860912 -0.00552338  0.0696183   0.41689426  0.36353284]\n",
            " [ 1.6094321  -0.14303829  0.19925031  0.6952656   0.14782125 -0.14622025]\n",
            " [-0.40078974  0.15464109  0.06715553  0.31492433 -0.56726193  0.41331816]\n",
            " [ 0.13175373  0.4463877   0.45221853 -0.4460827   0.62657976  0.01159646]\n",
            " [-0.45449013 -0.29173183 -0.4021033   0.43171722 -0.21764609 -0.7222742 ]]\n"
          ],
          "name": "stdout"
        }
      ]
    },
    {
      "cell_type": "code",
      "metadata": {
        "id": "srGcayibcu0A",
        "colab": {
          "base_uri": "https://localhost:8080/",
          "height": 351
        },
        "outputId": "30086d5f-0026-4026-e5b5-1c5f043ad268"
      },
      "source": [
        "import matplotlib.pyplot as plt\n",
        "# plot train processing\n",
        "fig1=plt.Figure()\n",
        "plt.figure(figsize=(8, 5))\n",
        "plt.plot(history.history['loss'], label='train')\n",
        "plt.plot(history.history['val_loss'], label='val')\n",
        "plt.xlabel('epochs')\n",
        "plt.ylabel('mse')\n"
      ],
      "execution_count": 11,
      "outputs": [
        {
          "output_type": "execute_result",
          "data": {
            "text/plain": [
              "Text(0, 0.5, 'mse')"
            ]
          },
          "metadata": {
            "tags": []
          },
          "execution_count": 11
        },
        {
          "output_type": "display_data",
          "data": {
            "image/png": "[encoded data removed]",
            "text/plain": [
              "<Figure size 576x360 with 1 Axes>"
            ]
          },
          "metadata": {
            "tags": [],
            "needs_background": "light"
          }
        }
      ]
    },
    {
      "cell_type": "code",
      "metadata": {
        "id": "daWEBG2mL1bH",
        "colab": {
          "base_uri": "https://localhost:8080/",
          "height": 337
        },
        "outputId": "80330f9c-78b9-434c-d7f5-3a077f8150bb"
      },
      "source": [
        "\n",
        "# plot compare testing\n",
        "fig2=plt.Figure()\n",
        "plt.figure(figsize=(8, 5))\n",
        "plt.plot(ytest[-1,:],'-.s')\n",
        "plt.plot(yhat[-1,:],'-.x')\n",
        "plt.legend([\"obs\",\"pred\"])\n"
      ],
      "execution_count": 12,
      "outputs": [
        {
          "output_type": "execute_result",
          "data": {
            "text/plain": [
              "<matplotlib.legend.Legend at 0x7f3798c1f950>"
            ]
          },
          "metadata": {
            "tags": []
          },
          "execution_count": 12
        },
        {
          "output_type": "display_data",
          "data": {
            "image/png": "[encoded data removed]",
            "text/plain": [
              "<Figure size 576x360 with 1 Axes>"
            ]
          },
          "metadata": {
            "tags": [],
            "needs_background": "light"
          }
        }
      ]
    },
    {
      "cell_type": "code",
      "metadata": {
        "id": "P7ByiTlEMBN9",
        "colab": {
          "base_uri": "https://localhost:8080/",
          "height": 397
        },
        "outputId": "7809a445-8631-48ad-bd18-eb3f90829675"
      },
      "source": [
        "\n",
        "fig3=plt.Figure()\n",
        "plt.figure(figsize=(8, 5))\n",
        "df_results=pd.DataFrame({'obs':ytest[-1,:],'pred':yhat[-1,:]})\n",
        "df_results.plot(kind='bar')\n",
        "print(df_results)\n",
        "\n"
      ],
      "execution_count": 13,
      "outputs": [
        {
          "output_type": "stream",
          "text": [
            "        obs      pred\n",
            "0 -0.348955 -0.454490\n",
            "1 -1.503861 -0.291732\n",
            "2  0.333306 -0.402103\n",
            "3 -1.595906  0.431717\n",
            "4  2.616200 -0.217646\n",
            "5  0.960593 -0.722274\n"
          ],
          "name": "stdout"
        },
        {
          "output_type": "display_data",
          "data": {
            "text/plain": [
              "<Figure size 576x360 with 0 Axes>"
            ]
          },
          "metadata": {
            "tags": []
          }
        },
        {
          "output_type": "display_data",
          "data": {
            "image/png": "[encoded data removed]",
            "text/plain": [
              "<Figure size 432x288 with 1 Axes>"
            ]
          },
          "metadata": {
            "tags": [],
            "needs_background": "light"
          }
        }
      ]
    },
    {
      "cell_type": "code",
      "metadata": {
        "id": "ebBh6AmClXKx"
      },
      "source": [
        "# from scipy.stats import pearsonr\n",
        "# fig3=plt.Figure(figsize=(6, 6))\n",
        "# # plt.rcParams['figure.figsize'] = 6, 6\n",
        "\n",
        "# sns.set_style(\"whitegrid\")\n",
        "# #calculate correlation coefficient\n",
        "# corr = pearsonr(np.array(ytest[-1,:].flatten()), np.array(yhat[-1,:].flatten()))\n",
        "# # corr = [np.round(c, 2) for c in corr]\n",
        "# #add the coefficient to your graph\n",
        "# text = 'r=%4.2f,\\n p=%4.3e' % (corr[0], corr[1])\n",
        "# plt.scatter(np.array(ytest[-1,:].flatten()), np.array(yhat[-1,:].flatten()))\n",
        "# sns.regplot(np.array(ytest[-1,:].flatten()),np.array(yhat[-1,:].flatten()),\n",
        "#         scatter_kws={\"color\": \"black\"}, line_kws={\"color\": \"red\"})\n",
        "# plt.title(\"Compare prediction and observation\")\n",
        "# plt.text(0,np.array(yhat[-1,:].flatten()).min()+0.1, text, fontsize=13)"
      ],
      "execution_count": 14,
      "outputs": []
    },
    {
      "cell_type": "code",
      "metadata": {
        "id": "KpcRcIhFlMsR",
        "colab": {
          "base_uri": "https://localhost:8080/",
          "height": 461
        },
        "outputId": "5bd10531-b524-4f64-ca99-8a391f68e94b"
      },
      "source": [
        "#plot scater plot prediction\n",
        "import matplotlib.lines as mlines\n",
        "import matplotlib.transforms as mtransforms\n",
        "from scipy.stats import pearsonr\n",
        "import numpy as np\n",
        "\n",
        "# fig3,ax=plt.subplot()\n",
        "plt.rcParams['figure.figsize'] = 6, 6\n",
        "fig, ax = plt.subplots()\n",
        "sns.set_style(\"whitegrid\")\n",
        "#calculate correlation coefficient\n",
        "corr = pearsonr(np.array(ytest[:,:].flatten()), np.array(yhat[:,:].flatten()))\n",
        "# corr = [np.round(c, 2) for c in corr]\n",
        "#add the coefficient to your graph\n",
        "text = 'r=%4.2f,\\n p=%4.3e' % (corr[0], corr[1])\n",
        "plt.scatter(np.array(ytest[:,:].flatten()), np.array(yhat[:,:].flatten()))\n",
        "sns.regplot(np.array(ytest[:,:].flatten()),np.array(yhat[:,:].flatten()),\n",
        "        scatter_kws={\"color\": \"black\"}, line_kws={\"color\": \"red\"})\n",
        "plt.title(\"Compare prediction and observation\")\n",
        "plt.text(0,np.array(yhat[:,:].flatten()).min()+0.1, text, fontsize=13)\n",
        "\n",
        "line = mlines.Line2D([0, 1], [0, 1],linewidth=2, color='black')\n",
        "transform = ax.transAxes\n",
        "line.set_transform(transform)\n",
        "ax.add_line(line)\n",
        "# plt.show()\n",
        "\n",
        "\n",
        "plt.tight_layout"
      ],
      "execution_count": 15,
      "outputs": [
        {
          "output_type": "stream",
          "text": [
            "/usr/local/lib/python3.7/dist-packages/seaborn/_decorators.py:43: FutureWarning: Pass the following variables as keyword args: x, y. From version 0.12, the only valid positional argument will be `data`, and passing other arguments without an explicit keyword will result in an error or misinterpretation.\n",
            "  FutureWarning\n"
          ],
          "name": "stderr"
        },
        {
          "output_type": "execute_result",
          "data": {
            "text/plain": [
              "<function matplotlib.pyplot.tight_layout>"
            ]
          },
          "metadata": {
            "tags": []
          },
          "execution_count": 15
        },
        {
          "output_type": "display_data",
          "data": {
            "image/png": "[encoded data removed]",
            "text/plain": [
              "<Figure size 432x432 with 1 Axes>"
            ]
          },
          "metadata": {
            "tags": [],
            "needs_background": "light"
          }
        }
      ]
    },
    {
      "cell_type": "markdown",
      "metadata": {
        "id": "qfKQ0CfYqfLM"
      },
      "source": [
        "# Vẽ nhiều chuỗi dự báo ghép lại"
      ]
    },
    {
      "cell_type": "markdown",
      "metadata": {
        "id": "rqrhTOlKstQ0"
      },
      "source": [
        "Bài toán dùng 12 giá trị quá khứ dự báo 3 giá trị tương lai\n",
        "\n",
        "dataset_test.shape\n",
        "(36, 11)\n",
        "36 hàng của 11 cột\n",
        "\n",
        "Xtest.shape\n",
        "(23, 12, 10) # 11 bỏ cột cuối cuối thành y\n",
        "\n",
        "ytest.shape\n",
        "(23, 3)\n",
        "\n",
        "có 23 lần dự báo ra 3 tháng\n",
        "\n",
        "giữa các giá trị dự báo hoặc cách 3 tháng theo ví dụ tensorflow\n",
        "\n",
        "muốn nối các kết quả với nhau thì shift 3 tháng\n",
        "\n",
        "Phải viết hàm ngược lại của split sequence mới quay lại được giá trị ban đầu. Nó phụ thuộc vào  n_steps_in, n_steps_out\n"
      ]
    },
    {
      "cell_type": "code",
      "metadata": {
        "id": "Z_zac79cwqNC"
      },
      "source": [
        "# # ytest_org=ytest.reshape()\n",
        "# iii=n_steps_out-1\n",
        "# n_steps_in\n",
        "# n_steps_out\n",
        "# plt.plot(np.arange(0+n_steps_in-1+iii,ytest.shape[0]+dataset_test.shape[1]+iii),ytest[:,iii])\n",
        "# plt.plot(np.arange(0+n_steps_in-1+iii,yhat.shape[0]+dataset_test.shape[1]+iii),yhat[:,iii])\n",
        "# # plt.plot(np.arange(0+n_steps_in-1+iii,dataset_test.shape[0]),dataset_test[0+n_steps_in-1+iii:,iii],'-.x')"
      ],
      "execution_count": 16,
      "outputs": []
    },
    {
      "cell_type": "code",
      "metadata": {
        "colab": {
          "base_uri": "https://localhost:8080/"
        },
        "id": "XzFsIfSfMfz8",
        "outputId": "0dfbbf27-20eb-46f9-c0c7-45f0e92be599"
      },
      "source": [
        "from IPython.core.interactiveshell import InteractiveShell\n",
        "InteractiveShell.ast_node_interactivity = \"all\"\n",
        "dataset_test.shape\n",
        "\n",
        "n_steps_in\n",
        "\n",
        "n_steps_out\n",
        "Xtest.shape\n",
        "ytest.shape"
      ],
      "execution_count": 17,
      "outputs": [
        {
          "output_type": "execute_result",
          "data": {
            "text/plain": [
              "(20, 6)"
            ]
          },
          "metadata": {
            "tags": []
          },
          "execution_count": 17
        }
      ]
    },
    {
      "cell_type": "code",
      "metadata": {
        "colab": {
          "base_uri": "https://localhost:8080/",
          "height": 404
        },
        "id": "CiYbVzuT03mI",
        "outputId": "ef93b5e2-519d-461c-a242-6f3d020932e2"
      },
      "source": [
        "# ytest org\n",
        "y_org=list(ytest[:,0])\n",
        "for i in range(1,ytest.shape[1]):\n",
        "  y_org.append(ytest[:,i][-1])\n",
        "\n",
        "# yhat org\n",
        "yhat_org=list(yhat[:,0])\n",
        "for i in range(1,yhat.shape[1]):\n",
        "  yhat_org.append(yhat[:,i][-1])\n",
        "\n",
        "fig4=plt.Figure()\n",
        "plt.rcParams['figure.figsize'] = 8, 5\n",
        "\n",
        "\n",
        "plt.plot(np.arange(0+n_steps_in-1,len(yhat_org)+n_steps_in-1),yhat_org,'-.x',color='red') # prediction\n",
        "# plt.plot(np.arange(0+n_steps_in-1,len(y_org)+n_steps_in-1),y_org,'-.x') # obs scaled\n",
        "plt.plot(np.arange(0+n_steps_in-1,len(dataset_test[:,-1])),dataset_test[n_steps_in-1:,-1],'-.o',color='black') # obs \n",
        "plt.legend(['obs','pred'])\n",
        "plt.title(str(n_steps_out)+' months prediction')\n",
        "plt.xlabel('months')\n",
        "plt.ylabel('NDI')\n",
        "plt.grid(None)\n",
        "plt.savefig(out_dir_all[0]+'/'+str(n_steps_in)+'_'+str(n_steps_out)+'pred.png')\n"
      ],
      "execution_count": 39,
      "outputs": [
        {
          "output_type": "execute_result",
          "data": {
            "text/plain": [
              "[<matplotlib.lines.Line2D at 0x7f3795be8ed0>]"
            ]
          },
          "metadata": {
            "tags": []
          },
          "execution_count": 39
        },
        {
          "output_type": "execute_result",
          "data": {
            "text/plain": [
              "[<matplotlib.lines.Line2D at 0x7f3795be8310>]"
            ]
          },
          "metadata": {
            "tags": []
          },
          "execution_count": 39
        },
        {
          "output_type": "execute_result",
          "data": {
            "text/plain": [
              "<matplotlib.legend.Legend at 0x7f37bb2d1fd0>"
            ]
          },
          "metadata": {
            "tags": []
          },
          "execution_count": 39
        },
        {
          "output_type": "execute_result",
          "data": {
            "text/plain": [
              "Text(0.5, 1.0, '6 months prediction')"
            ]
          },
          "metadata": {
            "tags": []
          },
          "execution_count": 39
        },
        {
          "output_type": "execute_result",
          "data": {
            "text/plain": [
              "Text(0.5, 0, 'months')"
            ]
          },
          "metadata": {
            "tags": []
          },
          "execution_count": 39
        },
        {
          "output_type": "execute_result",
          "data": {
            "text/plain": [
              "Text(0, 0.5, 'NDI')"
            ]
          },
          "metadata": {
            "tags": []
          },
          "execution_count": 39
        },
        {
          "output_type": "display_data",
          "data": {
            "image/png": "[encoded data removed]",
            "text/plain": [
              "<Figure size 576x360 with 1 Axes>"
            ]
          },
          "metadata": {
            "tags": []
          }
        }
      ]
    },
    {
      "cell_type": "code",
      "metadata": {
        "colab": {
          "base_uri": "https://localhost:8080/",
          "height": 491
        },
        "id": "2fcc-fraCH4S",
        "outputId": "e27a4df8-f1c8-459f-d70b-a28a49b93b09"
      },
      "source": [
        "# fig3,ax=plt.subplot()\n",
        "plt.rcParams['figure.figsize'] = 6, 6\n",
        "fig, ax = plt.subplots()\n",
        "sns.set_style(\"whitegrid\")\n",
        "#calculate correlation coefficient\n",
        "corr = pearsonr(np.array(y_org), np.array(yhat_org))\n",
        "# corr = [np.round(c, 2) for c in corr]\n",
        "#add the coefficient to your graph\n",
        "text = 'r=%4.2f,\\n p=%4.3e' % (corr[0], corr[1])\n",
        "plt.scatter(np.array(y_org), np.array(yhat_org))\n",
        "sns.regplot(np.array(y_org), np.array(yhat_org),\n",
        "        scatter_kws={\"color\": \"black\"}, line_kws={\"color\": \"red\"})\n",
        "plt.title(\"Compare prediction and observation\")\n",
        "plt.text(0,np.array(y_org).min()+0.1, text, fontsize=13)\n",
        "\n",
        "line = mlines.Line2D([0, 1], [0, 1],linewidth=2, color='black')\n",
        "transform = ax.transAxes\n",
        "line.set_transform(transform)\n",
        "plt.title('Correlation of '+str(n_steps_out)+' months prediction')\n",
        "ax.add_line(line)\n",
        "plt.xlabel('obs')\n",
        "plt.ylabel('pred')\n",
        "plt.grid(None)\n",
        "plt.savefig(out_dir_all[0]+'/'+str(n_steps_in)+'_'+str(n_steps_out)+'cor.png')\n",
        "# plt.show()"
      ],
      "execution_count": 40,
      "outputs": [
        {
          "output_type": "execute_result",
          "data": {
            "text/plain": [
              "<matplotlib.collections.PathCollection at 0x7f3795bacf50>"
            ]
          },
          "metadata": {
            "tags": []
          },
          "execution_count": 40
        },
        {
          "output_type": "stream",
          "text": [
            "/usr/local/lib/python3.7/dist-packages/seaborn/_decorators.py:43: FutureWarning: Pass the following variables as keyword args: x, y. From version 0.12, the only valid positional argument will be `data`, and passing other arguments without an explicit keyword will result in an error or misinterpretation.\n",
            "  FutureWarning\n"
          ],
          "name": "stderr"
        },
        {
          "output_type": "execute_result",
          "data": {
            "text/plain": [
              "<matplotlib.axes._subplots.AxesSubplot at 0x7f3795b6a950>"
            ]
          },
          "metadata": {
            "tags": []
          },
          "execution_count": 40
        },
        {
          "output_type": "execute_result",
          "data": {
            "text/plain": [
              "Text(0.5, 1.0, 'Compare prediction and observation')"
            ]
          },
          "metadata": {
            "tags": []
          },
          "execution_count": 40
        },
        {
          "output_type": "execute_result",
          "data": {
            "text/plain": [
              "Text(0, -1.6166290104502845, 'r=0.67,\\n p=2.564e-04')"
            ]
          },
          "metadata": {
            "tags": []
          },
          "execution_count": 40
        },
        {
          "output_type": "execute_result",
          "data": {
            "text/plain": [
              "Text(0.5, 1.0, 'Correlation of 6 months prediction')"
            ]
          },
          "metadata": {
            "tags": []
          },
          "execution_count": 40
        },
        {
          "output_type": "execute_result",
          "data": {
            "text/plain": [
              "<matplotlib.lines.Line2D at 0x7f3795b865d0>"
            ]
          },
          "metadata": {
            "tags": []
          },
          "execution_count": 40
        },
        {
          "output_type": "execute_result",
          "data": {
            "text/plain": [
              "Text(0.5, 0, 'obs')"
            ]
          },
          "metadata": {
            "tags": []
          },
          "execution_count": 40
        },
        {
          "output_type": "execute_result",
          "data": {
            "text/plain": [
              "Text(0, 0.5, 'pred')"
            ]
          },
          "metadata": {
            "tags": []
          },
          "execution_count": 40
        },
        {
          "output_type": "display_data",
          "data": {
            "image/png": "[encoded data removed]",
            "text/plain": [
              "<Figure size 432x432 with 1 Axes>"
            ]
          },
          "metadata": {
            "tags": []
          }
        }
      ]
    }
  ]
}