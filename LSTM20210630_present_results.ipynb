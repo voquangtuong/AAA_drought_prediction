{
  "nbformat": 4,
  "nbformat_minor": 0,
  "metadata": {
    "colab": {
      "name": "LSTM20210630_present_results.ipynb",
      "provenance": [],
      "collapsed_sections": [],
      "toc_visible": true,
      "authorship_tag": "ABX9TyPAtt+ExSQGCM2jdT7ZcRHH",
      "include_colab_link": true
    },
    "kernelspec": {
      "name": "python3",
      "display_name": "Python 3"
    },
    "language_info": {
      "name": "python"
    },
    "accelerator": "GPU"
  },
  "cells": [
    {
      "cell_type": "markdown",
      "metadata": {
        "id": "view-in-github",
        "colab_type": "text"
      },
      "source": [
        "<a href=\"https://colab.research.google.com/github/voquangtuong/AAA_drought_prediction/blob/main/LSTM20210630_present_results.ipynb\" target=\"_parent\"><img src=\"https://colab.research.google.com/assets/colab-badge.svg\" alt=\"Open In Colab\"/></a>"
      ]
    },
    {
      "cell_type": "markdown",
      "metadata": {
        "id": "HJ2gddnwR_H5"
      },
      "source": [
        "# Phần 1: ví dụ mẫu"
      ]
    },
    {
      "cell_type": "code",
      "metadata": {
        "colab": {
          "base_uri": "https://localhost:8080/"
        },
        "id": "EvBF1U2kSRRh",
        "outputId": "c5271899-d847-4ec4-d8b3-5bf10cc78afb"
      },
      "source": [
        "# multivariate multi-step stacked lstm example\n",
        "from numpy import array\n",
        "from numpy import hstack\n",
        "from keras.models import Sequential\n",
        "from keras.layers import LSTM\n",
        "from keras.layers import Dense\n",
        "from tensorflow.keras import backend as KK\n",
        " \n",
        "# split a multivariate sequence into samples\n",
        "def split_sequences(sequences, n_steps_in, n_steps_out):\n",
        "\tX, y = list(), list()\n",
        "\tfor i in range(len(sequences)):\n",
        "\t\t# find the end of this pattern\n",
        "\t\tend_ix = i + n_steps_in\n",
        "\t\tout_end_ix = end_ix + n_steps_out-1\n",
        "\t\t# check if we are beyond the dataset\n",
        "\t\tif out_end_ix > len(sequences):\n",
        "\t\t\tbreak\n",
        "\t\t# gather input and output parts of the pattern\n",
        "\t\tseq_x, seq_y = sequences[i:end_ix, :-1], sequences[end_ix-1:out_end_ix, -1]\n",
        "\t\tX.append(seq_x)\n",
        "\t\ty.append(seq_y)\n",
        "\treturn array(X), array(y)\n",
        " \n",
        "# define input sequence\n",
        "in_seq1 = array([10, 20, 30, 40, 50, 60, 70, 80, 90])\n",
        "in_seq2 = array([15, 25, 35, 45, 55, 65, 75, 85, 95])\n",
        "out_seq = array([in_seq1[i]+in_seq2[i] for i in range(len(in_seq1))])\n",
        "# convert to [rows, columns] structure\n",
        "in_seq1 = in_seq1.reshape((len(in_seq1), 1))\n",
        "in_seq2 = in_seq2.reshape((len(in_seq2), 1))\n",
        "out_seq = out_seq.reshape((len(out_seq), 1))\n",
        "# horizontally stack columns\n",
        "dataset = hstack((in_seq1, in_seq2, out_seq))\n",
        "# choose a number of time steps\n",
        "n_steps_in, n_steps_out = 3, 2\n",
        "# covert into input/output\n",
        "X, y = split_sequences(dataset, n_steps_in, n_steps_out)\n",
        "# the dataset knows the number of features, e.g. 2\n",
        "n_features = X.shape[2]\n",
        "# define model\n",
        "model = Sequential()\n",
        "model.add(LSTM(100, activation='relu', return_sequences=True, input_shape=(n_steps_in, n_features)))\n",
        "model.add(LSTM(100, activation='relu'))\n",
        "model.add(Dense(n_steps_out))\n",
        "model.compile(optimizer='adam', loss='mse')\n",
        "# fit model\n",
        "model.fit(X, y, epochs=5, verbose=0)\n",
        "# demonstrate prediction\n",
        "x_input = array([[70, 75], [80, 85], [90, 95]])\n",
        "x_input = x_input.reshape((1, n_steps_in, n_features))\n",
        "yhat = model.predict(x_input, verbose=0)\n",
        "print(yhat)"
      ],
      "execution_count": 154,
      "outputs": [
        {
          "output_type": "execute_result",
          "data": {
            "text/plain": [
              "<keras.callbacks.History at 0x7f4c8ce0cad0>"
            ]
          },
          "metadata": {
            "tags": []
          },
          "execution_count": 154
        },
        {
          "output_type": "stream",
          "text": [
            "WARNING:tensorflow:6 out of the last 6 calls to <function Model.make_predict_function.<locals>.predict_function at 0x7f4c8cf205f0> triggered tf.function retracing. Tracing is expensive and the excessive number of tracings could be due to (1) creating @tf.function repeatedly in a loop, (2) passing tensors with different shapes, (3) passing Python objects instead of tensors. For (1), please define your @tf.function outside of the loop. For (2), @tf.function has experimental_relax_shapes=True option that relaxes argument shapes that can avoid unnecessary retracing. For (3), please refer to https://www.tensorflow.org/guide/function#controlling_retracing and https://www.tensorflow.org/api_docs/python/tf/function for  more details.\n",
            "[[ 8.890271 13.747329]]\n"
          ],
          "name": "stdout"
        }
      ]
    },
    {
      "cell_type": "code",
      "metadata": {
        "colab": {
          "base_uri": "https://localhost:8080/"
        },
        "id": "m5Mu8HvRuBTr",
        "outputId": "d66b1ead-4700-4e3b-b6fb-ef13607b4b57"
      },
      "source": [
        "### plot ket qua\n",
        "y_ORG=list(y.flatten().reshape(y.shape[0],y.shape[1])[:,0])\n",
        "for i in range(1,y.shape[1]):\n",
        "  # y_ORG=np.concatenate((y_ORG,y.flatten().reshape(y.shape[0],y.shape[1])[:,i]))\n",
        "  y_ORG.append(y.flatten().reshape(y.shape[0],y.shape[1])[:,i][-1])\n",
        "y_ORG"
      ],
      "execution_count": 155,
      "outputs": [
        {
          "output_type": "execute_result",
          "data": {
            "text/plain": [
              "[65, 85, 105, 125, 145, 165, 185]"
            ]
          },
          "metadata": {
            "tags": []
          },
          "execution_count": 155
        }
      ]
    },
    {
      "cell_type": "markdown",
      "metadata": {
        "id": "78f9VCJbSd9R"
      },
      "source": [
        "# Phần 2 : áp dụng cho correlation 1"
      ]
    },
    {
      "cell_type": "code",
      "metadata": {
        "id": "7Pj-nvurTUzy"
      },
      "source": [
        "# multivariate multi-step stacked lstm example\n",
        "from numpy import array\n",
        "from numpy import hstack\n",
        "from keras.models import Sequential\n",
        "from keras.layers import LSTM\n",
        "from keras.layers import Dense\n",
        " \n",
        "# split a multivariate sequence into samples\n",
        "def split_sequences(sequences, n_steps_in, n_steps_out):\n",
        "\tX, y = list(), list()\n",
        "\tfor i in range(len(sequences)):\n",
        "\t\t# find the end of this pattern\n",
        "\t\tend_ix = i + n_steps_in\n",
        "\t\tout_end_ix = end_ix + n_steps_out-1\n",
        "\t\t# check if we are beyond the dataset\n",
        "\t\tif out_end_ix > len(sequences):\n",
        "\t\t\tbreak\n",
        "\t\t# gather input and output parts of the pattern\n",
        "\t\tseq_x, seq_y = sequences[i:end_ix, :-1], sequences[end_ix-1:out_end_ix, -1]\n",
        "\t\tX.append(seq_x)\n",
        "\t\ty.append(seq_y)\n",
        "\treturn array(X), array(y)\n",
        " \n",
        "# # define input sequence\n",
        "# in_seq1 = array([10, 20, 30, 40, 50, 60, 70, 80, 90])\n",
        "# in_seq2 = array([15, 25, 35, 45, 55, 65, 75, 85, 95])\n",
        "# out_seq = array([in_seq1[i]+in_seq2[i] for i in range(len(in_seq1))])\n",
        "# # convert to [rows, columns] structure\n",
        "# in_seq1 = in_seq1.reshape((len(in_seq1), 1))\n",
        "# in_seq2 = in_seq2.reshape((len(in_seq2), 1))\n",
        "# out_seq = out_seq.reshape((len(out_seq), 1))\n",
        "# horizontally stack columns\n"
      ],
      "execution_count": 156,
      "outputs": []
    },
    {
      "cell_type": "code",
      "metadata": {
        "colab": {
          "base_uri": "https://localhost:8080/"
        },
        "id": "iXaPbXE4TsC3",
        "outputId": "90ea21d7-66b8-4765-d57a-1675256810ea"
      },
      "source": [
        "# read data\n",
        "from google.colab import drive\n",
        "drive.mount('/content/drive')"
      ],
      "execution_count": 157,
      "outputs": [
        {
          "output_type": "stream",
          "text": [
            "Drive already mounted at /content/drive; to attempt to forcibly remount, call drive.mount(\"/content/drive\", force_remount=True).\n"
          ],
          "name": "stdout"
        }
      ]
    },
    {
      "cell_type": "code",
      "metadata": {
        "colab": {
          "base_uri": "https://localhost:8080/",
          "height": 1000
        },
        "id": "5T5tDrplT5ip",
        "outputId": "47114cf1-072c-48bf-bbb5-e93390cfb5d5"
      },
      "source": [
        "import os\n",
        "os.chdir('/content/drive/MyDrive')\n",
        "import pandas as pd\n",
        "import matplotlib.pyplot as plt\n",
        "import seaborn as sns\n",
        "\n",
        "# df0=pd.read_csv('input_data/percentile_season_adj.csv')\n",
        "# df0.head()\n",
        "dataset1000=pd.read_csv(\"input_data/percentile_season_adj.csv\")\n",
        "# dataset0.describe()\n",
        "# dataset00.head()\n",
        "# # chuyen data tu 2001/01-2019/12\n",
        "# dataset0=dataset00.iloc[6:-4,0:]\n",
        "# dataset0.reset_index(drop=True,inplace=True)\n",
        "# dataset0\n",
        "# =============================================================================\n",
        "# Arrange predicted column\n",
        "list1 = dataset1000.columns.tolist()\n",
        "# for k in range(1,len(list1)):\n",
        "    #  check station 1\n",
        "k=1  \n",
        "list2=list1[0:1]+list1[k:]+list1[1:k]\n",
        "# print(list2)\n",
        "# Using indent to control loop of station\n",
        "# dataset=dataset0[list2]\n",
        "# dataset.describe()\n",
        "# modified dataset\n",
        "# print(list2)\n",
        "# Using indent to control loop of station\n",
        "# dataset100=dataset0[list2]\n",
        "# dataset.describe()\n",
        "dataset0=dataset1000[list2] # avoid dataset0 not change\n",
        "corr = dataset0.corr()\n",
        "df=corr\n",
        "df2 = df[df.columns[df.iloc[0,:] > 0.9]]\n",
        "df2\n",
        "list3=df2.columns.tolist()\n",
        "list3.insert(0,'Date')\n",
        "dataset=dataset0[list3]\n",
        "dataset0=dataset # avoid dataset0 not change\n",
        "fig0=plt.Figure()\n",
        "plt.Figure(figsize=(8,6))\n",
        "corr1 = dataset.corr()\n",
        "# corr1.style.background_gradient(cmap='coolwarm')\n",
        "# 'RdBu_r' & 'BrBG' are other good diverging colormaps\n",
        "# plt.title(\"Zones have correlation > 0.9 at  \"+list1[k])\n",
        "# plt.tight_layout()\n",
        "# plt.savefig(output_fig+\"\\\\\"+list1[k]+\"Corel\"+\".png\",dpi=300)\n",
        "fig, ax = plt.subplots()\n",
        "sns.heatmap(dataset.corr(method='pearson'), annot=True, fmt='.2f', \n",
        "            cmap=plt.get_cmap('coolwarm'), cbar=False, ax=ax)\n",
        "# ax.set_yticklabels(ax.get_yticklabels(), rotation=\"horizontal\")\n",
        "ax.set_yticklabels(ax.get_yticklabels(), rotation=\"horizontal\")\n",
        "plt.title(\"Zones have correlation > 0.9 at  \"+list1[k])\n",
        "# plt.savefig(output_fig+\"/\"+list1[k]+\"Corel\"+\".png\",dpi=300, bbox_inches='tight', pad_inches=0.0)\n",
        "\n",
        "# corr1.to_csv(output_table+\"/\"+list1[k]+\"cor\"+\".csv\")\n",
        "dataset.to_csv('/content/drive/MyDrive/input_data/correl_in_Andong.csv')\n",
        "dataset.head()"
      ],
      "execution_count": 158,
      "outputs": [
        {
          "output_type": "execute_result",
          "data": {
            "text/html": [
              "<div>\n",
              "<style scoped>\n",
              "    .dataframe tbody tr th:only-of-type {\n",
              "        vertical-align: middle;\n",
              "    }\n",
              "\n",
              "    .dataframe tbody tr th {\n",
              "        vertical-align: top;\n",
              "    }\n",
              "\n",
              "    .dataframe thead th {\n",
              "        text-align: right;\n",
              "    }\n",
              "</style>\n",
              "<table border=\"1\" class=\"dataframe\">\n",
              "  <thead>\n",
              "    <tr style=\"text-align: right;\">\n",
              "      <th></th>\n",
              "      <th>Andong106</th>\n",
              "      <th>Ansan75</th>\n",
              "      <th>Ansoeng76</th>\n",
              "      <th>Asan25</th>\n",
              "      <th>Boeun13</th>\n",
              "      <th>Boryeong26</th>\n",
              "      <th>Boseong186</th>\n",
              "      <th>Buan170</th>\n",
              "      <th>Buan171</th>\n",
              "      <th>Bucheon78</th>\n",
              "      <th>Buk0</th>\n",
              "    </tr>\n",
              "  </thead>\n",
              "  <tbody>\n",
              "    <tr>\n",
              "      <th>Andong106</th>\n",
              "      <td>1.000000</td>\n",
              "      <td>0.993215</td>\n",
              "      <td>0.997937</td>\n",
              "      <td>0.997062</td>\n",
              "      <td>0.982799</td>\n",
              "      <td>0.994933</td>\n",
              "      <td>0.994380</td>\n",
              "      <td>0.994716</td>\n",
              "      <td>0.994020</td>\n",
              "      <td>0.991588</td>\n",
              "      <td>0.995794</td>\n",
              "    </tr>\n",
              "    <tr>\n",
              "      <th>Ansan75</th>\n",
              "      <td>0.993215</td>\n",
              "      <td>1.000000</td>\n",
              "      <td>0.997134</td>\n",
              "      <td>0.990182</td>\n",
              "      <td>0.963165</td>\n",
              "      <td>0.986671</td>\n",
              "      <td>0.999908</td>\n",
              "      <td>0.999756</td>\n",
              "      <td>0.999943</td>\n",
              "      <td>0.999908</td>\n",
              "      <td>0.999420</td>\n",
              "    </tr>\n",
              "    <tr>\n",
              "      <th>Ansoeng76</th>\n",
              "      <td>0.997937</td>\n",
              "      <td>0.997134</td>\n",
              "      <td>1.000000</td>\n",
              "      <td>0.994493</td>\n",
              "      <td>0.979977</td>\n",
              "      <td>0.995568</td>\n",
              "      <td>0.997888</td>\n",
              "      <td>0.997601</td>\n",
              "      <td>0.997534</td>\n",
              "      <td>0.996213</td>\n",
              "      <td>0.999069</td>\n",
              "    </tr>\n",
              "    <tr>\n",
              "      <th>Anyang77</th>\n",
              "      <td>0.889065</td>\n",
              "      <td>0.875040</td>\n",
              "      <td>0.890334</td>\n",
              "      <td>0.911977</td>\n",
              "      <td>0.889162</td>\n",
              "      <td>0.895596</td>\n",
              "      <td>0.878157</td>\n",
              "      <td>0.881029</td>\n",
              "      <td>0.878622</td>\n",
              "      <td>0.872572</td>\n",
              "      <td>0.883084</td>\n",
              "    </tr>\n",
              "    <tr>\n",
              "      <th>Asan25</th>\n",
              "      <td>0.997062</td>\n",
              "      <td>0.990182</td>\n",
              "      <td>0.994493</td>\n",
              "      <td>1.000000</td>\n",
              "      <td>0.975433</td>\n",
              "      <td>0.989626</td>\n",
              "      <td>0.991411</td>\n",
              "      <td>0.992736</td>\n",
              "      <td>0.991506</td>\n",
              "      <td>0.988468</td>\n",
              "      <td>0.992628</td>\n",
              "    </tr>\n",
              "    <tr>\n",
              "      <th>...</th>\n",
              "      <td>...</td>\n",
              "      <td>...</td>\n",
              "      <td>...</td>\n",
              "      <td>...</td>\n",
              "      <td>...</td>\n",
              "      <td>...</td>\n",
              "      <td>...</td>\n",
              "      <td>...</td>\n",
              "      <td>...</td>\n",
              "      <td>...</td>\n",
              "      <td>...</td>\n",
              "    </tr>\n",
              "    <tr>\n",
              "      <th>Yeosu238</th>\n",
              "      <td>0.131672</td>\n",
              "      <td>0.102970</td>\n",
              "      <td>0.137694</td>\n",
              "      <td>0.099381</td>\n",
              "      <td>0.271706</td>\n",
              "      <td>0.214075</td>\n",
              "      <td>0.111392</td>\n",
              "      <td>0.102674</td>\n",
              "      <td>0.100140</td>\n",
              "      <td>0.100109</td>\n",
              "      <td>0.120384</td>\n",
              "    </tr>\n",
              "    <tr>\n",
              "      <th>Yesan40</th>\n",
              "      <td>0.150178</td>\n",
              "      <td>0.122075</td>\n",
              "      <td>0.157817</td>\n",
              "      <td>0.117736</td>\n",
              "      <td>0.292010</td>\n",
              "      <td>0.234322</td>\n",
              "      <td>0.130439</td>\n",
              "      <td>0.121392</td>\n",
              "      <td>0.119306</td>\n",
              "      <td>0.119292</td>\n",
              "      <td>0.140051</td>\n",
              "    </tr>\n",
              "    <tr>\n",
              "      <th>Yongin105</th>\n",
              "      <td>0.127820</td>\n",
              "      <td>0.104011</td>\n",
              "      <td>0.136396</td>\n",
              "      <td>0.095610</td>\n",
              "      <td>0.264408</td>\n",
              "      <td>0.210469</td>\n",
              "      <td>0.111977</td>\n",
              "      <td>0.103010</td>\n",
              "      <td>0.100913</td>\n",
              "      <td>0.101712</td>\n",
              "      <td>0.120490</td>\n",
              "    </tr>\n",
              "    <tr>\n",
              "      <th>Yongsan263</th>\n",
              "      <td>0.139361</td>\n",
              "      <td>0.112935</td>\n",
              "      <td>0.146828</td>\n",
              "      <td>0.107091</td>\n",
              "      <td>0.278114</td>\n",
              "      <td>0.222158</td>\n",
              "      <td>0.121146</td>\n",
              "      <td>0.112258</td>\n",
              "      <td>0.110003</td>\n",
              "      <td>0.110331</td>\n",
              "      <td>0.130043</td>\n",
              "    </tr>\n",
              "    <tr>\n",
              "      <th>Yuseong53</th>\n",
              "      <td>0.168277</td>\n",
              "      <td>0.114860</td>\n",
              "      <td>0.160911</td>\n",
              "      <td>0.137021</td>\n",
              "      <td>0.318738</td>\n",
              "      <td>0.243625</td>\n",
              "      <td>0.124861</td>\n",
              "      <td>0.117693</td>\n",
              "      <td>0.113885</td>\n",
              "      <td>0.109067</td>\n",
              "      <td>0.136711</td>\n",
              "    </tr>\n",
              "  </tbody>\n",
              "</table>\n",
              "<p>269 rows × 11 columns</p>\n",
              "</div>"
            ],
            "text/plain": [
              "            Andong106   Ansan75  Ansoeng76  ...   Buan171  Bucheon78      Buk0\n",
              "Andong106    1.000000  0.993215   0.997937  ...  0.994020   0.991588  0.995794\n",
              "Ansan75      0.993215  1.000000   0.997134  ...  0.999943   0.999908  0.999420\n",
              "Ansoeng76    0.997937  0.997134   1.000000  ...  0.997534   0.996213  0.999069\n",
              "Anyang77     0.889065  0.875040   0.890334  ...  0.878622   0.872572  0.883084\n",
              "Asan25       0.997062  0.990182   0.994493  ...  0.991506   0.988468  0.992628\n",
              "...               ...       ...        ...  ...       ...        ...       ...\n",
              "Yeosu238     0.131672  0.102970   0.137694  ...  0.100140   0.100109  0.120384\n",
              "Yesan40      0.150178  0.122075   0.157817  ...  0.119306   0.119292  0.140051\n",
              "Yongin105    0.127820  0.104011   0.136396  ...  0.100913   0.101712  0.120490\n",
              "Yongsan263   0.139361  0.112935   0.146828  ...  0.110003   0.110331  0.130043\n",
              "Yuseong53    0.168277  0.114860   0.160911  ...  0.113885   0.109067  0.136711\n",
              "\n",
              "[269 rows x 11 columns]"
            ]
          },
          "metadata": {
            "tags": []
          },
          "execution_count": 158
        },
        {
          "output_type": "execute_result",
          "data": {
            "text/plain": [
              "<Figure size 576x432 with 0 Axes>"
            ]
          },
          "metadata": {
            "tags": []
          },
          "execution_count": 158
        },
        {
          "output_type": "execute_result",
          "data": {
            "text/plain": [
              "<matplotlib.axes._subplots.AxesSubplot at 0x7f4c92e0b510>"
            ]
          },
          "metadata": {
            "tags": []
          },
          "execution_count": 158
        },
        {
          "output_type": "execute_result",
          "data": {
            "text/plain": [
              "[Text(0, 0.5, 'Andong106'),\n",
              " Text(0, 1.5, 'Ansan75'),\n",
              " Text(0, 2.5, 'Ansoeng76'),\n",
              " Text(0, 3.5, 'Asan25'),\n",
              " Text(0, 4.5, 'Boeun13'),\n",
              " Text(0, 5.5, 'Boryeong26'),\n",
              " Text(0, 6.5, 'Boseong186'),\n",
              " Text(0, 7.5, 'Buan170'),\n",
              " Text(0, 8.5, 'Buan171'),\n",
              " Text(0, 9.5, 'Bucheon78'),\n",
              " Text(0, 10.5, 'Buk0')]"
            ]
          },
          "metadata": {
            "tags": []
          },
          "execution_count": 158
        },
        {
          "output_type": "execute_result",
          "data": {
            "text/plain": [
              "Text(0.5, 1.0, 'Zones have correlation > 0.9 at  Andong106')"
            ]
          },
          "metadata": {
            "tags": []
          },
          "execution_count": 158
        },
        {
          "output_type": "execute_result",
          "data": {
            "text/html": [
              "<div>\n",
              "<style scoped>\n",
              "    .dataframe tbody tr th:only-of-type {\n",
              "        vertical-align: middle;\n",
              "    }\n",
              "\n",
              "    .dataframe tbody tr th {\n",
              "        vertical-align: top;\n",
              "    }\n",
              "\n",
              "    .dataframe thead th {\n",
              "        text-align: right;\n",
              "    }\n",
              "</style>\n",
              "<table border=\"1\" class=\"dataframe\">\n",
              "  <thead>\n",
              "    <tr style=\"text-align: right;\">\n",
              "      <th></th>\n",
              "      <th>Date</th>\n",
              "      <th>Andong106</th>\n",
              "      <th>Ansan75</th>\n",
              "      <th>Ansoeng76</th>\n",
              "      <th>Asan25</th>\n",
              "      <th>Boeun13</th>\n",
              "      <th>Boryeong26</th>\n",
              "      <th>Boseong186</th>\n",
              "      <th>Buan170</th>\n",
              "      <th>Buan171</th>\n",
              "      <th>Bucheon78</th>\n",
              "      <th>Buk0</th>\n",
              "    </tr>\n",
              "  </thead>\n",
              "  <tbody>\n",
              "    <tr>\n",
              "      <th>0</th>\n",
              "      <td>1/1/1981</td>\n",
              "      <td>-0.068793</td>\n",
              "      <td>0.007370</td>\n",
              "      <td>-0.043025</td>\n",
              "      <td>-0.016300</td>\n",
              "      <td>-0.135790</td>\n",
              "      <td>-0.085975</td>\n",
              "      <td>0.000382</td>\n",
              "      <td>0.010484</td>\n",
              "      <td>0.006280</td>\n",
              "      <td>0.018972</td>\n",
              "      <td>-0.013240</td>\n",
              "    </tr>\n",
              "    <tr>\n",
              "      <th>1</th>\n",
              "      <td>2/1/1981</td>\n",
              "      <td>-0.191194</td>\n",
              "      <td>-0.237572</td>\n",
              "      <td>-0.179815</td>\n",
              "      <td>-0.172738</td>\n",
              "      <td>-0.127369</td>\n",
              "      <td>-0.155773</td>\n",
              "      <td>-0.229314</td>\n",
              "      <td>-0.231227</td>\n",
              "      <td>-0.231224</td>\n",
              "      <td>-0.244268</td>\n",
              "      <td>-0.213504</td>\n",
              "    </tr>\n",
              "    <tr>\n",
              "      <th>2</th>\n",
              "      <td>3/1/1981</td>\n",
              "      <td>-0.928368</td>\n",
              "      <td>-1.075123</td>\n",
              "      <td>-0.868374</td>\n",
              "      <td>-0.933116</td>\n",
              "      <td>-0.607044</td>\n",
              "      <td>-0.720911</td>\n",
              "      <td>-1.047755</td>\n",
              "      <td>-1.076924</td>\n",
              "      <td>-1.058379</td>\n",
              "      <td>-1.096922</td>\n",
              "      <td>-0.959023</td>\n",
              "    </tr>\n",
              "    <tr>\n",
              "      <th>3</th>\n",
              "      <td>4/1/1981</td>\n",
              "      <td>-0.266323</td>\n",
              "      <td>-0.317591</td>\n",
              "      <td>-0.239929</td>\n",
              "      <td>-0.272606</td>\n",
              "      <td>-0.139844</td>\n",
              "      <td>-0.185271</td>\n",
              "      <td>-0.307400</td>\n",
              "      <td>-0.318330</td>\n",
              "      <td>-0.312773</td>\n",
              "      <td>-0.324719</td>\n",
              "      <td>-0.278742</td>\n",
              "    </tr>\n",
              "    <tr>\n",
              "      <th>4</th>\n",
              "      <td>5/1/1981</td>\n",
              "      <td>0.894040</td>\n",
              "      <td>1.404446</td>\n",
              "      <td>1.074264</td>\n",
              "      <td>0.735564</td>\n",
              "      <td>0.691685</td>\n",
              "      <td>0.904366</td>\n",
              "      <td>1.341124</td>\n",
              "      <td>1.301548</td>\n",
              "      <td>1.340194</td>\n",
              "      <td>1.487773</td>\n",
              "      <td>1.232452</td>\n",
              "    </tr>\n",
              "  </tbody>\n",
              "</table>\n",
              "</div>"
            ],
            "text/plain": [
              "       Date  Andong106   Ansan75  ...   Buan171  Bucheon78      Buk0\n",
              "0  1/1/1981  -0.068793  0.007370  ...  0.006280   0.018972 -0.013240\n",
              "1  2/1/1981  -0.191194 -0.237572  ... -0.231224  -0.244268 -0.213504\n",
              "2  3/1/1981  -0.928368 -1.075123  ... -1.058379  -1.096922 -0.959023\n",
              "3  4/1/1981  -0.266323 -0.317591  ... -0.312773  -0.324719 -0.278742\n",
              "4  5/1/1981   0.894040  1.404446  ...  1.340194   1.487773  1.232452\n",
              "\n",
              "[5 rows x 12 columns]"
            ]
          },
          "metadata": {
            "tags": []
          },
          "execution_count": 158
        },
        {
          "output_type": "display_data",
          "data": {
            "image/png": "[encoded data removed]",
            "text/plain": [
              "<Figure size 432x432 with 1 Axes>"
            ]
          },
          "metadata": {
            "tags": []
          }
        }
      ]
    },
    {
      "cell_type": "code",
      "metadata": {
        "id": "ixc6rC1dTnxH"
      },
      "source": [
        "# Don gian lay 3 tram thoi\n",
        "\n",
        "df0=dataset\n",
        "# import numpy as np\n",
        "\n",
        "# in_seq1=df0.iloc[:,2].values\n",
        "# in_seq2=df0.iloc[:,3].values\n",
        "# out_seq=df0.iloc[:,1].values\n",
        "# # define input sequence\n",
        "# # in_seq1 = array([10, 20, 30, 40, 50, 60, 70, 80, 90])\n",
        "# # in_seq2 = array([15, 25, 35, 45, 55, 65, 75, 85, 95])\n",
        "# # out_seq = array([in_seq1[i]+in_seq2[i] for i in range(len(in_seq1))])\n",
        "# # convert to [rows, columns] structure\n",
        "# in_seq1 = in_seq1.reshape((len(in_seq1), 1))\n",
        "# in_seq2 = in_seq2.reshape((len(in_seq2), 1))\n",
        "# out_seq = out_seq.reshape((len(out_seq), 1))\n",
        "# # horizontally stack columns\n",
        "# dataset = hstack((in_seq1, in_seq2, out_seq))\n",
        "dataset=df0.iloc[:,1:].values\n",
        "# split data into train and test\n",
        "dataset_train=dataset[0:31*12,:]\n",
        "dataset_val=dataset[29*12:32*12,:]\n",
        "dataset_test=dataset[33*12:,:]\n",
        "# # choose a number of time steps\n",
        "# n_steps_in, n_steps_out = 24,3\n",
        "# # covert into input/output\n",
        "# Xtrain, ytrain = split_sequences(dataset_train, n_steps_in, n_steps_out)\n",
        "# Xval, yval = split_sequences(dataset_val, n_steps_in, n_steps_out)\n",
        "# Xtest, ytest = split_sequences(dataset_test, n_steps_in, n_steps_out)\n",
        "# the dataset knows the number of features, e.g. 2\n",
        "\n"
      ],
      "execution_count": 159,
      "outputs": []
    },
    {
      "cell_type": "markdown",
      "metadata": {
        "id": "UL6hRqu3tSjV"
      },
      "source": [
        "# Phần 3: Hiệu chỉnh thông số\n",
        "\n",
        "* chọn scale data\n",
        "* chọn learning rate\n",
        "* chọn activate function\n",
        "* Thêm các lớp"
      ]
    },
    {
      "cell_type": "code",
      "metadata": {
        "id": "2APorty2tzXk"
      },
      "source": [
        "# scale data về 0, 1 trước khi chia dữ liệu\n",
        "\n",
        "#https://machinelearningmastery.com/how-to-improve-neural-network-stability-and-modeling-performance-with-data-scaling/\n",
        "# from sklearn.preprocessing import MinMaxScaler\n",
        "# from sklearn.preprocessing import StandardScaler\n",
        "# # create scaler\n",
        "# scaler = MinMaxScaler([0,1])\n",
        "# # scaler = StandardScaler()\n",
        "# # fit and transform in one step\n",
        "# normalized = scaler.fit_transform(dataset)\n",
        "# # inverse transform\n",
        "# inverse = scaler.inverse_transform(normalized)\n",
        "\n",
        "# # \n",
        "# # split data into train and test\n",
        "# dataset=normalized\n",
        "# dataset_train=dataset[0:31*12,:]\n",
        "# dataset_val=dataset[29*12:32*12,:]\n",
        "# dataset_test=dataset[33*12:,:]\n",
        "# # choose a number of time steps\n",
        "# n_steps_in, n_steps_out = 24,12\n",
        "# # covert into input/output\n",
        "# Xtrain, ytrain = split_sequences(dataset_train, n_steps_in, n_steps_out)\n",
        "# Xval, yval = split_sequences(dataset_val, n_steps_in, n_steps_out)\n",
        "# Xtest, ytest = split_sequences(dataset_test, n_steps_in, n_steps_out)\n",
        "# # the dataset knows the number of features, e.g. 2\n",
        "# # scaled data mô hình không hiệu quả?\n"
      ],
      "execution_count": 160,
      "outputs": []
    },
    {
      "cell_type": "code",
      "metadata": {
        "id": "GD3NRS0v7ugx"
      },
      "source": [
        "# scale theo vi du cua tensorflow\n",
        "train_mean = dataset_train.mean()\n",
        "train_std = dataset_train.std()\n",
        "\n",
        "val_mean = dataset_val.mean()\n",
        "val_std = dataset_val.std()\n",
        "####################################################\n",
        "test_mean = dataset_test.mean()\n",
        "test_std = dataset_test.std()\n",
        "# cai goc la scale theo train thoi\n",
        "train_df = (dataset_train - train_mean) / train_std\n",
        "val_df = (dataset_val - train_mean) / train_std\n",
        "test_df = (dataset_test - train_mean) / train_std\n",
        "#####################################################\n",
        "\n",
        "# # minh sua lai scale tung cai\n",
        "# train_df = (dataset_train - train_mean) / train_std\n",
        "# val_df = (dataset_val - val_mean) / val_std\n",
        "# test_df = (dataset_test - test_mean) / test_std\n",
        "# scale tung cai rieng\n",
        "####################################################\n",
        "\n",
        "# # scale theo maxmin về 1,0 để dễ sử dụng các acctivation\n",
        "# # scale theo vi du cua tensorflow\n",
        "# train_max = dataset_train.max()\n",
        "# train_min = dataset_train.min()\n",
        "\n",
        "# val_mean = dataset_val.mean()\n",
        "# val_std = dataset_val.std()\n",
        "\n",
        "# test_mean = dataset_test.mean()\n",
        "# test_std = dataset_test.std()\n",
        "###############################################################\n",
        "# # cai goc la scale theo train thoi\n",
        "# train_df = (dataset_train - train_min) / (train_max-train_min)\n",
        "# val_df = (dataset_val - train_min) / (train_max-train_min)\n",
        "# test_df = (dataset_test - train_min) / (train_max-train_min)\n",
        "##############################################################\n",
        "# # Khong scale gì hết bà nội mày\n",
        "# train_df=dataset_train\n",
        "# val_df=dataset_val\n",
        "# test_df=dataset_test\n",
        "# ##############################################################\n",
        "\n",
        "# \n",
        "# choose a number of time steps\n",
        "n_steps_in, n_steps_out = 12,3\n",
        "# covert into input/output\n",
        "Xtrain, ytrain = split_sequences(train_df, n_steps_in, n_steps_out)\n",
        "Xval, yval = split_sequences(val_df, n_steps_in, n_steps_out)\n",
        "Xtest, ytest = split_sequences(test_df, n_steps_in, n_steps_out)\n",
        "\n",
        "#\n",
        "import tensorflow as tf\n",
        "patience0=50\n",
        "early_stopping = tf.keras.callbacks.EarlyStopping(monitor='val_loss',\n",
        "                                                    patience=patience0,\n",
        "                                                    mode='min')\n",
        "learing_rate0=0.01\n",
        "beta_1_0=0.9\n",
        "beta_2_0=0.999\n",
        "epsilon_0=1e-07\n"
      ],
      "execution_count": 161,
      "outputs": []
    },
    {
      "cell_type": "code",
      "metadata": {
        "colab": {
          "base_uri": "https://localhost:8080/"
        },
        "id": "AMzo0TeUtRmQ",
        "outputId": "6afd356a-f373-45d6-9fc3-4cf744702a08"
      },
      "source": [
        "\n",
        "n_features = Xtrain.shape[2]\n",
        "# define model\n",
        "KK.clear_session()\n",
        "model = Sequential()\n",
        "model.add(LSTM(100, activation='relu', return_sequences=True, input_shape=(n_steps_in, n_features)))\n",
        "model.add(LSTM(100, activation='relu', return_sequences=True, input_shape=(n_steps_in, n_features)))\n",
        "model.add(LSTM(100, activation='relu'))\n",
        "model.add(Dense(n_steps_out))\n",
        "model.compile(optimizer=tf.optimizers.Adam(learning_rate=learing_rate0, \n",
        "                                             beta_1=beta_1_0, \n",
        "                                             beta_2=beta_2_0,\n",
        "                                             epsilon=epsilon_0, \n",
        "                                             amsgrad=True),\n",
        "              \n",
        "              loss='mse')\n",
        "# fit model\n",
        "history=model.fit(Xtrain, ytrain,epochs=106, verbose=1,validation_data=(Xval,yval),\n",
        "                  batch_size=32,\n",
        "                  callbacks=[early_stopping])\n"
      ],
      "execution_count": 162,
      "outputs": [
        {
          "output_type": "stream",
          "text": [
            "Epoch 1/106\n",
            "12/12 [==============================] - 6s 145ms/step - loss: 1.0276 - val_loss: 1.0238\n",
            "Epoch 2/106\n",
            "12/12 [==============================] - 0s 29ms/step - loss: 1.0584 - val_loss: 0.9533\n",
            "Epoch 3/106\n",
            "12/12 [==============================] - 0s 29ms/step - loss: 1.0615 - val_loss: 1.5613\n",
            "Epoch 4/106\n",
            "12/12 [==============================] - 0s 35ms/step - loss: 0.9206 - val_loss: 0.7551\n",
            "Epoch 5/106\n",
            "12/12 [==============================] - 0s 30ms/step - loss: 0.7477 - val_loss: 0.7076\n",
            "Epoch 6/106\n",
            "12/12 [==============================] - 0s 29ms/step - loss: 0.7605 - val_loss: 0.7020\n",
            "Epoch 7/106\n",
            "12/12 [==============================] - 0s 30ms/step - loss: 0.6892 - val_loss: 0.6493\n",
            "Epoch 8/106\n",
            "12/12 [==============================] - 0s 29ms/step - loss: 0.7385 - val_loss: 0.6694\n",
            "Epoch 9/106\n",
            "12/12 [==============================] - 0s 31ms/step - loss: 0.7141 - val_loss: 0.6562\n",
            "Epoch 10/106\n",
            "12/12 [==============================] - 0s 29ms/step - loss: 0.7554 - val_loss: 0.6843\n",
            "Epoch 11/106\n",
            "12/12 [==============================] - 0s 30ms/step - loss: 0.6652 - val_loss: 0.6598\n",
            "Epoch 12/106\n",
            "12/12 [==============================] - 0s 30ms/step - loss: 0.6889 - val_loss: 0.6272\n",
            "Epoch 13/106\n",
            "12/12 [==============================] - 0s 29ms/step - loss: 0.7073 - val_loss: 0.7272\n",
            "Epoch 14/106\n",
            "12/12 [==============================] - 0s 31ms/step - loss: 0.7066 - val_loss: 0.6817\n",
            "Epoch 15/106\n",
            "12/12 [==============================] - 0s 32ms/step - loss: 0.6606 - val_loss: 0.6344\n",
            "Epoch 16/106\n",
            "12/12 [==============================] - 0s 29ms/step - loss: 0.6395 - val_loss: 0.6718\n",
            "Epoch 17/106\n",
            "12/12 [==============================] - 0s 29ms/step - loss: 0.6352 - val_loss: 0.6247\n",
            "Epoch 18/106\n",
            "12/12 [==============================] - 0s 31ms/step - loss: 0.6773 - val_loss: 0.8685\n",
            "Epoch 19/106\n",
            "12/12 [==============================] - 0s 29ms/step - loss: 0.6256 - val_loss: 0.6514\n",
            "Epoch 20/106\n",
            "12/12 [==============================] - 0s 29ms/step - loss: 0.6149 - val_loss: 0.8091\n",
            "Epoch 21/106\n",
            "12/12 [==============================] - 0s 30ms/step - loss: 0.5646 - val_loss: 0.6377\n",
            "Epoch 22/106\n",
            "12/12 [==============================] - 0s 31ms/step - loss: 0.5107 - val_loss: 0.6235\n",
            "Epoch 23/106\n",
            "12/12 [==============================] - 0s 30ms/step - loss: 0.5620 - val_loss: 0.6786\n",
            "Epoch 24/106\n",
            "12/12 [==============================] - 0s 30ms/step - loss: 0.5380 - val_loss: 0.7006\n",
            "Epoch 25/106\n",
            "12/12 [==============================] - 0s 32ms/step - loss: 0.5115 - val_loss: 0.6749\n",
            "Epoch 26/106\n",
            "12/12 [==============================] - 0s 32ms/step - loss: 0.4755 - val_loss: 0.6367\n",
            "Epoch 27/106\n",
            "12/12 [==============================] - 0s 30ms/step - loss: 0.4263 - val_loss: 0.6474\n",
            "Epoch 28/106\n",
            "12/12 [==============================] - 0s 30ms/step - loss: 0.3900 - val_loss: 0.6903\n",
            "Epoch 29/106\n",
            "12/12 [==============================] - 0s 31ms/step - loss: 0.5052 - val_loss: 0.8201\n",
            "Epoch 30/106\n",
            "12/12 [==============================] - 0s 30ms/step - loss: 0.4388 - val_loss: 0.6582\n",
            "Epoch 31/106\n",
            "12/12 [==============================] - 0s 30ms/step - loss: 0.3888 - val_loss: 0.6674\n",
            "Epoch 32/106\n",
            "12/12 [==============================] - 0s 30ms/step - loss: 0.3513 - val_loss: 2.1363\n",
            "Epoch 33/106\n",
            "12/12 [==============================] - 0s 30ms/step - loss: 0.3806 - val_loss: 0.7582\n",
            "Epoch 34/106\n",
            "12/12 [==============================] - 0s 30ms/step - loss: 0.3293 - val_loss: 0.8423\n",
            "Epoch 35/106\n",
            "12/12 [==============================] - 0s 29ms/step - loss: 0.2835 - val_loss: 0.7559\n",
            "Epoch 36/106\n",
            "12/12 [==============================] - 0s 30ms/step - loss: 0.2861 - val_loss: 0.9330\n",
            "Epoch 37/106\n",
            "12/12 [==============================] - 0s 30ms/step - loss: 0.3028 - val_loss: 0.9763\n",
            "Epoch 38/106\n",
            "12/12 [==============================] - 0s 29ms/step - loss: 0.2839 - val_loss: 0.8198\n",
            "Epoch 39/106\n",
            "12/12 [==============================] - 0s 30ms/step - loss: 0.2440 - val_loss: 0.7706\n",
            "Epoch 40/106\n",
            "12/12 [==============================] - 0s 30ms/step - loss: 0.2252 - val_loss: 0.8041\n",
            "Epoch 41/106\n",
            "12/12 [==============================] - 0s 29ms/step - loss: 0.1864 - val_loss: 0.7873\n",
            "Epoch 42/106\n",
            "12/12 [==============================] - 0s 30ms/step - loss: 0.1900 - val_loss: 0.7506\n",
            "Epoch 43/106\n",
            "12/12 [==============================] - 0s 31ms/step - loss: 0.1738 - val_loss: 0.8255\n",
            "Epoch 44/106\n",
            "12/12 [==============================] - 0s 30ms/step - loss: 0.1626 - val_loss: 0.6434\n",
            "Epoch 45/106\n",
            "12/12 [==============================] - 0s 30ms/step - loss: 0.1700 - val_loss: 0.7172\n",
            "Epoch 46/106\n",
            "12/12 [==============================] - 0s 31ms/step - loss: 0.1279 - val_loss: 0.7179\n",
            "Epoch 47/106\n",
            "12/12 [==============================] - 0s 30ms/step - loss: 0.1162 - val_loss: 0.7614\n",
            "Epoch 48/106\n",
            "12/12 [==============================] - 0s 29ms/step - loss: 0.1085 - val_loss: 0.6822\n",
            "Epoch 49/106\n",
            "12/12 [==============================] - 0s 29ms/step - loss: 0.1208 - val_loss: 0.7174\n",
            "Epoch 50/106\n",
            "12/12 [==============================] - 0s 31ms/step - loss: 0.0989 - val_loss: 0.8947\n",
            "Epoch 51/106\n",
            "12/12 [==============================] - 0s 30ms/step - loss: 0.1058 - val_loss: 0.8348\n",
            "Epoch 52/106\n",
            "12/12 [==============================] - 0s 31ms/step - loss: 0.0840 - val_loss: 0.7615\n",
            "Epoch 53/106\n",
            "12/12 [==============================] - 0s 30ms/step - loss: 0.0855 - val_loss: 0.6033\n",
            "Epoch 54/106\n",
            "12/12 [==============================] - 0s 30ms/step - loss: 0.0772 - val_loss: 0.7046\n",
            "Epoch 55/106\n",
            "12/12 [==============================] - 0s 31ms/step - loss: 0.0753 - val_loss: 0.6821\n",
            "Epoch 56/106\n",
            "12/12 [==============================] - 0s 30ms/step - loss: 0.0773 - val_loss: 0.6766\n",
            "Epoch 57/106\n",
            "12/12 [==============================] - 0s 32ms/step - loss: 0.0592 - val_loss: 0.7123\n",
            "Epoch 58/106\n",
            "12/12 [==============================] - 0s 33ms/step - loss: 0.0587 - val_loss: 0.6876\n",
            "Epoch 59/106\n",
            "12/12 [==============================] - 0s 29ms/step - loss: 0.0428 - val_loss: 0.6273\n",
            "Epoch 60/106\n",
            "12/12 [==============================] - 0s 30ms/step - loss: 0.0431 - val_loss: 0.6086\n",
            "Epoch 61/106\n",
            "12/12 [==============================] - 0s 33ms/step - loss: 0.0363 - val_loss: 0.6291\n",
            "Epoch 62/106\n",
            "12/12 [==============================] - 0s 36ms/step - loss: 0.0290 - val_loss: 0.6577\n",
            "Epoch 63/106\n",
            "12/12 [==============================] - 0s 31ms/step - loss: 0.0292 - val_loss: 0.6324\n",
            "Epoch 64/106\n",
            "12/12 [==============================] - 0s 29ms/step - loss: 0.0251 - val_loss: 0.6611\n",
            "Epoch 65/106\n",
            "12/12 [==============================] - 0s 31ms/step - loss: 0.0249 - val_loss: 0.6163\n",
            "Epoch 66/106\n",
            "12/12 [==============================] - 0s 34ms/step - loss: 0.0228 - val_loss: 0.6362\n",
            "Epoch 67/106\n",
            "12/12 [==============================] - 0s 30ms/step - loss: 0.0196 - val_loss: 0.6459\n",
            "Epoch 68/106\n",
            "12/12 [==============================] - 0s 29ms/step - loss: 0.0179 - val_loss: 0.6691\n",
            "Epoch 69/106\n",
            "12/12 [==============================] - 0s 30ms/step - loss: 0.0181 - val_loss: 0.6218\n",
            "Epoch 70/106\n",
            "12/12 [==============================] - 0s 31ms/step - loss: 0.0167 - val_loss: 0.6300\n",
            "Epoch 71/106\n",
            "12/12 [==============================] - 0s 32ms/step - loss: 0.0154 - val_loss: 0.5530\n",
            "Epoch 72/106\n",
            "12/12 [==============================] - 0s 30ms/step - loss: 0.0144 - val_loss: 0.6587\n",
            "Epoch 73/106\n",
            "12/12 [==============================] - 0s 30ms/step - loss: 0.0158 - val_loss: 0.6789\n",
            "Epoch 74/106\n",
            "12/12 [==============================] - 0s 32ms/step - loss: 0.0164 - val_loss: 0.6460\n",
            "Epoch 75/106\n",
            "12/12 [==============================] - 0s 30ms/step - loss: 0.0135 - val_loss: 0.6080\n",
            "Epoch 76/106\n",
            "12/12 [==============================] - 0s 31ms/step - loss: 0.0149 - val_loss: 0.6181\n",
            "Epoch 77/106\n",
            "12/12 [==============================] - 0s 30ms/step - loss: 0.0134 - val_loss: 0.6145\n",
            "Epoch 78/106\n",
            "12/12 [==============================] - 0s 32ms/step - loss: 0.0157 - val_loss: 0.5876\n",
            "Epoch 79/106\n",
            "12/12 [==============================] - 0s 30ms/step - loss: 0.0147 - val_loss: 0.6409\n",
            "Epoch 80/106\n",
            "12/12 [==============================] - 0s 31ms/step - loss: 0.0122 - val_loss: 0.5716\n",
            "Epoch 81/106\n",
            "12/12 [==============================] - 0s 31ms/step - loss: 0.0149 - val_loss: 0.5774\n",
            "Epoch 82/106\n",
            "12/12 [==============================] - 0s 32ms/step - loss: 0.0178 - val_loss: 0.5989\n",
            "Epoch 83/106\n",
            "12/12 [==============================] - 0s 29ms/step - loss: 0.0185 - val_loss: 0.5499\n",
            "Epoch 84/106\n",
            "12/12 [==============================] - 0s 31ms/step - loss: 0.0140 - val_loss: 0.6287\n",
            "Epoch 85/106\n",
            "12/12 [==============================] - 0s 30ms/step - loss: 0.0202 - val_loss: 0.6178\n",
            "Epoch 86/106\n",
            "12/12 [==============================] - 0s 30ms/step - loss: 0.0219 - val_loss: 0.6296\n",
            "Epoch 87/106\n",
            "12/12 [==============================] - 0s 31ms/step - loss: 0.0223 - val_loss: 0.5727\n",
            "Epoch 88/106\n",
            "12/12 [==============================] - 0s 30ms/step - loss: 0.0330 - val_loss: 0.5524\n",
            "Epoch 89/106\n",
            "12/12 [==============================] - 0s 30ms/step - loss: 0.0271 - val_loss: 0.7066\n",
            "Epoch 90/106\n",
            "12/12 [==============================] - 0s 31ms/step - loss: 0.0206 - val_loss: 0.6590\n",
            "Epoch 91/106\n",
            "12/12 [==============================] - 0s 31ms/step - loss: 0.0194 - val_loss: 0.5730\n",
            "Epoch 92/106\n",
            "12/12 [==============================] - 0s 31ms/step - loss: 0.0177 - val_loss: 0.6527\n",
            "Epoch 93/106\n",
            "12/12 [==============================] - 0s 30ms/step - loss: 0.0153 - val_loss: 0.6342\n",
            "Epoch 94/106\n",
            "12/12 [==============================] - 0s 31ms/step - loss: 0.0114 - val_loss: 0.6278\n",
            "Epoch 95/106\n",
            "12/12 [==============================] - 0s 31ms/step - loss: 0.0106 - val_loss: 0.5804\n",
            "Epoch 96/106\n",
            "12/12 [==============================] - 0s 31ms/step - loss: 0.0094 - val_loss: 0.6146\n",
            "Epoch 97/106\n",
            "12/12 [==============================] - 0s 31ms/step - loss: 0.0088 - val_loss: 0.6012\n",
            "Epoch 98/106\n",
            "12/12 [==============================] - 0s 31ms/step - loss: 0.0088 - val_loss: 0.5954\n",
            "Epoch 99/106\n",
            "12/12 [==============================] - 0s 32ms/step - loss: 0.0076 - val_loss: 0.6227\n",
            "Epoch 100/106\n",
            "12/12 [==============================] - 0s 31ms/step - loss: 0.0063 - val_loss: 0.5884\n",
            "Epoch 101/106\n",
            "12/12 [==============================] - 0s 32ms/step - loss: 0.0053 - val_loss: 0.5982\n",
            "Epoch 102/106\n",
            "12/12 [==============================] - 0s 30ms/step - loss: 0.0043 - val_loss: 0.6005\n",
            "Epoch 103/106\n",
            "12/12 [==============================] - 0s 32ms/step - loss: 0.0036 - val_loss: 0.5958\n",
            "Epoch 104/106\n",
            "12/12 [==============================] - 0s 31ms/step - loss: 0.0034 - val_loss: 0.6136\n",
            "Epoch 105/106\n",
            "12/12 [==============================] - 0s 30ms/step - loss: 0.0036 - val_loss: 0.6120\n",
            "Epoch 106/106\n",
            "12/12 [==============================] - 0s 31ms/step - loss: 0.0036 - val_loss: 0.5931\n"
          ],
          "name": "stdout"
        }
      ]
    },
    {
      "cell_type": "code",
      "metadata": {
        "id": "bWS96CVUp5oM",
        "colab": {
          "base_uri": "https://localhost:8080/"
        },
        "outputId": "3e46f265-79e1-4db9-fcab-c917b1c99567"
      },
      "source": [
        "\n",
        "# demonstrate prediction\n",
        "x_input = Xtest\n",
        "x_input = x_input.reshape((Xtest.shape[0], n_steps_in, n_features))\n",
        "yhat = model.predict(x_input, verbose=0)\n",
        "print(yhat)"
      ],
      "execution_count": 163,
      "outputs": [
        {
          "output_type": "stream",
          "text": [
            "[[ 0.10199413  0.56060565  1.300048  ]\n",
            " [ 0.5351062   0.66116124  0.26534316]\n",
            " [ 0.07365912 -0.08652638  1.7771103 ]\n",
            " [ 0.18648484  0.64561903  1.5546646 ]\n",
            " [ 1.144017    2.408904   -0.83701795]\n",
            " [-1.1635762  -0.25426313 -1.1852108 ]\n",
            " [ 1.1206901   0.17820804  0.8185306 ]\n",
            " [-0.7934168   1.1220944  -1.0123262 ]\n",
            " [-0.27546793 -0.7532188  -0.12254413]\n",
            " [ 0.46016344  0.18255748  0.84846777]\n",
            " [ 0.27931246 -0.19283532  0.7172913 ]\n",
            " [-1.4571528   0.04747945 -0.24949977]\n",
            " [ 1.424362   -0.34034875  1.1899586 ]\n",
            " [ 0.99948454  0.70865667  0.17204615]\n",
            " [ 1.4362998   0.04940007  0.7554393 ]\n",
            " [ 1.5155845   0.2968908  -0.70498574]\n",
            " [ 1.8554344  -0.17941546  0.4216846 ]\n",
            " [-0.53315634  0.7671891  -0.00683954]\n",
            " [ 0.73673654 -0.11622214  0.5961332 ]\n",
            " [-0.26827997  0.79179084 -0.48002544]\n",
            " [-1.4176359   0.18418115 -1.9504038 ]\n",
            " [ 0.18529609 -1.7278636   1.0805538 ]\n",
            " [-1.4388417   1.13398     0.7461453 ]]\n"
          ],
          "name": "stdout"
        }
      ]
    },
    {
      "cell_type": "code",
      "metadata": {
        "id": "srGcayibcu0A",
        "colab": {
          "base_uri": "https://localhost:8080/",
          "height": 368
        },
        "outputId": "d617bb95-d5b0-4e16-d6dd-c0656ba18114"
      },
      "source": [
        "import matplotlib.pyplot as plt\n",
        "# plot train processing\n",
        "fig1=plt.Figure()\n",
        "plt.figure(figsize=(8, 5))\n",
        "plt.plot(history.history['loss'], label='train')\n",
        "plt.plot(history.history['val_loss'], label='val')\n",
        "plt.xlabel('epochs')\n",
        "plt.ylabel('mse')\n"
      ],
      "execution_count": 164,
      "outputs": [
        {
          "output_type": "execute_result",
          "data": {
            "text/plain": [
              "<Figure size 576x360 with 0 Axes>"
            ]
          },
          "metadata": {
            "tags": []
          },
          "execution_count": 164
        },
        {
          "output_type": "execute_result",
          "data": {
            "text/plain": [
              "[<matplotlib.lines.Line2D at 0x7f4c96c9fc90>]"
            ]
          },
          "metadata": {
            "tags": []
          },
          "execution_count": 164
        },
        {
          "output_type": "execute_result",
          "data": {
            "text/plain": [
              "[<matplotlib.lines.Line2D at 0x7f4c96a65b10>]"
            ]
          },
          "metadata": {
            "tags": []
          },
          "execution_count": 164
        },
        {
          "output_type": "execute_result",
          "data": {
            "text/plain": [
              "Text(0.5, 0, 'epochs')"
            ]
          },
          "metadata": {
            "tags": []
          },
          "execution_count": 164
        },
        {
          "output_type": "execute_result",
          "data": {
            "text/plain": [
              "Text(0, 0.5, 'mse')"
            ]
          },
          "metadata": {
            "tags": []
          },
          "execution_count": 164
        },
        {
          "output_type": "display_data",
          "data": {
            "image/png": "[encoded data removed]",
            "text/plain": [
              "<Figure size 576x360 with 1 Axes>"
            ]
          },
          "metadata": {
            "tags": []
          }
        }
      ]
    },
    {
      "cell_type": "code",
      "metadata": {
        "id": "daWEBG2mL1bH",
        "colab": {
          "base_uri": "https://localhost:8080/",
          "height": 354
        },
        "outputId": "93af1232-ba2c-4da5-924a-b0112788004f"
      },
      "source": [
        "\n",
        "# plot compare testing\n",
        "fig2=plt.Figure()\n",
        "plt.figure(figsize=(8, 5))\n",
        "plt.plot(ytest[-1,:],'-.s')\n",
        "plt.plot(yhat[-1,:],'-.x')\n",
        "plt.legend([\"obs\",\"pred\"])\n"
      ],
      "execution_count": 165,
      "outputs": [
        {
          "output_type": "execute_result",
          "data": {
            "text/plain": [
              "<Figure size 576x360 with 0 Axes>"
            ]
          },
          "metadata": {
            "tags": []
          },
          "execution_count": 165
        },
        {
          "output_type": "execute_result",
          "data": {
            "text/plain": [
              "[<matplotlib.lines.Line2D at 0x7f4c96c0c090>]"
            ]
          },
          "metadata": {
            "tags": []
          },
          "execution_count": 165
        },
        {
          "output_type": "execute_result",
          "data": {
            "text/plain": [
              "[<matplotlib.lines.Line2D at 0x7f4c96c0c6d0>]"
            ]
          },
          "metadata": {
            "tags": []
          },
          "execution_count": 165
        },
        {
          "output_type": "execute_result",
          "data": {
            "text/plain": [
              "<matplotlib.legend.Legend at 0x7f4ca9576d10>"
            ]
          },
          "metadata": {
            "tags": []
          },
          "execution_count": 165
        },
        {
          "output_type": "display_data",
          "data": {
            "image/png": "[encoded data removed]",
            "text/plain": [
              "<Figure size 576x360 with 1 Axes>"
            ]
          },
          "metadata": {
            "tags": []
          }
        }
      ]
    },
    {
      "cell_type": "code",
      "metadata": {
        "id": "P7ByiTlEMBN9",
        "colab": {
          "base_uri": "https://localhost:8080/",
          "height": 454
        },
        "outputId": "4f8930cf-7d23-476c-d956-121b0c2b7cec"
      },
      "source": [
        "\n",
        "fig3=plt.Figure()\n",
        "plt.figure(figsize=(8, 5))\n",
        "df_results=pd.DataFrame({'obs':ytest[-1,:],'pred':yhat[-1,:]})\n",
        "df_results.plot(kind='bar')\n",
        "print(df_results)\n",
        "\n"
      ],
      "execution_count": 166,
      "outputs": [
        {
          "output_type": "execute_result",
          "data": {
            "text/plain": [
              "<Figure size 576x360 with 0 Axes>"
            ]
          },
          "metadata": {
            "tags": []
          },
          "execution_count": 166
        },
        {
          "output_type": "execute_result",
          "data": {
            "text/plain": [
              "<matplotlib.axes._subplots.AxesSubplot at 0x7f4c96c1c290>"
            ]
          },
          "metadata": {
            "tags": []
          },
          "execution_count": 166
        },
        {
          "output_type": "stream",
          "text": [
            "        obs      pred\n",
            "0 -1.595906 -1.438842\n",
            "1  2.616200  1.133980\n",
            "2  0.960593  0.746145\n"
          ],
          "name": "stdout"
        },
        {
          "output_type": "display_data",
          "data": {
            "text/plain": [
              "<Figure size 576x360 with 0 Axes>"
            ]
          },
          "metadata": {
            "tags": []
          }
        },
        {
          "output_type": "display_data",
          "data": {
            "image/png": "[encoded data removed]",
            "text/plain": [
              "<Figure size 432x432 with 1 Axes>"
            ]
          },
          "metadata": {
            "tags": []
          }
        }
      ]
    },
    {
      "cell_type": "code",
      "metadata": {
        "id": "ebBh6AmClXKx"
      },
      "source": [
        "# from scipy.stats import pearsonr\n",
        "# fig3=plt.Figure(figsize=(6, 6))\n",
        "# # plt.rcParams['figure.figsize'] = 6, 6\n",
        "\n",
        "# sns.set_style(\"whitegrid\")\n",
        "# #calculate correlation coefficient\n",
        "# corr = pearsonr(np.array(ytest[-1,:].flatten()), np.array(yhat[-1,:].flatten()))\n",
        "# # corr = [np.round(c, 2) for c in corr]\n",
        "# #add the coefficient to your graph\n",
        "# text = 'r=%4.2f,\\n p=%4.3e' % (corr[0], corr[1])\n",
        "# plt.scatter(np.array(ytest[-1,:].flatten()), np.array(yhat[-1,:].flatten()))\n",
        "# sns.regplot(np.array(ytest[-1,:].flatten()),np.array(yhat[-1,:].flatten()),\n",
        "#         scatter_kws={\"color\": \"black\"}, line_kws={\"color\": \"red\"})\n",
        "# plt.title(\"Compare prediction and observation\")\n",
        "# plt.text(0,np.array(yhat[-1,:].flatten()).min()+0.1, text, fontsize=13)"
      ],
      "execution_count": 167,
      "outputs": []
    },
    {
      "cell_type": "code",
      "metadata": {
        "id": "KpcRcIhFlMsR",
        "colab": {
          "base_uri": "https://localhost:8080/",
          "height": 478
        },
        "outputId": "dc408781-7835-4518-ad78-016e391bdd2e"
      },
      "source": [
        "#plot scater plot prediction\n",
        "import matplotlib.lines as mlines\n",
        "import matplotlib.transforms as mtransforms\n",
        "from scipy.stats import pearsonr\n",
        "import numpy as np\n",
        "\n",
        "# fig3,ax=plt.subplot()\n",
        "plt.rcParams['figure.figsize'] = 6, 6\n",
        "fig, ax = plt.subplots()\n",
        "sns.set_style(\"whitegrid\")\n",
        "#calculate correlation coefficient\n",
        "corr = pearsonr(np.array(ytest[:,:].flatten()), np.array(yhat[:,:].flatten()))\n",
        "# corr = [np.round(c, 2) for c in corr]\n",
        "#add the coefficient to your graph\n",
        "text = 'r=%4.2f,\\n p=%4.3e' % (corr[0], corr[1])\n",
        "plt.scatter(np.array(ytest[:,:].flatten()), np.array(yhat[:,:].flatten()))\n",
        "sns.regplot(np.array(ytest[:,:].flatten()),np.array(yhat[:,:].flatten()),\n",
        "        scatter_kws={\"color\": \"black\"}, line_kws={\"color\": \"red\"})\n",
        "plt.title(\"Compare prediction and observation\")\n",
        "plt.text(0,np.array(yhat[:,:].flatten()).min()+0.1, text, fontsize=13)\n",
        "\n",
        "line = mlines.Line2D([0, 1], [0, 1],linewidth=2, color='black')\n",
        "transform = ax.transAxes\n",
        "line.set_transform(transform)\n",
        "ax.add_line(line)\n",
        "# plt.show()\n",
        "\n",
        "\n",
        "plt.tight_layout"
      ],
      "execution_count": 168,
      "outputs": [
        {
          "output_type": "execute_result",
          "data": {
            "text/plain": [
              "<matplotlib.collections.PathCollection at 0x7f4c8f0dc410>"
            ]
          },
          "metadata": {
            "tags": []
          },
          "execution_count": 168
        },
        {
          "output_type": "stream",
          "text": [
            "/usr/local/lib/python3.7/dist-packages/seaborn/_decorators.py:43: FutureWarning: Pass the following variables as keyword args: x, y. From version 0.12, the only valid positional argument will be `data`, and passing other arguments without an explicit keyword will result in an error or misinterpretation.\n",
            "  FutureWarning\n"
          ],
          "name": "stderr"
        },
        {
          "output_type": "execute_result",
          "data": {
            "text/plain": [
              "<matplotlib.axes._subplots.AxesSubplot at 0x7f4c8f081050>"
            ]
          },
          "metadata": {
            "tags": []
          },
          "execution_count": 168
        },
        {
          "output_type": "execute_result",
          "data": {
            "text/plain": [
              "Text(0.5, 1.0, 'Compare prediction and observation')"
            ]
          },
          "metadata": {
            "tags": []
          },
          "execution_count": 168
        },
        {
          "output_type": "execute_result",
          "data": {
            "text/plain": [
              "Text(0, -1.8504038095474242, 'r=0.46,\\n p=6.692e-05')"
            ]
          },
          "metadata": {
            "tags": []
          },
          "execution_count": 168
        },
        {
          "output_type": "execute_result",
          "data": {
            "text/plain": [
              "<matplotlib.lines.Line2D at 0x7f4c96a54a10>"
            ]
          },
          "metadata": {
            "tags": []
          },
          "execution_count": 168
        },
        {
          "output_type": "execute_result",
          "data": {
            "text/plain": [
              "<function matplotlib.pyplot.tight_layout>"
            ]
          },
          "metadata": {
            "tags": []
          },
          "execution_count": 168
        },
        {
          "output_type": "display_data",
          "data": {
            "image/png": "[encoded data removed]",
            "text/plain": [
              "<Figure size 432x432 with 1 Axes>"
            ]
          },
          "metadata": {
            "tags": []
          }
        }
      ]
    },
    {
      "cell_type": "markdown",
      "metadata": {
        "id": "qfKQ0CfYqfLM"
      },
      "source": [
        "# Vẽ nhiều chuỗi dự báo ghép lại"
      ]
    },
    {
      "cell_type": "markdown",
      "metadata": {
        "id": "rqrhTOlKstQ0"
      },
      "source": [
        "Bài toán dùng 12 giá trị quá khứ dự báo 3 giá trị tương lai\n",
        "\n",
        "dataset_test.shape\n",
        "(36, 11)\n",
        "36 hàng của 11 cột\n",
        "\n",
        "Xtest.shape\n",
        "(23, 12, 10) # 11 bỏ cột cuối cuối thành y\n",
        "\n",
        "ytest.shape\n",
        "(23, 3)\n",
        "\n",
        "có 23 lần dự báo ra 3 tháng\n",
        "\n",
        "giữa các giá trị dự báo hoặc cách 3 tháng theo ví dụ tensorflow\n",
        "\n",
        "muốn nối các kết quả với nhau thì shift 3 tháng\n",
        "\n",
        "Phải viết hàm ngược lại của split sequence mới quay lại được giá trị ban đầu. Nó phụ thuộc vào  n_steps_in, n_steps_out\n"
      ]
    },
    {
      "cell_type": "code",
      "metadata": {
        "id": "Z_zac79cwqNC"
      },
      "source": [
        "# # ytest_org=ytest.reshape()\n",
        "# iii=n_steps_out-1\n",
        "# n_steps_in\n",
        "# n_steps_out\n",
        "# plt.plot(np.arange(0+n_steps_in-1+iii,ytest.shape[0]+dataset_test.shape[1]+iii),ytest[:,iii])\n",
        "# plt.plot(np.arange(0+n_steps_in-1+iii,yhat.shape[0]+dataset_test.shape[1]+iii),yhat[:,iii])\n",
        "# # plt.plot(np.arange(0+n_steps_in-1+iii,dataset_test.shape[0]),dataset_test[0+n_steps_in-1+iii:,iii],'-.x')"
      ],
      "execution_count": 169,
      "outputs": []
    },
    {
      "cell_type": "code",
      "metadata": {
        "colab": {
          "base_uri": "https://localhost:8080/"
        },
        "id": "XzFsIfSfMfz8",
        "outputId": "bf9f782e-4149-4b2a-afb2-5af0e500336a"
      },
      "source": [
        "from IPython.core.interactiveshell import InteractiveShell\n",
        "InteractiveShell.ast_node_interactivity = \"all\"\n",
        "dataset_test.shape\n",
        "\n",
        "n_steps_in\n",
        "\n",
        "n_steps_out\n",
        "Xtest.shape\n",
        "ytest.shape"
      ],
      "execution_count": 170,
      "outputs": [
        {
          "output_type": "execute_result",
          "data": {
            "text/plain": [
              "(36, 11)"
            ]
          },
          "metadata": {
            "tags": []
          },
          "execution_count": 170
        },
        {
          "output_type": "execute_result",
          "data": {
            "text/plain": [
              "12"
            ]
          },
          "metadata": {
            "tags": []
          },
          "execution_count": 170
        },
        {
          "output_type": "execute_result",
          "data": {
            "text/plain": [
              "3"
            ]
          },
          "metadata": {
            "tags": []
          },
          "execution_count": 170
        },
        {
          "output_type": "execute_result",
          "data": {
            "text/plain": [
              "(23, 12, 10)"
            ]
          },
          "metadata": {
            "tags": []
          },
          "execution_count": 170
        },
        {
          "output_type": "execute_result",
          "data": {
            "text/plain": [
              "(23, 3)"
            ]
          },
          "metadata": {
            "tags": []
          },
          "execution_count": 170
        }
      ]
    },
    {
      "cell_type": "code",
      "metadata": {
        "colab": {
          "base_uri": "https://localhost:8080/",
          "height": 384
        },
        "id": "CiYbVzuT03mI",
        "outputId": "fae0dc17-3bb9-4d62-b25d-47fcb3c1bbcc"
      },
      "source": [
        "# ytest org\n",
        "y_org=list(ytest[:,0])\n",
        "for i in range(1,ytest.shape[1]):\n",
        "  y_org.append(ytest[:,i][-1])\n",
        "\n",
        "# yhat org\n",
        "yhat_org=list(yhat[:,0])\n",
        "for i in range(1,yhat.shape[1]):\n",
        "  yhat_org.append(yhat[:,i][-1])\n",
        "\n",
        "fig4=plt.Figure()\n",
        "plt.rcParams['figure.figsize'] = 8, 5\n",
        "\n",
        "\n",
        "plt.plot(np.arange(0+n_steps_in-1,len(yhat_org)+n_steps_in-1),yhat_org,'-.x',color='red') # prediction\n",
        "# plt.plot(np.arange(0+n_steps_in-1,len(y_org)+n_steps_in-1),y_org,'-.x') # obs scaled\n",
        "plt.plot(np.arange(0+n_steps_in-1,len(dataset_test[:,-1])),dataset_test[n_steps_in-1:,-1],'-.o',color='black') # obs \n",
        "plt.legend(['obs','pred'])\n",
        "plt.title(str(n_steps_out)+' months prediction')\n",
        "plt.xlabel('months')\n",
        "plt.ylabel('NDI')\n",
        "plt.grid(None)\n",
        "\n"
      ],
      "execution_count": 220,
      "outputs": [
        {
          "output_type": "execute_result",
          "data": {
            "text/plain": [
              "[<matplotlib.lines.Line2D at 0x7f4c938ecf50>]"
            ]
          },
          "metadata": {
            "tags": []
          },
          "execution_count": 220
        },
        {
          "output_type": "execute_result",
          "data": {
            "text/plain": [
              "[<matplotlib.lines.Line2D at 0x7f4c8edd7510>]"
            ]
          },
          "metadata": {
            "tags": []
          },
          "execution_count": 220
        },
        {
          "output_type": "execute_result",
          "data": {
            "text/plain": [
              "<matplotlib.legend.Legend at 0x7f4c938ec350>"
            ]
          },
          "metadata": {
            "tags": []
          },
          "execution_count": 220
        },
        {
          "output_type": "execute_result",
          "data": {
            "text/plain": [
              "Text(0.5, 1.0, '3 months prediction')"
            ]
          },
          "metadata": {
            "tags": []
          },
          "execution_count": 220
        },
        {
          "output_type": "execute_result",
          "data": {
            "text/plain": [
              "Text(0.5, 0, 'months')"
            ]
          },
          "metadata": {
            "tags": []
          },
          "execution_count": 220
        },
        {
          "output_type": "execute_result",
          "data": {
            "text/plain": [
              "Text(0, 0.5, 'NDI')"
            ]
          },
          "metadata": {
            "tags": []
          },
          "execution_count": 220
        },
        {
          "output_type": "display_data",
          "data": {
            "image/png": "[encoded data removed]",
            "text/plain": [
              "<Figure size 576x360 with 1 Axes>"
            ]
          },
          "metadata": {
            "tags": []
          }
        }
      ]
    }
  ]
}