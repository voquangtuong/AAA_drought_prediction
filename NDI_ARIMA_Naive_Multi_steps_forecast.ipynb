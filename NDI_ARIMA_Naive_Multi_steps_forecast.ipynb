{
  "nbformat": 4,
  "nbformat_minor": 0,
  "metadata": {
    "colab": {
      "name": "NDI_ARIMA_Naive_Multi_steps_forecast.ipynb",
      "provenance": [],
      "collapsed_sections": [],
      "toc_visible": true,
      "authorship_tag": "ABX9TyO5cvT+TmzGvYWd0+0JZIIv",
      "include_colab_link": true
    },
    "kernelspec": {
      "name": "python3",
      "display_name": "Python 3"
    },
    "language_info": {
      "name": "python"
    }
  },
  "cells": [
    {
      "cell_type": "markdown",
      "metadata": {
        "id": "view-in-github",
        "colab_type": "text"
      },
      "source": [
        "<a href=\"https://colab.research.google.com/github/voquangtuong/AAA_drought_prediction/blob/main/NDI_ARIMA_Naive_Multi_steps_forecast.ipynb\" target=\"_parent\"><img src=\"https://colab.research.google.com/assets/colab-badge.svg\" alt=\"Open In Colab\"/></a>"
      ]
    },
    {
      "cell_type": "code",
      "metadata": {
        "colab": {
          "base_uri": "https://localhost:8080/"
        },
        "id": "kofSD_9dVTn6",
        "outputId": "511ad474-3afe-4882-9b49-9ed54bdb7f32"
      },
      "source": [
        "from google.colab import drive\n",
        "drive.mount('/content/drive')"
      ],
      "execution_count": null,
      "outputs": [
        {
          "output_type": "stream",
          "text": [
            "Drive already mounted at /content/drive; to attempt to forcibly remount, call drive.mount(\"/content/drive\", force_remount=True).\n"
          ],
          "name": "stdout"
        }
      ]
    },
    {
      "cell_type": "code",
      "metadata": {
        "id": "MT1HAL3kV1Vx"
      },
      "source": [
        "import os\n",
        "os.chdir('/content/drive/MyDrive')"
      ],
      "execution_count": null,
      "outputs": []
    },
    {
      "cell_type": "markdown",
      "metadata": {
        "id": "mEyGJQgCJO1T"
      },
      "source": [
        "# 1.MULTI-STEPS FORECASTING\n",
        "This sample follow part 5 of book Deep learning for time series forecasting\n",
        "predict the Future with CNNs LSTM in Python (Jason Brownlee).\n",
        "4 model was introduction:\n",
        "1. naive method\n",
        "2. autoregression\n",
        "3. CNN\n",
        "4. LSTM\n",
        "\n",
        "Given recent power consumption, what is the expected power consumption for the week ahead?\n"
      ]
    },
    {
      "cell_type": "markdown",
      "metadata": {
        "id": "QoIKpP9mWIQn"
      },
      "source": [
        "# 2. BASIC LIBRARIES"
      ]
    },
    {
      "cell_type": "code",
      "metadata": {
        "id": "x3qQwFNVWNWr"
      },
      "source": [
        "import numpy as np\n",
        "import pandas as pd\n",
        "import seaborn as sns\n",
        "import matplotlib.pyplot as plt\n",
        "from keras.utils.vis_utils import plot_model\n",
        "from sklearn.metrics import mean_squared_error\n",
        "from numpy import sqrt\n",
        "# cho mo hinh arima\n",
        "from statsmodels.graphics.tsaplots import plot_acf\n",
        "from statsmodels.graphics.tsaplots import plot_pacf\n",
        "from statsmodels.tsa.arima_model import ARIMA\n",
        "# cho CNN model\n",
        "from keras.models import Sequential\n",
        "from keras.layers import Dense\n",
        "from keras.layers import Flatten\n",
        "from keras.layers.convolutional import Conv1D\n",
        "from keras.layers.convolutional import MaxPooling1D\n",
        "from numpy import array\n",
        "from keras.models import Model\n",
        "from keras.layers import Input\n",
        "from keras.layers.merge import concatenate"
      ],
      "execution_count": null,
      "outputs": []
    },
    {
      "cell_type": "markdown",
      "metadata": {
        "id": "n-9R8TsjNDto"
      },
      "source": [
        "# 2. THE ENSENTIAL FUNCTIONS"
      ]
    },
    {
      "cell_type": "markdown",
      "metadata": {
        "id": "IEZ731rpNN1A"
      },
      "source": [
        "## 2.1. evaluate one or more weekly forecasts against expected values"
      ]
    },
    {
      "cell_type": "code",
      "metadata": {
        "id": "YLCgSG5ONXbV"
      },
      "source": [
        "def evaluate_forecasts(actual,predicted):\n",
        "  scores=list()\n",
        "  for i in range(actual.shape[1]):\n",
        "    mse=mean_squared_error(actual[:,i],predicted[:,i])\n",
        "    rmse=sqrt(mse)\n",
        "    scores.append(rmse)\n",
        "  # calculate overall RMSE\n",
        "  s=0\n",
        "  for row in range(actual.shape[0]):\n",
        "    for col in range(actual.shape[1]):\n",
        "      s+=(actual[row,col]-predicted[row,col])**2\n",
        "  score=sqrt(s/(actual.shape[0]*actual.shape[1]))\n",
        "  return score, scores\n",
        "  # score: sai so trung binh toan bo\n",
        "  # scores: sai so cua tung buoc"
      ],
      "execution_count": null,
      "outputs": []
    },
    {
      "cell_type": "markdown",
      "metadata": {
        "id": "yhDtnF_MP1ej"
      },
      "source": [
        "## 2.2 split a univariate dataset into train/test sets\n",
        " cac thong so can biet de chia du lieu\n",
        "\n",
        " * ti le train/ test\n",
        " * so buoc du bao\n",
        " * Du lieu phai la n* so buoc du bao"
      ]
    },
    {
      "cell_type": "code",
      "metadata": {
        "id": "Zljr8ChaP-g9"
      },
      "source": [
        "def split_dataset(data,train_test_ratio,n_output_steps):\n",
        "  # split into standard weeks\n",
        "  # boi so cua buoc\n",
        "  n_pairs_totall=int(data.shape[0]/n_output_steps)\n",
        "  n_pairs_train=int(train_test_ratio*int(data.shape[0]/n_output_steps))\n",
        "  n_pairs_test=int(n_pairs_totall-n_pairs_train)\n",
        "  train, test = data[:-(n_pairs_train*n_output_steps)], data[-(n_pairs_train*n_output_steps):-n_output_steps]\n",
        "  # restructure into windows of number_steps data\n",
        "  train = np.array(np.split(train, train.shape[0]/n_output_steps))\n",
        "  test = np.array(np.split(test, test.shape[0]/n_output_steps))\n",
        "  return train, test"
      ],
      "execution_count": null,
      "outputs": []
    },
    {
      "cell_type": "markdown",
      "metadata": {
        "id": "DhHYSYB0Txb_"
      },
      "source": [
        "### 2.2.1 test split functions"
      ]
    },
    {
      "cell_type": "code",
      "metadata": {
        "colab": {
          "base_uri": "https://localhost:8080/"
        },
        "id": "iq5dYBTRUCcg",
        "outputId": "b3ce1149-218b-4ed7-f573-b1b9c093dd3b"
      },
      "source": [
        "# load the new file\n",
        "dataset = pd.read_csv('input_data/percentile_101.csv', header=0,\n",
        "  infer_datetime_format=True, parse_dates=['Date'], index_col=['Date'])\n",
        "# dataset.values.shape\n",
        "train, test = split_dataset(dataset.values,train_test_ratio=0.7,n_output_steps=6) # test/train\n",
        "# validate train data\n",
        "print(train.shape)\n",
        "print(train[0, 0, 0], train[-1, -1, 0])\n",
        "# validate test\n",
        "print(test.shape)\n",
        "print(test[0, 0, 0], test[-1, -1, 0])"
      ],
      "execution_count": null,
      "outputs": [
        {
          "output_type": "stream",
          "text": [
            "(22, 6, 269)\n",
            "-0.09606473800000001 0.772332191\n",
            "(49, 6, 269)\n",
            "0.59221884 0.355031899\n"
          ],
          "name": "stdout"
        }
      ]
    },
    {
      "cell_type": "markdown",
      "metadata": {
        "id": "YhaHYuZIkrjD"
      },
      "source": [
        "### 2.2.2Walk-forward validation\n",
        "Input,                   Predict\n",
        "\n",
        "[Week1]                  Week2\n",
        "\n",
        "[Week1 + Week2]          Week3\n",
        "\n",
        "[Week1 + Week2 + Week3]  Week4"
      ]
    },
    {
      "cell_type": "code",
      "metadata": {
        "id": "rSElQzLfoVvI"
      },
      "source": [
        "# summarize scores\n",
        "def summarize_scores(name, score, scores):\n",
        "  s_scores=','.join(['%.1f' % s for s in scores])\n",
        "  print('%s: [%.3f] %s' %(name, score,s_scores))"
      ],
      "execution_count": null,
      "outputs": []
    },
    {
      "cell_type": "markdown",
      "metadata": {
        "id": "6Px6bPtZLetZ"
      },
      "source": [
        "## 1.1. Naive methods\n",
        "* Tomorrow will be the same as today\n",
        "* Tomorrow will be the same as this day last year\n",
        "* Tomorrow will an average of last few days\n",
        "\n",
        "Classical Linear Methods: SARIMA, ETS (triple exponential smoothing)\n"
      ]
    },
    {
      "cell_type": "code",
      "metadata": {
        "id": "Ylgm_GpAlv6j"
      },
      "source": [
        "# Evaluate a single model\n",
        "def evaluate_model(model_func,train,test):\n",
        "  # history is a list of weekly (6months) data\n",
        "  history=[x for x in train]\n",
        "  # walk-forward validation over each week\n",
        "  predictions=list()\n",
        "  for i in range(test.shape[0]):\n",
        "    # predict the week\n",
        "    yhat_sequence=model_func(history)\n",
        "    # store the predictions\n",
        "    predictions.append(yhat_sequence)\n",
        "    # get real observation and add to history for predicting the next week\n",
        "    history.append(test[i,:])\n",
        "  predictions=np.array(predictions)\n",
        "  # evaluate predictions day (month) for a weeks (6 months)\n",
        "  score, scores= evaluate_forecasts(test[:,:,0],predictions)\n",
        "  return score, scores"
      ],
      "execution_count": null,
      "outputs": []
    },
    {
      "cell_type": "markdown",
      "metadata": {
        "id": "kp-GtlFzpfhQ"
      },
      "source": [
        "### 1.1.1 Daily Persistence Forecast"
      ]
    },
    {
      "cell_type": "code",
      "metadata": {
        "id": "Me2W_lSBpqOl"
      },
      "source": [
        "# daily persistence model\n",
        "def daily_persistence(history):\n",
        "  # get the data for the prior week\n",
        "  last_week = history[-1]\n",
        "  # get the total active power for the last day\n",
        "  value = last_week[-1, 0]\n",
        "  # prepare 7 day forecast\n",
        "  forecast = [value for _ in range(7)] # trong baitoan minh sua 7 ngay thanh 6 thang\n",
        "  return forecast"
      ],
      "execution_count": null,
      "outputs": []
    },
    {
      "cell_type": "markdown",
      "metadata": {
        "id": "5jRqSYZPp_ST"
      },
      "source": [
        "### 1.1.2 Weekly Persistent Forecast (6 months persistent)"
      ]
    },
    {
      "cell_type": "code",
      "metadata": {
        "id": "jKVlvZu7qL_k"
      },
      "source": [
        "# weekly persistence model\n",
        "def weekly_persistence(history):\n",
        "  # get the data for the prior week\n",
        "  last_week = history[-1]\n",
        "  return last_week[:, 0]"
      ],
      "execution_count": null,
      "outputs": []
    },
    {
      "cell_type": "markdown",
      "metadata": {
        "id": "Mp2PghY4qpYw"
      },
      "source": [
        "### 1.1.3 Weekly One-Year-Ago Persistent Forecast"
      ]
    },
    {
      "cell_type": "code",
      "metadata": {
        "id": "Mblv9qCaqsal"
      },
      "source": [
        "# week one year ago persistence model\n",
        "def week_one_year_ago_persistence(history):\n",
        "  # get the data for the prior week\n",
        "  last_week = history[-12] # mot nam co 52 tuan, truong hop minh nam co 12 thang\n",
        "  return last_week[:, 0]"
      ],
      "execution_count": null,
      "outputs": []
    },
    {
      "cell_type": "markdown",
      "metadata": {
        "id": "X18IeahnrTGi"
      },
      "source": [
        "### 1.1.4 Naive Model Comparison"
      ]
    },
    {
      "cell_type": "code",
      "metadata": {
        "id": "Kf23jpHcraPr"
      },
      "source": [
        "# load the new file\n",
        "dataset = pd.read_csv('input_data/percentile_101.csv', header=0,\n",
        "  infer_datetime_format=True, parse_dates=['Date'], index_col=['Date'])\n",
        "# split into train and test\n",
        "train, test = split_dataset(dataset.values,train_test_ratio=0.23,n_output_steps=6) # Thay doi 7 ngay thanh 6 thang"
      ],
      "execution_count": null,
      "outputs": []
    },
    {
      "cell_type": "code",
      "metadata": {
        "id": "TRvlUh4_r7wF"
      },
      "source": [
        "# define the names and functions for the models we wish to evaluate\n",
        "models = dict()\n",
        "models['daily'] = daily_persistence\n",
        "models['weekly'] = weekly_persistence\n",
        "models['week-oya'] = week_one_year_ago_persistence"
      ],
      "execution_count": null,
      "outputs": []
    },
    {
      "cell_type": "code",
      "metadata": {
        "colab": {
          "base_uri": "https://localhost:8080/",
          "height": 315
        },
        "id": "9pSw6nBAsC1I",
        "outputId": "fab2f8e8-5c86-42f7-f9b9-d2d363922553"
      },
      "source": [
        "# evaluate each model\n",
        "# days = ['sun', 'mon', 'tue', 'wed', 'thr', 'fri', 'sat']\n",
        "days = ['mon1', 'mon2', 'mon3', 'mon4', 'mon5', 'mon6']\n",
        "for name, func in models.items():\n",
        "# evaluate and get scores\n",
        "  score, scores = evaluate_model(func, train, test)\n",
        "  # summarize scores\n",
        "  summarize_scores(name, score, scores)\n",
        "  # plot scores\n",
        "  plt.plot(days, scores, marker='o', label=name)\n",
        "  plt.legend(['1month','6months','12months'])\n",
        "  plt.ylabel('RMSE')"
      ],
      "execution_count": null,
      "outputs": [
        {
          "output_type": "stream",
          "text": [
            "daily: [0.724] 0.8,0.7,0.7,0.5,1.0,0.6\n",
            "weekly: [0.834] 1.0,0.9,1.0,0.5,0.9,0.6\n",
            "week-oya: [0.933] 1.1,0.6,1.1,0.8,1.0,0.9\n"
          ],
          "name": "stdout"
        },
        {
          "output_type": "display_data",
          "data": {
            "image/png": "[encoded data removed]",
            "text/plain": [
              "<Figure size 432x288 with 1 Axes>"
            ]
          },
          "metadata": {
            "tags": [],
            "needs_background": "light"
          }
        }
      ]
    },
    {
      "cell_type": "markdown",
      "metadata": {
        "id": "VmlpKxNrOi40"
      },
      "source": [
        "## 1.2 ARIMA MODEL"
      ]
    },
    {
      "cell_type": "markdown",
      "metadata": {
        "id": "EAJqfM5uOyjc"
      },
      "source": [
        "### 1.2.1 To_series function"
      ]
    },
    {
      "cell_type": "code",
      "metadata": {
        "id": "wLE3xLtaO9KU"
      },
      "source": [
        "# convert windows of weekly multivariate data into a series of total power\n",
        "def to_series(data):\n",
        "  # extract just the total power from each week\n",
        "  series = [week[:, 0] for week in data] # week replace by 6 months\n",
        "  # flatten into a single series\n",
        "  series = np.array(series).flatten()\n",
        "  return series"
      ],
      "execution_count": null,
      "outputs": []
    },
    {
      "cell_type": "code",
      "metadata": {
        "id": "BvPACC9bPBYq"
      },
      "source": [
        "# load the new file\n",
        "dataset = pd.read_csv('input_data/percentile_101.csv', header=0,\n",
        "  infer_datetime_format=True, parse_dates=['Date'], index_col=['Date'])"
      ],
      "execution_count": null,
      "outputs": []
    },
    {
      "cell_type": "code",
      "metadata": {
        "id": "RbjiAwWYPizT"
      },
      "source": [
        "# split into train and test\n",
        "train, test = split_dataset(dataset.values,train_test_ratio=0.23,n_output_steps=6) # change from 7 days to 6 months"
      ],
      "execution_count": null,
      "outputs": []
    },
    {
      "cell_type": "code",
      "metadata": {
        "id": "W4iGZIWDP4l1"
      },
      "source": [
        "series=to_series(train)"
      ],
      "execution_count": null,
      "outputs": []
    },
    {
      "cell_type": "code",
      "metadata": {
        "colab": {
          "base_uri": "https://localhost:8080/",
          "height": 281
        },
        "id": "KhNmf3r0Pp-Q",
        "outputId": "635ddd4e-7dfb-44cd-f582-0a2ad0cd89ba"
      },
      "source": [
        "### Autocorellation plot\n",
        "# plots\n",
        "plt.figure()\n",
        "# lags = 365 # 1 nam 365 ngay, trong bai minh la 12 thang\n",
        "lags = 12 # 1 nam 365 ngay, trong bai minh la 12 thang\n",
        "# acf\n",
        "axis = plt.subplot(2, 1, 1)\n",
        "plot_acf(series, ax=axis, lags=lags)\n",
        "# pacf\n",
        "axis = plt.subplot(2, 1, 2)\n",
        "plot_pacf(series, ax=axis, lags=lags)\n",
        "# show plot\n",
        "plt.show()"
      ],
      "execution_count": null,
      "outputs": [
        {
          "output_type": "display_data",
          "data": {
            "image/png": "[encoded data removed]",
            "text/plain": [
              "<Figure size 432x288 with 2 Axes>"
            ]
          },
          "metadata": {
            "tags": [],
            "needs_background": "light"
          }
        }
      ]
    },
    {
      "cell_type": "markdown",
      "metadata": {
        "id": "hP20yF6oQL4z"
      },
      "source": [
        "### 1.2.2 ARIMA FORECASTING FUNCTION"
      ]
    },
    {
      "cell_type": "code",
      "metadata": {
        "id": "daJeNnknQR1Z"
      },
      "source": [
        "# arima forecast\n",
        "def arima_forecast(history):\n",
        "  # convert history into a univariate series\n",
        "  series = to_series(history)\n",
        "  # define the model\n",
        "  model = ARIMA(series, order=(6,0,0))\n",
        "  # fit the model\n",
        "  model_fit = model.fit(disp=False)\n",
        "  # make forecast\n",
        "  yhat = model_fit.predict(series.shape[0],series.shape[0]+5)\n",
        "  return yhat"
      ],
      "execution_count": null,
      "outputs": []
    },
    {
      "cell_type": "markdown",
      "metadata": {
        "id": "udKvfeseQ_oR"
      },
      "source": [
        "### 1.2.3 RESULT FORM ARIMA"
      ]
    },
    {
      "cell_type": "code",
      "metadata": {
        "colab": {
          "base_uri": "https://localhost:8080/",
          "height": 282
        },
        "id": "KnrI3B2tREg2",
        "outputId": "d762e3a9-f99c-4ae4-d2ab-453342ce895c"
      },
      "source": [
        "# load the new file\n",
        "dataset = pd.read_csv('input_data/percentile_101.csv', header=0,\n",
        "infer_datetime_format=True, parse_dates=['Date'], index_col=['Date'])\n",
        "# split into train and test\n",
        "train, test = split_dataset(dataset.values,train_test_ratio=0.23,n_output_steps=6) # thay 7 ngay thanh 6 thang\n",
        "# define the names and functions for the models we wish to evaluate\n",
        "models = dict()\n",
        "models['arima'] = arima_forecast\n",
        "# evaluate each model\n",
        "days = ['mon1', 'mon2', 'mon3', 'mon4', 'mon5', 'mon6']\n",
        "for name, func in models.items():\n",
        "  # evaluate and get scores\n",
        "    score, scores = evaluate_model(func, train, test)\n",
        "    # summarize scores\n",
        "    summarize_scores(name, score, scores)\n",
        "    # plot scores\n",
        "    plt.plot(days, scores, marker='o', label=name)\n",
        "# show plot\n",
        "plt.legend()\n",
        "plt.ylabel('RMSE')\n",
        "plt.show()\n"
      ],
      "execution_count": null,
      "outputs": [
        {
          "output_type": "stream",
          "text": [
            "arima: [0.626] 0.7,0.6,0.7,0.6,0.6,0.6\n"
          ],
          "name": "stdout"
        },
        {
          "output_type": "display_data",
          "data": {
            "image/png": "[encoded data removed]",
            "text/plain": [
              "<Figure size 432x288 with 1 Axes>"
            ]
          },
          "metadata": {
            "tags": [],
            "needs_background": "light"
          }
        }
      ]
    },
    {
      "cell_type": "markdown",
      "metadata": {
        "id": "bOqBcZs1TUbc"
      },
      "source": [
        "## 1.3 CNN\n",
        "* How to develop a CNN for multi-step time series forecasting model for univariate data.\n",
        "* How to develop a multi-channel multi-step time series forecasting model for multivariate\n",
        "data.\n",
        "* How to develop a multi-headed multi-step time series forecasting model for multivariate\n",
        "data."
      ]
    },
    {
      "cell_type": "markdown",
      "metadata": {
        "id": "8smReZ-0UYTs"
      },
      "source": [
        "### 1.3.1 evaluate a single model"
      ]
    },
    {
      "cell_type": "code",
      "metadata": {
        "id": "87b6G0luUe6h"
      },
      "source": [
        "# evaluate a single model\n",
        "def evaluate_model(train, test, n_input):\n",
        "# fit model\n",
        "  model = build_model(train, n_input)\n",
        "  # history is a list of weekly data\n",
        "  history = [x for x in train]\n",
        "  # walk-forward validation over each week\n",
        "  predictions = list()\n",
        "  for i in range(len(test)):\n",
        "    # predict the week\n",
        "    yhat_sequence = forecast(model, history, n_input)\n",
        "    # store the predictions\n",
        "    predictions.append(yhat_sequence)\n",
        "    # get real observation and add to history for predicting the next week\n",
        "    history.append(test[i, :])\n",
        "  # evaluate predictions days for each week\n",
        "  predictions = np.array(predictions)\n",
        "  score, scores = evaluate_forecasts(test[:, :, 0], predictions)\n",
        "  return score, scores"
      ],
      "execution_count": null,
      "outputs": []
    },
    {
      "cell_type": "markdown",
      "metadata": {
        "id": "WIOzARhKVrLg"
      },
      "source": [
        "# UNIVARIATE CNN MODEL"
      ]
    },
    {
      "cell_type": "code",
      "metadata": {
        "id": "gVlWr30pV8_a"
      },
      "source": [
        "# # flatten data\n",
        "# data = data.reshape((data.shape[0]*data.shape[1], data.shape[2]))"
      ],
      "execution_count": null,
      "outputs": []
    },
    {
      "cell_type": "markdown",
      "metadata": {
        "id": "ON6ZOR28WQX3"
      },
      "source": [
        "## Covert history into inputs and outputs"
      ]
    },
    {
      "cell_type": "code",
      "metadata": {
        "id": "2PNjPhazWXK1"
      },
      "source": [
        "# convert history into inputs and outputs\n",
        "def to_supervised(train, n_input, n_out=6):# change to 6 in outcase\n",
        "  # flatten data\n",
        "  data = train.reshape((train.shape[0]*train.shape[1], train.shape[2]))\n",
        "  X, y = list(), list()\n",
        "  in_start = 0\n",
        "  # step over the entire history one time step at a time\n",
        "  for _ in range(len(data)):\n",
        "    # define the end of the input sequence\n",
        "    in_end = in_start + n_input\n",
        "    out_end = in_end + n_out\n",
        "    # ensure we have enough data for this instance\n",
        "    if out_end < len(data):\n",
        "      x_input = data[in_start:in_end, 0]\n",
        "      x_input = x_input.reshape((len(x_input), 1))\n",
        "      X.append(x_input)\n",
        "      y.append(data[in_end:out_end, 0])\n",
        "    # move along one time step\n",
        "  in_start += 1\n",
        "  return np.array(X), np.array(y)"
      ],
      "execution_count": null,
      "outputs": []
    },
    {
      "cell_type": "markdown",
      "metadata": {
        "id": "QHhfoV7bXDJr"
      },
      "source": [
        "### Train model"
      ]
    },
    {
      "cell_type": "code",
      "metadata": {
        "id": "T2be4ooYXGs_"
      },
      "source": [
        "# train the model\n",
        "def build_model(train, n_input):\n",
        "  # prepare data\n",
        "  train_x, train_y = to_supervised(train, n_input)\n",
        "  # define parameters\n",
        "  verbose, epochs, batch_size = 0, 20, 4\n",
        "  n_timesteps, n_features, n_outputs = train_x.shape[1], train_x.shape[2], train_y.shape[1]\n",
        "  # define model\n",
        "  model = Sequential()\n",
        "  model.add(Conv1D(filters=16, kernel_size=3, activation='relu',\n",
        "    input_shape=(n_timesteps,n_features)))\n",
        "  model.add(MaxPooling1D(pool_size=2))\n",
        "  model.add(Flatten())\n",
        "  model.add(Dense(10, activation='relu'))\n",
        "  model.add(Dense(n_outputs))\n",
        "  model.compile(loss='mse', optimizer='adam')\n",
        "  # fit network\n",
        "  model.fit(train_x, train_y, epochs=epochs, batch_size=batch_size, verbose=verbose)\n",
        "  return model"
      ],
      "execution_count": null,
      "outputs": []
    },
    {
      "cell_type": "code",
      "metadata": {
        "id": "RN2mZkSTXhC9"
      },
      "source": [
        "# # flatten data\n",
        "# data = data.reshape((data.shape[0]*data.shape[1], data.shape[2]))"
      ],
      "execution_count": null,
      "outputs": []
    },
    {
      "cell_type": "code",
      "metadata": {
        "id": "LHt7IgjzXlvz"
      },
      "source": [
        "# # retrieve last observations for input data\n",
        "# input_x = data[-n_input:, 0]"
      ],
      "execution_count": null,
      "outputs": []
    },
    {
      "cell_type": "code",
      "metadata": {
        "id": "nhoViEahXst0"
      },
      "source": [
        "# # reshape into [1, n_input, 1]\n",
        "# input_x = input_x.reshape((1, len(input_x), 1))"
      ],
      "execution_count": null,
      "outputs": []
    },
    {
      "cell_type": "code",
      "metadata": {
        "id": "Nrmf-30SX15M"
      },
      "source": [
        "# # forecast the next week\n",
        "# yhat = model.predict(input_x, verbose=0)\n",
        "# # we only want the vector forecast\n",
        "# yhat = yhat[0]"
      ],
      "execution_count": null,
      "outputs": []
    },
    {
      "cell_type": "code",
      "metadata": {
        "id": "JsXg7CIxYBvP"
      },
      "source": [
        "# make a forecast\n",
        "def forecast(model, history, n_input):\n",
        "  # flatten data\n",
        "  data = np.array(history)\n",
        "  data = data.reshape((data.shape[0]*data.shape[1], data.shape[2]))\n",
        "  # retrieve last observations for input data\n",
        "  input_x = data[-n_input:, 0]\n",
        "  # reshape into [1, n_input, 1]\n",
        "  input_x = input_x.reshape((1, len(input_x), 1))\n",
        "  # forecast the next week\n",
        "  yhat = model.predict(input_x, verbose=0)\n",
        "  # we only want the vector forecast\n",
        "  yhat = yhat[0]\n",
        "  return yhat"
      ],
      "execution_count": null,
      "outputs": []
    },
    {
      "cell_type": "markdown",
      "metadata": {
        "id": "EX4XJTX_ZXkc"
      },
      "source": [
        "### CNN test"
      ]
    },
    {
      "cell_type": "code",
      "metadata": {
        "id": "amvOWQEcZv3h"
      },
      "source": [
        "# load the new file\n",
        "dataset = pd.read_csv('input_data/percentile_101.csv', header=0,\n",
        "infer_datetime_format=True, parse_dates=['Date'], index_col=['Date'])\n",
        "# split into train and test\n",
        "train, test = split_dataset(dataset.values,train_test_ratio=0.23,n_output_steps=6) # thay 7 ngay thanh 6 thang"
      ],
      "execution_count": null,
      "outputs": []
    },
    {
      "cell_type": "code",
      "metadata": {
        "colab": {
          "base_uri": "https://localhost:8080/",
          "height": 282
        },
        "id": "v3hA74XWaDcx",
        "outputId": "0fcd8e7d-2a4f-4e4b-f608-a314fa800605"
      },
      "source": [
        "n_input = 12 # 24 thang tot nhat cho cnn\n",
        "score, scores = evaluate_model(train, test, n_input)\n",
        "# summarize scores\n",
        "summarize_scores('cnn', score, scores)\n",
        "# plot scores\n",
        "days = ['mon1', 'mon2', 'mon3', 'mon4', 'mon5', 'mon6']\n",
        "plt.plot(days, scores, marker='o', label='cnn')\n",
        "plt.legend()\n",
        "plt.ylabel('RMSE')\n",
        "plt.show()"
      ],
      "execution_count": null,
      "outputs": [
        {
          "output_type": "stream",
          "text": [
            "cnn: [0.697] 0.8,0.7,0.6,0.5,0.9,0.7\n"
          ],
          "name": "stdout"
        },
        {
          "output_type": "display_data",
          "data": {
            "image/png": "[encoded data removed]",
            "text/plain": [
              "<Figure size 432x288 with 1 Axes>"
            ]
          },
          "metadata": {
            "tags": [],
            "needs_background": "light"
          }
        }
      ]
    },
    {
      "cell_type": "markdown",
      "metadata": {
        "id": "mapjgVB1dBKq"
      },
      "source": [
        "## MULTI-CHANNEL CNN MODEL"
      ]
    },
    {
      "cell_type": "code",
      "metadata": {
        "id": "jGgKAtW-diYD"
      },
      "source": [
        "# # use all variables in input samples\n",
        "# X.append(data[in_start:in_end, :])"
      ],
      "execution_count": null,
      "outputs": []
    },
    {
      "cell_type": "markdown",
      "metadata": {
        "id": "arkSv92cdn1H"
      },
      "source": [
        "### Covert history into inputs and outputs_multi_channel"
      ]
    },
    {
      "cell_type": "code",
      "metadata": {
        "id": "AFEOn7P-d0Mv"
      },
      "source": [
        "# convert history into inputs and outputs\n",
        "def to_supervised(train, n_input, n_out=6):\n",
        "  # flatten data\n",
        "  data = train.reshape((train.shape[0]*train.shape[1], train.shape[2]))\n",
        "  X, y = list(), list()\n",
        "  in_start = 0\n",
        "  # step over the entire history one time step at a time\n",
        "  for _ in range(len(data)):\n",
        "    # define the end of the input sequence\n",
        "    in_end = in_start + n_input\n",
        "    out_end = in_end + n_out\n",
        "    # ensure we have enough data for this instance\n",
        "    if out_end < len(data):\n",
        "      X.append(data[in_start:in_end, :])\n",
        "      y.append(data[in_end:out_end, 0])\n",
        "  # move along one time step\n",
        "  in_start += 1\n",
        "  return np.array(X), np.array(y)"
      ],
      "execution_count": null,
      "outputs": []
    },
    {
      "cell_type": "code",
      "metadata": {
        "id": "bEtWTPISelZk"
      },
      "source": [
        "## CHANGE COMPARE WITH UNIVARIATE INPUT\n",
        "# # retrieve last observations for input data\n",
        "# input_x = data[-n_input:, :]\n",
        "# # reshape into [1, n_input, n]\n",
        "# input_x = input_x.reshape((1, input_x.shape[0], input_x.shape[1]))"
      ],
      "execution_count": null,
      "outputs": []
    },
    {
      "cell_type": "markdown",
      "metadata": {
        "id": "yo3csTfIe-0t"
      },
      "source": [
        "## FORECATING FUNCTIONS"
      ]
    },
    {
      "cell_type": "code",
      "metadata": {
        "id": "7e1VvxybfDuw"
      },
      "source": [
        "# make a forecast\n",
        "def forecast(model, history, n_input):\n",
        "  # flatten data\n",
        "  data = array(history)\n",
        "  data = data.reshape((data.shape[0]*data.shape[1], data.shape[2]))\n",
        "  # retrieve last observations for input data\n",
        "  input_x = data[-n_input:, :]\n",
        "  # reshape into [1, n_input, n]\n",
        "  input_x = input_x.reshape((1, input_x.shape[0], input_x.shape[1]))\n",
        "  # forecast the next week\n",
        "  yhat = model.predict(input_x, verbose=0)\n",
        "  # we only want the vector forecast\n",
        "  yhat = yhat[0]\n",
        "  return yhat\n"
      ],
      "execution_count": null,
      "outputs": []
    },
    {
      "cell_type": "markdown",
      "metadata": {
        "id": "i1y0deygfj3M"
      },
      "source": [
        "###  Training n input function"
      ]
    },
    {
      "cell_type": "code",
      "metadata": {
        "id": "jCKlg0VMfpe-"
      },
      "source": [
        "# train the model\n",
        "def build_model(train, n_input):\n",
        "  # prepare data\n",
        "  train_x, train_y = to_supervised(train, n_input)\n",
        "  # define parameters\n",
        "  verbose, epochs, batch_size = 0, 70, 16\n",
        "  n_timesteps, n_features, n_outputs = train_x.shape[1], train_x.shape[2], train_y.shape[1]\n",
        "  # define model\n",
        "  model = Sequential()\n",
        "  model.add(Conv1D(filters=32, kernel_size=3, activation='relu',\n",
        "    input_shape=(n_timesteps,n_features)))\n",
        "  model.add(Conv1D(filters=32, kernel_size=3, activation='relu'))\n",
        "  model.add(MaxPooling1D(pool_size=2))\n",
        "  model.add(Conv1D(filters=16, kernel_size=3, activation='relu'))\n",
        "  model.add(MaxPooling1D(pool_size=2))\n",
        "  model.add(Flatten())\n",
        "  model.add(Dense(100, activation='relu'))\n",
        "  model.add(Dense(n_outputs))\n",
        "  model.compile(loss='mse', optimizer='adam')\n",
        "  # fit network\n",
        "  model.fit(train_x, train_y, epochs=epochs, batch_size=batch_size, verbose=verbose)\n",
        "  return model"
      ],
      "execution_count": null,
      "outputs": []
    },
    {
      "cell_type": "code",
      "metadata": {
        "id": "UFjKW0pMgExE"
      },
      "source": [
        "# load the new file\n",
        "dataset = pd.read_csv('input_data/percentile_101.csv', header=0,\n",
        "infer_datetime_format=True, parse_dates=['Date'], index_col=['Date'])\n",
        "# split into train and test\n",
        "train, test = split_dataset(dataset.values,train_test_ratio=0.23,n_output_steps=6) # thay 7 ngay thanh 6 thang"
      ],
      "execution_count": null,
      "outputs": []
    },
    {
      "cell_type": "code",
      "metadata": {
        "colab": {
          "base_uri": "https://localhost:8080/",
          "height": 282
        },
        "id": "rdR1m7QmfWma",
        "outputId": "adf85a2f-ad7b-4320-80a5-8f69e389d678"
      },
      "source": [
        "n_input = 12 # 24 thang tot nhat cho cnn\n",
        "score, scores = evaluate_model(train, test, n_input)\n",
        "# summarize scores\n",
        "summarize_scores('cnn', score, scores)\n",
        "# plot scores\n",
        "days = ['mon1', 'mon2', 'mon3', 'mon4', 'mon5', 'mon6']\n",
        "plt.plot(days, scores, marker='o', label='cnn')\n",
        "plt.legend()\n",
        "plt.ylabel('RMSE')\n",
        "plt.show()"
      ],
      "execution_count": null,
      "outputs": [
        {
          "output_type": "stream",
          "text": [
            "cnn: [0.614] 0.7,0.6,0.7,0.5,0.7,0.4\n"
          ],
          "name": "stdout"
        },
        {
          "output_type": "display_data",
          "data": {
            "image/png": "[encoded data removed]",
            "text/plain": [
              "<Figure size 432x288 with 1 Axes>"
            ]
          },
          "metadata": {
            "tags": [],
            "needs_background": "light"
          }
        }
      ]
    },
    {
      "cell_type": "markdown",
      "metadata": {
        "id": "uP8UTj-2hSIH"
      },
      "source": [
        "## Multi-headed CNN Model"
      ]
    },
    {
      "cell_type": "code",
      "metadata": {
        "id": "cr1YBrYhhhyx"
      },
      "source": [
        "# # create a channel for each variable\n",
        "# in_layers, out_layers = list(), list()\n",
        "# for i in range(n_features):\n",
        "#   inputs = Input(shape=(n_timesteps,1))\n",
        "#   conv1 = Conv1D(filters=32, kernel_size=3, activation='relu')(inputs)\n",
        "#   conv2 = Conv1D(filters=32, kernel_size=3, activation='relu')(conv1)\n",
        "#   pool1 = MaxPooling1D(pool_size=2)(conv2)\n",
        "#   flat = Flatten()(pool1)\n",
        "# # store layers\n",
        "# in_layers.append(inputs)\n",
        "# out_layers.append(flat)\n",
        "# # merge heads\n",
        "# merged = concatenate(out_layers)\n",
        "# # interpretation\n",
        "# dense1 = Dense(200, activation='relu')(merged)\n",
        "# dense2 = Dense(100, activation='relu')(dense1)\n",
        "# outputs = Dense(n_outputs)(dense2)\n",
        "# model = Model(inputs=in_layers, outputs=outputs)\n",
        "# # compile model\n",
        "# model.compile(loss='mse', optimizer='adam')"
      ],
      "execution_count": null,
      "outputs": []
    },
    {
      "cell_type": "code",
      "metadata": {
        "id": "P2MzkGO8h--t"
      },
      "source": [
        "# # define list of input data\n",
        "# input_data = [train_x[:,:,i].reshape((train_x.shape[0],n_timesteps,1)) for i in range(n_features)]"
      ],
      "execution_count": null,
      "outputs": []
    },
    {
      "cell_type": "markdown",
      "metadata": {
        "id": "-HyQEQnyiK0s"
      },
      "source": [
        "## Train the model for CNN multi-head"
      ]
    },
    {
      "cell_type": "code",
      "metadata": {
        "id": "lF_6xcY_iSiv"
      },
      "source": [
        "# train the model\n",
        "def build_model(train, n_input):\n",
        "  # prepare data\n",
        "  train_x, train_y = to_supervised(train, n_input)\n",
        "  # define parameters\n",
        "  verbose, epochs, batch_size = 0, 25, 16\n",
        "  n_timesteps, n_features, n_outputs = train_x.shape[1], train_x.shape[2], train_y.shape[1]\n",
        "  # create a channel for each variable\n",
        "  in_layers, out_layers = list(), list()\n",
        "  for i in range(n_features):\n",
        "    inputs = Input(shape=(n_timesteps,1))\n",
        "    conv1 = Conv1D(filters=32, kernel_size=3, activation='relu')(inputs)\n",
        "    conv2 = Conv1D(filters=32, kernel_size=3, activation='relu')(conv1)\n",
        "    pool1 = MaxPooling1D(pool_size=2)(conv2)\n",
        "    flat = Flatten()(pool1)\n",
        "    # store layers\n",
        "    in_layers.append(inputs)\n",
        "    out_layers.append(flat)\n",
        "  # merge heads\n",
        "  merged = concatenate(out_layers)\n",
        "  # interpretation\n",
        "  dense1 = Dense(200, activation='relu')(merged)\n",
        "  dense2 = Dense(100, activation='relu')(dense1)\n",
        "  outputs = Dense(n_outputs)(dense2)\n",
        "  model = Model(inputs=in_layers, outputs=outputs)\n",
        "  # compile model\n",
        "  model.compile(loss='mse', optimizer='adam')\n",
        "  # plot the model\n",
        "  plot_model(model, show_shapes=True, to_file='multiheaded_cnn.png')\n",
        "  # fit network\n",
        "  input_data = [train_x[:,:,i].reshape((train_x.shape[0],n_timesteps,1)) for i in\n",
        "    range(n_features)]\n",
        "  model.fit(input_data, train_y, epochs=epochs, batch_size=batch_size, verbose=verbose)\n",
        "  return model\n"
      ],
      "execution_count": null,
      "outputs": []
    },
    {
      "cell_type": "code",
      "metadata": {
        "id": "1440_jm7i5JQ"
      },
      "source": [
        "# # input for making a prediction\n",
        "# input_x = [input_x[:,i].reshape((1,input_x.shape[0],1)) for i in range(input_x.shape[1])]"
      ],
      "execution_count": null,
      "outputs": []
    },
    {
      "cell_type": "code",
      "metadata": {
        "id": "OVWJnpXui_Ck"
      },
      "source": [
        "# make a forecast\n",
        "def forecast(model, history, n_input):\n",
        "  # flatten data\n",
        "  data = array(history)\n",
        "  data = data.reshape((data.shape[0]*data.shape[1], data.shape[2]))\n",
        "  # retrieve last observations for input data\n",
        "  input_x = data[-n_input:, :]\n",
        "  # reshape into n input arrays\n",
        "  input_x = [input_x[:,i].reshape((1,input_x.shape[0],1)) for i in range(input_x.shape[1])]\n",
        "  # forecast the next week\n",
        "  yhat = model.predict(input_x, verbose=0)\n",
        "  # we only want the vector forecast\n",
        "  yhat = yhat[0]\n",
        "  return yhat"
      ],
      "execution_count": null,
      "outputs": []
    },
    {
      "cell_type": "code",
      "metadata": {
        "id": "5zMF78BtjVyY"
      },
      "source": [
        "# load the new file\n",
        "dataset = pd.read_csv('input_data/percentile_101.csv', header=0,\n",
        "infer_datetime_format=True, parse_dates=['Date'], index_col=['Date'])\n",
        "# split into train and test\n",
        "train, test = split_dataset(dataset.values,train_test_ratio=0.23,n_output_steps=6) # thay 7 ngay thanh 6 thang"
      ],
      "execution_count": null,
      "outputs": []
    },
    {
      "cell_type": "code",
      "metadata": {
        "colab": {
          "base_uri": "https://localhost:8080/",
          "height": 315
        },
        "id": "J-TGO_58jjWM",
        "outputId": "b1c155a6-36c6-4eca-e13a-c9011a6d26b3"
      },
      "source": [
        "n_input = 12 # 24 thang tot nhat cho cnn\n",
        "score, scores = evaluate_model(train, test, n_input)\n",
        "# summarize scores\n",
        "summarize_scores('cnn', score, scores)\n",
        "# plot scores\n",
        "days = ['mon1', 'mon2', 'mon3', 'mon4', 'mon5', 'mon6']\n",
        "plt.plot(days, scores, marker='o', label='cnn')\n",
        "plt.legend()\n",
        "plt.ylabel('RMSE')\n",
        "plt.show()"
      ],
      "execution_count": null,
      "outputs": [
        {
          "output_type": "stream",
          "text": [
            "dot: graph is too large for cairo-renderer bitmaps. Scaling by 0.22551 to fit\n",
            "\n",
            "cnn: [0.795] 0.8,0.9,0.7,0.5,1.0,0.9\n"
          ],
          "name": "stdout"
        },
        {
          "output_type": "display_data",
          "data": {
            "image/png": "[encoded data removed]",
            "text/plain": [
              "<Figure size 432x288 with 1 Axes>"
            ]
          },
          "metadata": {
            "tags": [],
            "needs_background": "light"
          }
        }
      ]
    }
  ]
}