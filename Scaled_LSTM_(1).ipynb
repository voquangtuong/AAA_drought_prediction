{
  "nbformat": 4,
  "nbformat_minor": 0,
  "metadata": {
    "colab": {
      "name": "Scaled_LSTM (1).ipynb",
      "provenance": [],
      "collapsed_sections": [],
      "toc_visible": true,
      "include_colab_link": true
    },
    "kernelspec": {
      "display_name": "Python 3",
      "language": "python",
      "name": "python3"
    },
    "language_info": {
      "codemirror_mode": {
        "name": "ipython",
        "version": 3
      },
      "file_extension": ".py",
      "mimetype": "text/x-python",
      "name": "python",
      "nbconvert_exporter": "python",
      "pygments_lexer": "ipython3",
      "version": "3.8.5"
    },
    "toc": {
      "base_numbering": 1,
      "nav_menu": {},
      "number_sections": true,
      "sideBar": true,
      "skip_h1_title": false,
      "title_cell": "Table of Contents",
      "title_sidebar": "Contents",
      "toc_cell": false,
      "toc_position": {},
      "toc_section_display": true,
      "toc_window_display": false
    },
    "varInspector": {
      "cols": {
        "lenName": 16,
        "lenType": 16,
        "lenVar": 40
      },
      "kernels_config": {
        "python": {
          "delete_cmd_postfix": "",
          "delete_cmd_prefix": "del ",
          "library": "var_list.py",
          "varRefreshCmd": "print(var_dic_list())"
        },
        "r": {
          "delete_cmd_postfix": ") ",
          "delete_cmd_prefix": "rm(",
          "library": "var_list.r",
          "varRefreshCmd": "cat(var_dic_list()) "
        }
      },
      "types_to_exclude": [
        "module",
        "function",
        "builtin_function_or_method",
        "instance",
        "_Feature"
      ],
      "window_display": false
    }
  },
  "cells": [
    {
      "cell_type": "markdown",
      "metadata": {
        "id": "view-in-github",
        "colab_type": "text"
      },
      "source": [
        "<a href=\"https://colab.research.google.com/github/voquangtuong/AAA_drought_prediction/blob/main/Scaled_LSTM_(1).ipynb\" target=\"_parent\"><img src=\"https://colab.research.google.com/assets/colab-badge.svg\" alt=\"Open In Colab\"/></a>"
      ]
    },
    {
      "cell_type": "markdown",
      "metadata": {
        "id": "q67yHqOdC4YB"
      },
      "source": [
        "# P1: Data mediata\n",
        "\n",
        "this tutorial from : https://www.youtube.com/watch?v=tepxdcepTbY&ab_channel=DigitalSreeni"
      ]
    },
    {
      "cell_type": "markdown",
      "metadata": {
        "id": "1ldx6hlxDU3W"
      },
      "source": [
        "# P2: Import libraries"
      ]
    },
    {
      "cell_type": "code",
      "metadata": {
        "id": "srqXy2-IDaDX"
      },
      "source": [
        "import numpy as np\n",
        "from keras.models import Sequential\n",
        "from keras.layers import LSTM\n",
        "from keras.layers import Dense\n",
        "from keras.layers import Dropout\n",
        "import pandas as pd\n",
        "import matplotlib.pyplot as plt\n",
        "from sklearn.preprocessing import StandardScaler\n",
        "import seaborn as sns"
      ],
      "execution_count": null,
      "outputs": []
    },
    {
      "cell_type": "code",
      "metadata": {
        "colab": {
          "base_uri": "https://localhost:8080/"
        },
        "id": "RySFwKWIEKs5",
        "outputId": "7d5337f1-62d3-4d09-caf5-f2870a2ea7cc"
      },
      "source": [
        "from google.colab import drive\n",
        "drive.mount('/content/drive')"
      ],
      "execution_count": null,
      "outputs": [
        {
          "output_type": "stream",
          "text": [
            "Mounted at /content/drive\n"
          ],
          "name": "stdout"
        }
      ]
    },
    {
      "cell_type": "code",
      "metadata": {
        "id": "DQre5Uv3EnP7"
      },
      "source": [
        "import os\n",
        "os.chdir('/content/drive/MyDrive/ML')"
      ],
      "execution_count": null,
      "outputs": []
    },
    {
      "cell_type": "code",
      "metadata": {
        "colab": {
          "base_uri": "https://localhost:8080/",
          "height": 205
        },
        "id": "B2StQ-lVD8bA",
        "outputId": "15765839-9a17-4f98-a750-8b5a441da413"
      },
      "source": [
        "# read data\n",
        "df=pd.read_csv('input_data/GE.csv')\n",
        "df.head()"
      ],
      "execution_count": null,
      "outputs": [
        {
          "output_type": "execute_result",
          "data": {
            "text/html": [
              "<div>\n",
              "<style scoped>\n",
              "    .dataframe tbody tr th:only-of-type {\n",
              "        vertical-align: middle;\n",
              "    }\n",
              "\n",
              "    .dataframe tbody tr th {\n",
              "        vertical-align: top;\n",
              "    }\n",
              "\n",
              "    .dataframe thead th {\n",
              "        text-align: right;\n",
              "    }\n",
              "</style>\n",
              "<table border=\"1\" class=\"dataframe\">\n",
              "  <thead>\n",
              "    <tr style=\"text-align: right;\">\n",
              "      <th></th>\n",
              "      <th>Date</th>\n",
              "      <th>Open</th>\n",
              "      <th>High</th>\n",
              "      <th>Low</th>\n",
              "      <th>Close</th>\n",
              "      <th>Adj Close</th>\n",
              "      <th>Volume</th>\n",
              "    </tr>\n",
              "  </thead>\n",
              "  <tbody>\n",
              "    <tr>\n",
              "      <th>0</th>\n",
              "      <td>2020-07-06</td>\n",
              "      <td>6.98</td>\n",
              "      <td>7.08</td>\n",
              "      <td>6.89</td>\n",
              "      <td>7.00</td>\n",
              "      <td>6.971575</td>\n",
              "      <td>75429400</td>\n",
              "    </tr>\n",
              "    <tr>\n",
              "      <th>1</th>\n",
              "      <td>2020-07-07</td>\n",
              "      <td>6.89</td>\n",
              "      <td>6.89</td>\n",
              "      <td>6.75</td>\n",
              "      <td>6.76</td>\n",
              "      <td>6.732550</td>\n",
              "      <td>62433700</td>\n",
              "    </tr>\n",
              "    <tr>\n",
              "      <th>2</th>\n",
              "      <td>2020-07-08</td>\n",
              "      <td>6.82</td>\n",
              "      <td>6.87</td>\n",
              "      <td>6.72</td>\n",
              "      <td>6.86</td>\n",
              "      <td>6.832144</td>\n",
              "      <td>64439300</td>\n",
              "    </tr>\n",
              "    <tr>\n",
              "      <th>3</th>\n",
              "      <td>2020-07-09</td>\n",
              "      <td>6.83</td>\n",
              "      <td>6.83</td>\n",
              "      <td>6.58</td>\n",
              "      <td>6.58</td>\n",
              "      <td>6.553280</td>\n",
              "      <td>74748000</td>\n",
              "    </tr>\n",
              "    <tr>\n",
              "      <th>4</th>\n",
              "      <td>2020-07-10</td>\n",
              "      <td>6.54</td>\n",
              "      <td>6.72</td>\n",
              "      <td>6.53</td>\n",
              "      <td>6.69</td>\n",
              "      <td>6.662834</td>\n",
              "      <td>63423400</td>\n",
              "    </tr>\n",
              "  </tbody>\n",
              "</table>\n",
              "</div>"
            ],
            "text/plain": [
              "         Date  Open  High   Low  Close  Adj Close    Volume\n",
              "0  2020-07-06  6.98  7.08  6.89   7.00   6.971575  75429400\n",
              "1  2020-07-07  6.89  6.89  6.75   6.76   6.732550  62433700\n",
              "2  2020-07-08  6.82  6.87  6.72   6.86   6.832144  64439300\n",
              "3  2020-07-09  6.83  6.83  6.58   6.58   6.553280  74748000\n",
              "4  2020-07-10  6.54  6.72  6.53   6.69   6.662834  63423400"
            ]
          },
          "metadata": {
            "tags": []
          },
          "execution_count": 4
        }
      ]
    },
    {
      "cell_type": "code",
      "metadata": {
        "colab": {
          "base_uri": "https://localhost:8080/",
          "height": 287
        },
        "id": "krpPxYqXFv5U",
        "outputId": "6659b233-e14a-4502-c905-1aa08aa8ea82"
      },
      "source": [
        "# Separate dates for future ploting\n",
        "train_dates=pd.to_datetime(df['Date'])\n",
        "# Variables for trainning \n",
        "cols=df.columns.to_list()[1:5]\n",
        "df_for_training=df[cols].astype(float)\n",
        "# plot check last 36\n",
        "df_for_training.iloc[-72:,:].plot.line()\n",
        "\n"
      ],
      "execution_count": null,
      "outputs": [
        {
          "output_type": "execute_result",
          "data": {
            "text/plain": [
              "<matplotlib.axes._subplots.AxesSubplot at 0x7fe7042cafd0>"
            ]
          },
          "metadata": {
            "tags": []
          },
          "execution_count": 5
        },
        {
          "output_type": "display_data",
          "data": {
            "image/png": "[encoded data removed]",
            "text/plain": [
              "<Figure size 432x288 with 1 Axes>"
            ]
          },
          "metadata": {
            "tags": [],
            "needs_background": "light"
          }
        }
      ]
    },
    {
      "cell_type": "markdown",
      "metadata": {
        "id": "vEJnzXnHIpPD"
      },
      "source": [
        "# P3: Scaled data training\n",
        "\n",
        "* LSTMS uses sigmoid and tanh are sensitive to magnitude. Values need to be normalized\n"
      ]
    },
    {
      "cell_type": "code",
      "metadata": {
        "id": "TeBtsMCgJAa2"
      },
      "source": [
        "scaler=StandardScaler()\n",
        "scaler=scaler.fit(df_for_training)\n",
        "df_for_training_scaled=scaler.transform(df_for_training)"
      ],
      "execution_count": null,
      "outputs": []
    },
    {
      "cell_type": "markdown",
      "metadata": {
        "id": "fpu9T1enJprg"
      },
      "source": [
        "# P4: Reshape data training to tensorflow form\n",
        "* n_samples x timesteps x n_features\n",
        "* ex here: n_featrure =2, timesteps=3, n_samples=5 (input data has 9 rows)\n"
      ]
    },
    {
      "cell_type": "code",
      "metadata": {
        "colab": {
          "base_uri": "https://localhost:8080/"
        },
        "id": "w0f_hAlaK6ym",
        "outputId": "a51de0db-cf9b-4477-c4e2-73d450970af8"
      },
      "source": [
        "trainX=[]\n",
        "trainY=[]\n",
        "n_future=1 # Number of days we want to predict into the future\n",
        "n_past=14 # Number of past days we want to use to predict\n",
        "for i in range(n_past,len(df_for_training_scaled)-n_future+1):\n",
        "    trainX.append(df_for_training_scaled[i-n_past:i,0:df_for_training_scaled.shape[1]])\n",
        "    trainY.append(df_for_training_scaled[i+n_future-1:i+n_future,0])\n",
        "trainX=np.array(trainX)\n",
        "trainY=np.array(trainY)\n",
        "print(trainX.shape, trainY.shape)"
      ],
      "execution_count": null,
      "outputs": [
        {
          "output_type": "stream",
          "text": [
            "(238, 14, 4) (238, 1)\n"
          ],
          "name": "stdout"
        }
      ]
    },
    {
      "cell_type": "markdown",
      "metadata": {
        "id": "lkTR6kqCORpF"
      },
      "source": [
        "# P5: Check data input\n",
        "* value at index 14 of train = value at 0 of Y\n",
        "* value at index 15 of train = value at 1 of Y\n",
        "* look 14 values to predict values at 15"
      ]
    },
    {
      "cell_type": "code",
      "metadata": {
        "colab": {
          "base_uri": "https://localhost:8080/"
        },
        "id": "hXyY0lyVQHqc",
        "outputId": "6a22b554-017d-4043-9825-bb7665af35f9"
      },
      "source": [
        "df_for_training_scaled[14,0]"
      ],
      "execution_count": null,
      "outputs": [
        {
          "output_type": "execute_result",
          "data": {
            "text/plain": [
              "-1.1346187566339976"
            ]
          },
          "metadata": {
            "tags": []
          },
          "execution_count": 8
        }
      ]
    },
    {
      "cell_type": "code",
      "metadata": {
        "colab": {
          "base_uri": "https://localhost:8080/"
        },
        "id": "aXr6WuarQcIA",
        "outputId": "aa9d340a-625f-408a-ca7a-673fd4c5c502"
      },
      "source": [
        "trainX[14,0]"
      ],
      "execution_count": null,
      "outputs": [
        {
          "output_type": "execute_result",
          "data": {
            "text/plain": [
              "array([-1.13461876, -1.15237258, -1.15958434, -1.18953786])"
            ]
          },
          "metadata": {
            "tags": []
          },
          "execution_count": 9
        }
      ]
    },
    {
      "cell_type": "code",
      "metadata": {
        "colab": {
          "base_uri": "https://localhost:8080/"
        },
        "id": "CuNaT2ukQ-w6",
        "outputId": "bd964f6a-83c7-4093-c16e-21585a79d403"
      },
      "source": [
        "trainY[1]"
      ],
      "execution_count": null,
      "outputs": [
        {
          "output_type": "execute_result",
          "data": {
            "text/plain": [
              "array([-1.1972009])"
            ]
          },
          "metadata": {
            "tags": []
          },
          "execution_count": 10
        }
      ]
    },
    {
      "cell_type": "markdown",
      "metadata": {
        "id": "EdyVUQOQS8EJ"
      },
      "source": [
        "# P6: Define model"
      ]
    },
    {
      "cell_type": "code",
      "metadata": {
        "colab": {
          "base_uri": "https://localhost:8080/"
        },
        "id": "wPO5_UDRTDHB",
        "outputId": "4c064de8-d717-417b-997e-af8bab4e233e"
      },
      "source": [
        "model=Sequential()\n",
        "model.add(LSTM(64,activation='relu',input_shape=(trainX.shape[1],trainX.shape[2]),return_sequences=True))\n",
        "model.add(LSTM(32,activation='relu',return_sequences=False))\n",
        "model.add(Dropout(0.2))\n",
        "model.add(Dense(trainY.shape[1]))\n",
        "\n",
        "model.compile(optimizer='adam',loss='mse')\n",
        "model.summary()"
      ],
      "execution_count": null,
      "outputs": [
        {
          "output_type": "stream",
          "text": [
            "Model: \"sequential\"\n",
            "_________________________________________________________________\n",
            "Layer (type)                 Output Shape              Param #   \n",
            "=================================================================\n",
            "lstm (LSTM)                  (None, 14, 64)            17664     \n",
            "_________________________________________________________________\n",
            "lstm_1 (LSTM)                (None, 32)                12416     \n",
            "_________________________________________________________________\n",
            "dropout (Dropout)            (None, 32)                0         \n",
            "_________________________________________________________________\n",
            "dense (Dense)                (None, 1)                 33        \n",
            "=================================================================\n",
            "Total params: 30,113\n",
            "Trainable params: 30,113\n",
            "Non-trainable params: 0\n",
            "_________________________________________________________________\n"
          ],
          "name": "stdout"
        }
      ]
    },
    {
      "cell_type": "markdown",
      "metadata": {
        "id": "3tPaFKgMUtx3"
      },
      "source": [
        "# P7: Fit model"
      ]
    },
    {
      "cell_type": "code",
      "metadata": {
        "colab": {
          "base_uri": "https://localhost:8080/"
        },
        "id": "IBU5YXEDUxBE",
        "outputId": "11847eb7-a1bc-4a2c-b908-ab6827c6c363"
      },
      "source": [
        "history=model.fit(trainX, trainY,epochs=10,batch_size=16,validation_split=0.1,verbose=1)"
      ],
      "execution_count": null,
      "outputs": [
        {
          "output_type": "stream",
          "text": [
            "Epoch 1/10\n",
            "14/14 [==============================] - 25s 102ms/step - loss: 0.5994 - val_loss: 0.1174\n",
            "Epoch 2/10\n",
            "14/14 [==============================] - 0s 14ms/step - loss: 0.0827 - val_loss: 0.0377\n",
            "Epoch 3/10\n",
            "14/14 [==============================] - 0s 14ms/step - loss: 0.0624 - val_loss: 0.0489\n",
            "Epoch 4/10\n",
            "14/14 [==============================] - 0s 14ms/step - loss: 0.0622 - val_loss: 0.0285\n",
            "Epoch 5/10\n",
            "14/14 [==============================] - 0s 15ms/step - loss: 0.0493 - val_loss: 0.0253\n",
            "Epoch 6/10\n",
            "14/14 [==============================] - 0s 15ms/step - loss: 0.0445 - val_loss: 0.0246\n",
            "Epoch 7/10\n",
            "14/14 [==============================] - 0s 13ms/step - loss: 0.0523 - val_loss: 0.0238\n",
            "Epoch 8/10\n",
            "14/14 [==============================] - 0s 13ms/step - loss: 0.0441 - val_loss: 0.0251\n",
            "Epoch 9/10\n",
            "14/14 [==============================] - 0s 13ms/step - loss: 0.0599 - val_loss: 0.0228\n",
            "Epoch 10/10\n",
            "14/14 [==============================] - 0s 14ms/step - loss: 0.0486 - val_loss: 0.0283\n"
          ],
          "name": "stdout"
        }
      ]
    },
    {
      "cell_type": "code",
      "metadata": {
        "colab": {
          "base_uri": "https://localhost:8080/",
          "height": 283
        },
        "id": "3qitQekVVaFo",
        "outputId": "88e8199b-06a1-48b2-b38e-89a2381d2d32"
      },
      "source": [
        "plt.plot(history.history['loss'],label='Training loss')\n",
        "plt.plot(history.history['val_loss'],label='Validation loss')"
      ],
      "execution_count": null,
      "outputs": [
        {
          "output_type": "execute_result",
          "data": {
            "text/plain": [
              "[<matplotlib.lines.Line2D at 0x7fe6ff06ea50>]"
            ]
          },
          "metadata": {
            "tags": []
          },
          "execution_count": 13
        },
        {
          "output_type": "display_data",
          "data": {
            "image/png": "[encoded data removed]",
            "text/plain": [
              "<Figure size 432x288 with 1 Axes>"
            ]
          },
          "metadata": {
            "tags": [],
            "needs_background": "light"
          }
        }
      ]
    },
    {
      "cell_type": "markdown",
      "metadata": {
        "id": "Ln8foBVJWFLz"
      },
      "source": [
        "# P8: Forecasting\n",
        "* Start with the last day in training date and predict future"
      ]
    },
    {
      "cell_type": "code",
      "metadata": {
        "id": "VTIHqV4ZWVTC"
      },
      "source": [
        "n_future=90 # Redefing n_future to extend prediction dates beyond original n_futuredates\n",
        "forecast_period_dates=pd.date_range(list(train_dates)[-1],periods=n_future,freq='1d')\n",
        "\n",
        "forecast=model.predict(trainX[-n_future:])"
      ],
      "execution_count": null,
      "outputs": []
    },
    {
      "cell_type": "markdown",
      "metadata": {
        "id": "_gArRxfpX5c4"
      },
      "source": [
        "# P9: Invert tranfrom scaled\n",
        "* Perform inverse transfromation to rescale back to original range\n",
        "* Since we used 5 variable for transform, the inverse expects same dimensions\n",
        "* We copy our values 5 times and discard them after inverse transform"
      ]
    },
    {
      "cell_type": "code",
      "metadata": {
        "id": "AeO0AyHtYhq3"
      },
      "source": [
        "forecast_copies=np.repeat(forecast,df_for_training.shape[1],axis=-1)\n",
        "y_pred_future=scaler.inverse_transform(forecast_copies)[:,0]"
      ],
      "execution_count": null,
      "outputs": []
    },
    {
      "cell_type": "code",
      "metadata": {
        "id": "VGziU7WBZKQc"
      },
      "source": [
        "# Covert timestamp to date\n",
        "forecast_dates=[]\n",
        "for i in range(len(forecast_period_dates)):\n",
        "    forecast_dates.append(forecast_period_dates[i])"
      ],
      "execution_count": null,
      "outputs": []
    },
    {
      "cell_type": "markdown",
      "metadata": {
        "id": "k36HjM7ydBlW"
      },
      "source": [
        "# P10: Compare results"
      ]
    },
    {
      "cell_type": "code",
      "metadata": {
        "colab": {
          "base_uri": "https://localhost:8080/",
          "height": 499
        },
        "id": "pRiOLeLBdJk_",
        "outputId": "f96d574d-c04f-4ba3-baf0-c63e9b17148e"
      },
      "source": [
        "df_forecast=pd.DataFrame({'Date':np.array(forecast_dates),'Open':y_pred_future})\n",
        "df_forecast['Date']=pd.to_datetime(df_forecast['Date'])\n",
        "\n",
        "original=df[['Date','Open']]\n",
        "original['Date']=pd.to_datetime(original['Date'])\n",
        "original=original.loc[original['Date']>='2020-5-1']\n",
        "sns.lineplot(original['Date'],original['Open'])\n",
        "sns.lineplot(df_forecast['Date'],df_forecast['Open'])"
      ],
      "execution_count": null,
      "outputs": [
        {
          "output_type": "stream",
          "text": [
            "/usr/local/lib/python3.7/dist-packages/ipykernel_launcher.py:5: SettingWithCopyWarning: \n",
            "A value is trying to be set on a copy of a slice from a DataFrame.\n",
            "Try using .loc[row_indexer,col_indexer] = value instead\n",
            "\n",
            "See the caveats in the documentation: https://pandas.pydata.org/pandas-docs/stable/user_guide/indexing.html#returning-a-view-versus-a-copy\n",
            "  \"\"\"\n",
            "/usr/local/lib/python3.7/dist-packages/seaborn/_decorators.py:43: FutureWarning: Pass the following variables as keyword args: x, y. From version 0.12, the only valid positional argument will be `data`, and passing other arguments without an explicit keyword will result in an error or misinterpretation.\n",
            "  FutureWarning\n",
            "/usr/local/lib/python3.7/dist-packages/seaborn/_decorators.py:43: FutureWarning: Pass the following variables as keyword args: x, y. From version 0.12, the only valid positional argument will be `data`, and passing other arguments without an explicit keyword will result in an error or misinterpretation.\n",
            "  FutureWarning\n"
          ],
          "name": "stderr"
        },
        {
          "output_type": "execute_result",
          "data": {
            "text/plain": [
              "<matplotlib.axes._subplots.AxesSubplot at 0x7fe6ff345a10>"
            ]
          },
          "metadata": {
            "tags": []
          },
          "execution_count": 17
        },
        {
          "output_type": "display_data",
          "data": {
            "image/png": "[encoded data removed]",
            "text/plain": [
              "<Figure size 432x288 with 1 Axes>"
            ]
          },
          "metadata": {
            "tags": [],
            "needs_background": "light"
          }
        }
      ]
    }
  ]
}