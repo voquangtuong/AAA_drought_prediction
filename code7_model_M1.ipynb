{
  "nbformat": 4,
  "nbformat_minor": 0,
  "metadata": {
    "colab": {
      "name": "code7_model_M1.ipynb",
      "provenance": [],
      "collapsed_sections": [],
      "toc_visible": true,
      "authorship_tag": "ABX9TyPE3JsdSShpF9SRvaYOySPk",
      "include_colab_link": true
    },
    "kernelspec": {
      "name": "python3",
      "display_name": "Python 3"
    },
    "language_info": {
      "name": "python"
    }
  },
  "cells": [
    {
      "cell_type": "markdown",
      "metadata": {
        "id": "view-in-github",
        "colab_type": "text"
      },
      "source": [
        "<a href=\"https://colab.research.google.com/github/voquangtuong/AAA_drought_prediction/blob/main/code7_model_M1.ipynb\" target=\"_parent\"><img src=\"https://colab.research.google.com/assets/colab-badge.svg\" alt=\"Open In Colab\"/></a>"
      ]
    },
    {
      "cell_type": "markdown",
      "metadata": {
        "id": "ogvW0_yFEpl3"
      },
      "source": [
        "# P0. Các thư viện phổ biến"
      ]
    },
    {
      "cell_type": "code",
      "metadata": {
        "id": "J-C3BIUdEw1R"
      },
      "source": [
        "import numpy as np\n",
        "import pandas as pd\n",
        "import matplotlib.pyplot as plt\n",
        "import tensorflow as tf\n",
        "from tensorflow.keras import layers\n",
        "from tensorflow.keras import activations\n",
        "from tensorflow.keras import backend as KK\n"
      ],
      "execution_count": 647,
      "outputs": []
    },
    {
      "cell_type": "markdown",
      "metadata": {
        "id": "3QsaqQPxCoFR"
      },
      "source": [
        "# P1. Mô tả mô hình"
      ]
    },
    {
      "cell_type": "markdown",
      "metadata": {
        "id": "oBZQzmwAC5JF"
      },
      "source": [
        "Mô hình này dùng 3 số liệu quá khứ để dự báo cho cho một giá trị tương lai\n",
        "\n",
        "Ví dụ 1 2 3 sẽ dự báo cho 4\n",
        "\n",
        "Chạy dự báo cho trường hợp đơn giản là chuỗi liên tục 1-432\n",
        "\n",
        "Đánh giá kết quả tốt cho số liệu giả định trước khi dùng mô hình trên cho số liệu thực"
      ]
    },
    {
      "cell_type": "markdown",
      "metadata": {
        "id": "VI-tnGCREEuO"
      },
      "source": [
        "# P2. Xây dựng mô hình cho số liệu giả định"
      ]
    },
    {
      "cell_type": "markdown",
      "metadata": {
        "id": "20eqiI30EXEy"
      },
      "source": [
        "## số liệu đầu vào"
      ]
    },
    {
      "cell_type": "code",
      "metadata": {
        "colab": {
          "base_uri": "https://localhost:8080/"
        },
        "id": "8iadQYQGEfBv",
        "outputId": "5216597b-cb6e-47ba-8c0b-ebd624ac509d"
      },
      "source": [
        "dataset=np.array(range(0,432))\n",
        "vector_date=pd.date_range(start='1981-01',end='2016-12',freq='MS')\n",
        "vector_date.shape"
      ],
      "execution_count": 648,
      "outputs": [
        {
          "output_type": "execute_result",
          "data": {
            "text/plain": [
              "(432,)"
            ]
          },
          "metadata": {},
          "execution_count": 648
        }
      ]
    },
    {
      "cell_type": "code",
      "metadata": {
        "colab": {
          "base_uri": "https://localhost:8080/",
          "height": 244
        },
        "id": "ojGKOTavF8Gq",
        "outputId": "c51df39d-d7ed-401f-8da9-0621b6d7ba4d"
      },
      "source": [
        "# plot training, validate, testing\n",
        "fig,ax=plt.subplots(figsize=(16,3))\n",
        "plt.subplot(131)\n",
        "plt.plot(vector_date[:20*12],dataset[0:20*12])\n",
        "plt.title('trainning')\n",
        "plt.subplot(132)\n",
        "plt.plot(vector_date[20*12:28*12],dataset[20*12:28*12])\n",
        "plt.title('validation')\n",
        "plt.subplot(133)\n",
        "plt.plot(vector_date[28*12:],dataset[28*12:])\n",
        "plt.title('testing')"
      ],
      "execution_count": 649,
      "outputs": [
        {
          "output_type": "execute_result",
          "data": {
            "text/plain": [
              "Text(0.5, 1.0, 'testing')"
            ]
          },
          "metadata": {},
          "execution_count": 649
        },
        {
          "output_type": "display_data",
          "data": {
            "image/png": "[encoded data removed]",
            "text/plain": [
              "<Figure size 1152x216 with 3 Axes>"
            ]
          },
          "metadata": {
            "needs_background": "light"
          }
        }
      ]
    },
    {
      "cell_type": "markdown",
      "metadata": {
        "id": "iIWJTjGeIpYx"
      },
      "source": [
        "## Scaled data theo trainning"
      ]
    },
    {
      "cell_type": "code",
      "metadata": {
        "id": "V2-m1yCmIwBf"
      },
      "source": [
        "train, validate, test=dataset[:20*12],dataset[20*12:28*12],dataset[28*12:]\n",
        "train_min, train_max,train_mean,train_std=np.min(train),np.max(train),np.mean(train),np.std(train)\n",
        "train_01,train_nor=(train-train_min)/(train_max-train_min),(train-train_mean)/train_std\n",
        "# validate scale\n",
        "validate_01,validate_nor=(validate-train_min)/(train_max-train_min),(validate-train_mean)/train_std\n",
        "# test scale\n",
        "test_01,test_nor=(test-train_min)/(train_max-train_min),(test-train_mean)/train_std"
      ],
      "execution_count": 650,
      "outputs": []
    },
    {
      "cell_type": "code",
      "metadata": {
        "colab": {
          "base_uri": "https://localhost:8080/",
          "height": 244
        },
        "id": "ksBZMte-KctO",
        "outputId": "ae6be411-52ee-400f-fea2-c44cdb26982d"
      },
      "source": [
        "# plot org, min-max, normality training\n",
        "fig,ax=plt.subplots(figsize=(16,3))\n",
        "plt.subplot(131)\n",
        "plt.plot(vector_date[:20*12],train)\n",
        "plt.title('org')\n",
        "plt.subplot(132)\n",
        "plt.plot(vector_date[:20*12],train_01)\n",
        "plt.title('min-max scaled')\n",
        "plt.subplot(133)\n",
        "plt.plot(vector_date[:20*12],train_nor)\n",
        "plt.title('normality scale')"
      ],
      "execution_count": 651,
      "outputs": [
        {
          "output_type": "execute_result",
          "data": {
            "text/plain": [
              "Text(0.5, 1.0, 'normality scale')"
            ]
          },
          "metadata": {},
          "execution_count": 651
        },
        {
          "output_type": "display_data",
          "data": {
            "image/png": "[encoded data removed]",
            "text/plain": [
              "<Figure size 1152x216 with 3 Axes>"
            ]
          },
          "metadata": {
            "needs_background": "light"
          }
        }
      ]
    },
    {
      "cell_type": "code",
      "metadata": {
        "colab": {
          "base_uri": "https://localhost:8080/",
          "height": 244
        },
        "id": "eMxHNLkgL6C3",
        "outputId": "fce8c36c-8fc2-4ccf-8cb7-fec06a15aed2"
      },
      "source": [
        "# plot org, min-max, normality training\n",
        "fig,ax=plt.subplots(figsize=(16,3))\n",
        "plt.subplot(131)\n",
        "plt.plot(vector_date[20*12:28*12],validate)\n",
        "plt.title('org')\n",
        "plt.subplot(132)\n",
        "plt.plot(vector_date[20*12:28*12],test_01)\n",
        "plt.title('min-max scaled')\n",
        "plt.subplot(133)\n",
        "plt.plot(vector_date[20*12:28*12],test_nor)\n",
        "plt.title('normality scale')"
      ],
      "execution_count": 652,
      "outputs": [
        {
          "output_type": "execute_result",
          "data": {
            "text/plain": [
              "Text(0.5, 1.0, 'normality scale')"
            ]
          },
          "metadata": {},
          "execution_count": 652
        },
        {
          "output_type": "display_data",
          "data": {
            "image/png": "[encoded data removed]",
            "text/plain": [
              "<Figure size 1152x216 with 3 Axes>"
            ]
          },
          "metadata": {
            "needs_background": "light"
          }
        }
      ]
    },
    {
      "cell_type": "markdown",
      "metadata": {
        "id": "BSkB92pbMa4r"
      },
      "source": [
        "Giá trị scaled theo training của validate sẽ không nằm trong phạm vi 0-1, mean của validate_nor cũng không bằng 0\n",
        "\n",
        "Không được scale trước vì toàn bộ dữ liệu testing sẽ ảnh hưởng đến quá trình training.\n",
        "\n",
        "Nó vi phạm cái gọi là leaking data"
      ]
    },
    {
      "cell_type": "markdown",
      "metadata": {
        "id": "jVeqnUTZRdoD"
      },
      "source": [
        "## Chuyển dữ liệu sang dạng suppervised 3-1"
      ]
    },
    {
      "cell_type": "code",
      "metadata": {
        "id": "hxbeD_TfRoEd"
      },
      "source": [
        "\n",
        "def to_supervised(train, n_input, n_out):\n",
        "  # flatten data\n",
        "  data = train.reshape((train.shape[0]*train.shape[1], train.shape[1]))\n",
        "  X, y = list(), list()\n",
        "  in_start = 0\n",
        "  # step over the entire history one time step at a time\n",
        "  for _ in range(len(data)):\n",
        "    # define the end of the input sequence\n",
        "    in_end = in_start + n_input\n",
        "    out_end = in_end + n_out\n",
        "    # ensure we have enough data for this instance\n",
        "    if out_end < len(data):\n",
        "      x_input = data[in_start:in_end, 0]\n",
        "      x_input = x_input.reshape((len(x_input), 1))\n",
        "      X.append(x_input)\n",
        "      y.append(data[in_end:out_end, 0])\n",
        "  # move along one time step\n",
        "    in_start += 1\n",
        "  return np.array(X), np.array(y)"
      ],
      "execution_count": 653,
      "outputs": []
    },
    {
      "cell_type": "code",
      "metadata": {
        "colab": {
          "base_uri": "https://localhost:8080/"
        },
        "id": "UVBUfpngSWMP",
        "outputId": "c4fd67f9-b31d-4a5d-e2ba-be6091ad8e34"
      },
      "source": [
        "# chuyen train ve array 2 mang\n",
        "train_nor_2ar=train_nor.reshape(train.shape[0],1)\n",
        "n_input0,n_out0=3,1\n",
        "train_x, train_y = to_supervised(train=train_nor_2ar,n_input=n_input0,n_out=n_out0)\n",
        "train_x.shape,train_y.shape\n",
        "\n",
        "# chuyen val ve array 2 mang\n",
        "\n",
        "validate_nor_2ar=validate_nor.reshape(validate_nor.shape[0],1)\n",
        "n_input0,n_out0=3,1\n",
        "validate_x, validate_y = to_supervised(train=validate_nor_2ar,n_input=n_input0,n_out=n_out0)\n",
        "validate_x.shape,validate_y.shape\n",
        "\n",
        "# chuyen val ve array 2 mang\n",
        "\n",
        "test_nor_2ar=test_nor.reshape(test_nor.shape[0],1)\n",
        "n_input0,n_out0=3,1\n",
        "test_x, test_y = to_supervised(train=test_nor_2ar,n_input=n_input0,n_out=n_out0)\n",
        "test_x.shape,test_y.shape"
      ],
      "execution_count": 654,
      "outputs": [
        {
          "output_type": "execute_result",
          "data": {
            "text/plain": [
              "((92, 3, 1), (92, 1))"
            ]
          },
          "metadata": {},
          "execution_count": 654
        }
      ]
    },
    {
      "cell_type": "code",
      "metadata": {
        "colab": {
          "base_uri": "https://localhost:8080/"
        },
        "id": "8TwoRGqHYRtY",
        "outputId": "d54e3f1f-31c5-4dde-8293-467c43c399df"
      },
      "source": [
        "# org\n",
        "train_nor[0:8]"
      ],
      "execution_count": 655,
      "outputs": [
        {
          "output_type": "execute_result",
          "data": {
            "text/plain": [
              "array([-1.7248489 , -1.71041502, -1.69598114, -1.68154726, -1.66711337,\n",
              "       -1.65267949, -1.63824561, -1.62381173])"
            ]
          },
          "metadata": {},
          "execution_count": 655
        }
      ]
    },
    {
      "cell_type": "code",
      "metadata": {
        "colab": {
          "base_uri": "https://localhost:8080/"
        },
        "id": "e6HfH9qyTZON",
        "outputId": "b7aaf074-cb26-4c22-e4f8-bce99affc769"
      },
      "source": [
        "# kiem tra gia 5 tri dau tien\n",
        "train_x[0:5,:]"
      ],
      "execution_count": 656,
      "outputs": [
        {
          "output_type": "execute_result",
          "data": {
            "text/plain": [
              "array([[[-1.7248489 ],\n",
              "        [-1.71041502],\n",
              "        [-1.69598114]],\n",
              "\n",
              "       [[-1.71041502],\n",
              "        [-1.69598114],\n",
              "        [-1.68154726]],\n",
              "\n",
              "       [[-1.69598114],\n",
              "        [-1.68154726],\n",
              "        [-1.66711337]],\n",
              "\n",
              "       [[-1.68154726],\n",
              "        [-1.66711337],\n",
              "        [-1.65267949]],\n",
              "\n",
              "       [[-1.66711337],\n",
              "        [-1.65267949],\n",
              "        [-1.63824561]]])"
            ]
          },
          "metadata": {},
          "execution_count": 656
        }
      ]
    },
    {
      "cell_type": "code",
      "metadata": {
        "colab": {
          "base_uri": "https://localhost:8080/"
        },
        "id": "QZdLkPTNXN49",
        "outputId": "a6453248-1032-43bf-f6b0-4853d3858c35"
      },
      "source": [
        "train_y[0:5,:]"
      ],
      "execution_count": 657,
      "outputs": [
        {
          "output_type": "execute_result",
          "data": {
            "text/plain": [
              "array([[-1.68154726],\n",
              "       [-1.66711337],\n",
              "       [-1.65267949],\n",
              "       [-1.63824561],\n",
              "       [-1.62381173]])"
            ]
          },
          "metadata": {},
          "execution_count": 657
        }
      ]
    },
    {
      "cell_type": "markdown",
      "metadata": {
        "id": "KhVxAWDPxnls"
      },
      "source": [
        "## xây dựng các functions"
      ]
    },
    {
      "cell_type": "code",
      "metadata": {
        "id": "-R04kHzXy6cK"
      },
      "source": [
        "def mean_absolute_percentage_error(y_true, y_pred): \n",
        "    y_true, y_pred = np.array(y_true), np.array(y_pred)\n",
        "    return np.mean(np.abs((y_true - y_pred) / y_true)) * 100 \n",
        "\n",
        "from sklearn.metrics import mean_squared_error\n",
        "\n",
        "# huber loss\n",
        "def huber(true, pred, delta):\n",
        "    loss = np.where(np.abs(true-pred) < delta , 0.5*((true-pred)**2), delta*np.abs(true - pred) - 0.5*(delta**2))\n",
        "    return np.sum(loss)"
      ],
      "execution_count": 658,
      "outputs": []
    },
    {
      "cell_type": "code",
      "metadata": {
        "id": "LdE2vwTAxsFe"
      },
      "source": [
        "# activate function\n",
        "# Custom activation function\n",
        "from keras.layers import Activation\n",
        "from tensorflow.keras import backend as K\n",
        "from keras.utils.generic_utils import get_custom_objects\n",
        "\n",
        "\n",
        "\n",
        "def custom_activation(x):\n",
        "    return (K.linear(x) * 1) - 0\n",
        "\n",
        "get_custom_objects().update({'custom_activation': Activation(custom_activation)})"
      ],
      "execution_count": 659,
      "outputs": []
    },
    {
      "cell_type": "code",
      "metadata": {
        "id": "t6ifFLUL0eK7"
      },
      "source": [
        "# layer = tf.keras.layers.LeakyReLU()\n",
        "# output = layer([-3.0, -1.0, 0.0, 2.0])\n",
        "# list(output.numpy())\n",
        "\n",
        "# layer = tf.keras.layers.LeakyReLU(alpha=0.01)\n",
        "# output = layer([-3,-2,0,1, 2, 3])\n",
        "# list(output.numpy())\n"
      ],
      "execution_count": 660,
      "outputs": []
    },
    {
      "cell_type": "code",
      "metadata": {
        "id": "l89USdbg8Rbj"
      },
      "source": [
        "## nhap cac thu vien can thiet\n",
        "from keras import Sequential\n",
        "from keras.layers import LSTM,Dense,Dropout\n",
        "from tensorflow.keras import optimizers\n",
        "from keras.callbacks import EarlyStopping\n"
      ],
      "execution_count": 661,
      "outputs": []
    },
    {
      "cell_type": "markdown",
      "metadata": {
        "id": "AbeEZHsGCdgC"
      },
      "source": [
        "## Cac thong so mo hinh"
      ]
    },
    {
      "cell_type": "code",
      "metadata": {
        "id": "CT8VNwk-Cinc"
      },
      "source": [
        "# K.clear_session()\n",
        "# optimization\n",
        "number_units0=300\n",
        "number_epochs0=200\n",
        "number_batch0=100\n",
        "learing_rate0=0.00001\n",
        "# activation_function0='custom_activation'\n",
        "# activation_function0=activations.relu\n",
        "activation_function0=activations.linear\n",
        "dropout0=0.1\n",
        "patience0=20\n",
        "optimizer_function0=optimizers.Adam(learing_rate0)\n",
        "loss0=tf.keras.losses.MeanAbsolutePercentageError()\n"
      ],
      "execution_count": 662,
      "outputs": []
    },
    {
      "cell_type": "code",
      "metadata": {
        "colab": {
          "base_uri": "https://localhost:8080/"
        },
        "id": "b1W0es5_70Ov",
        "outputId": "34d99695-1c4e-4b8b-8831-af9f7b28596a"
      },
      "source": [
        "n_timesteps, n_features, n_outputs = train_x.shape[1], train_x.shape[2], train_y.shape[1]\n",
        "# dinh nghia mô hình\n",
        "KK.clear_session()\n",
        "model=Sequential()\n",
        "model.add(LSTM(number_units0, input_shape=(train_x.shape[1], train_x.shape[2]),return_sequences=True))\n",
        "model.add(LSTM(number_units0,return_sequences=True))\n",
        "model.add(LSTM(number_units0,return_sequences=True))\n",
        "# model.add(LSTM(number_units0,return_sequences=True))\n",
        "model.add(LSTM(number_units0))\n",
        "model.add(Dropout(dropout0))\n",
        "# model.add(TimeDistributed(Dense(268)))\n",
        "\n",
        "# model.add(Dense(1,activation= activation_function0))\n",
        "model.add(layers.Dense(1))\n",
        "model.add(layers.Activation(activation_function0))\n",
        "# tf.keras.layers.LeakyReLU(alpha=0.3) # dung leakyRelu\n",
        "\n",
        "model.compile(loss=loss0, optimizer=optimizer_function0)\n",
        "model.summary()\n",
        "# callbacks_stop = [EarlyStopping(monitor='val_loss', patience=patience,min_delta=0)]\n",
        "callbacks_stop = [EarlyStopping(monitor='val_loss', patience=patience0)]\n",
        "# fit network using ES\n",
        "history = model.fit(train_x, train_y, epochs=number_epochs0, batch_size=number_batch0, validation_data=(validate_x, validate_y),\n",
        "                verbose=2, shuffle=False,callbacks=callbacks_stop)"
      ],
      "execution_count": 663,
      "outputs": [
        {
          "output_type": "stream",
          "name": "stdout",
          "text": [
            "Model: \"sequential\"\n",
            "_________________________________________________________________\n",
            "Layer (type)                 Output Shape              Param #   \n",
            "=================================================================\n",
            "lstm (LSTM)                  (None, 3, 300)            362400    \n",
            "_________________________________________________________________\n",
            "lstm_1 (LSTM)                (None, 3, 300)            721200    \n",
            "_________________________________________________________________\n",
            "lstm_2 (LSTM)                (None, 3, 300)            721200    \n",
            "_________________________________________________________________\n",
            "lstm_3 (LSTM)                (None, 300)               721200    \n",
            "_________________________________________________________________\n",
            "dropout (Dropout)            (None, 300)               0         \n",
            "_________________________________________________________________\n",
            "dense (Dense)                (None, 1)                 301       \n",
            "_________________________________________________________________\n",
            "activation (Activation)      (None, 1)                 0         \n",
            "=================================================================\n",
            "Total params: 2,526,301\n",
            "Trainable params: 2,526,301\n",
            "Non-trainable params: 0\n",
            "_________________________________________________________________\n",
            "Epoch 1/200\n",
            "3/3 - 8s - loss: 100.1128 - val_loss: 100.0898\n",
            "Epoch 2/200\n",
            "3/3 - 0s - loss: 100.0749 - val_loss: 100.0581\n",
            "Epoch 3/200\n",
            "3/3 - 0s - loss: 100.0403 - val_loss: 100.0250\n",
            "Epoch 4/200\n",
            "3/3 - 0s - loss: 100.0070 - val_loss: 99.9913\n",
            "Epoch 5/200\n",
            "3/3 - 0s - loss: 99.9744 - val_loss: 99.9571\n",
            "Epoch 6/200\n",
            "3/3 - 0s - loss: 99.9425 - val_loss: 99.9226\n",
            "Epoch 7/200\n",
            "3/3 - 0s - loss: 99.9132 - val_loss: 99.8878\n",
            "Epoch 8/200\n",
            "3/3 - 0s - loss: 99.8784 - val_loss: 99.8525\n",
            "Epoch 9/200\n",
            "3/3 - 0s - loss: 99.8433 - val_loss: 99.8167\n",
            "Epoch 10/200\n",
            "3/3 - 0s - loss: 99.8157 - val_loss: 99.7802\n",
            "Epoch 11/200\n",
            "3/3 - 0s - loss: 99.7746 - val_loss: 99.7430\n",
            "Epoch 12/200\n",
            "3/3 - 0s - loss: 99.7405 - val_loss: 99.7050\n",
            "Epoch 13/200\n",
            "3/3 - 0s - loss: 99.7035 - val_loss: 99.6660\n",
            "Epoch 14/200\n",
            "3/3 - 0s - loss: 99.6699 - val_loss: 99.6262\n",
            "Epoch 15/200\n",
            "3/3 - 0s - loss: 99.6324 - val_loss: 99.5852\n",
            "Epoch 16/200\n",
            "3/3 - 0s - loss: 99.5915 - val_loss: 99.5430\n",
            "Epoch 17/200\n",
            "3/3 - 0s - loss: 99.5575 - val_loss: 99.4996\n",
            "Epoch 18/200\n",
            "3/3 - 0s - loss: 99.5070 - val_loss: 99.4548\n",
            "Epoch 19/200\n",
            "3/3 - 0s - loss: 99.4698 - val_loss: 99.4082\n",
            "Epoch 20/200\n",
            "3/3 - 0s - loss: 99.4252 - val_loss: 99.3599\n",
            "Epoch 21/200\n",
            "3/3 - 0s - loss: 99.3786 - val_loss: 99.3097\n",
            "Epoch 22/200\n",
            "3/3 - 0s - loss: 99.3274 - val_loss: 99.2576\n",
            "Epoch 23/200\n",
            "3/3 - 0s - loss: 99.2756 - val_loss: 99.2033\n",
            "Epoch 24/200\n",
            "3/3 - 0s - loss: 99.2332 - val_loss: 99.1469\n",
            "Epoch 25/200\n",
            "3/3 - 0s - loss: 99.1739 - val_loss: 99.0881\n",
            "Epoch 26/200\n",
            "3/3 - 0s - loss: 99.1166 - val_loss: 99.0268\n",
            "Epoch 27/200\n",
            "3/3 - 0s - loss: 99.0545 - val_loss: 98.9630\n",
            "Epoch 28/200\n",
            "3/3 - 0s - loss: 98.9974 - val_loss: 98.8964\n",
            "Epoch 29/200\n",
            "3/3 - 0s - loss: 98.9313 - val_loss: 98.8269\n",
            "Epoch 30/200\n",
            "3/3 - 0s - loss: 98.8661 - val_loss: 98.7543\n",
            "Epoch 31/200\n",
            "3/3 - 0s - loss: 98.7995 - val_loss: 98.6784\n",
            "Epoch 32/200\n",
            "3/3 - 0s - loss: 98.7278 - val_loss: 98.5992\n",
            "Epoch 33/200\n",
            "3/3 - 0s - loss: 98.6487 - val_loss: 98.5163\n",
            "Epoch 34/200\n",
            "3/3 - 0s - loss: 98.5683 - val_loss: 98.4294\n",
            "Epoch 35/200\n",
            "3/3 - 0s - loss: 98.4754 - val_loss: 98.3383\n",
            "Epoch 36/200\n",
            "3/3 - 0s - loss: 98.3899 - val_loss: 98.2428\n",
            "Epoch 37/200\n",
            "3/3 - 0s - loss: 98.3016 - val_loss: 98.1430\n",
            "Epoch 38/200\n",
            "3/3 - 0s - loss: 98.1987 - val_loss: 98.0383\n",
            "Epoch 39/200\n",
            "3/3 - 0s - loss: 98.0946 - val_loss: 97.9284\n",
            "Epoch 40/200\n",
            "3/3 - 0s - loss: 97.9916 - val_loss: 97.8131\n",
            "Epoch 41/200\n",
            "3/3 - 0s - loss: 97.8938 - val_loss: 97.6925\n",
            "Epoch 42/200\n",
            "3/3 - 0s - loss: 97.7596 - val_loss: 97.5659\n",
            "Epoch 43/200\n",
            "3/3 - 0s - loss: 97.6506 - val_loss: 97.4332\n",
            "Epoch 44/200\n",
            "3/3 - 0s - loss: 97.5214 - val_loss: 97.2938\n",
            "Epoch 45/200\n",
            "3/3 - 0s - loss: 97.3805 - val_loss: 97.1478\n",
            "Epoch 46/200\n",
            "3/3 - 0s - loss: 97.2386 - val_loss: 96.9945\n",
            "Epoch 47/200\n",
            "3/3 - 0s - loss: 97.0798 - val_loss: 96.8333\n",
            "Epoch 48/200\n",
            "3/3 - 0s - loss: 96.9348 - val_loss: 96.6642\n",
            "Epoch 49/200\n",
            "3/3 - 0s - loss: 96.7695 - val_loss: 96.4868\n",
            "Epoch 50/200\n",
            "3/3 - 0s - loss: 96.6069 - val_loss: 96.3008\n",
            "Epoch 51/200\n",
            "3/3 - 0s - loss: 96.4201 - val_loss: 96.1056\n",
            "Epoch 52/200\n",
            "3/3 - 0s - loss: 96.2235 - val_loss: 95.9006\n",
            "Epoch 53/200\n",
            "3/3 - 0s - loss: 96.0222 - val_loss: 95.6851\n",
            "Epoch 54/200\n",
            "3/3 - 0s - loss: 95.8228 - val_loss: 95.4588\n",
            "Epoch 55/200\n",
            "3/3 - 0s - loss: 95.6058 - val_loss: 95.2210\n",
            "Epoch 56/200\n",
            "3/3 - 0s - loss: 95.3681 - val_loss: 94.9714\n",
            "Epoch 57/200\n",
            "3/3 - 0s - loss: 95.1313 - val_loss: 94.7092\n",
            "Epoch 58/200\n",
            "3/3 - 0s - loss: 94.9053 - val_loss: 94.4342\n",
            "Epoch 59/200\n",
            "3/3 - 0s - loss: 94.6141 - val_loss: 94.1457\n",
            "Epoch 60/200\n",
            "3/3 - 0s - loss: 94.3413 - val_loss: 93.8427\n",
            "Epoch 61/200\n",
            "3/3 - 0s - loss: 94.0494 - val_loss: 93.5248\n",
            "Epoch 62/200\n",
            "3/3 - 0s - loss: 93.7423 - val_loss: 93.1910\n",
            "Epoch 63/200\n",
            "3/3 - 0s - loss: 93.4350 - val_loss: 92.8406\n",
            "Epoch 64/200\n",
            "3/3 - 0s - loss: 93.1044 - val_loss: 92.4729\n",
            "Epoch 65/200\n",
            "3/3 - 0s - loss: 92.7366 - val_loss: 92.0868\n",
            "Epoch 66/200\n",
            "3/3 - 0s - loss: 92.3709 - val_loss: 91.6816\n",
            "Epoch 67/200\n",
            "3/3 - 0s - loss: 91.9785 - val_loss: 91.2561\n",
            "Epoch 68/200\n",
            "3/3 - 0s - loss: 91.5843 - val_loss: 90.8097\n",
            "Epoch 69/200\n",
            "3/3 - 0s - loss: 91.1818 - val_loss: 90.3414\n",
            "Epoch 70/200\n",
            "3/3 - 0s - loss: 90.6906 - val_loss: 89.8498\n",
            "Epoch 71/200\n",
            "3/3 - 0s - loss: 90.2981 - val_loss: 89.3343\n",
            "Epoch 72/200\n",
            "3/3 - 0s - loss: 89.7967 - val_loss: 88.7940\n",
            "Epoch 73/200\n",
            "3/3 - 0s - loss: 89.3024 - val_loss: 88.2393\n",
            "Epoch 74/200\n",
            "3/3 - 0s - loss: 88.7687 - val_loss: 87.6594\n",
            "Epoch 75/200\n",
            "3/3 - 0s - loss: 88.2604 - val_loss: 87.0599\n",
            "Epoch 76/200\n",
            "3/3 - 0s - loss: 87.6181 - val_loss: 86.4299\n",
            "Epoch 77/200\n",
            "3/3 - 0s - loss: 87.0364 - val_loss: 85.7628\n",
            "Epoch 78/200\n",
            "3/3 - 0s - loss: 86.3913 - val_loss: 85.0592\n",
            "Epoch 79/200\n",
            "3/3 - 0s - loss: 85.7601 - val_loss: 84.3187\n",
            "Epoch 80/200\n",
            "3/3 - 0s - loss: 85.0633 - val_loss: 83.5405\n",
            "Epoch 81/200\n",
            "3/3 - 0s - loss: 84.3248 - val_loss: 82.7231\n",
            "Epoch 82/200\n",
            "3/3 - 0s - loss: 83.5739 - val_loss: 81.8657\n",
            "Epoch 83/200\n",
            "3/3 - 0s - loss: 82.7828 - val_loss: 80.9808\n",
            "Epoch 84/200\n",
            "3/3 - 0s - loss: 81.9335 - val_loss: 80.0546\n",
            "Epoch 85/200\n",
            "3/3 - 0s - loss: 81.1284 - val_loss: 79.0787\n",
            "Epoch 86/200\n",
            "3/3 - 0s - loss: 80.1354 - val_loss: 78.0524\n",
            "Epoch 87/200\n",
            "3/3 - 0s - loss: 79.2651 - val_loss: 76.9911\n",
            "Epoch 88/200\n",
            "3/3 - 0s - loss: 78.4020 - val_loss: 75.8811\n",
            "Epoch 89/200\n",
            "3/3 - 0s - loss: 77.3360 - val_loss: 74.7132\n",
            "Epoch 90/200\n",
            "3/3 - 0s - loss: 76.2594 - val_loss: 73.4862\n",
            "Epoch 91/200\n",
            "3/3 - 0s - loss: 75.1292 - val_loss: 72.1981\n",
            "Epoch 92/200\n",
            "3/3 - 0s - loss: 73.9083 - val_loss: 70.8466\n",
            "Epoch 93/200\n",
            "3/3 - 0s - loss: 72.7492 - val_loss: 69.4292\n",
            "Epoch 94/200\n",
            "3/3 - 0s - loss: 71.6755 - val_loss: 67.9652\n",
            "Epoch 95/200\n",
            "3/3 - 0s - loss: 70.2276 - val_loss: 66.4364\n",
            "Epoch 96/200\n",
            "3/3 - 0s - loss: 68.8555 - val_loss: 64.8296\n",
            "Epoch 97/200\n",
            "3/3 - 0s - loss: 67.3765 - val_loss: 63.1423\n",
            "Epoch 98/200\n",
            "3/3 - 0s - loss: 65.9931 - val_loss: 61.3732\n",
            "Epoch 99/200\n",
            "3/3 - 0s - loss: 64.4522 - val_loss: 59.5444\n",
            "Epoch 100/200\n",
            "3/3 - 0s - loss: 62.8565 - val_loss: 57.6355\n",
            "Epoch 101/200\n",
            "3/3 - 0s - loss: 61.2046 - val_loss: 55.6314\n",
            "Epoch 102/200\n",
            "3/3 - 0s - loss: 59.4302 - val_loss: 53.5305\n",
            "Epoch 103/200\n",
            "3/3 - 0s - loss: 57.7774 - val_loss: 51.3323\n",
            "Epoch 104/200\n",
            "3/3 - 0s - loss: 56.0145 - val_loss: 49.0348\n",
            "Epoch 105/200\n",
            "3/3 - 0s - loss: 54.0393 - val_loss: 46.6619\n",
            "Epoch 106/200\n",
            "3/3 - 0s - loss: 52.0262 - val_loss: 44.2156\n",
            "Epoch 107/200\n",
            "3/3 - 0s - loss: 49.7464 - val_loss: 41.6555\n",
            "Epoch 108/200\n",
            "3/3 - 0s - loss: 47.7109 - val_loss: 38.9679\n",
            "Epoch 109/200\n",
            "3/3 - 0s - loss: 45.5686 - val_loss: 36.1523\n",
            "Epoch 110/200\n",
            "3/3 - 0s - loss: 43.2136 - val_loss: 33.2087\n",
            "Epoch 111/200\n",
            "3/3 - 0s - loss: 40.6507 - val_loss: 30.1329\n",
            "Epoch 112/200\n",
            "3/3 - 0s - loss: 38.3041 - val_loss: 26.9221\n",
            "Epoch 113/200\n",
            "3/3 - 0s - loss: 35.6730 - val_loss: 23.5731\n",
            "Epoch 114/200\n",
            "3/3 - 0s - loss: 33.0448 - val_loss: 20.0836\n",
            "Epoch 115/200\n",
            "3/3 - 0s - loss: 30.3252 - val_loss: 16.4877\n",
            "Epoch 116/200\n",
            "3/3 - 0s - loss: 27.3371 - val_loss: 12.7894\n",
            "Epoch 117/200\n",
            "3/3 - 0s - loss: 24.4858 - val_loss: 8.9375\n",
            "Epoch 118/200\n",
            "3/3 - 0s - loss: 21.3237 - val_loss: 4.9113\n",
            "Epoch 119/200\n",
            "3/3 - 0s - loss: 18.0157 - val_loss: 0.7506\n",
            "Epoch 120/200\n",
            "3/3 - 0s - loss: 15.1006 - val_loss: 3.5286\n",
            "Epoch 121/200\n",
            "3/3 - 0s - loss: 12.6346 - val_loss: 7.3591\n",
            "Epoch 122/200\n",
            "3/3 - 0s - loss: 11.0816 - val_loss: 10.0981\n",
            "Epoch 123/200\n",
            "3/3 - 0s - loss: 10.1840 - val_loss: 11.7446\n",
            "Epoch 124/200\n",
            "3/3 - 0s - loss: 9.6744 - val_loss: 12.4840\n",
            "Epoch 125/200\n",
            "3/3 - 0s - loss: 9.5237 - val_loss: 12.4870\n",
            "Epoch 126/200\n",
            "3/3 - 0s - loss: 9.1065 - val_loss: 11.9273\n",
            "Epoch 127/200\n",
            "3/3 - 0s - loss: 8.9988 - val_loss: 11.0123\n",
            "Epoch 128/200\n",
            "3/3 - 0s - loss: 8.5578 - val_loss: 9.8721\n",
            "Epoch 129/200\n",
            "3/3 - 0s - loss: 8.4716 - val_loss: 8.6090\n",
            "Epoch 130/200\n",
            "3/3 - 0s - loss: 8.0839 - val_loss: 7.3824\n",
            "Epoch 131/200\n",
            "3/3 - 0s - loss: 8.0709 - val_loss: 6.2275\n",
            "Epoch 132/200\n",
            "3/3 - 0s - loss: 7.6932 - val_loss: 5.1687\n",
            "Epoch 133/200\n",
            "3/3 - 0s - loss: 7.8438 - val_loss: 4.2465\n",
            "Epoch 134/200\n",
            "3/3 - 0s - loss: 7.6291 - val_loss: 3.4435\n",
            "Epoch 135/200\n",
            "3/3 - 0s - loss: 7.6642 - val_loss: 2.8049\n",
            "Epoch 136/200\n",
            "3/3 - 0s - loss: 7.4162 - val_loss: 2.3170\n",
            "Epoch 137/200\n",
            "3/3 - 0s - loss: 7.3869 - val_loss: 1.9758\n",
            "Epoch 138/200\n",
            "3/3 - 0s - loss: 7.2629 - val_loss: 1.7113\n",
            "Epoch 139/200\n",
            "3/3 - 0s - loss: 6.7914 - val_loss: 1.5445\n"
          ]
        }
      ]
    },
    {
      "cell_type": "code",
      "metadata": {
        "colab": {
          "base_uri": "https://localhost:8080/",
          "height": 441
        },
        "id": "2iZs8yn5I2-_",
        "outputId": "79000b36-f327-400b-a768-675db65f9ff2"
      },
      "source": [
        "#  plot history\n",
        "fig1=plt.Figure()\n",
        "plt.figure(figsize=(8, 6))\n",
        "plt.plot(history.history['loss'], label='train')\n",
        "ax=plt.plot(history.history['val_loss'], label='test')\n",
        "plt.grid(True,linestyle='-.')\n",
        "plt.xlabel('epochs')\n",
        "plt.ylabel('loss')\n",
        "# plt.title(\"loss at \"+list1[k])\n",
        "plt.legend()\n",
        "plt.tight_layout()\n",
        "# plt.savefig(output_fig+\"/\"+list1[k]+str(lt)+\"n_out_\"+str(n_out)+\"loss\"+\".png\",dpi=300)"
      ],
      "execution_count": 664,
      "outputs": [
        {
          "output_type": "display_data",
          "data": {
            "image/png": "[encoded data removed]",
            "text/plain": [
              "<Figure size 576x432 with 1 Axes>"
            ]
          },
          "metadata": {
            "needs_background": "light"
          }
        }
      ]
    },
    {
      "cell_type": "markdown",
      "metadata": {
        "id": "8uTGLBtRJOhs"
      },
      "source": [
        "## Check validation"
      ]
    },
    {
      "cell_type": "code",
      "metadata": {
        "id": "lMcCCZf7JWwE"
      },
      "source": [
        "y_validate_hat = model.predict(validate_x)\n",
        "y_validate_hat.shape\n",
        "validate_y.shape\n",
        "# tra lai scale ban dau\n",
        "y_validate_hat_rescaled=y_validate_hat*train_std+train_mean\n",
        "validate_y_rescaled=validate_y*train_std+train_mean"
      ],
      "execution_count": 665,
      "outputs": []
    },
    {
      "cell_type": "code",
      "metadata": {
        "colab": {
          "base_uri": "https://localhost:8080/",
          "height": 354
        },
        "id": "gXhi0JqgKy_R",
        "outputId": "91e22815-1daf-492d-84f4-7f576f00154d"
      },
      "source": [
        "fig,ax=plt.subplots(figsize=(8,5))\n",
        "plt.plot(vector_date[20*12+4:28*12],validate_y_rescaled,'r-.')\n",
        "plt.plot(vector_date[20*12+4:28*12],y_validate_hat_rescaled,'k-.')\n",
        "plt.legend(['obs','simulation'])\n",
        "# tinh sai so luon\n",
        "rmse = np.sqrt(mean_squared_error(validate_y_rescaled, y_validate_hat_rescaled))\n",
        "mape=mean_absolute_percentage_error(validate_y_rescaled, y_validate_hat_rescaled)\n",
        "\n",
        "print(\"RMSE: \" +str(round(rmse,2)))\n",
        "print(\"MAPE: \" +str(round(mape,2))+\"%\")"
      ],
      "execution_count": 666,
      "outputs": [
        {
          "output_type": "stream",
          "name": "stdout",
          "text": [
            "RMSE: 2.63\n",
            "MAPE: 0.87%\n"
          ]
        },
        {
          "output_type": "display_data",
          "data": {
            "image/png": "[encoded data removed]",
            "text/plain": [
              "<Figure size 576x360 with 1 Axes>"
            ]
          },
          "metadata": {
            "needs_background": "light"
          }
        }
      ]
    },
    {
      "cell_type": "markdown",
      "metadata": {
        "id": "fXWOUAzCR0wh"
      },
      "source": [
        "## Check testing"
      ]
    },
    {
      "cell_type": "code",
      "metadata": {
        "id": "mAnkASydR-oC"
      },
      "source": [
        "y_test_hat = model.predict(test_x)\n",
        "y_test_hat.shape\n",
        "test_y.shape\n",
        "# tra lai scale ban dau\n",
        "y_test_hat_rescaled=y_test_hat*train_std+train_mean\n",
        "test_y_rescaled=test_y*train_std+train_mean"
      ],
      "execution_count": 667,
      "outputs": []
    },
    {
      "cell_type": "code",
      "metadata": {
        "colab": {
          "base_uri": "https://localhost:8080/",
          "height": 354
        },
        "id": "ytcfHykwStJU",
        "outputId": "405876be-e50d-46c2-e1de-a72320e283fd"
      },
      "source": [
        "fig,ax=plt.subplots(figsize=(8,5))\n",
        "plt.plot(vector_date[28*12+4:],test_y_rescaled,'r-.')\n",
        "plt.plot(vector_date[28*12+4:],y_test_hat_rescaled,'k-.')\n",
        "plt.legend(['obs','simulation'])\n",
        "# tinh sai so luon\n",
        "rmse = np.sqrt(mean_squared_error(test_y_rescaled, y_test_hat_rescaled))\n",
        "mape=mean_absolute_percentage_error(test_y_rescaled, y_test_hat_rescaled)\n",
        "\n",
        "print(\"RMSE: \" +str(round(rmse,2)))\n",
        "print(\"MAPE: \" +str(round(mape,2))+\"%\")"
      ],
      "execution_count": 668,
      "outputs": [
        {
          "output_type": "stream",
          "name": "stdout",
          "text": [
            "RMSE: 12.06\n",
            "MAPE: 2.6%\n"
          ]
        },
        {
          "output_type": "display_data",
          "data": {
            "image/png": "[encoded data removed]",
            "text/plain": [
              "<Figure size 576x360 with 1 Axes>"
            ]
          },
          "metadata": {
            "needs_background": "light"
          }
        }
      ]
    }
  ]
}