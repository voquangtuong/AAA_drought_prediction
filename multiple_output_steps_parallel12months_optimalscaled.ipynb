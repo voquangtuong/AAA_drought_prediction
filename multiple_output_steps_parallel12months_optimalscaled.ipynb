{
  "nbformat": 4,
  "nbformat_minor": 0,
  "metadata": {
    "colab": {
      "name": "multiple_output_steps_parallel12months_optimalscaled.ipynb",
      "provenance": [],
      "collapsed_sections": [],
      "toc_visible": true,
      "authorship_tag": "ABX9TyOQMTOa4Q/kHht1K84V5qYk",
      "include_colab_link": true
    },
    "kernelspec": {
      "name": "python3",
      "display_name": "Python 3"
    },
    "language_info": {
      "name": "python"
    },
    "accelerator": "GPU"
  },
  "cells": [
    {
      "cell_type": "markdown",
      "metadata": {
        "id": "view-in-github",
        "colab_type": "text"
      },
      "source": [
        "<a href=\"https://colab.research.google.com/github/voquangtuong/AAA_drought_prediction/blob/main/multiple_output_steps_parallel12months_optimalscaled.ipynb\" target=\"_parent\"><img src=\"https://colab.research.google.com/assets/colab-badge.svg\" alt=\"Open In Colab\"/></a>"
      ]
    },
    {
      "cell_type": "code",
      "metadata": {
        "colab": {
          "base_uri": "https://localhost:8080/"
        },
        "id": "YlPDMOxnAnvF",
        "outputId": "859ff99d-f773-48c2-9057-8ba40d729bbd"
      },
      "source": [
        "from google.colab import drive\n",
        "drive.mount('/content/drive')"
      ],
      "execution_count": null,
      "outputs": [
        {
          "output_type": "stream",
          "text": [
            "Drive already mounted at /content/drive; to attempt to forcibly remount, call drive.mount(\"/content/drive\", force_remount=True).\n"
          ],
          "name": "stdout"
        }
      ]
    },
    {
      "cell_type": "code",
      "metadata": {
        "id": "JXlr9OXoAwga"
      },
      "source": [
        "import os\n",
        "os.chdir('/content/drive/MyDrive')"
      ],
      "execution_count": null,
      "outputs": []
    },
    {
      "cell_type": "code",
      "metadata": {
        "id": "T9aXXHvmA_ZR"
      },
      "source": [
        "output_directories=['out_fig_MO','out_tab_MO']\n",
        "for output_directory in output_directories:\n",
        "  if not os.path.exists(output_directory):\n",
        "    os.makedirs(output_directory)"
      ],
      "execution_count": null,
      "outputs": []
    },
    {
      "cell_type": "code",
      "metadata": {
        "id": "0cJrrsOpgdIC"
      },
      "source": [
        "!pip install livelossplot --quiet"
      ],
      "execution_count": null,
      "outputs": []
    },
    {
      "cell_type": "code",
      "metadata": {
        "id": "Hj1IPJEW_fME"
      },
      "source": [
        "# multivariate multi-step encoder-decoder lstm example\n",
        "from numpy import array\n",
        "from numpy import hstack\n",
        "from keras.models import Sequential\n",
        "from keras.layers import LSTM\n",
        "from keras.layers import Dense\n",
        "from keras.layers import RepeatVector\n",
        "from keras.layers import TimeDistributed\n",
        "import numpy as np\n",
        "import pandas as pd\n",
        "import matplotlib.pyplot as plt\n",
        "from livelossplot import PlotLossesKeras\n",
        "from keras.callbacks import EarlyStopping\n",
        "from tensorflow.keras import backend as KK\n",
        "from keras import optimizers\n",
        "from keras.layers import Dropout\n",
        "from sklearn.metrics import mean_squared_error\n",
        "from math import sqrt\n",
        " \n",
        "# split a multivariate sequence into samples\n",
        "def split_sequences(sequences, n_steps_in, n_steps_out):\n",
        "\tX, y = list(), list()\n",
        "\tfor i in range(len(sequences)):\n",
        "\t\t# find the end of this pattern\n",
        "\t\tend_ix = i + n_steps_in\n",
        "\t\tout_end_ix = end_ix + n_steps_out\n",
        "\t\t# check if we are beyond the dataset\n",
        "\t\tif out_end_ix > len(sequences):\n",
        "\t\t\tbreak\n",
        "\t\t# gather input and output parts of the pattern\n",
        "\t\tseq_x, seq_y = sequences[i:end_ix, :], sequences[end_ix:out_end_ix, :]\n",
        "\t\tX.append(seq_x)\n",
        "\t\ty.append(seq_y)\n",
        "\treturn array(X), array(y)\n"
      ],
      "execution_count": null,
      "outputs": []
    },
    {
      "cell_type": "markdown",
      "metadata": {
        "id": "nVnKV6WEZEnQ"
      },
      "source": [
        "# Customize functions"
      ]
    },
    {
      "cell_type": "code",
      "metadata": {
        "id": "sYbVDnCg2ZZW"
      },
      "source": [
        "# =============================================================================\n",
        "# Customize activate functions\n",
        "# huber loss\n",
        "def huber(true, pred, delta):\n",
        "    loss = np.where(np.abs(true-pred) < delta , 0.5*((true-pred)**2), delta*np.abs(true - pred) - 0.5*(delta**2))\n",
        "    return np.sum(loss)\n",
        "# Custom activation function\n",
        "from keras.layers import Activation\n",
        "from keras import backend as K\n",
        "from keras.utils.generic_utils import get_custom_objects\n",
        "\n",
        "\n",
        "def custom_activation2(x):\n",
        "    return (K.tanh(x) * 100) \n",
        "\n",
        "get_custom_objects().update({'custom_activation2': Activation(custom_activation2)})\n",
        "\n",
        "# Huber losss\n",
        "def custom_activation1(x):\n",
        "    \n",
        "    return (K.tanh(x) * 1.5) \n",
        "\n",
        "get_custom_objects().update({'custom_activation1': Activation(custom_activation1)})\n",
        "\n",
        "def mean_absolute_percentage_error(y_true, y_pred): \n",
        "    y_true, y_pred = np.array(y_true), np.array(y_pred)\n",
        "    return np.mean(np.abs((y_true - y_pred) / y_true)) * 100 "
      ],
      "execution_count": null,
      "outputs": []
    },
    {
      "cell_type": "code",
      "metadata": {
        "colab": {
          "base_uri": "https://localhost:8080/",
          "height": 203
        },
        "id": "zkhBOhj8_sYr",
        "outputId": "e8e48bd8-72ba-4e66-b4c3-b86c825d7a9b"
      },
      "source": [
        "\n",
        "# # define input sequence\n",
        "# in_seq1 = array([10, 20, 30, 40, 50, 60, 70, 80, 90])\n",
        "# in_seq2 = array([15, 25, 35, 45, 55, 65, 75, 85, 95])\n",
        "# out_seq = array([in_seq1[i]+in_seq2[i] for i in range(len(in_seq1))])\n",
        "# reading cluster results\n",
        "cluster_df=pd.read_csv('/content/drive/MyDrive/output_tab_cluster/cluster_df.csv')\n",
        "cluster_df.head()\n"
      ],
      "execution_count": null,
      "outputs": [
        {
          "output_type": "execute_result",
          "data": {
            "text/html": [
              "<div>\n",
              "<style scoped>\n",
              "    .dataframe tbody tr th:only-of-type {\n",
              "        vertical-align: middle;\n",
              "    }\n",
              "\n",
              "    .dataframe tbody tr th {\n",
              "        vertical-align: top;\n",
              "    }\n",
              "\n",
              "    .dataframe thead th {\n",
              "        text-align: right;\n",
              "    }\n",
              "</style>\n",
              "<table border=\"1\" class=\"dataframe\">\n",
              "  <thead>\n",
              "    <tr style=\"text-align: right;\">\n",
              "      <th></th>\n",
              "      <th>Unnamed: 0</th>\n",
              "      <th>clusters</th>\n",
              "      <th>zones</th>\n",
              "    </tr>\n",
              "  </thead>\n",
              "  <tbody>\n",
              "    <tr>\n",
              "      <th>0</th>\n",
              "      <td>0</td>\n",
              "      <td>Cluster 1</td>\n",
              "      <td>Cheongju14</td>\n",
              "    </tr>\n",
              "    <tr>\n",
              "      <th>1</th>\n",
              "      <td>1</td>\n",
              "      <td>Cluster 1</td>\n",
              "      <td>Cheorwon54</td>\n",
              "    </tr>\n",
              "    <tr>\n",
              "      <th>2</th>\n",
              "      <td>2</td>\n",
              "      <td>Cluster 1</td>\n",
              "      <td>Chuncheon55</td>\n",
              "    </tr>\n",
              "    <tr>\n",
              "      <th>3</th>\n",
              "      <td>3</td>\n",
              "      <td>Cluster 1</td>\n",
              "      <td>Daedeok49</td>\n",
              "    </tr>\n",
              "    <tr>\n",
              "      <th>4</th>\n",
              "      <td>4</td>\n",
              "      <td>Cluster 1</td>\n",
              "      <td>Dangjin30</td>\n",
              "    </tr>\n",
              "  </tbody>\n",
              "</table>\n",
              "</div>"
            ],
            "text/plain": [
              "   Unnamed: 0   clusters        zones\n",
              "0           0  Cluster 1   Cheongju14\n",
              "1           1  Cluster 1   Cheorwon54\n",
              "2           2  Cluster 1  Chuncheon55\n",
              "3           3  Cluster 1    Daedeok49\n",
              "4           4  Cluster 1    Dangjin30"
            ]
          },
          "metadata": {
            "tags": []
          },
          "execution_count": 906
        }
      ]
    },
    {
      "cell_type": "code",
      "metadata": {
        "colab": {
          "base_uri": "https://localhost:8080/"
        },
        "id": "eCcu8H29DHJY",
        "outputId": "695aff76-204a-46a0-a9a4-ee4de3873d59"
      },
      "source": [
        "# query Cluster1\n",
        "i=0\n",
        "list_cluster_name=cluster_df.clusters.unique().tolist()\n",
        "df=cluster_df\n",
        "listi=df.loc[df['clusters'] == list_cluster_name[i]]['zones'].values.tolist()\n",
        "listi"
      ],
      "execution_count": null,
      "outputs": [
        {
          "output_type": "execute_result",
          "data": {
            "text/plain": [
              "['Cheongju14',\n",
              " 'Cheorwon54',\n",
              " 'Chuncheon55',\n",
              " 'Daedeok49',\n",
              " 'Dangjin30',\n",
              " 'Nowon255',\n",
              " 'Okcheon23',\n",
              " 'Ongjin166',\n",
              " 'Osan92',\n",
              " 'Pocheon94',\n",
              " 'Pyeongtaek95',\n",
              " 'Sacheon145',\n",
              " 'Saha9',\n",
              " 'Samcheok65',\n",
              " 'Sancheong146',\n",
              " 'Seo167']"
            ]
          },
          "metadata": {
            "tags": []
          },
          "execution_count": 907
        }
      ]
    },
    {
      "cell_type": "code",
      "metadata": {
        "colab": {
          "base_uri": "https://localhost:8080/",
          "height": 269
        },
        "id": "7e3AoZ8lD2hF",
        "outputId": "62a1ad5c-b5af-491b-b58d-446b0d4bbed1"
      },
      "source": [
        "dataset1000=pd.read_csv(\"input_data/percentile_season_adj.csv\")\n",
        "dataset1000.head()"
      ],
      "execution_count": null,
      "outputs": [
        {
          "output_type": "execute_result",
          "data": {
            "text/html": [
              "<div>\n",
              "<style scoped>\n",
              "    .dataframe tbody tr th:only-of-type {\n",
              "        vertical-align: middle;\n",
              "    }\n",
              "\n",
              "    .dataframe tbody tr th {\n",
              "        vertical-align: top;\n",
              "    }\n",
              "\n",
              "    .dataframe thead th {\n",
              "        text-align: right;\n",
              "    }\n",
              "</style>\n",
              "<table border=\"1\" class=\"dataframe\">\n",
              "  <thead>\n",
              "    <tr style=\"text-align: right;\">\n",
              "      <th></th>\n",
              "      <th>Date</th>\n",
              "      <th>Andong106</th>\n",
              "      <th>Ansan75</th>\n",
              "      <th>Ansoeng76</th>\n",
              "      <th>Anyang77</th>\n",
              "      <th>Asan25</th>\n",
              "      <th>Boeun13</th>\n",
              "      <th>Bonghwa107</th>\n",
              "      <th>Boryeong26</th>\n",
              "      <th>Boseong186</th>\n",
              "      <th>Buan170</th>\n",
              "      <th>Buan171</th>\n",
              "      <th>Bucheon78</th>\n",
              "      <th>Buk0</th>\n",
              "      <th>Buk264</th>\n",
              "      <th>Buk41</th>\n",
              "      <th>Buk72</th>\n",
              "      <th>Bupyeong154</th>\n",
              "      <th>Busanjin1</th>\n",
              "      <th>Buyeo27</th>\n",
              "      <th>Changnyeong128</th>\n",
              "      <th>Changwon129</th>\n",
              "      <th>Changwon130</th>\n",
              "      <th>Cheonan28</th>\n",
              "      <th>Cheongdo108</th>\n",
              "      <th>Cheongju14</th>\n",
              "      <th>Cheongsong109</th>\n",
              "      <th>Cheongyang29</th>\n",
              "      <th>Cheorwon54</th>\n",
              "      <th>Chilgok110</th>\n",
              "      <th>Chuncheon55</th>\n",
              "      <th>Chungju15</th>\n",
              "      <th>Daedeok49</th>\n",
              "      <th>Dalseo42</th>\n",
              "      <th>Dalseong43</th>\n",
              "      <th>Damyang187</th>\n",
              "      <th>Dangjin30</th>\n",
              "      <th>Danyang16</th>\n",
              "      <th>Dobong240</th>\n",
              "      <th>Dong-daemun241</th>\n",
              "      <th>...</th>\n",
              "      <th>Wando224</th>\n",
              "      <th>Wando225</th>\n",
              "      <th>Wando226</th>\n",
              "      <th>Wando227</th>\n",
              "      <th>Wando228</th>\n",
              "      <th>Wando229</th>\n",
              "      <th>Wando230</th>\n",
              "      <th>Wando231</th>\n",
              "      <th>Wando232</th>\n",
              "      <th>Wanju185</th>\n",
              "      <th>Wonju68</th>\n",
              "      <th>Yangcheon261</th>\n",
              "      <th>Yanggu69</th>\n",
              "      <th>Yangju101</th>\n",
              "      <th>Yangpyeong102</th>\n",
              "      <th>Yangsan153</th>\n",
              "      <th>Yangyang70</th>\n",
              "      <th>Yecheon123</th>\n",
              "      <th>Yeoju103</th>\n",
              "      <th>Yeoncheon104</th>\n",
              "      <th>Yeongam233</th>\n",
              "      <th>Yeongcheon124</th>\n",
              "      <th>Yeongdeok125</th>\n",
              "      <th>Yeongdeungpo262</th>\n",
              "      <th>Yeongdo11</th>\n",
              "      <th>Yeongdong24</th>\n",
              "      <th>Yeonggwang234</th>\n",
              "      <th>Yeongi239</th>\n",
              "      <th>Yeongju126</th>\n",
              "      <th>Yeongwol71</th>\n",
              "      <th>Yeongyang127</th>\n",
              "      <th>Yeonje12</th>\n",
              "      <th>Yeosu235</th>\n",
              "      <th>Yeosu236</th>\n",
              "      <th>Yeosu237</th>\n",
              "      <th>Yeosu238</th>\n",
              "      <th>Yesan40</th>\n",
              "      <th>Yongin105</th>\n",
              "      <th>Yongsan263</th>\n",
              "      <th>Yuseong53</th>\n",
              "    </tr>\n",
              "  </thead>\n",
              "  <tbody>\n",
              "    <tr>\n",
              "      <th>0</th>\n",
              "      <td>1/1/1981</td>\n",
              "      <td>-0.068793</td>\n",
              "      <td>0.007370</td>\n",
              "      <td>-0.043025</td>\n",
              "      <td>0.027512</td>\n",
              "      <td>-0.016300</td>\n",
              "      <td>-0.135790</td>\n",
              "      <td>-0.280612</td>\n",
              "      <td>-0.085975</td>\n",
              "      <td>0.000382</td>\n",
              "      <td>0.010484</td>\n",
              "      <td>0.006280</td>\n",
              "      <td>0.018972</td>\n",
              "      <td>-0.013240</td>\n",
              "      <td>0.180639</td>\n",
              "      <td>0.058954</td>\n",
              "      <td>0.111425</td>\n",
              "      <td>-0.348126</td>\n",
              "      <td>0.074321</td>\n",
              "      <td>0.030633</td>\n",
              "      <td>-0.136730</td>\n",
              "      <td>-0.106414</td>\n",
              "      <td>0.115682</td>\n",
              "      <td>0.074885</td>\n",
              "      <td>0.043213</td>\n",
              "      <td>-0.017936</td>\n",
              "      <td>-0.147586</td>\n",
              "      <td>-0.349976</td>\n",
              "      <td>-0.373941</td>\n",
              "      <td>0.027995</td>\n",
              "      <td>-0.300738</td>\n",
              "      <td>-0.288500</td>\n",
              "      <td>-0.020772</td>\n",
              "      <td>-0.163009</td>\n",
              "      <td>-0.087655</td>\n",
              "      <td>-0.246005</td>\n",
              "      <td>-0.101062</td>\n",
              "      <td>-0.279076</td>\n",
              "      <td>-0.350928</td>\n",
              "      <td>-0.245401</td>\n",
              "      <td>...</td>\n",
              "      <td>-0.013955</td>\n",
              "      <td>0.164799</td>\n",
              "      <td>0.067646</td>\n",
              "      <td>0.127357</td>\n",
              "      <td>-0.196007</td>\n",
              "      <td>-0.064919</td>\n",
              "      <td>0.124725</td>\n",
              "      <td>0.110258</td>\n",
              "      <td>0.109936</td>\n",
              "      <td>0.114082</td>\n",
              "      <td>-0.105871</td>\n",
              "      <td>-0.245509</td>\n",
              "      <td>-0.255475</td>\n",
              "      <td>-0.288880</td>\n",
              "      <td>-0.264224</td>\n",
              "      <td>-0.198930</td>\n",
              "      <td>-0.262297</td>\n",
              "      <td>-0.303282</td>\n",
              "      <td>-0.146950</td>\n",
              "      <td>-0.214944</td>\n",
              "      <td>-0.338890</td>\n",
              "      <td>-0.241755</td>\n",
              "      <td>-0.278760</td>\n",
              "      <td>-0.276730</td>\n",
              "      <td>-0.230615</td>\n",
              "      <td>-0.254436</td>\n",
              "      <td>-0.226088</td>\n",
              "      <td>-0.360223</td>\n",
              "      <td>-0.268837</td>\n",
              "      <td>-0.262598</td>\n",
              "      <td>-0.267553</td>\n",
              "      <td>-0.254590</td>\n",
              "      <td>-0.192182</td>\n",
              "      <td>-0.253589</td>\n",
              "      <td>-0.282550</td>\n",
              "      <td>-0.340427</td>\n",
              "      <td>-0.311349</td>\n",
              "      <td>-0.341370</td>\n",
              "      <td>-0.337228</td>\n",
              "      <td>-0.397738</td>\n",
              "    </tr>\n",
              "    <tr>\n",
              "      <th>1</th>\n",
              "      <td>2/1/1981</td>\n",
              "      <td>-0.191194</td>\n",
              "      <td>-0.237572</td>\n",
              "      <td>-0.179815</td>\n",
              "      <td>-0.001349</td>\n",
              "      <td>-0.172738</td>\n",
              "      <td>-0.127369</td>\n",
              "      <td>-0.152398</td>\n",
              "      <td>-0.155773</td>\n",
              "      <td>-0.229314</td>\n",
              "      <td>-0.231227</td>\n",
              "      <td>-0.231224</td>\n",
              "      <td>-0.244268</td>\n",
              "      <td>-0.213504</td>\n",
              "      <td>-0.594912</td>\n",
              "      <td>0.036537</td>\n",
              "      <td>-0.184171</td>\n",
              "      <td>-0.599457</td>\n",
              "      <td>-0.150594</td>\n",
              "      <td>-0.392935</td>\n",
              "      <td>-0.177609</td>\n",
              "      <td>-0.303816</td>\n",
              "      <td>-0.092468</td>\n",
              "      <td>-0.080002</td>\n",
              "      <td>-0.310935</td>\n",
              "      <td>-0.224242</td>\n",
              "      <td>-0.264360</td>\n",
              "      <td>-0.761589</td>\n",
              "      <td>-0.106518</td>\n",
              "      <td>-0.329234</td>\n",
              "      <td>-0.071552</td>\n",
              "      <td>0.213725</td>\n",
              "      <td>-0.181485</td>\n",
              "      <td>-0.122219</td>\n",
              "      <td>-0.229894</td>\n",
              "      <td>-0.277321</td>\n",
              "      <td>-0.228362</td>\n",
              "      <td>-0.418940</td>\n",
              "      <td>0.471807</td>\n",
              "      <td>-0.378842</td>\n",
              "      <td>...</td>\n",
              "      <td>0.375895</td>\n",
              "      <td>0.486931</td>\n",
              "      <td>0.397852</td>\n",
              "      <td>0.441008</td>\n",
              "      <td>-0.118358</td>\n",
              "      <td>-0.398302</td>\n",
              "      <td>-0.087127</td>\n",
              "      <td>-0.076630</td>\n",
              "      <td>-0.264790</td>\n",
              "      <td>-0.231785</td>\n",
              "      <td>-0.193851</td>\n",
              "      <td>0.031028</td>\n",
              "      <td>0.025802</td>\n",
              "      <td>0.041053</td>\n",
              "      <td>-0.001360</td>\n",
              "      <td>0.082747</td>\n",
              "      <td>0.008690</td>\n",
              "      <td>0.033101</td>\n",
              "      <td>0.034159</td>\n",
              "      <td>0.079708</td>\n",
              "      <td>0.082600</td>\n",
              "      <td>0.075339</td>\n",
              "      <td>-0.000386</td>\n",
              "      <td>0.002848</td>\n",
              "      <td>0.062447</td>\n",
              "      <td>-0.017866</td>\n",
              "      <td>0.042617</td>\n",
              "      <td>0.036308</td>\n",
              "      <td>-0.012414</td>\n",
              "      <td>-0.007019</td>\n",
              "      <td>0.019740</td>\n",
              "      <td>0.092779</td>\n",
              "      <td>0.055353</td>\n",
              "      <td>0.034344</td>\n",
              "      <td>0.004484</td>\n",
              "      <td>-0.517457</td>\n",
              "      <td>-0.421862</td>\n",
              "      <td>-0.531180</td>\n",
              "      <td>-0.500850</td>\n",
              "      <td>-0.460279</td>\n",
              "    </tr>\n",
              "    <tr>\n",
              "      <th>2</th>\n",
              "      <td>3/1/1981</td>\n",
              "      <td>-0.928368</td>\n",
              "      <td>-1.075123</td>\n",
              "      <td>-0.868374</td>\n",
              "      <td>-0.598571</td>\n",
              "      <td>-0.933116</td>\n",
              "      <td>-0.607044</td>\n",
              "      <td>-0.244022</td>\n",
              "      <td>-0.720911</td>\n",
              "      <td>-1.047755</td>\n",
              "      <td>-1.076924</td>\n",
              "      <td>-1.058379</td>\n",
              "      <td>-1.096922</td>\n",
              "      <td>-0.959023</td>\n",
              "      <td>-1.078453</td>\n",
              "      <td>0.457884</td>\n",
              "      <td>-0.705629</td>\n",
              "      <td>-0.614041</td>\n",
              "      <td>-0.393737</td>\n",
              "      <td>-0.602754</td>\n",
              "      <td>-0.324907</td>\n",
              "      <td>-0.259543</td>\n",
              "      <td>-0.017261</td>\n",
              "      <td>-0.215103</td>\n",
              "      <td>-0.260946</td>\n",
              "      <td>-0.236655</td>\n",
              "      <td>-0.619377</td>\n",
              "      <td>-1.286124</td>\n",
              "      <td>-1.196967</td>\n",
              "      <td>-0.634234</td>\n",
              "      <td>-0.999054</td>\n",
              "      <td>-0.701751</td>\n",
              "      <td>0.657221</td>\n",
              "      <td>-0.534944</td>\n",
              "      <td>0.006010</td>\n",
              "      <td>-0.903444</td>\n",
              "      <td>-0.385954</td>\n",
              "      <td>-0.920062</td>\n",
              "      <td>-0.805763</td>\n",
              "      <td>-0.892864</td>\n",
              "      <td>...</td>\n",
              "      <td>0.542764</td>\n",
              "      <td>-0.979452</td>\n",
              "      <td>0.096761</td>\n",
              "      <td>-0.582642</td>\n",
              "      <td>0.753552</td>\n",
              "      <td>0.384621</td>\n",
              "      <td>0.490894</td>\n",
              "      <td>0.644722</td>\n",
              "      <td>0.649151</td>\n",
              "      <td>0.604394</td>\n",
              "      <td>-0.249969</td>\n",
              "      <td>-0.351794</td>\n",
              "      <td>-0.352805</td>\n",
              "      <td>-0.295613</td>\n",
              "      <td>-0.383737</td>\n",
              "      <td>-0.240371</td>\n",
              "      <td>-0.386762</td>\n",
              "      <td>-0.300212</td>\n",
              "      <td>-0.200629</td>\n",
              "      <td>-0.180021</td>\n",
              "      <td>-0.202351</td>\n",
              "      <td>-0.269378</td>\n",
              "      <td>-0.420450</td>\n",
              "      <td>-0.408976</td>\n",
              "      <td>-0.297710</td>\n",
              "      <td>-0.352436</td>\n",
              "      <td>-0.328181</td>\n",
              "      <td>-0.278983</td>\n",
              "      <td>-0.397325</td>\n",
              "      <td>-0.402184</td>\n",
              "      <td>-0.352920</td>\n",
              "      <td>-0.230717</td>\n",
              "      <td>-0.216342</td>\n",
              "      <td>-0.284498</td>\n",
              "      <td>-0.383753</td>\n",
              "      <td>0.826897</td>\n",
              "      <td>0.783475</td>\n",
              "      <td>1.020876</td>\n",
              "      <td>0.887536</td>\n",
              "      <td>0.286632</td>\n",
              "    </tr>\n",
              "    <tr>\n",
              "      <th>3</th>\n",
              "      <td>4/1/1981</td>\n",
              "      <td>-0.266323</td>\n",
              "      <td>-0.317591</td>\n",
              "      <td>-0.239929</td>\n",
              "      <td>-0.103243</td>\n",
              "      <td>-0.272606</td>\n",
              "      <td>-0.139844</td>\n",
              "      <td>-0.007131</td>\n",
              "      <td>-0.185271</td>\n",
              "      <td>-0.307400</td>\n",
              "      <td>-0.318330</td>\n",
              "      <td>-0.312773</td>\n",
              "      <td>-0.324719</td>\n",
              "      <td>-0.278742</td>\n",
              "      <td>0.509447</td>\n",
              "      <td>0.375825</td>\n",
              "      <td>-0.973084</td>\n",
              "      <td>-0.029783</td>\n",
              "      <td>-0.219534</td>\n",
              "      <td>-0.328728</td>\n",
              "      <td>-0.311132</td>\n",
              "      <td>0.130150</td>\n",
              "      <td>0.202358</td>\n",
              "      <td>-0.072026</td>\n",
              "      <td>-0.057958</td>\n",
              "      <td>-0.285768</td>\n",
              "      <td>-0.515109</td>\n",
              "      <td>-0.831655</td>\n",
              "      <td>-0.976884</td>\n",
              "      <td>-0.524940</td>\n",
              "      <td>-0.781619</td>\n",
              "      <td>-0.324776</td>\n",
              "      <td>-0.375299</td>\n",
              "      <td>-0.470120</td>\n",
              "      <td>-0.114243</td>\n",
              "      <td>-0.526372</td>\n",
              "      <td>-0.465329</td>\n",
              "      <td>-0.612884</td>\n",
              "      <td>-0.147137</td>\n",
              "      <td>-0.495887</td>\n",
              "      <td>...</td>\n",
              "      <td>-0.038850</td>\n",
              "      <td>0.153984</td>\n",
              "      <td>0.033059</td>\n",
              "      <td>0.103491</td>\n",
              "      <td>-0.189755</td>\n",
              "      <td>-0.126091</td>\n",
              "      <td>-0.459405</td>\n",
              "      <td>-0.435005</td>\n",
              "      <td>-0.641743</td>\n",
              "      <td>-0.624528</td>\n",
              "      <td>-0.231823</td>\n",
              "      <td>-0.230910</td>\n",
              "      <td>-0.251573</td>\n",
              "      <td>-0.311990</td>\n",
              "      <td>-0.244202</td>\n",
              "      <td>-0.264677</td>\n",
              "      <td>-0.229165</td>\n",
              "      <td>-0.388655</td>\n",
              "      <td>-0.366467</td>\n",
              "      <td>-0.352500</td>\n",
              "      <td>-0.392690</td>\n",
              "      <td>-0.270364</td>\n",
              "      <td>-0.211523</td>\n",
              "      <td>-0.222657</td>\n",
              "      <td>-0.236521</td>\n",
              "      <td>-0.300754</td>\n",
              "      <td>-0.242719</td>\n",
              "      <td>-0.432637</td>\n",
              "      <td>-0.249514</td>\n",
              "      <td>-0.248730</td>\n",
              "      <td>-0.277215</td>\n",
              "      <td>-0.322729</td>\n",
              "      <td>-0.338375</td>\n",
              "      <td>-0.318861</td>\n",
              "      <td>-0.260244</td>\n",
              "      <td>0.183783</td>\n",
              "      <td>0.198141</td>\n",
              "      <td>0.220794</td>\n",
              "      <td>0.199073</td>\n",
              "      <td>0.072470</td>\n",
              "    </tr>\n",
              "    <tr>\n",
              "      <th>4</th>\n",
              "      <td>5/1/1981</td>\n",
              "      <td>0.894040</td>\n",
              "      <td>1.404446</td>\n",
              "      <td>1.074264</td>\n",
              "      <td>0.325829</td>\n",
              "      <td>0.735564</td>\n",
              "      <td>0.691685</td>\n",
              "      <td>0.642312</td>\n",
              "      <td>0.904366</td>\n",
              "      <td>1.341124</td>\n",
              "      <td>1.301548</td>\n",
              "      <td>1.340194</td>\n",
              "      <td>1.487773</td>\n",
              "      <td>1.232452</td>\n",
              "      <td>0.838293</td>\n",
              "      <td>-1.059896</td>\n",
              "      <td>0.476847</td>\n",
              "      <td>-0.678932</td>\n",
              "      <td>0.306431</td>\n",
              "      <td>0.452272</td>\n",
              "      <td>0.325043</td>\n",
              "      <td>-0.601174</td>\n",
              "      <td>-0.049740</td>\n",
              "      <td>-0.287530</td>\n",
              "      <td>0.713716</td>\n",
              "      <td>0.482875</td>\n",
              "      <td>0.487401</td>\n",
              "      <td>0.700705</td>\n",
              "      <td>0.447450</td>\n",
              "      <td>0.130796</td>\n",
              "      <td>0.781628</td>\n",
              "      <td>0.423576</td>\n",
              "      <td>0.597127</td>\n",
              "      <td>0.548831</td>\n",
              "      <td>0.773523</td>\n",
              "      <td>0.657970</td>\n",
              "      <td>0.627280</td>\n",
              "      <td>-0.840562</td>\n",
              "      <td>0.485066</td>\n",
              "      <td>0.687741</td>\n",
              "      <td>...</td>\n",
              "      <td>0.918671</td>\n",
              "      <td>1.247678</td>\n",
              "      <td>1.034762</td>\n",
              "      <td>1.158872</td>\n",
              "      <td>0.591691</td>\n",
              "      <td>0.251805</td>\n",
              "      <td>0.404124</td>\n",
              "      <td>0.590918</td>\n",
              "      <td>0.563327</td>\n",
              "      <td>0.423275</td>\n",
              "      <td>0.239876</td>\n",
              "      <td>-0.036531</td>\n",
              "      <td>-0.032926</td>\n",
              "      <td>-0.011948</td>\n",
              "      <td>-0.051267</td>\n",
              "      <td>0.057365</td>\n",
              "      <td>-0.052244</td>\n",
              "      <td>-0.019399</td>\n",
              "      <td>0.014488</td>\n",
              "      <td>0.028550</td>\n",
              "      <td>0.033837</td>\n",
              "      <td>0.017520</td>\n",
              "      <td>-0.069402</td>\n",
              "      <td>-0.064468</td>\n",
              "      <td>-0.001439</td>\n",
              "      <td>-0.033334</td>\n",
              "      <td>-0.019866</td>\n",
              "      <td>-0.021875</td>\n",
              "      <td>-0.057202</td>\n",
              "      <td>-0.059430</td>\n",
              "      <td>-0.037730</td>\n",
              "      <td>0.043413</td>\n",
              "      <td>0.014982</td>\n",
              "      <td>-0.008632</td>\n",
              "      <td>-0.055478</td>\n",
              "      <td>1.124579</td>\n",
              "      <td>1.136052</td>\n",
              "      <td>1.476889</td>\n",
              "      <td>1.285799</td>\n",
              "      <td>0.176940</td>\n",
              "    </tr>\n",
              "  </tbody>\n",
              "</table>\n",
              "<p>5 rows × 270 columns</p>\n",
              "</div>"
            ],
            "text/plain": [
              "       Date  Andong106   Ansan75  ...  Yongin105  Yongsan263  Yuseong53\n",
              "0  1/1/1981  -0.068793  0.007370  ...  -0.341370   -0.337228  -0.397738\n",
              "1  2/1/1981  -0.191194 -0.237572  ...  -0.531180   -0.500850  -0.460279\n",
              "2  3/1/1981  -0.928368 -1.075123  ...   1.020876    0.887536   0.286632\n",
              "3  4/1/1981  -0.266323 -0.317591  ...   0.220794    0.199073   0.072470\n",
              "4  5/1/1981   0.894040  1.404446  ...   1.476889    1.285799   0.176940\n",
              "\n",
              "[5 rows x 270 columns]"
            ]
          },
          "metadata": {
            "tags": []
          },
          "execution_count": 908
        }
      ]
    },
    {
      "cell_type": "code",
      "metadata": {
        "colab": {
          "base_uri": "https://localhost:8080/",
          "height": 223
        },
        "id": "jbR33R-8EQ4L",
        "outputId": "c4d5adac-a240-4861-91c9-71060d480fe1"
      },
      "source": [
        "# data of group i\n",
        "dataset0=dataset1000[listi]\n",
        "dataset0.head()"
      ],
      "execution_count": null,
      "outputs": [
        {
          "output_type": "execute_result",
          "data": {
            "text/html": [
              "<div>\n",
              "<style scoped>\n",
              "    .dataframe tbody tr th:only-of-type {\n",
              "        vertical-align: middle;\n",
              "    }\n",
              "\n",
              "    .dataframe tbody tr th {\n",
              "        vertical-align: top;\n",
              "    }\n",
              "\n",
              "    .dataframe thead th {\n",
              "        text-align: right;\n",
              "    }\n",
              "</style>\n",
              "<table border=\"1\" class=\"dataframe\">\n",
              "  <thead>\n",
              "    <tr style=\"text-align: right;\">\n",
              "      <th></th>\n",
              "      <th>Cheongju14</th>\n",
              "      <th>Cheorwon54</th>\n",
              "      <th>Chuncheon55</th>\n",
              "      <th>Daedeok49</th>\n",
              "      <th>Dangjin30</th>\n",
              "      <th>Nowon255</th>\n",
              "      <th>Okcheon23</th>\n",
              "      <th>Ongjin166</th>\n",
              "      <th>Osan92</th>\n",
              "      <th>Pocheon94</th>\n",
              "      <th>Pyeongtaek95</th>\n",
              "      <th>Sacheon145</th>\n",
              "      <th>Saha9</th>\n",
              "      <th>Samcheok65</th>\n",
              "      <th>Sancheong146</th>\n",
              "      <th>Seo167</th>\n",
              "    </tr>\n",
              "  </thead>\n",
              "  <tbody>\n",
              "    <tr>\n",
              "      <th>0</th>\n",
              "      <td>-0.017936</td>\n",
              "      <td>-0.373941</td>\n",
              "      <td>-0.300738</td>\n",
              "      <td>-0.020772</td>\n",
              "      <td>-0.101062</td>\n",
              "      <td>-0.128654</td>\n",
              "      <td>-0.767726</td>\n",
              "      <td>-0.334344</td>\n",
              "      <td>-0.147844</td>\n",
              "      <td>-0.134708</td>\n",
              "      <td>-0.144838</td>\n",
              "      <td>0.211903</td>\n",
              "      <td>0.281308</td>\n",
              "      <td>0.099463</td>\n",
              "      <td>0.040012</td>\n",
              "      <td>0.132084</td>\n",
              "    </tr>\n",
              "    <tr>\n",
              "      <th>1</th>\n",
              "      <td>-0.224242</td>\n",
              "      <td>-0.106518</td>\n",
              "      <td>-0.071552</td>\n",
              "      <td>-0.181485</td>\n",
              "      <td>-0.228362</td>\n",
              "      <td>-0.432089</td>\n",
              "      <td>-1.060877</td>\n",
              "      <td>-0.726683</td>\n",
              "      <td>-0.683289</td>\n",
              "      <td>-0.292483</td>\n",
              "      <td>-0.889609</td>\n",
              "      <td>-0.342522</td>\n",
              "      <td>-0.341271</td>\n",
              "      <td>-0.179665</td>\n",
              "      <td>0.050795</td>\n",
              "      <td>-0.302498</td>\n",
              "    </tr>\n",
              "    <tr>\n",
              "      <th>2</th>\n",
              "      <td>-0.236655</td>\n",
              "      <td>-1.196967</td>\n",
              "      <td>-0.999054</td>\n",
              "      <td>0.657221</td>\n",
              "      <td>-0.385954</td>\n",
              "      <td>0.170108</td>\n",
              "      <td>0.291827</td>\n",
              "      <td>-0.090173</td>\n",
              "      <td>-0.062196</td>\n",
              "      <td>-0.505988</td>\n",
              "      <td>-0.751742</td>\n",
              "      <td>0.365168</td>\n",
              "      <td>0.536468</td>\n",
              "      <td>0.122847</td>\n",
              "      <td>0.213598</td>\n",
              "      <td>0.291798</td>\n",
              "    </tr>\n",
              "    <tr>\n",
              "      <th>3</th>\n",
              "      <td>-0.285768</td>\n",
              "      <td>-0.976884</td>\n",
              "      <td>-0.781619</td>\n",
              "      <td>-0.375299</td>\n",
              "      <td>-0.465329</td>\n",
              "      <td>-0.222122</td>\n",
              "      <td>-0.384763</td>\n",
              "      <td>-0.225440</td>\n",
              "      <td>-0.216865</td>\n",
              "      <td>-0.438273</td>\n",
              "      <td>-0.183782</td>\n",
              "      <td>-0.046846</td>\n",
              "      <td>-0.011366</td>\n",
              "      <td>-0.153328</td>\n",
              "      <td>0.015221</td>\n",
              "      <td>-0.082431</td>\n",
              "    </tr>\n",
              "    <tr>\n",
              "      <th>4</th>\n",
              "      <td>0.482875</td>\n",
              "      <td>0.447450</td>\n",
              "      <td>0.781628</td>\n",
              "      <td>0.597127</td>\n",
              "      <td>0.627280</td>\n",
              "      <td>0.454121</td>\n",
              "      <td>0.481380</td>\n",
              "      <td>0.006176</td>\n",
              "      <td>0.251880</td>\n",
              "      <td>0.095866</td>\n",
              "      <td>0.174197</td>\n",
              "      <td>0.420605</td>\n",
              "      <td>0.480970</td>\n",
              "      <td>-0.184946</td>\n",
              "      <td>-0.060201</td>\n",
              "      <td>0.268641</td>\n",
              "    </tr>\n",
              "  </tbody>\n",
              "</table>\n",
              "</div>"
            ],
            "text/plain": [
              "   Cheongju14  Cheorwon54  Chuncheon55  ...  Samcheok65  Sancheong146    Seo167\n",
              "0   -0.017936   -0.373941    -0.300738  ...    0.099463      0.040012  0.132084\n",
              "1   -0.224242   -0.106518    -0.071552  ...   -0.179665      0.050795 -0.302498\n",
              "2   -0.236655   -1.196967    -0.999054  ...    0.122847      0.213598  0.291798\n",
              "3   -0.285768   -0.976884    -0.781619  ...   -0.153328      0.015221 -0.082431\n",
              "4    0.482875    0.447450     0.781628  ...   -0.184946     -0.060201  0.268641\n",
              "\n",
              "[5 rows x 16 columns]"
            ]
          },
          "metadata": {
            "tags": []
          },
          "execution_count": 909
        }
      ]
    },
    {
      "cell_type": "code",
      "metadata": {
        "colab": {
          "base_uri": "https://localhost:8080/"
        },
        "id": "_v_vMe26FmPj",
        "outputId": "ae51a22e-0533-4769-f1e1-415ba5a35fb3"
      },
      "source": [
        "dataset0.shape"
      ],
      "execution_count": null,
      "outputs": [
        {
          "output_type": "execute_result",
          "data": {
            "text/plain": [
              "(432, 16)"
            ]
          },
          "metadata": {
            "tags": []
          },
          "execution_count": 910
        }
      ]
    },
    {
      "cell_type": "code",
      "metadata": {
        "colab": {
          "base_uri": "https://localhost:8080/"
        },
        "id": "nm0mYb_fFyZH",
        "outputId": "01dd9b0b-fb0d-4553-9942-0959112ba679"
      },
      "source": [
        "dataset0_values=dataset0.values\n",
        "dataset=dataset0_values.reshape(dataset0.shape[0],dataset0.shape[1])\n",
        "dataset.shape"
      ],
      "execution_count": null,
      "outputs": [
        {
          "output_type": "execute_result",
          "data": {
            "text/plain": [
              "(432, 16)"
            ]
          },
          "metadata": {
            "tags": []
          },
          "execution_count": 911
        }
      ]
    },
    {
      "cell_type": "code",
      "metadata": {
        "id": "T6nDSFefACDh"
      },
      "source": [
        "\n",
        "# # convert to [rows, columns] structure\n",
        "# in_seq1 = in_seq1.reshape((len(in_seq1), 1))\n",
        "# in_seq2 = in_seq2.reshape((len(in_seq2), 1))\n",
        "# out_seq = out_seq.reshape((len(out_seq), 1))\n",
        "# # horizontally stack columns\n",
        "# dataset = hstack((in_seq1, in_seq2, out_seq))\n",
        "# dataset\n"
      ],
      "execution_count": null,
      "outputs": []
    },
    {
      "cell_type": "markdown",
      "metadata": {
        "id": "K2TSboyqueZg"
      },
      "source": [
        "# Scaled all data before split\n"
      ]
    },
    {
      "cell_type": "code",
      "metadata": {
        "colab": {
          "base_uri": "https://localhost:8080/",
          "height": 315
        },
        "id": "GChPUEpYvXBK",
        "outputId": "1164ab70-ddcb-4530-e38a-58e3af9d1948"
      },
      "source": [
        "# demonstrate data normalization with sklearn\n",
        "from sklearn.preprocessing import MinMaxScaler\n",
        "# create scaler\n",
        "scaler = MinMaxScaler([-1,1])\n",
        "datasetsc=scaler.fit_transform(dataset)\n",
        "pd.DataFrame(datasetsc).describe()"
      ],
      "execution_count": null,
      "outputs": [
        {
          "output_type": "execute_result",
          "data": {
            "text/html": [
              "<div>\n",
              "<style scoped>\n",
              "    .dataframe tbody tr th:only-of-type {\n",
              "        vertical-align: middle;\n",
              "    }\n",
              "\n",
              "    .dataframe tbody tr th {\n",
              "        vertical-align: top;\n",
              "    }\n",
              "\n",
              "    .dataframe thead th {\n",
              "        text-align: right;\n",
              "    }\n",
              "</style>\n",
              "<table border=\"1\" class=\"dataframe\">\n",
              "  <thead>\n",
              "    <tr style=\"text-align: right;\">\n",
              "      <th></th>\n",
              "      <th>0</th>\n",
              "      <th>1</th>\n",
              "      <th>2</th>\n",
              "      <th>3</th>\n",
              "      <th>4</th>\n",
              "      <th>5</th>\n",
              "      <th>6</th>\n",
              "      <th>7</th>\n",
              "      <th>8</th>\n",
              "      <th>9</th>\n",
              "      <th>10</th>\n",
              "      <th>11</th>\n",
              "      <th>12</th>\n",
              "      <th>13</th>\n",
              "      <th>14</th>\n",
              "      <th>15</th>\n",
              "    </tr>\n",
              "  </thead>\n",
              "  <tbody>\n",
              "    <tr>\n",
              "      <th>count</th>\n",
              "      <td>432.000000</td>\n",
              "      <td>432.000000</td>\n",
              "      <td>432.000000</td>\n",
              "      <td>432.000000</td>\n",
              "      <td>432.000000</td>\n",
              "      <td>432.000000</td>\n",
              "      <td>432.000000</td>\n",
              "      <td>432.000000</td>\n",
              "      <td>432.000000</td>\n",
              "      <td>432.000000</td>\n",
              "      <td>432.000000</td>\n",
              "      <td>432.000000</td>\n",
              "      <td>432.000000</td>\n",
              "      <td>432.000000</td>\n",
              "      <td>432.000000</td>\n",
              "      <td>432.000000</td>\n",
              "    </tr>\n",
              "    <tr>\n",
              "      <th>mean</th>\n",
              "      <td>0.112652</td>\n",
              "      <td>0.001989</td>\n",
              "      <td>0.004191</td>\n",
              "      <td>0.115189</td>\n",
              "      <td>0.021959</td>\n",
              "      <td>-0.164080</td>\n",
              "      <td>-0.028370</td>\n",
              "      <td>-0.078190</td>\n",
              "      <td>0.009933</td>\n",
              "      <td>-0.009478</td>\n",
              "      <td>0.015251</td>\n",
              "      <td>-0.033976</td>\n",
              "      <td>0.004351</td>\n",
              "      <td>0.112804</td>\n",
              "      <td>0.165964</td>\n",
              "      <td>0.053303</td>\n",
              "    </tr>\n",
              "    <tr>\n",
              "      <th>std</th>\n",
              "      <td>0.315279</td>\n",
              "      <td>0.320797</td>\n",
              "      <td>0.304024</td>\n",
              "      <td>0.345029</td>\n",
              "      <td>0.288002</td>\n",
              "      <td>0.225998</td>\n",
              "      <td>0.353542</td>\n",
              "      <td>0.232097</td>\n",
              "      <td>0.234832</td>\n",
              "      <td>0.281914</td>\n",
              "      <td>0.263451</td>\n",
              "      <td>0.300046</td>\n",
              "      <td>0.349642</td>\n",
              "      <td>0.267426</td>\n",
              "      <td>0.290594</td>\n",
              "      <td>0.318317</td>\n",
              "    </tr>\n",
              "    <tr>\n",
              "      <th>min</th>\n",
              "      <td>-1.000000</td>\n",
              "      <td>-1.000000</td>\n",
              "      <td>-1.000000</td>\n",
              "      <td>-1.000000</td>\n",
              "      <td>-1.000000</td>\n",
              "      <td>-1.000000</td>\n",
              "      <td>-1.000000</td>\n",
              "      <td>-1.000000</td>\n",
              "      <td>-1.000000</td>\n",
              "      <td>-1.000000</td>\n",
              "      <td>-1.000000</td>\n",
              "      <td>-1.000000</td>\n",
              "      <td>-1.000000</td>\n",
              "      <td>-1.000000</td>\n",
              "      <td>-1.000000</td>\n",
              "      <td>-1.000000</td>\n",
              "    </tr>\n",
              "    <tr>\n",
              "      <th>25%</th>\n",
              "      <td>-0.084114</td>\n",
              "      <td>-0.210832</td>\n",
              "      <td>-0.213966</td>\n",
              "      <td>-0.117772</td>\n",
              "      <td>-0.145318</td>\n",
              "      <td>-0.289195</td>\n",
              "      <td>-0.289442</td>\n",
              "      <td>-0.200652</td>\n",
              "      <td>-0.088787</td>\n",
              "      <td>-0.162621</td>\n",
              "      <td>-0.116323</td>\n",
              "      <td>-0.234106</td>\n",
              "      <td>-0.225890</td>\n",
              "      <td>-0.017248</td>\n",
              "      <td>-0.001370</td>\n",
              "      <td>-0.145323</td>\n",
              "    </tr>\n",
              "    <tr>\n",
              "      <th>50%</th>\n",
              "      <td>0.158797</td>\n",
              "      <td>0.063528</td>\n",
              "      <td>0.042713</td>\n",
              "      <td>0.157172</td>\n",
              "      <td>0.045231</td>\n",
              "      <td>-0.183642</td>\n",
              "      <td>0.018068</td>\n",
              "      <td>-0.072141</td>\n",
              "      <td>0.036605</td>\n",
              "      <td>0.003141</td>\n",
              "      <td>0.073621</td>\n",
              "      <td>-0.016436</td>\n",
              "      <td>0.028890</td>\n",
              "      <td>0.132188</td>\n",
              "      <td>0.185887</td>\n",
              "      <td>0.086256</td>\n",
              "    </tr>\n",
              "    <tr>\n",
              "      <th>75%</th>\n",
              "      <td>0.323845</td>\n",
              "      <td>0.234976</td>\n",
              "      <td>0.197219</td>\n",
              "      <td>0.360311</td>\n",
              "      <td>0.179996</td>\n",
              "      <td>-0.049718</td>\n",
              "      <td>0.225259</td>\n",
              "      <td>0.053797</td>\n",
              "      <td>0.129686</td>\n",
              "      <td>0.149230</td>\n",
              "      <td>0.178544</td>\n",
              "      <td>0.164906</td>\n",
              "      <td>0.244415</td>\n",
              "      <td>0.262541</td>\n",
              "      <td>0.328868</td>\n",
              "      <td>0.238681</td>\n",
              "    </tr>\n",
              "    <tr>\n",
              "      <th>max</th>\n",
              "      <td>1.000000</td>\n",
              "      <td>1.000000</td>\n",
              "      <td>1.000000</td>\n",
              "      <td>1.000000</td>\n",
              "      <td>1.000000</td>\n",
              "      <td>1.000000</td>\n",
              "      <td>1.000000</td>\n",
              "      <td>1.000000</td>\n",
              "      <td>1.000000</td>\n",
              "      <td>1.000000</td>\n",
              "      <td>1.000000</td>\n",
              "      <td>1.000000</td>\n",
              "      <td>1.000000</td>\n",
              "      <td>1.000000</td>\n",
              "      <td>1.000000</td>\n",
              "      <td>1.000000</td>\n",
              "    </tr>\n",
              "  </tbody>\n",
              "</table>\n",
              "</div>"
            ],
            "text/plain": [
              "               0           1           2   ...          13          14          15\n",
              "count  432.000000  432.000000  432.000000  ...  432.000000  432.000000  432.000000\n",
              "mean     0.112652    0.001989    0.004191  ...    0.112804    0.165964    0.053303\n",
              "std      0.315279    0.320797    0.304024  ...    0.267426    0.290594    0.318317\n",
              "min     -1.000000   -1.000000   -1.000000  ...   -1.000000   -1.000000   -1.000000\n",
              "25%     -0.084114   -0.210832   -0.213966  ...   -0.017248   -0.001370   -0.145323\n",
              "50%      0.158797    0.063528    0.042713  ...    0.132188    0.185887    0.086256\n",
              "75%      0.323845    0.234976    0.197219  ...    0.262541    0.328868    0.238681\n",
              "max      1.000000    1.000000    1.000000  ...    1.000000    1.000000    1.000000\n",
              "\n",
              "[8 rows x 16 columns]"
            ]
          },
          "metadata": {
            "tags": []
          },
          "execution_count": 913
        }
      ]
    },
    {
      "cell_type": "markdown",
      "metadata": {
        "id": "gidePyVyqdap"
      },
      "source": [
        "# Set input data"
      ]
    },
    {
      "cell_type": "code",
      "metadata": {
        "id": "urs7H5pVFQ9a"
      },
      "source": [
        "# split data to train, val, test : 432 with scaled 0.6,0.2,0.2\n",
        "# use dataset scaled\n",
        "dataset=datasetsc\n",
        "datasettrain=dataset[0:int(0.6*dataset.shape[0]),:]\n",
        "datasetval=dataset[int(0.6*dataset.shape[0]):int(0.8*dataset.shape[0]),:]\n",
        "datasettest=dataset[int(0.8*dataset.shape[0]):,:]\n",
        "# choose a number of time steps\n",
        "n_steps_in, n_steps_out = 36, 6\n",
        "# covert into input/output\n",
        "Xtrain, ytrain = split_sequences(datasettrain, n_steps_in, n_steps_out)\n",
        "Xval, yval = split_sequences(datasetval, n_steps_in, n_steps_out)\n",
        "Xtest, ytest = split_sequences(datasettest, n_steps_in, n_steps_out)\n"
      ],
      "execution_count": null,
      "outputs": []
    },
    {
      "cell_type": "markdown",
      "metadata": {
        "id": "WKpRPgGGqk7_"
      },
      "source": [
        "# Set model parameters"
      ]
    },
    {
      "cell_type": "code",
      "metadata": {
        "colab": {
          "base_uri": "https://localhost:8080/"
        },
        "id": "a4JiZMR5RKsk",
        "outputId": "ec9578a9-fd0e-42b3-e4e9-63476953f914"
      },
      "source": [
        "# Using huber activate functions, dropout\n",
        "# optimization\n",
        "number_units0=200\n",
        "number_epochs0=800\n",
        "number_batch0=16\n",
        "# activation_function0='tanh'\n",
        "activation_function0='custom_activation2'\n",
        "dropout0=0.5\n",
        "patience0=100\n",
        "learing_rate0=0.01\n",
        "beta_1_0=0.9\n",
        "beta_2_0=0.999\n",
        "epsilon_0=1e-05\n",
        "optimizer_function0=optimizers.Adam(learning_rate=learing_rate0, beta_1=beta_1_0, beta_2=beta_2_0,epsilon=epsilon_0, amsgrad=True)\n",
        "# loss0='huber'\n",
        "loss0='mse'\n",
        "\n",
        "# the dataset knows the number of features, e.g. 2\n",
        "n_features = Xtrain.shape[2]\n",
        "# define model\n",
        "KK.clear_session()\n",
        "model = Sequential()\n",
        "model.add(LSTM(number_units0, activation=activation_function0, return_sequences=True,input_shape=(n_steps_in, n_features)))\n",
        "model.add(LSTM(number_units0, activation=activation_function0,return_sequences=True,input_shape=(n_steps_in, n_features)))\n",
        "model.add(LSTM(number_units0, activation=activation_function0,return_sequences=True,input_shape=(n_steps_in, n_features)))\n",
        "model.add(LSTM(number_units0, activation=activation_function0))\n",
        "model.add(RepeatVector(n_steps_out))\n",
        "model.add(LSTM(number_units0, activation=activation_function0, return_sequences=True))\n",
        "model.add(LSTM(number_units0, activation=activation_function0, return_sequences=True))\n",
        "model.add(LSTM(number_units0, activation=activation_function0, return_sequences=True))\n",
        "model.add(Dropout(dropout0)) # them vao\n",
        "model.add(TimeDistributed(Dense(n_features)))\n",
        "model.compile(optimizer=optimizer_function0, loss=loss0)\n",
        "model.summary()"
      ],
      "execution_count": null,
      "outputs": [
        {
          "output_type": "stream",
          "text": [
            "WARNING:tensorflow:Layer lstm will not use cuDNN kernels since it doesn't meet the criteria. It will use a generic GPU kernel as fallback when running on GPU.\n",
            "WARNING:tensorflow:Layer lstm_1 will not use cuDNN kernels since it doesn't meet the criteria. It will use a generic GPU kernel as fallback when running on GPU.\n",
            "WARNING:tensorflow:Layer lstm_2 will not use cuDNN kernels since it doesn't meet the criteria. It will use a generic GPU kernel as fallback when running on GPU.\n",
            "WARNING:tensorflow:Layer lstm_3 will not use cuDNN kernels since it doesn't meet the criteria. It will use a generic GPU kernel as fallback when running on GPU.\n",
            "WARNING:tensorflow:Layer lstm_4 will not use cuDNN kernels since it doesn't meet the criteria. It will use a generic GPU kernel as fallback when running on GPU.\n",
            "WARNING:tensorflow:Layer lstm_5 will not use cuDNN kernels since it doesn't meet the criteria. It will use a generic GPU kernel as fallback when running on GPU.\n",
            "WARNING:tensorflow:Layer lstm_6 will not use cuDNN kernels since it doesn't meet the criteria. It will use a generic GPU kernel as fallback when running on GPU.\n",
            "Model: \"sequential\"\n",
            "_________________________________________________________________\n",
            "Layer (type)                 Output Shape              Param #   \n",
            "=================================================================\n",
            "lstm (LSTM)                  (None, 24, 200)           173600    \n",
            "_________________________________________________________________\n",
            "lstm_1 (LSTM)                (None, 24, 200)           320800    \n",
            "_________________________________________________________________\n",
            "lstm_2 (LSTM)                (None, 24, 200)           320800    \n",
            "_________________________________________________________________\n",
            "lstm_3 (LSTM)                (None, 200)               320800    \n",
            "_________________________________________________________________\n",
            "repeat_vector (RepeatVector) (None, 6, 200)            0         \n",
            "_________________________________________________________________\n",
            "lstm_4 (LSTM)                (None, 6, 200)            320800    \n",
            "_________________________________________________________________\n",
            "lstm_5 (LSTM)                (None, 6, 200)            320800    \n",
            "_________________________________________________________________\n",
            "lstm_6 (LSTM)                (None, 6, 200)            320800    \n",
            "_________________________________________________________________\n",
            "dropout (Dropout)            (None, 6, 200)            0         \n",
            "_________________________________________________________________\n",
            "time_distributed (TimeDistri (None, 6, 16)             3216      \n",
            "=================================================================\n",
            "Total params: 2,101,616\n",
            "Trainable params: 2,101,616\n",
            "Non-trainable params: 0\n",
            "_________________________________________________________________\n"
          ],
          "name": "stdout"
        }
      ]
    },
    {
      "cell_type": "code",
      "metadata": {
        "id": "rxv2kfqsGvMv"
      },
      "source": [
        "es = EarlyStopping(monitor='val_loss', mode='min', verbose=0,patience=patience0)\n",
        "# fit model\n",
        "# model.fit(Xtrain, ytrain, epochs=300, verbose=0,validation_data=(Xval,yval),callbacks=[PlotLossesKeras()])\n",
        "history=model.fit(Xtrain, ytrain, epochs=number_batch0, verbose=0,validation_data=(Xval,yval),callbacks=[es])\n"
      ],
      "execution_count": null,
      "outputs": []
    },
    {
      "cell_type": "code",
      "metadata": {
        "colab": {
          "base_uri": "https://localhost:8080/",
          "height": 441
        },
        "id": "uFv81Cq117S7",
        "outputId": "f84f8f9f-06ed-4769-9b5d-04f5a9e7c109"
      },
      "source": [
        "# plot history\n",
        "plt.figure(figsize=(8, 6))\n",
        "plt.plot(history.history['loss'], label='train')\n",
        "plt.plot(history.history['val_loss'], label='test')\n",
        "plt.grid(True,linestyle='-.')\n",
        "plt.xlabel('epochs')\n",
        "plt.ylabel(loss0)\n",
        "plt.legend()\n",
        "plt.tight_layout()\n",
        "plt.savefig(output_directories[0]+'/'+'loss'+str(n_steps_in)+'_'+str(n_steps_out)+'cluster'+str(i)+'.png')"
      ],
      "execution_count": null,
      "outputs": [
        {
          "output_type": "display_data",
          "data": {
            "image/png": "[encoded data removed]",
            "text/plain": [
              "<Figure size 576x432 with 1 Axes>"
            ]
          },
          "metadata": {
            "tags": [],
            "needs_background": "light"
          }
        }
      ]
    },
    {
      "cell_type": "code",
      "metadata": {
        "colab": {
          "base_uri": "https://localhost:8080/"
        },
        "id": "B167S-H8H5N6",
        "outputId": "609418e1-a32a-4ec6-d012-f2b2aab30334"
      },
      "source": [
        "\n",
        "# demonstrate prediction\n",
        "# dataset0_values=dataset0.values\n",
        "# dataset=dataset0_values.reshape(dataset0.shape[0],dataset0.shape[1])\n",
        "# X, y = split_sequences(dataset, n_steps_in, n_steps_out)\n",
        "# x_input = array([[60, 65, 125], [70, 75, 145], [80, 85, 165]])\n",
        "x_input=Xtest\n",
        "# x_input = x_input.reshape((1, n_steps_in, n_features))\n",
        "yhat = model.predict(x_input, verbose=0)\n",
        "# print(yhat)\n",
        "yhat.shape"
      ],
      "execution_count": null,
      "outputs": [
        {
          "output_type": "execute_result",
          "data": {
            "text/plain": [
              "(58, 6, 16)"
            ]
          },
          "metadata": {
            "tags": []
          },
          "execution_count": 918
        }
      ]
    },
    {
      "cell_type": "code",
      "metadata": {
        "colab": {
          "base_uri": "https://localhost:8080/"
        },
        "id": "BRiosEiHJd5C",
        "outputId": "079f7928-dd02-4b1b-8bf3-271b787ca124"
      },
      "source": [
        "(ytest.shape,yhat.shape)"
      ],
      "execution_count": null,
      "outputs": [
        {
          "output_type": "execute_result",
          "data": {
            "text/plain": [
              "((58, 6, 16), (58, 6, 16))"
            ]
          },
          "metadata": {
            "tags": []
          },
          "execution_count": 919
        }
      ]
    },
    {
      "cell_type": "code",
      "metadata": {
        "colab": {
          "base_uri": "https://localhost:8080/",
          "height": 441
        },
        "id": "O_StX-MULYVe",
        "outputId": "6c8cdd42-4a31-4baf-f02b-2290bed9e317"
      },
      "source": [
        "from matplotlib.gridspec import GridSpec\n",
        "fig = plt.figure(figsize=(8, 6))\n",
        "gs=GridSpec(3,2)\n",
        "k=-1\n",
        "for i in range(3):\n",
        "  for j in range(2):\n",
        "    k+=1\n",
        "    ax = fig.add_subplot(gs[i, j])\n",
        "    ax=plt.plot(yhat[0,:,k],'-.x',color='red')\n",
        "    ax=plt.plot(ytest[0,:,k],'-.s',color='black')\n",
        "    ax=plt.legend(['pred','obs'])\n",
        "    ax=plt.title('comparison at '+listi[k])\n",
        "\n",
        "plt.tight_layout()\n",
        "plt.savefig(output_directories[0]+'/'+str(n_steps_in)+'_'+str(n_steps_out)+'cluster'+str(i)+'.png')"
      ],
      "execution_count": null,
      "outputs": [
        {
          "output_type": "display_data",
          "data": {
            "image/png": "[encoded data removed]",
            "text/plain": [
              "<Figure size 576x432 with 6 Axes>"
            ]
          },
          "metadata": {
            "tags": [],
            "needs_background": "light"
          }
        }
      ]
    },
    {
      "cell_type": "markdown",
      "metadata": {
        "id": "dzmS-53974CU"
      },
      "source": [
        "# Error prediction"
      ]
    },
    {
      "cell_type": "code",
      "metadata": {
        "colab": {
          "base_uri": "https://localhost:8080/"
        },
        "id": "RT3SSwYP78gZ",
        "outputId": "1d135f7a-cc1d-43ec-f40c-63f0d4549ec5"
      },
      "source": [
        "rmse = sqrt(mean_squared_error(yhat[0,:,k], ytest[0,:,k]))\n",
        "mape=mean_absolute_percentage_error(yhat[0,:,k], ytest[0,:,k])\n",
        "print('Test RMSE: %.3f' % rmse)\n",
        "print('Test MAPE: %.3f' % mape)"
      ],
      "execution_count": null,
      "outputs": [
        {
          "output_type": "stream",
          "text": [
            "Test RMSE: 0.374\n",
            "Test MAPE: 261.950\n"
          ],
          "name": "stdout"
        }
      ]
    }
  ]
}