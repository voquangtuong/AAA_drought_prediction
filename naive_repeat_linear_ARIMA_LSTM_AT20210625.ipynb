{
  "nbformat": 4,
  "nbformat_minor": 0,
  "metadata": {
    "accelerator": "GPU",
    "colab": {
      "name": "naive_repeat_linear_ARIMA_LSTM_AT20210625.ipynb",
      "provenance": [],
      "collapsed_sections": [],
      "toc_visible": true,
      "include_colab_link": true
    },
    "kernelspec": {
      "display_name": "Python 3",
      "name": "python3"
    }
  },
  "cells": [
    {
      "cell_type": "markdown",
      "metadata": {
        "id": "view-in-github",
        "colab_type": "text"
      },
      "source": [
        "<a href=\"https://colab.research.google.com/github/voquangtuong/AAA_drought_prediction/blob/main/naive_repeat_linear_ARIMA_LSTM_AT20210625.ipynb\" target=\"_parent\"><img src=\"https://colab.research.google.com/assets/colab-badge.svg\" alt=\"Open In Colab\"/></a>"
      ]
    },
    {
      "cell_type": "markdown",
      "metadata": {
        "id": "pa49bUnKyRgF"
      },
      "source": [
        "# Time series forecasting"
      ]
    },
    {
      "cell_type": "markdown",
      "metadata": {
        "id": "GU8C5qm_4vZb"
      },
      "source": [
        "This tutorial is an introduction to time series forecasting using TensorFlow. It builds a few different styles of models including Convolutional and Recurrent Neural Networks (CNNs and RNNs).\n",
        "\n",
        "This is covered in two main parts, with subsections: \n",
        "\n",
        "* Forecast for a single timestep:\n",
        "  * A single feature.\n",
        "  * All features.\n",
        "* Forecast multiple steps:\n",
        "  * Single-shot: Make the predictions all at once.\n",
        "  * Autoregressive: Make one prediction at a time and feed the output back to the model."
      ]
    },
    {
      "cell_type": "markdown",
      "metadata": {
        "id": "XVhK72Pu1cJL"
      },
      "source": [
        "## Setup"
      ]
    },
    {
      "cell_type": "code",
      "metadata": {
        "id": "7rZnJaGTWQw0"
      },
      "source": [
        "import os\n",
        "import datetime\n",
        "\n",
        "import IPython\n",
        "import IPython.display\n",
        "import matplotlib as mpl\n",
        "import matplotlib.pyplot as plt\n",
        "import numpy as np\n",
        "import pandas as pd\n",
        "import seaborn as sns\n",
        "import tensorflow as tf\n",
        "\n",
        "mpl.rcParams['figure.figsize'] = (8, 6)\n",
        "mpl.rcParams['axes.grid'] = False\n",
        "from keras.utils.vis_utils import plot_model"
      ],
      "execution_count": null,
      "outputs": []
    },
    {
      "cell_type": "markdown",
      "metadata": {
        "id": "TokBlnUhWFw9"
      },
      "source": [
        "## The weather dataset\n",
        "This tutorial uses a <a href=\"https://www.bgc-jena.mpg.de/wetter/\" class=\"external\">weather time series dataset</a> recorded by the <a href=\"https://www.bgc-jena.mpg.de\" class=\"external\">Max Planck Institute for Biogeochemistry</a>.\n",
        "\n",
        "This dataset contains 14 different features such as air temperature, atmospheric pressure, and humidity. These were collected every 10 minutes, beginning in 2003. For efficiency, you will use only the data collected between 2009 and 2016. This section of the dataset was prepared by François Chollet for his book [Deep Learning with Python](https://www.manning.com/books/deep-learning-with-python)."
      ]
    },
    {
      "cell_type": "code",
      "metadata": {
        "id": "xyv_i85IWInT"
      },
      "source": [
        "# zip_path = tf.keras.utils.get_file(\n",
        "#     origin='https://storage.googleapis.com/tensorflow/tf-keras-datasets/jena_climate_2009_2016.csv.zip',\n",
        "#     fname='jena_climate_2009_2016.csv.zip',\n",
        "#     extract=True)\n",
        "# csv_path, _ = os.path.splitext(zip_path)"
      ],
      "execution_count": null,
      "outputs": []
    },
    {
      "cell_type": "markdown",
      "metadata": {
        "id": "veMvN_NppqUK"
      },
      "source": [
        "## Modified input data "
      ]
    },
    {
      "cell_type": "code",
      "metadata": {
        "colab": {
          "base_uri": "https://localhost:8080/"
        },
        "id": "Ky6UIJOSp1j6",
        "outputId": "deb0e5db-33ac-42aa-9104-0ffe47c4f22e"
      },
      "source": [
        "from google.colab import drive\n",
        "drive.mount('/content/drive')"
      ],
      "execution_count": null,
      "outputs": [
        {
          "output_type": "stream",
          "text": [
            "Drive already mounted at /content/drive; to attempt to forcibly remount, call drive.mount(\"/content/drive\", force_remount=True).\n"
          ],
          "name": "stdout"
        }
      ]
    },
    {
      "cell_type": "markdown",
      "metadata": {
        "id": "R81Wx8WP4c3G"
      },
      "source": [
        "This tutorial will just deal with **hourly predictions**, so start by sub-sampling the data from 10 minute intervals to 1h:"
      ]
    },
    {
      "cell_type": "code",
      "metadata": {
        "id": "PX0APoLIq5sm"
      },
      "source": [
        "# Set current working and output folders:\n",
        "import os\n",
        "os.chdir('/content/drive/MyDrive')\n",
        "output_dirs=['output_fig_MO4mohinh','output_tab_MO4mohinh']\n",
        "for out in output_dirs:\n",
        "  if not os.path.exists(out):\n",
        "    os.makedirs(out)\n"
      ],
      "execution_count": null,
      "outputs": []
    },
    {
      "cell_type": "markdown",
      "metadata": {
        "id": "BtcCK80Fsdl7"
      },
      "source": [
        "# reading data and create the correlated dataset"
      ]
    },
    {
      "cell_type": "code",
      "metadata": {
        "id": "vs7a4Pa5tG_8"
      },
      "source": [
        "#import library\n",
        "import time\n",
        "start=time.time()\n",
        "from math import sqrt\n",
        "from numpy import concatenate\n",
        "from matplotlib import pyplot as plt\n",
        "from pandas import read_csv\n",
        "from pandas import DataFrame\n",
        "from pandas import concat\n",
        "from sklearn.preprocessing import MinMaxScaler\n",
        "from sklearn.preprocessing import LabelEncoder\n",
        "from sklearn.metrics import mean_squared_error\n",
        "from keras.models import Sequential\n",
        "from keras.layers import Dense\n",
        "from keras.layers import LSTM\n",
        "from keras.layers import Dropout\n",
        "import numpy as np\n",
        "import pandas as pd\n",
        "from pandas import read_csv\n",
        "from datetime import datetime\n",
        "from keras import optimizers\n",
        "import matplotlib\n",
        "import keras\n",
        "from keras.layers import TimeDistributed\n",
        "from keras.layers import RepeatVector\n",
        "from tensorflow.keras import backend as KK\n",
        "from keras.callbacks import EarlyStopping\n",
        "def parse(x):\n",
        " \treturn datetime.strptime(x, '%Y %m %d')\n",
        " #---------------------------------------------------------------------------\n",
        "import numpy as np\n",
        "# =============================================================================\n",
        "# # import optimize library\n",
        "# import skopt\n",
        "# from skopt import gp_minimize, forest_minimize\n",
        "# from skopt.space import Real, Categorical, Integer\n",
        "# from skopt.plots import plot_convergence\n",
        "# from skopt.plots import plot_objective, plot_evaluations\n",
        "# from skopt.plots import plot_histogram, plot_objective_2D\n",
        "# from skopt.utils import use_named_args\n",
        "# from keras.models import model_from_json\n",
        "from keras.models import load_model\n",
        "import seaborn as sns\n",
        "from scipy.stats import pearsonr\n",
        "from scipy import stats\n",
        "# set random seed\n",
        "import numpy as np\n",
        "import tensorflow as tf\n",
        "from tensorflow.keras.callbacks import TensorBoard\n",
        "np.random.seed(123456789)\n",
        "tf.random.set_seed(123456789)\n",
        "import os\n",
        "import matplotlib\n",
        "#%matplotlib inline\n",
        "# =============================================================================\n",
        "\n",
        "def mean_absolute_percentage_error(y_true, y_pred): \n",
        "    y_true, y_pred = np.array(y_true), np.array(y_pred)\n",
        "    return np.mean(np.abs((y_true - y_pred) / y_true)) * 100 \n",
        "\n",
        "\n",
        "# define a function to covert time series to suppervised learning\n",
        "\n",
        "# In[8]:\n",
        "\n",
        "\n",
        "#convert series to supervised learning\n",
        "def series_to_supervised(data, n_in, n_out, dropnan=True):\n",
        "\tn_vars = 1 if type(data) is list else data.shape[1]\n",
        "\tdf = DataFrame(data)\n",
        "\tcols, names = list(), list()\n",
        "\t# input sequence (t-n, ... t-1)\n",
        "\tfor i in range(n_in, 0, -1):\n",
        "\t\tcols.append(df.shift(i))\n",
        "\t\tnames += [('var%d(t-%d)' % (j+1, i)) for j in range(n_vars)]\n",
        "\t# forecast sequence (t, t+1, ... t+n)\n",
        "\tfor i in range(0, n_out):\n",
        "\t\tcols.append(df.shift(-i))\n",
        "\t\tif i == 0:\n",
        "\t\t\tnames += [('var%d(t)' % (j+1)) for j in range(n_vars)]\n",
        "\t\telse:\n",
        "\t\t\tnames += [('var%d(t+%d)' % (j+1, i)) for j in range(n_vars)]\n",
        "\t# put it all together\n",
        "\tagg = concat(cols, axis=1)\n",
        "\tagg.columns = names\n",
        "\t# drop rows with NaN values\n",
        "\tif dropnan:\n",
        "\t\tagg.dropna(inplace=True)\n",
        "\treturn agg\n",
        "\n",
        "# convert label in barplot\n",
        "def line_format(label):\n",
        "    \"\"\"\n",
        "    Convert time label to the format of pandas line plot\n",
        "    \"\"\"\n",
        "    month = label.month_name()[:3]\n",
        "    if month == 'Jan':\n",
        "        month += f'\\n{label.year}'\n",
        "    return month\n",
        "\n",
        "\n",
        "# restructrue dataframe\n",
        "# # example\n",
        "\n",
        "# list1=['a','b','c','d','e','f']\n",
        "# for k in range(1,len(list1)):\n",
        "#     list2=list1[0:1]+list1[k:]+list1[1:k]\n",
        "#     print(list2)\n",
        "# =============================================================================\n",
        "# Helper record parameter into directory\n",
        "def log_dir_name(units,epochs,batch_size,activation,learning_rate,loss,dropout):\n",
        "\n",
        "    # The dir-name for the TensorBoard log-dir.\n",
        "    s = \"./19_logs/lr_{0:.0e}_layers_{1}_nodes_{2}_{3}/\"\n",
        "\n",
        "    # Insert all the hyper-parameters in the dir-name.\n",
        "    log_dir = s.format(units,\n",
        "                       epochs,\n",
        "                       batch_size,\n",
        "                       activation,\n",
        "                       learning_rate,\n",
        "                       loss,dropout)\n",
        "\n",
        "    return log_dir\n",
        "\n",
        "# =============================================================================\n",
        "# Customize activate functions\n",
        "# huber loss\n",
        "def huber(true, pred, delta):\n",
        "    loss = np.where(np.abs(true-pred) < delta , 0.5*((true-pred)**2), delta*np.abs(true - pred) - 0.5*(delta**2))\n",
        "    return np.sum(loss)\n",
        "# Custom activation function\n",
        "from keras.layers import Activation\n",
        "from keras import backend as K\n",
        "from keras.utils.generic_utils import get_custom_objects\n",
        "\n",
        "\n",
        "def custom_activation(x):\n",
        "    return (K.sigmoid(x) * 3.5) \n",
        "\n",
        "get_custom_objects().update({'custom_activation': Activation(custom_activation)})\n",
        "\n",
        "# Huber losss\n",
        "def custom_activation1(x):\n",
        "    \n",
        "    return (K.sigmoid(x) * 3.5) \n",
        "\n",
        "get_custom_objects().update({'custom_activation1': Activation(custom_activation1)})"
      ],
      "execution_count": null,
      "outputs": []
    },
    {
      "cell_type": "code",
      "metadata": {
        "colab": {
          "base_uri": "https://localhost:8080/",
          "height": 459
        },
        "id": "5BNVBzAkuIVl",
        "outputId": "58692775-ecb2-47ce-9125-72006c01678a"
      },
      "source": [
        "dataset1000=pd.read_csv(\"input_data/percentile_101.csv\")\n",
        "# dataset0.describe()\n",
        "# dataset00.head()\n",
        "# # chuyen data tu 2001/01-2019/12\n",
        "# dataset0=dataset00.iloc[6:-4,0:]\n",
        "# dataset0.reset_index(drop=True,inplace=True)\n",
        "# dataset0\n",
        "# =============================================================================\n",
        "# Arrange predicted column\n",
        "list1 = dataset1000.columns.tolist()\n",
        "# for k in range(1,len(list1)):\n",
        "    #  check station 1\n",
        "k=1  \n",
        "list2=list1[0:1]+list1[k:]+list1[1:k]\n",
        "# print(list2)\n",
        "# Using indent to control loop of station\n",
        "# dataset=dataset0[list2]\n",
        "# dataset.describe()\n",
        "# modified dataset\n",
        "# print(list2)\n",
        "# Using indent to control loop of station\n",
        "# dataset100=dataset0[list2]\n",
        "# dataset.describe()\n",
        "dataset0=dataset1000[list2] # avoid dataset0 not change\n",
        "corr = dataset0.corr()\n",
        "df=corr\n",
        "df2 = df[df.columns[df.iloc[0,:] > 0.9]]\n",
        "df2\n",
        "list3=df2.columns.tolist()\n",
        "list3.insert(0,'Date')\n",
        "dataset=dataset0[list3]\n",
        "dataset0=dataset # avoid dataset0 not change\n",
        "fig0=plt.Figure()\n",
        "plt.Figure(figsize=(8,6))\n",
        "corr1 = dataset.corr()\n",
        "# corr1.style.background_gradient(cmap='coolwarm')\n",
        "# 'RdBu_r' & 'BrBG' are other good diverging colormaps\n",
        "# plt.title(\"Zones have correlation > 0.9 at  \"+list1[k])\n",
        "# plt.tight_layout()\n",
        "# plt.savefig(output_fig+\"\\\\\"+list1[k]+\"Corel\"+\".png\",dpi=300)\n",
        "fig, ax = plt.subplots()\n",
        "sns.heatmap(dataset.corr(method='pearson'), annot=True, fmt='.2f', \n",
        "            cmap=plt.get_cmap('coolwarm'), cbar=False, ax=ax)\n",
        "# ax.set_yticklabels(ax.get_yticklabels(), rotation=\"horizontal\")\n",
        "ax.set_yticklabels(ax.get_yticklabels(), rotation=\"horizontal\")\n",
        "plt.title(\"Zones have correlation > 0.9 at  \"+list1[k])\n",
        "# plt.savefig(output_fig+\"/\"+list1[k]+\"Corel\"+\".png\",dpi=300, bbox_inches='tight', pad_inches=0.0)\n",
        "\n",
        "# corr1.to_csv(output_tab+\"/\"+list1[k]+\"cor\"+\".csv\")"
      ],
      "execution_count": null,
      "outputs": [
        {
          "output_type": "execute_result",
          "data": {
            "text/plain": [
              "Text(0.5, 1.0, 'Zones have correlation > 0.9 at  Andong106')"
            ]
          },
          "metadata": {
            "tags": []
          },
          "execution_count": 126
        },
        {
          "output_type": "display_data",
          "data": {
            "image/png": "[encoded data removed]",
            "text/plain": [
              "<Figure size 576x432 with 1 Axes>"
            ]
          },
          "metadata": {
            "tags": [],
            "needs_background": "light"
          }
        }
      ]
    },
    {
      "cell_type": "code",
      "metadata": {
        "colab": {
          "base_uri": "https://localhost:8080/",
          "height": 203
        },
        "id": "fUX7sCzo-9qG",
        "outputId": "8459d7ce-f2de-4ab4-d35a-94dedf12126a"
      },
      "source": [
        "cluster_df=pd.read_csv('/content/drive/MyDrive/output_tab_cluster/cluster_df.csv')\n",
        "cluster_df.head()"
      ],
      "execution_count": null,
      "outputs": [
        {
          "output_type": "execute_result",
          "data": {
            "text/html": [
              "<div>\n",
              "<style scoped>\n",
              "    .dataframe tbody tr th:only-of-type {\n",
              "        vertical-align: middle;\n",
              "    }\n",
              "\n",
              "    .dataframe tbody tr th {\n",
              "        vertical-align: top;\n",
              "    }\n",
              "\n",
              "    .dataframe thead th {\n",
              "        text-align: right;\n",
              "    }\n",
              "</style>\n",
              "<table border=\"1\" class=\"dataframe\">\n",
              "  <thead>\n",
              "    <tr style=\"text-align: right;\">\n",
              "      <th></th>\n",
              "      <th>Unnamed: 0</th>\n",
              "      <th>clusters</th>\n",
              "      <th>zones</th>\n",
              "    </tr>\n",
              "  </thead>\n",
              "  <tbody>\n",
              "    <tr>\n",
              "      <th>0</th>\n",
              "      <td>0</td>\n",
              "      <td>Cluster 1</td>\n",
              "      <td>Cheongju14</td>\n",
              "    </tr>\n",
              "    <tr>\n",
              "      <th>1</th>\n",
              "      <td>1</td>\n",
              "      <td>Cluster 1</td>\n",
              "      <td>Cheorwon54</td>\n",
              "    </tr>\n",
              "    <tr>\n",
              "      <th>2</th>\n",
              "      <td>2</td>\n",
              "      <td>Cluster 1</td>\n",
              "      <td>Chuncheon55</td>\n",
              "    </tr>\n",
              "    <tr>\n",
              "      <th>3</th>\n",
              "      <td>3</td>\n",
              "      <td>Cluster 1</td>\n",
              "      <td>Daedeok49</td>\n",
              "    </tr>\n",
              "    <tr>\n",
              "      <th>4</th>\n",
              "      <td>4</td>\n",
              "      <td>Cluster 1</td>\n",
              "      <td>Dangjin30</td>\n",
              "    </tr>\n",
              "  </tbody>\n",
              "</table>\n",
              "</div>"
            ],
            "text/plain": [
              "   Unnamed: 0   clusters        zones\n",
              "0           0  Cluster 1   Cheongju14\n",
              "1           1  Cluster 1   Cheorwon54\n",
              "2           2  Cluster 1  Chuncheon55\n",
              "3           3  Cluster 1    Daedeok49\n",
              "4           4  Cluster 1    Dangjin30"
            ]
          },
          "metadata": {
            "tags": []
          },
          "execution_count": 127
        }
      ]
    },
    {
      "cell_type": "code",
      "metadata": {
        "colab": {
          "base_uri": "https://localhost:8080/"
        },
        "id": "peBYvsn6_D_2",
        "outputId": "b2b50b42-7b52-4b9a-af85-93c0206efa4f"
      },
      "source": [
        "# query Cluster1\n",
        "i=0\n",
        "list_cluster_name=cluster_df.clusters.unique().tolist()\n",
        "df=cluster_df\n",
        "listi=df.loc[df['clusters'] == list_cluster_name[i]]['zones'].values.tolist()\n",
        "listi"
      ],
      "execution_count": null,
      "outputs": [
        {
          "output_type": "execute_result",
          "data": {
            "text/plain": [
              "['Cheongju14',\n",
              " 'Cheorwon54',\n",
              " 'Chuncheon55',\n",
              " 'Daedeok49',\n",
              " 'Dangjin30',\n",
              " 'Nowon255',\n",
              " 'Okcheon23',\n",
              " 'Ongjin166',\n",
              " 'Osan92',\n",
              " 'Pocheon94',\n",
              " 'Pyeongtaek95',\n",
              " 'Sacheon145',\n",
              " 'Saha9',\n",
              " 'Samcheok65',\n",
              " 'Sancheong146',\n",
              " 'Seo167']"
            ]
          },
          "metadata": {
            "tags": []
          },
          "execution_count": 128
        }
      ]
    },
    {
      "cell_type": "code",
      "metadata": {
        "colab": {
          "base_uri": "https://localhost:8080/",
          "height": 269
        },
        "id": "8-SoU-UJ_Ix9",
        "outputId": "05df3d6a-3a93-4550-c6c8-a7d93dc5044f"
      },
      "source": [
        "dataset1000=pd.read_csv(\"input_data/percentile_season_adj.csv\")\n",
        "dataset1000.head()"
      ],
      "execution_count": null,
      "outputs": [
        {
          "output_type": "execute_result",
          "data": {
            "text/html": [
              "<div>\n",
              "<style scoped>\n",
              "    .dataframe tbody tr th:only-of-type {\n",
              "        vertical-align: middle;\n",
              "    }\n",
              "\n",
              "    .dataframe tbody tr th {\n",
              "        vertical-align: top;\n",
              "    }\n",
              "\n",
              "    .dataframe thead th {\n",
              "        text-align: right;\n",
              "    }\n",
              "</style>\n",
              "<table border=\"1\" class=\"dataframe\">\n",
              "  <thead>\n",
              "    <tr style=\"text-align: right;\">\n",
              "      <th></th>\n",
              "      <th>Date</th>\n",
              "      <th>Andong106</th>\n",
              "      <th>Ansan75</th>\n",
              "      <th>Ansoeng76</th>\n",
              "      <th>Anyang77</th>\n",
              "      <th>Asan25</th>\n",
              "      <th>Boeun13</th>\n",
              "      <th>Bonghwa107</th>\n",
              "      <th>Boryeong26</th>\n",
              "      <th>Boseong186</th>\n",
              "      <th>Buan170</th>\n",
              "      <th>Buan171</th>\n",
              "      <th>Bucheon78</th>\n",
              "      <th>Buk0</th>\n",
              "      <th>Buk264</th>\n",
              "      <th>Buk41</th>\n",
              "      <th>Buk72</th>\n",
              "      <th>Bupyeong154</th>\n",
              "      <th>Busanjin1</th>\n",
              "      <th>Buyeo27</th>\n",
              "      <th>Changnyeong128</th>\n",
              "      <th>Changwon129</th>\n",
              "      <th>Changwon130</th>\n",
              "      <th>Cheonan28</th>\n",
              "      <th>Cheongdo108</th>\n",
              "      <th>Cheongju14</th>\n",
              "      <th>Cheongsong109</th>\n",
              "      <th>Cheongyang29</th>\n",
              "      <th>Cheorwon54</th>\n",
              "      <th>Chilgok110</th>\n",
              "      <th>Chuncheon55</th>\n",
              "      <th>Chungju15</th>\n",
              "      <th>Daedeok49</th>\n",
              "      <th>Dalseo42</th>\n",
              "      <th>Dalseong43</th>\n",
              "      <th>Damyang187</th>\n",
              "      <th>Dangjin30</th>\n",
              "      <th>Danyang16</th>\n",
              "      <th>Dobong240</th>\n",
              "      <th>Dong-daemun241</th>\n",
              "      <th>...</th>\n",
              "      <th>Wando224</th>\n",
              "      <th>Wando225</th>\n",
              "      <th>Wando226</th>\n",
              "      <th>Wando227</th>\n",
              "      <th>Wando228</th>\n",
              "      <th>Wando229</th>\n",
              "      <th>Wando230</th>\n",
              "      <th>Wando231</th>\n",
              "      <th>Wando232</th>\n",
              "      <th>Wanju185</th>\n",
              "      <th>Wonju68</th>\n",
              "      <th>Yangcheon261</th>\n",
              "      <th>Yanggu69</th>\n",
              "      <th>Yangju101</th>\n",
              "      <th>Yangpyeong102</th>\n",
              "      <th>Yangsan153</th>\n",
              "      <th>Yangyang70</th>\n",
              "      <th>Yecheon123</th>\n",
              "      <th>Yeoju103</th>\n",
              "      <th>Yeoncheon104</th>\n",
              "      <th>Yeongam233</th>\n",
              "      <th>Yeongcheon124</th>\n",
              "      <th>Yeongdeok125</th>\n",
              "      <th>Yeongdeungpo262</th>\n",
              "      <th>Yeongdo11</th>\n",
              "      <th>Yeongdong24</th>\n",
              "      <th>Yeonggwang234</th>\n",
              "      <th>Yeongi239</th>\n",
              "      <th>Yeongju126</th>\n",
              "      <th>Yeongwol71</th>\n",
              "      <th>Yeongyang127</th>\n",
              "      <th>Yeonje12</th>\n",
              "      <th>Yeosu235</th>\n",
              "      <th>Yeosu236</th>\n",
              "      <th>Yeosu237</th>\n",
              "      <th>Yeosu238</th>\n",
              "      <th>Yesan40</th>\n",
              "      <th>Yongin105</th>\n",
              "      <th>Yongsan263</th>\n",
              "      <th>Yuseong53</th>\n",
              "    </tr>\n",
              "  </thead>\n",
              "  <tbody>\n",
              "    <tr>\n",
              "      <th>0</th>\n",
              "      <td>1/1/1981</td>\n",
              "      <td>-0.068793</td>\n",
              "      <td>0.007370</td>\n",
              "      <td>-0.043025</td>\n",
              "      <td>0.027512</td>\n",
              "      <td>-0.016300</td>\n",
              "      <td>-0.135790</td>\n",
              "      <td>-0.280612</td>\n",
              "      <td>-0.085975</td>\n",
              "      <td>0.000382</td>\n",
              "      <td>0.010484</td>\n",
              "      <td>0.006280</td>\n",
              "      <td>0.018972</td>\n",
              "      <td>-0.013240</td>\n",
              "      <td>0.180639</td>\n",
              "      <td>0.058954</td>\n",
              "      <td>0.111425</td>\n",
              "      <td>-0.348126</td>\n",
              "      <td>0.074321</td>\n",
              "      <td>0.030633</td>\n",
              "      <td>-0.136730</td>\n",
              "      <td>-0.106414</td>\n",
              "      <td>0.115682</td>\n",
              "      <td>0.074885</td>\n",
              "      <td>0.043213</td>\n",
              "      <td>-0.017936</td>\n",
              "      <td>-0.147586</td>\n",
              "      <td>-0.349976</td>\n",
              "      <td>-0.373941</td>\n",
              "      <td>0.027995</td>\n",
              "      <td>-0.300738</td>\n",
              "      <td>-0.288500</td>\n",
              "      <td>-0.020772</td>\n",
              "      <td>-0.163009</td>\n",
              "      <td>-0.087655</td>\n",
              "      <td>-0.246005</td>\n",
              "      <td>-0.101062</td>\n",
              "      <td>-0.279076</td>\n",
              "      <td>-0.350928</td>\n",
              "      <td>-0.245401</td>\n",
              "      <td>...</td>\n",
              "      <td>-0.013955</td>\n",
              "      <td>0.164799</td>\n",
              "      <td>0.067646</td>\n",
              "      <td>0.127357</td>\n",
              "      <td>-0.196007</td>\n",
              "      <td>-0.064919</td>\n",
              "      <td>0.124725</td>\n",
              "      <td>0.110258</td>\n",
              "      <td>0.109936</td>\n",
              "      <td>0.114082</td>\n",
              "      <td>-0.105871</td>\n",
              "      <td>-0.245509</td>\n",
              "      <td>-0.255475</td>\n",
              "      <td>-0.288880</td>\n",
              "      <td>-0.264224</td>\n",
              "      <td>-0.198930</td>\n",
              "      <td>-0.262297</td>\n",
              "      <td>-0.303282</td>\n",
              "      <td>-0.146950</td>\n",
              "      <td>-0.214944</td>\n",
              "      <td>-0.338890</td>\n",
              "      <td>-0.241755</td>\n",
              "      <td>-0.278760</td>\n",
              "      <td>-0.276730</td>\n",
              "      <td>-0.230615</td>\n",
              "      <td>-0.254436</td>\n",
              "      <td>-0.226088</td>\n",
              "      <td>-0.360223</td>\n",
              "      <td>-0.268837</td>\n",
              "      <td>-0.262598</td>\n",
              "      <td>-0.267553</td>\n",
              "      <td>-0.254590</td>\n",
              "      <td>-0.192182</td>\n",
              "      <td>-0.253589</td>\n",
              "      <td>-0.282550</td>\n",
              "      <td>-0.340427</td>\n",
              "      <td>-0.311349</td>\n",
              "      <td>-0.341370</td>\n",
              "      <td>-0.337228</td>\n",
              "      <td>-0.397738</td>\n",
              "    </tr>\n",
              "    <tr>\n",
              "      <th>1</th>\n",
              "      <td>2/1/1981</td>\n",
              "      <td>-0.191194</td>\n",
              "      <td>-0.237572</td>\n",
              "      <td>-0.179815</td>\n",
              "      <td>-0.001349</td>\n",
              "      <td>-0.172738</td>\n",
              "      <td>-0.127369</td>\n",
              "      <td>-0.152398</td>\n",
              "      <td>-0.155773</td>\n",
              "      <td>-0.229314</td>\n",
              "      <td>-0.231227</td>\n",
              "      <td>-0.231224</td>\n",
              "      <td>-0.244268</td>\n",
              "      <td>-0.213504</td>\n",
              "      <td>-0.594912</td>\n",
              "      <td>0.036537</td>\n",
              "      <td>-0.184171</td>\n",
              "      <td>-0.599457</td>\n",
              "      <td>-0.150594</td>\n",
              "      <td>-0.392935</td>\n",
              "      <td>-0.177609</td>\n",
              "      <td>-0.303816</td>\n",
              "      <td>-0.092468</td>\n",
              "      <td>-0.080002</td>\n",
              "      <td>-0.310935</td>\n",
              "      <td>-0.224242</td>\n",
              "      <td>-0.264360</td>\n",
              "      <td>-0.761589</td>\n",
              "      <td>-0.106518</td>\n",
              "      <td>-0.329234</td>\n",
              "      <td>-0.071552</td>\n",
              "      <td>0.213725</td>\n",
              "      <td>-0.181485</td>\n",
              "      <td>-0.122219</td>\n",
              "      <td>-0.229894</td>\n",
              "      <td>-0.277321</td>\n",
              "      <td>-0.228362</td>\n",
              "      <td>-0.418940</td>\n",
              "      <td>0.471807</td>\n",
              "      <td>-0.378842</td>\n",
              "      <td>...</td>\n",
              "      <td>0.375895</td>\n",
              "      <td>0.486931</td>\n",
              "      <td>0.397852</td>\n",
              "      <td>0.441008</td>\n",
              "      <td>-0.118358</td>\n",
              "      <td>-0.398302</td>\n",
              "      <td>-0.087127</td>\n",
              "      <td>-0.076630</td>\n",
              "      <td>-0.264790</td>\n",
              "      <td>-0.231785</td>\n",
              "      <td>-0.193851</td>\n",
              "      <td>0.031028</td>\n",
              "      <td>0.025802</td>\n",
              "      <td>0.041053</td>\n",
              "      <td>-0.001360</td>\n",
              "      <td>0.082747</td>\n",
              "      <td>0.008690</td>\n",
              "      <td>0.033101</td>\n",
              "      <td>0.034159</td>\n",
              "      <td>0.079708</td>\n",
              "      <td>0.082600</td>\n",
              "      <td>0.075339</td>\n",
              "      <td>-0.000386</td>\n",
              "      <td>0.002848</td>\n",
              "      <td>0.062447</td>\n",
              "      <td>-0.017866</td>\n",
              "      <td>0.042617</td>\n",
              "      <td>0.036308</td>\n",
              "      <td>-0.012414</td>\n",
              "      <td>-0.007019</td>\n",
              "      <td>0.019740</td>\n",
              "      <td>0.092779</td>\n",
              "      <td>0.055353</td>\n",
              "      <td>0.034344</td>\n",
              "      <td>0.004484</td>\n",
              "      <td>-0.517457</td>\n",
              "      <td>-0.421862</td>\n",
              "      <td>-0.531180</td>\n",
              "      <td>-0.500850</td>\n",
              "      <td>-0.460279</td>\n",
              "    </tr>\n",
              "    <tr>\n",
              "      <th>2</th>\n",
              "      <td>3/1/1981</td>\n",
              "      <td>-0.928368</td>\n",
              "      <td>-1.075123</td>\n",
              "      <td>-0.868374</td>\n",
              "      <td>-0.598571</td>\n",
              "      <td>-0.933116</td>\n",
              "      <td>-0.607044</td>\n",
              "      <td>-0.244022</td>\n",
              "      <td>-0.720911</td>\n",
              "      <td>-1.047755</td>\n",
              "      <td>-1.076924</td>\n",
              "      <td>-1.058379</td>\n",
              "      <td>-1.096922</td>\n",
              "      <td>-0.959023</td>\n",
              "      <td>-1.078453</td>\n",
              "      <td>0.457884</td>\n",
              "      <td>-0.705629</td>\n",
              "      <td>-0.614041</td>\n",
              "      <td>-0.393737</td>\n",
              "      <td>-0.602754</td>\n",
              "      <td>-0.324907</td>\n",
              "      <td>-0.259543</td>\n",
              "      <td>-0.017261</td>\n",
              "      <td>-0.215103</td>\n",
              "      <td>-0.260946</td>\n",
              "      <td>-0.236655</td>\n",
              "      <td>-0.619377</td>\n",
              "      <td>-1.286124</td>\n",
              "      <td>-1.196967</td>\n",
              "      <td>-0.634234</td>\n",
              "      <td>-0.999054</td>\n",
              "      <td>-0.701751</td>\n",
              "      <td>0.657221</td>\n",
              "      <td>-0.534944</td>\n",
              "      <td>0.006010</td>\n",
              "      <td>-0.903444</td>\n",
              "      <td>-0.385954</td>\n",
              "      <td>-0.920062</td>\n",
              "      <td>-0.805763</td>\n",
              "      <td>-0.892864</td>\n",
              "      <td>...</td>\n",
              "      <td>0.542764</td>\n",
              "      <td>-0.979452</td>\n",
              "      <td>0.096761</td>\n",
              "      <td>-0.582642</td>\n",
              "      <td>0.753552</td>\n",
              "      <td>0.384621</td>\n",
              "      <td>0.490894</td>\n",
              "      <td>0.644722</td>\n",
              "      <td>0.649151</td>\n",
              "      <td>0.604394</td>\n",
              "      <td>-0.249969</td>\n",
              "      <td>-0.351794</td>\n",
              "      <td>-0.352805</td>\n",
              "      <td>-0.295613</td>\n",
              "      <td>-0.383737</td>\n",
              "      <td>-0.240371</td>\n",
              "      <td>-0.386762</td>\n",
              "      <td>-0.300212</td>\n",
              "      <td>-0.200629</td>\n",
              "      <td>-0.180021</td>\n",
              "      <td>-0.202351</td>\n",
              "      <td>-0.269378</td>\n",
              "      <td>-0.420450</td>\n",
              "      <td>-0.408976</td>\n",
              "      <td>-0.297710</td>\n",
              "      <td>-0.352436</td>\n",
              "      <td>-0.328181</td>\n",
              "      <td>-0.278983</td>\n",
              "      <td>-0.397325</td>\n",
              "      <td>-0.402184</td>\n",
              "      <td>-0.352920</td>\n",
              "      <td>-0.230717</td>\n",
              "      <td>-0.216342</td>\n",
              "      <td>-0.284498</td>\n",
              "      <td>-0.383753</td>\n",
              "      <td>0.826897</td>\n",
              "      <td>0.783475</td>\n",
              "      <td>1.020876</td>\n",
              "      <td>0.887536</td>\n",
              "      <td>0.286632</td>\n",
              "    </tr>\n",
              "    <tr>\n",
              "      <th>3</th>\n",
              "      <td>4/1/1981</td>\n",
              "      <td>-0.266323</td>\n",
              "      <td>-0.317591</td>\n",
              "      <td>-0.239929</td>\n",
              "      <td>-0.103243</td>\n",
              "      <td>-0.272606</td>\n",
              "      <td>-0.139844</td>\n",
              "      <td>-0.007131</td>\n",
              "      <td>-0.185271</td>\n",
              "      <td>-0.307400</td>\n",
              "      <td>-0.318330</td>\n",
              "      <td>-0.312773</td>\n",
              "      <td>-0.324719</td>\n",
              "      <td>-0.278742</td>\n",
              "      <td>0.509447</td>\n",
              "      <td>0.375825</td>\n",
              "      <td>-0.973084</td>\n",
              "      <td>-0.029783</td>\n",
              "      <td>-0.219534</td>\n",
              "      <td>-0.328728</td>\n",
              "      <td>-0.311132</td>\n",
              "      <td>0.130150</td>\n",
              "      <td>0.202358</td>\n",
              "      <td>-0.072026</td>\n",
              "      <td>-0.057958</td>\n",
              "      <td>-0.285768</td>\n",
              "      <td>-0.515109</td>\n",
              "      <td>-0.831655</td>\n",
              "      <td>-0.976884</td>\n",
              "      <td>-0.524940</td>\n",
              "      <td>-0.781619</td>\n",
              "      <td>-0.324776</td>\n",
              "      <td>-0.375299</td>\n",
              "      <td>-0.470120</td>\n",
              "      <td>-0.114243</td>\n",
              "      <td>-0.526372</td>\n",
              "      <td>-0.465329</td>\n",
              "      <td>-0.612884</td>\n",
              "      <td>-0.147137</td>\n",
              "      <td>-0.495887</td>\n",
              "      <td>...</td>\n",
              "      <td>-0.038850</td>\n",
              "      <td>0.153984</td>\n",
              "      <td>0.033059</td>\n",
              "      <td>0.103491</td>\n",
              "      <td>-0.189755</td>\n",
              "      <td>-0.126091</td>\n",
              "      <td>-0.459405</td>\n",
              "      <td>-0.435005</td>\n",
              "      <td>-0.641743</td>\n",
              "      <td>-0.624528</td>\n",
              "      <td>-0.231823</td>\n",
              "      <td>-0.230910</td>\n",
              "      <td>-0.251573</td>\n",
              "      <td>-0.311990</td>\n",
              "      <td>-0.244202</td>\n",
              "      <td>-0.264677</td>\n",
              "      <td>-0.229165</td>\n",
              "      <td>-0.388655</td>\n",
              "      <td>-0.366467</td>\n",
              "      <td>-0.352500</td>\n",
              "      <td>-0.392690</td>\n",
              "      <td>-0.270364</td>\n",
              "      <td>-0.211523</td>\n",
              "      <td>-0.222657</td>\n",
              "      <td>-0.236521</td>\n",
              "      <td>-0.300754</td>\n",
              "      <td>-0.242719</td>\n",
              "      <td>-0.432637</td>\n",
              "      <td>-0.249514</td>\n",
              "      <td>-0.248730</td>\n",
              "      <td>-0.277215</td>\n",
              "      <td>-0.322729</td>\n",
              "      <td>-0.338375</td>\n",
              "      <td>-0.318861</td>\n",
              "      <td>-0.260244</td>\n",
              "      <td>0.183783</td>\n",
              "      <td>0.198141</td>\n",
              "      <td>0.220794</td>\n",
              "      <td>0.199073</td>\n",
              "      <td>0.072470</td>\n",
              "    </tr>\n",
              "    <tr>\n",
              "      <th>4</th>\n",
              "      <td>5/1/1981</td>\n",
              "      <td>0.894040</td>\n",
              "      <td>1.404446</td>\n",
              "      <td>1.074264</td>\n",
              "      <td>0.325829</td>\n",
              "      <td>0.735564</td>\n",
              "      <td>0.691685</td>\n",
              "      <td>0.642312</td>\n",
              "      <td>0.904366</td>\n",
              "      <td>1.341124</td>\n",
              "      <td>1.301548</td>\n",
              "      <td>1.340194</td>\n",
              "      <td>1.487773</td>\n",
              "      <td>1.232452</td>\n",
              "      <td>0.838293</td>\n",
              "      <td>-1.059896</td>\n",
              "      <td>0.476847</td>\n",
              "      <td>-0.678932</td>\n",
              "      <td>0.306431</td>\n",
              "      <td>0.452272</td>\n",
              "      <td>0.325043</td>\n",
              "      <td>-0.601174</td>\n",
              "      <td>-0.049740</td>\n",
              "      <td>-0.287530</td>\n",
              "      <td>0.713716</td>\n",
              "      <td>0.482875</td>\n",
              "      <td>0.487401</td>\n",
              "      <td>0.700705</td>\n",
              "      <td>0.447450</td>\n",
              "      <td>0.130796</td>\n",
              "      <td>0.781628</td>\n",
              "      <td>0.423576</td>\n",
              "      <td>0.597127</td>\n",
              "      <td>0.548831</td>\n",
              "      <td>0.773523</td>\n",
              "      <td>0.657970</td>\n",
              "      <td>0.627280</td>\n",
              "      <td>-0.840562</td>\n",
              "      <td>0.485066</td>\n",
              "      <td>0.687741</td>\n",
              "      <td>...</td>\n",
              "      <td>0.918671</td>\n",
              "      <td>1.247678</td>\n",
              "      <td>1.034762</td>\n",
              "      <td>1.158872</td>\n",
              "      <td>0.591691</td>\n",
              "      <td>0.251805</td>\n",
              "      <td>0.404124</td>\n",
              "      <td>0.590918</td>\n",
              "      <td>0.563327</td>\n",
              "      <td>0.423275</td>\n",
              "      <td>0.239876</td>\n",
              "      <td>-0.036531</td>\n",
              "      <td>-0.032926</td>\n",
              "      <td>-0.011948</td>\n",
              "      <td>-0.051267</td>\n",
              "      <td>0.057365</td>\n",
              "      <td>-0.052244</td>\n",
              "      <td>-0.019399</td>\n",
              "      <td>0.014488</td>\n",
              "      <td>0.028550</td>\n",
              "      <td>0.033837</td>\n",
              "      <td>0.017520</td>\n",
              "      <td>-0.069402</td>\n",
              "      <td>-0.064468</td>\n",
              "      <td>-0.001439</td>\n",
              "      <td>-0.033334</td>\n",
              "      <td>-0.019866</td>\n",
              "      <td>-0.021875</td>\n",
              "      <td>-0.057202</td>\n",
              "      <td>-0.059430</td>\n",
              "      <td>-0.037730</td>\n",
              "      <td>0.043413</td>\n",
              "      <td>0.014982</td>\n",
              "      <td>-0.008632</td>\n",
              "      <td>-0.055478</td>\n",
              "      <td>1.124579</td>\n",
              "      <td>1.136052</td>\n",
              "      <td>1.476889</td>\n",
              "      <td>1.285799</td>\n",
              "      <td>0.176940</td>\n",
              "    </tr>\n",
              "  </tbody>\n",
              "</table>\n",
              "<p>5 rows × 270 columns</p>\n",
              "</div>"
            ],
            "text/plain": [
              "       Date  Andong106   Ansan75  ...  Yongin105  Yongsan263  Yuseong53\n",
              "0  1/1/1981  -0.068793  0.007370  ...  -0.341370   -0.337228  -0.397738\n",
              "1  2/1/1981  -0.191194 -0.237572  ...  -0.531180   -0.500850  -0.460279\n",
              "2  3/1/1981  -0.928368 -1.075123  ...   1.020876    0.887536   0.286632\n",
              "3  4/1/1981  -0.266323 -0.317591  ...   0.220794    0.199073   0.072470\n",
              "4  5/1/1981   0.894040  1.404446  ...   1.476889    1.285799   0.176940\n",
              "\n",
              "[5 rows x 270 columns]"
            ]
          },
          "metadata": {
            "tags": []
          },
          "execution_count": 129
        }
      ]
    },
    {
      "cell_type": "code",
      "metadata": {
        "colab": {
          "base_uri": "https://localhost:8080/",
          "height": 223
        },
        "id": "IlCVy9Ng_UM6",
        "outputId": "effd2a3d-bd37-4da8-98c8-3d14ee8abb6f"
      },
      "source": [
        "# data of group i\n",
        "dataset0=dataset1000[listi]\n",
        "# dataset0['month_sin']=month_sin\n",
        "dataset0.insert(0,'Date',dataset1000['Date'])\n",
        "dataset0.head()"
      ],
      "execution_count": null,
      "outputs": [
        {
          "output_type": "execute_result",
          "data": {
            "text/html": [
              "<div>\n",
              "<style scoped>\n",
              "    .dataframe tbody tr th:only-of-type {\n",
              "        vertical-align: middle;\n",
              "    }\n",
              "\n",
              "    .dataframe tbody tr th {\n",
              "        vertical-align: top;\n",
              "    }\n",
              "\n",
              "    .dataframe thead th {\n",
              "        text-align: right;\n",
              "    }\n",
              "</style>\n",
              "<table border=\"1\" class=\"dataframe\">\n",
              "  <thead>\n",
              "    <tr style=\"text-align: right;\">\n",
              "      <th></th>\n",
              "      <th>Date</th>\n",
              "      <th>Cheongju14</th>\n",
              "      <th>Cheorwon54</th>\n",
              "      <th>Chuncheon55</th>\n",
              "      <th>Daedeok49</th>\n",
              "      <th>Dangjin30</th>\n",
              "      <th>Nowon255</th>\n",
              "      <th>Okcheon23</th>\n",
              "      <th>Ongjin166</th>\n",
              "      <th>Osan92</th>\n",
              "      <th>Pocheon94</th>\n",
              "      <th>Pyeongtaek95</th>\n",
              "      <th>Sacheon145</th>\n",
              "      <th>Saha9</th>\n",
              "      <th>Samcheok65</th>\n",
              "      <th>Sancheong146</th>\n",
              "      <th>Seo167</th>\n",
              "    </tr>\n",
              "  </thead>\n",
              "  <tbody>\n",
              "    <tr>\n",
              "      <th>0</th>\n",
              "      <td>1/1/1981</td>\n",
              "      <td>-0.017936</td>\n",
              "      <td>-0.373941</td>\n",
              "      <td>-0.300738</td>\n",
              "      <td>-0.020772</td>\n",
              "      <td>-0.101062</td>\n",
              "      <td>-0.128654</td>\n",
              "      <td>-0.767726</td>\n",
              "      <td>-0.334344</td>\n",
              "      <td>-0.147844</td>\n",
              "      <td>-0.134708</td>\n",
              "      <td>-0.144838</td>\n",
              "      <td>0.211903</td>\n",
              "      <td>0.281308</td>\n",
              "      <td>0.099463</td>\n",
              "      <td>0.040012</td>\n",
              "      <td>0.132084</td>\n",
              "    </tr>\n",
              "    <tr>\n",
              "      <th>1</th>\n",
              "      <td>2/1/1981</td>\n",
              "      <td>-0.224242</td>\n",
              "      <td>-0.106518</td>\n",
              "      <td>-0.071552</td>\n",
              "      <td>-0.181485</td>\n",
              "      <td>-0.228362</td>\n",
              "      <td>-0.432089</td>\n",
              "      <td>-1.060877</td>\n",
              "      <td>-0.726683</td>\n",
              "      <td>-0.683289</td>\n",
              "      <td>-0.292483</td>\n",
              "      <td>-0.889609</td>\n",
              "      <td>-0.342522</td>\n",
              "      <td>-0.341271</td>\n",
              "      <td>-0.179665</td>\n",
              "      <td>0.050795</td>\n",
              "      <td>-0.302498</td>\n",
              "    </tr>\n",
              "    <tr>\n",
              "      <th>2</th>\n",
              "      <td>3/1/1981</td>\n",
              "      <td>-0.236655</td>\n",
              "      <td>-1.196967</td>\n",
              "      <td>-0.999054</td>\n",
              "      <td>0.657221</td>\n",
              "      <td>-0.385954</td>\n",
              "      <td>0.170108</td>\n",
              "      <td>0.291827</td>\n",
              "      <td>-0.090173</td>\n",
              "      <td>-0.062196</td>\n",
              "      <td>-0.505988</td>\n",
              "      <td>-0.751742</td>\n",
              "      <td>0.365168</td>\n",
              "      <td>0.536468</td>\n",
              "      <td>0.122847</td>\n",
              "      <td>0.213598</td>\n",
              "      <td>0.291798</td>\n",
              "    </tr>\n",
              "    <tr>\n",
              "      <th>3</th>\n",
              "      <td>4/1/1981</td>\n",
              "      <td>-0.285768</td>\n",
              "      <td>-0.976884</td>\n",
              "      <td>-0.781619</td>\n",
              "      <td>-0.375299</td>\n",
              "      <td>-0.465329</td>\n",
              "      <td>-0.222122</td>\n",
              "      <td>-0.384763</td>\n",
              "      <td>-0.225440</td>\n",
              "      <td>-0.216865</td>\n",
              "      <td>-0.438273</td>\n",
              "      <td>-0.183782</td>\n",
              "      <td>-0.046846</td>\n",
              "      <td>-0.011366</td>\n",
              "      <td>-0.153328</td>\n",
              "      <td>0.015221</td>\n",
              "      <td>-0.082431</td>\n",
              "    </tr>\n",
              "    <tr>\n",
              "      <th>4</th>\n",
              "      <td>5/1/1981</td>\n",
              "      <td>0.482875</td>\n",
              "      <td>0.447450</td>\n",
              "      <td>0.781628</td>\n",
              "      <td>0.597127</td>\n",
              "      <td>0.627280</td>\n",
              "      <td>0.454121</td>\n",
              "      <td>0.481380</td>\n",
              "      <td>0.006176</td>\n",
              "      <td>0.251880</td>\n",
              "      <td>0.095866</td>\n",
              "      <td>0.174197</td>\n",
              "      <td>0.420605</td>\n",
              "      <td>0.480970</td>\n",
              "      <td>-0.184946</td>\n",
              "      <td>-0.060201</td>\n",
              "      <td>0.268641</td>\n",
              "    </tr>\n",
              "  </tbody>\n",
              "</table>\n",
              "</div>"
            ],
            "text/plain": [
              "       Date  Cheongju14  Cheorwon54  ...  Samcheok65  Sancheong146    Seo167\n",
              "0  1/1/1981   -0.017936   -0.373941  ...    0.099463      0.040012  0.132084\n",
              "1  2/1/1981   -0.224242   -0.106518  ...   -0.179665      0.050795 -0.302498\n",
              "2  3/1/1981   -0.236655   -1.196967  ...    0.122847      0.213598  0.291798\n",
              "3  4/1/1981   -0.285768   -0.976884  ...   -0.153328      0.015221 -0.082431\n",
              "4  5/1/1981    0.482875    0.447450  ...   -0.184946     -0.060201  0.268641\n",
              "\n",
              "[5 rows x 17 columns]"
            ]
          },
          "metadata": {
            "tags": []
          },
          "execution_count": 130
        }
      ]
    },
    {
      "cell_type": "code",
      "metadata": {
        "id": "-NfK29L5vFjn"
      },
      "source": [
        "dataset=dataset0"
      ],
      "execution_count": null,
      "outputs": []
    },
    {
      "cell_type": "code",
      "metadata": {
        "id": "TX6uGeeeWIkG"
      },
      "source": [
        "# df = pd.read_csv(csv_path)\n",
        "# # slice [start:stop:step], starting from index 5 take every 6th record.\n",
        "# df = df[5::6]\n",
        "\n",
        "# date_time = pd.to_datetime(df.pop('Date Time'), format='%d.%m.%Y %H:%M:%S')"
      ],
      "execution_count": null,
      "outputs": []
    },
    {
      "cell_type": "code",
      "metadata": {
        "id": "jRzyfLgVvVim"
      },
      "source": [
        "df=dataset\n",
        "date_time = pd.to_datetime(df.pop('Date'), format='%m/%d/%Y')"
      ],
      "execution_count": null,
      "outputs": []
    },
    {
      "cell_type": "markdown",
      "metadata": {
        "id": "VdbOWXiTWM2T"
      },
      "source": [
        "Let's take a glance at the data. Here are the first few rows:"
      ]
    },
    {
      "cell_type": "code",
      "metadata": {
        "colab": {
          "base_uri": "https://localhost:8080/",
          "height": 223
        },
        "id": "ojHE-iCCWIhz",
        "outputId": "10dca618-1d81-4ef8-8e75-f787760114d4"
      },
      "source": [
        "df.head()"
      ],
      "execution_count": null,
      "outputs": [
        {
          "output_type": "execute_result",
          "data": {
            "text/html": [
              "<div>\n",
              "<style scoped>\n",
              "    .dataframe tbody tr th:only-of-type {\n",
              "        vertical-align: middle;\n",
              "    }\n",
              "\n",
              "    .dataframe tbody tr th {\n",
              "        vertical-align: top;\n",
              "    }\n",
              "\n",
              "    .dataframe thead th {\n",
              "        text-align: right;\n",
              "    }\n",
              "</style>\n",
              "<table border=\"1\" class=\"dataframe\">\n",
              "  <thead>\n",
              "    <tr style=\"text-align: right;\">\n",
              "      <th></th>\n",
              "      <th>Cheongju14</th>\n",
              "      <th>Cheorwon54</th>\n",
              "      <th>Chuncheon55</th>\n",
              "      <th>Daedeok49</th>\n",
              "      <th>Dangjin30</th>\n",
              "      <th>Nowon255</th>\n",
              "      <th>Okcheon23</th>\n",
              "      <th>Ongjin166</th>\n",
              "      <th>Osan92</th>\n",
              "      <th>Pocheon94</th>\n",
              "      <th>Pyeongtaek95</th>\n",
              "      <th>Sacheon145</th>\n",
              "      <th>Saha9</th>\n",
              "      <th>Samcheok65</th>\n",
              "      <th>Sancheong146</th>\n",
              "      <th>Seo167</th>\n",
              "    </tr>\n",
              "  </thead>\n",
              "  <tbody>\n",
              "    <tr>\n",
              "      <th>0</th>\n",
              "      <td>-0.017936</td>\n",
              "      <td>-0.373941</td>\n",
              "      <td>-0.300738</td>\n",
              "      <td>-0.020772</td>\n",
              "      <td>-0.101062</td>\n",
              "      <td>-0.128654</td>\n",
              "      <td>-0.767726</td>\n",
              "      <td>-0.334344</td>\n",
              "      <td>-0.147844</td>\n",
              "      <td>-0.134708</td>\n",
              "      <td>-0.144838</td>\n",
              "      <td>0.211903</td>\n",
              "      <td>0.281308</td>\n",
              "      <td>0.099463</td>\n",
              "      <td>0.040012</td>\n",
              "      <td>0.132084</td>\n",
              "    </tr>\n",
              "    <tr>\n",
              "      <th>1</th>\n",
              "      <td>-0.224242</td>\n",
              "      <td>-0.106518</td>\n",
              "      <td>-0.071552</td>\n",
              "      <td>-0.181485</td>\n",
              "      <td>-0.228362</td>\n",
              "      <td>-0.432089</td>\n",
              "      <td>-1.060877</td>\n",
              "      <td>-0.726683</td>\n",
              "      <td>-0.683289</td>\n",
              "      <td>-0.292483</td>\n",
              "      <td>-0.889609</td>\n",
              "      <td>-0.342522</td>\n",
              "      <td>-0.341271</td>\n",
              "      <td>-0.179665</td>\n",
              "      <td>0.050795</td>\n",
              "      <td>-0.302498</td>\n",
              "    </tr>\n",
              "    <tr>\n",
              "      <th>2</th>\n",
              "      <td>-0.236655</td>\n",
              "      <td>-1.196967</td>\n",
              "      <td>-0.999054</td>\n",
              "      <td>0.657221</td>\n",
              "      <td>-0.385954</td>\n",
              "      <td>0.170108</td>\n",
              "      <td>0.291827</td>\n",
              "      <td>-0.090173</td>\n",
              "      <td>-0.062196</td>\n",
              "      <td>-0.505988</td>\n",
              "      <td>-0.751742</td>\n",
              "      <td>0.365168</td>\n",
              "      <td>0.536468</td>\n",
              "      <td>0.122847</td>\n",
              "      <td>0.213598</td>\n",
              "      <td>0.291798</td>\n",
              "    </tr>\n",
              "    <tr>\n",
              "      <th>3</th>\n",
              "      <td>-0.285768</td>\n",
              "      <td>-0.976884</td>\n",
              "      <td>-0.781619</td>\n",
              "      <td>-0.375299</td>\n",
              "      <td>-0.465329</td>\n",
              "      <td>-0.222122</td>\n",
              "      <td>-0.384763</td>\n",
              "      <td>-0.225440</td>\n",
              "      <td>-0.216865</td>\n",
              "      <td>-0.438273</td>\n",
              "      <td>-0.183782</td>\n",
              "      <td>-0.046846</td>\n",
              "      <td>-0.011366</td>\n",
              "      <td>-0.153328</td>\n",
              "      <td>0.015221</td>\n",
              "      <td>-0.082431</td>\n",
              "    </tr>\n",
              "    <tr>\n",
              "      <th>4</th>\n",
              "      <td>0.482875</td>\n",
              "      <td>0.447450</td>\n",
              "      <td>0.781628</td>\n",
              "      <td>0.597127</td>\n",
              "      <td>0.627280</td>\n",
              "      <td>0.454121</td>\n",
              "      <td>0.481380</td>\n",
              "      <td>0.006176</td>\n",
              "      <td>0.251880</td>\n",
              "      <td>0.095866</td>\n",
              "      <td>0.174197</td>\n",
              "      <td>0.420605</td>\n",
              "      <td>0.480970</td>\n",
              "      <td>-0.184946</td>\n",
              "      <td>-0.060201</td>\n",
              "      <td>0.268641</td>\n",
              "    </tr>\n",
              "  </tbody>\n",
              "</table>\n",
              "</div>"
            ],
            "text/plain": [
              "   Cheongju14  Cheorwon54  Chuncheon55  ...  Samcheok65  Sancheong146    Seo167\n",
              "0   -0.017936   -0.373941    -0.300738  ...    0.099463      0.040012  0.132084\n",
              "1   -0.224242   -0.106518    -0.071552  ...   -0.179665      0.050795 -0.302498\n",
              "2   -0.236655   -1.196967    -0.999054  ...    0.122847      0.213598  0.291798\n",
              "3   -0.285768   -0.976884    -0.781619  ...   -0.153328      0.015221 -0.082431\n",
              "4    0.482875    0.447450     0.781628  ...   -0.184946     -0.060201  0.268641\n",
              "\n",
              "[5 rows x 16 columns]"
            ]
          },
          "metadata": {
            "tags": []
          },
          "execution_count": 134
        }
      ]
    },
    {
      "cell_type": "markdown",
      "metadata": {
        "id": "WRzj1inMfgcO"
      },
      "source": [
        "Here is the evolution of a few features over time. "
      ]
    },
    {
      "cell_type": "code",
      "metadata": {
        "id": "Vg5XIc5tfNlG"
      },
      "source": [
        "# plot_cols = ['T (degC)', 'p (mbar)', 'rho (g/m**3)']\n",
        "# plot_features = df[plot_cols]\n",
        "# plot_features.index = date_time\n",
        "# _ = plot_features.plot(subplots=True)\n",
        "\n",
        "# plot_features = df[plot_cols][:480]\n",
        "# plot_features.index = date_time[:480]\n",
        "# _ = plot_features.plot(subplots=True)"
      ],
      "execution_count": null,
      "outputs": []
    },
    {
      "cell_type": "code",
      "metadata": {
        "colab": {
          "base_uri": "https://localhost:8080/",
          "height": 367
        },
        "id": "S71Rqwn7wOLf",
        "outputId": "e7160b93-27d3-4621-e592-e26f752e3dbd"
      },
      "source": [
        "colnames=df.columns\n",
        "# plot first 3 zones\n",
        "# plot_cols = colnames[0:df.shape[1]]\n",
        "plot_cols = colnames[0:3]\n",
        "plot_features = df[plot_cols]\n",
        "plot_features.index = date_time\n",
        "_ = plot_features.plot(subplots=True)\n",
        "\n",
        "# plot_features = df[plot_cols][:480]\n",
        "# plot_features.index = date_time[:480]\n",
        "# _ = plot_features.plot(subplots=True)"
      ],
      "execution_count": null,
      "outputs": [
        {
          "output_type": "display_data",
          "data": {
            "image/png": "[encoded data removed]",
            "text/plain": [
              "<Figure size 576x432 with 3 Axes>"
            ]
          },
          "metadata": {
            "tags": [],
            "needs_background": "light"
          }
        }
      ]
    },
    {
      "cell_type": "markdown",
      "metadata": {
        "id": "wXWLG0_WBhZS"
      },
      "source": [
        "### Inspect and cleanup"
      ]
    },
    {
      "cell_type": "markdown",
      "metadata": {
        "id": "yhmZXJew6GlS"
      },
      "source": [
        "Next look at the statistics of the dataset:"
      ]
    },
    {
      "cell_type": "code",
      "metadata": {
        "colab": {
          "base_uri": "https://localhost:8080/",
          "height": 542
        },
        "id": "h510pgKVrrai",
        "outputId": "d0c0a928-45e3-4819-a524-dc52f4b6c55c"
      },
      "source": [
        "df.describe().transpose()"
      ],
      "execution_count": null,
      "outputs": [
        {
          "output_type": "execute_result",
          "data": {
            "text/html": [
              "<div>\n",
              "<style scoped>\n",
              "    .dataframe tbody tr th:only-of-type {\n",
              "        vertical-align: middle;\n",
              "    }\n",
              "\n",
              "    .dataframe tbody tr th {\n",
              "        vertical-align: top;\n",
              "    }\n",
              "\n",
              "    .dataframe thead th {\n",
              "        text-align: right;\n",
              "    }\n",
              "</style>\n",
              "<table border=\"1\" class=\"dataframe\">\n",
              "  <thead>\n",
              "    <tr style=\"text-align: right;\">\n",
              "      <th></th>\n",
              "      <th>count</th>\n",
              "      <th>mean</th>\n",
              "      <th>std</th>\n",
              "      <th>min</th>\n",
              "      <th>25%</th>\n",
              "      <th>50%</th>\n",
              "      <th>75%</th>\n",
              "      <th>max</th>\n",
              "    </tr>\n",
              "  </thead>\n",
              "  <tbody>\n",
              "    <tr>\n",
              "      <th>Cheongju14</th>\n",
              "      <td>432.0</td>\n",
              "      <td>-0.247188</td>\n",
              "      <td>0.500722</td>\n",
              "      <td>-2.014289</td>\n",
              "      <td>-0.559691</td>\n",
              "      <td>-0.173902</td>\n",
              "      <td>0.088224</td>\n",
              "      <td>1.162086</td>\n",
              "    </tr>\n",
              "    <tr>\n",
              "      <th>Cheorwon54</th>\n",
              "      <td>432.0</td>\n",
              "      <td>-0.191989</td>\n",
              "      <td>0.633812</td>\n",
              "      <td>-2.171661</td>\n",
              "      <td>-0.612468</td>\n",
              "      <td>-0.070404</td>\n",
              "      <td>0.268332</td>\n",
              "      <td>1.779822</td>\n",
              "    </tr>\n",
              "    <tr>\n",
              "      <th>Chuncheon55</th>\n",
              "      <td>432.0</td>\n",
              "      <td>-0.146689</td>\n",
              "      <td>0.562909</td>\n",
              "      <td>-2.005974</td>\n",
              "      <td>-0.550611</td>\n",
              "      <td>-0.075365</td>\n",
              "      <td>0.210707</td>\n",
              "      <td>1.697078</td>\n",
              "    </tr>\n",
              "    <tr>\n",
              "      <th>Daedeok49</th>\n",
              "      <td>432.0</td>\n",
              "      <td>-0.144314</td>\n",
              "      <td>0.681073</td>\n",
              "      <td>-2.345650</td>\n",
              "      <td>-0.604169</td>\n",
              "      <td>-0.061441</td>\n",
              "      <td>0.339547</td>\n",
              "      <td>1.602265</td>\n",
              "    </tr>\n",
              "    <tr>\n",
              "      <th>Dangjin30</th>\n",
              "      <td>432.0</td>\n",
              "      <td>-0.120697</td>\n",
              "      <td>0.500083</td>\n",
              "      <td>-1.895212</td>\n",
              "      <td>-0.411154</td>\n",
              "      <td>-0.080288</td>\n",
              "      <td>0.153715</td>\n",
              "      <td>1.577559</td>\n",
              "    </tr>\n",
              "    <tr>\n",
              "      <th>Nowon255</th>\n",
              "      <td>432.0</td>\n",
              "      <td>-0.003824</td>\n",
              "      <td>0.285024</td>\n",
              "      <td>-1.058066</td>\n",
              "      <td>-0.161615</td>\n",
              "      <td>-0.028495</td>\n",
              "      <td>0.140407</td>\n",
              "      <td>1.464287</td>\n",
              "    </tr>\n",
              "    <tr>\n",
              "      <th>Okcheon23</th>\n",
              "      <td>432.0</td>\n",
              "      <td>-0.191712</td>\n",
              "      <td>0.594016</td>\n",
              "      <td>-1.824231</td>\n",
              "      <td>-0.630363</td>\n",
              "      <td>-0.113688</td>\n",
              "      <td>0.234430</td>\n",
              "      <td>1.536139</td>\n",
              "    </tr>\n",
              "    <tr>\n",
              "      <th>Ongjin166</th>\n",
              "      <td>432.0</td>\n",
              "      <td>-0.200919</td>\n",
              "      <td>0.413574</td>\n",
              "      <td>-1.843494</td>\n",
              "      <td>-0.419135</td>\n",
              "      <td>-0.190140</td>\n",
              "      <td>0.034270</td>\n",
              "      <td>1.720310</td>\n",
              "    </tr>\n",
              "    <tr>\n",
              "      <th>Osan92</th>\n",
              "      <td>432.0</td>\n",
              "      <td>-0.137372</td>\n",
              "      <td>0.355780</td>\n",
              "      <td>-1.667463</td>\n",
              "      <td>-0.286936</td>\n",
              "      <td>-0.096963</td>\n",
              "      <td>0.044059</td>\n",
              "      <td>1.362622</td>\n",
              "    </tr>\n",
              "    <tr>\n",
              "      <th>Pocheon94</th>\n",
              "      <td>432.0</td>\n",
              "      <td>-0.142885</td>\n",
              "      <td>0.461453</td>\n",
              "      <td>-1.764229</td>\n",
              "      <td>-0.393558</td>\n",
              "      <td>-0.122228</td>\n",
              "      <td>0.116898</td>\n",
              "      <td>1.509489</td>\n",
              "    </tr>\n",
              "    <tr>\n",
              "      <th>Pyeongtaek95</th>\n",
              "      <td>432.0</td>\n",
              "      <td>-0.269481</td>\n",
              "      <td>0.532241</td>\n",
              "      <td>-2.320554</td>\n",
              "      <td>-0.535296</td>\n",
              "      <td>-0.151561</td>\n",
              "      <td>0.060412</td>\n",
              "      <td>1.719967</td>\n",
              "    </tr>\n",
              "    <tr>\n",
              "      <th>Sacheon145</th>\n",
              "      <td>432.0</td>\n",
              "      <td>-0.061685</td>\n",
              "      <td>0.590391</td>\n",
              "      <td>-1.962497</td>\n",
              "      <td>-0.455474</td>\n",
              "      <td>-0.027173</td>\n",
              "      <td>0.329648</td>\n",
              "      <td>1.972833</td>\n",
              "    </tr>\n",
              "    <tr>\n",
              "      <th>Saha9</th>\n",
              "      <td>432.0</td>\n",
              "      <td>-0.091446</td>\n",
              "      <td>0.741480</td>\n",
              "      <td>-2.221357</td>\n",
              "      <td>-0.579714</td>\n",
              "      <td>-0.039405</td>\n",
              "      <td>0.417655</td>\n",
              "      <td>2.020011</td>\n",
              "    </tr>\n",
              "    <tr>\n",
              "      <th>Samcheok65</th>\n",
              "      <td>432.0</td>\n",
              "      <td>-0.213686</td>\n",
              "      <td>0.437098</td>\n",
              "      <td>-2.032525</td>\n",
              "      <td>-0.426252</td>\n",
              "      <td>-0.182003</td>\n",
              "      <td>0.031055</td>\n",
              "      <td>1.236405</td>\n",
              "    </tr>\n",
              "    <tr>\n",
              "      <th>Sancheong146</th>\n",
              "      <td>432.0</td>\n",
              "      <td>-0.128113</td>\n",
              "      <td>0.352301</td>\n",
              "      <td>-1.541670</td>\n",
              "      <td>-0.330981</td>\n",
              "      <td>-0.103959</td>\n",
              "      <td>0.069384</td>\n",
              "      <td>0.883031</td>\n",
              "    </tr>\n",
              "    <tr>\n",
              "      <th>Seo167</th>\n",
              "      <td>432.0</td>\n",
              "      <td>-0.145646</td>\n",
              "      <td>0.549830</td>\n",
              "      <td>-1.965018</td>\n",
              "      <td>-0.488734</td>\n",
              "      <td>-0.088725</td>\n",
              "      <td>0.174558</td>\n",
              "      <td>1.489586</td>\n",
              "    </tr>\n",
              "  </tbody>\n",
              "</table>\n",
              "</div>"
            ],
            "text/plain": [
              "              count      mean       std  ...       50%       75%       max\n",
              "Cheongju14    432.0 -0.247188  0.500722  ... -0.173902  0.088224  1.162086\n",
              "Cheorwon54    432.0 -0.191989  0.633812  ... -0.070404  0.268332  1.779822\n",
              "Chuncheon55   432.0 -0.146689  0.562909  ... -0.075365  0.210707  1.697078\n",
              "Daedeok49     432.0 -0.144314  0.681073  ... -0.061441  0.339547  1.602265\n",
              "Dangjin30     432.0 -0.120697  0.500083  ... -0.080288  0.153715  1.577559\n",
              "Nowon255      432.0 -0.003824  0.285024  ... -0.028495  0.140407  1.464287\n",
              "Okcheon23     432.0 -0.191712  0.594016  ... -0.113688  0.234430  1.536139\n",
              "Ongjin166     432.0 -0.200919  0.413574  ... -0.190140  0.034270  1.720310\n",
              "Osan92        432.0 -0.137372  0.355780  ... -0.096963  0.044059  1.362622\n",
              "Pocheon94     432.0 -0.142885  0.461453  ... -0.122228  0.116898  1.509489\n",
              "Pyeongtaek95  432.0 -0.269481  0.532241  ... -0.151561  0.060412  1.719967\n",
              "Sacheon145    432.0 -0.061685  0.590391  ... -0.027173  0.329648  1.972833\n",
              "Saha9         432.0 -0.091446  0.741480  ... -0.039405  0.417655  2.020011\n",
              "Samcheok65    432.0 -0.213686  0.437098  ... -0.182003  0.031055  1.236405\n",
              "Sancheong146  432.0 -0.128113  0.352301  ... -0.103959  0.069384  0.883031\n",
              "Seo167        432.0 -0.145646  0.549830  ... -0.088725  0.174558  1.489586\n",
              "\n",
              "[16 rows x 8 columns]"
            ]
          },
          "metadata": {
            "tags": []
          },
          "execution_count": 137
        }
      ]
    },
    {
      "cell_type": "markdown",
      "metadata": {
        "id": "TzOTnWOoWMGK"
      },
      "source": [
        "#### Wind velocity"
      ]
    },
    {
      "cell_type": "markdown",
      "metadata": {
        "id": "i47LiW5DCVsP"
      },
      "source": [
        "One thing that should stand out is the `min` value of the wind velocity, `wv (m/s)` and `max. wv (m/s)` columns. This `-9999` is likely erroneous. There's a separate wind direction column, so the velocity should be `>=0`. Replace it with zeros:\n"
      ]
    },
    {
      "cell_type": "code",
      "metadata": {
        "id": "qFOq0_80vF4d"
      },
      "source": [
        "# wv = df['wv (m/s)']\n",
        "# bad_wv = wv == -9999.0\n",
        "# wv[bad_wv] = 0.0\n",
        "\n",
        "# max_wv = df['max. wv (m/s)']\n",
        "# bad_max_wv = max_wv == -9999.0\n",
        "# max_wv[bad_max_wv] = 0.0\n",
        "\n",
        "# # The above inplace edits are reflected in the DataFrame\n",
        "# df['wv (m/s)'].min()"
      ],
      "execution_count": null,
      "outputs": []
    },
    {
      "cell_type": "markdown",
      "metadata": {
        "id": "vtmu2IBPgPG8"
      },
      "source": [
        "### Feature engineering\n",
        "\n",
        "Before diving in to build a model it's important to understand your data, and be sure that you're passing the model appropriately formatted data."
      ]
    },
    {
      "cell_type": "markdown",
      "metadata": {
        "id": "FYyEaqiD6j4s"
      },
      "source": [
        "#### Wind\n",
        "The last column of the data, `wd (deg)`, gives the wind direction in units of degrees. Angles do not make good model inputs, 360° and 0° should be close to each other, and wrap around smoothly. Direction shouldn't matter if the wind is not blowing. \n",
        "\n",
        "Right now the distribution of wind data looks like this:"
      ]
    },
    {
      "cell_type": "code",
      "metadata": {
        "id": "YO7JGTcWQG2z"
      },
      "source": [
        "# plt.hist2d(df['wd (deg)'], df['wv (m/s)'], bins=(50, 50), vmax=400)\n",
        "# plt.colorbar()\n",
        "# plt.xlabel('Wind Direction [deg]')\n",
        "# plt.ylabel('Wind Velocity [m/s]')"
      ],
      "execution_count": null,
      "outputs": []
    },
    {
      "cell_type": "markdown",
      "metadata": {
        "id": "yWnf5dwMU1_g"
      },
      "source": [
        "But this will be easier for the model to interpret if you convert the wind direction and velocity columns to a wind **vector**:"
      ]
    },
    {
      "cell_type": "code",
      "metadata": {
        "id": "6GmSTHXw6lI1"
      },
      "source": [
        "# wv = df.pop('wv (m/s)')\n",
        "# max_wv = df.pop('max. wv (m/s)')\n",
        "\n",
        "# # Convert to radians.\n",
        "# wd_rad = df.pop('wd (deg)')*np.pi / 180\n",
        "\n",
        "# # Calculate the wind x and y components.\n",
        "# df['Wx'] = wv*np.cos(wd_rad)\n",
        "# df['Wy'] = wv*np.sin(wd_rad)\n",
        "\n",
        "# # Calculate the max wind x and y components.\n",
        "# df['max Wx'] = max_wv*np.cos(wd_rad)\n",
        "# df['max Wy'] = max_wv*np.sin(wd_rad)"
      ],
      "execution_count": null,
      "outputs": []
    },
    {
      "cell_type": "markdown",
      "metadata": {
        "id": "7iI0zDoxWDyB"
      },
      "source": [
        "The distribution of wind vectors is much simpler for the model to correctly interpret."
      ]
    },
    {
      "cell_type": "code",
      "metadata": {
        "id": "bMgCG5o2SYKD"
      },
      "source": [
        "# plt.hist2d(df['Wx'], df['Wy'], bins=(50, 50), vmax=400)\n",
        "# plt.colorbar()\n",
        "# plt.xlabel('Wind X [m/s]')\n",
        "# plt.ylabel('Wind Y [m/s]')\n",
        "# ax = plt.gca()\n",
        "# ax.axis('tight')"
      ],
      "execution_count": null,
      "outputs": []
    },
    {
      "cell_type": "markdown",
      "metadata": {
        "id": "_8im1ttOWlRB"
      },
      "source": [
        "#### Time"
      ]
    },
    {
      "cell_type": "markdown",
      "metadata": {
        "id": "7YE21HKK40zQ"
      },
      "source": [
        "Similarly the `Date Time` column is very useful, but not in this string form. Start by converting it to seconds:"
      ]
    },
    {
      "cell_type": "code",
      "metadata": {
        "id": "LIFf-VjMfnh3"
      },
      "source": [
        "# timestamp_s = date_time.map(datetime.datetime.timestamp)\n",
        "timestamp_m=date_time.dt.month"
      ],
      "execution_count": null,
      "outputs": []
    },
    {
      "cell_type": "code",
      "metadata": {
        "id": "Dy5wp0w0yD-c"
      },
      "source": [
        "# # we use month instead of second\n",
        "# # timestamp_m = date_time.map(datetime.datetime.timestamp)\n",
        "# df[\"formatted_timestamp_col\"] = df[\"timestamp_col\"].map(lambda ts: ts.strftime(\"%d-%m-%Y\"))\n",
        "# timestamp_m=date_time.map(lambda ts: ts.strftime(\"%m/%d/%Y\"))"
      ],
      "execution_count": null,
      "outputs": []
    },
    {
      "cell_type": "markdown",
      "metadata": {
        "id": "EC_pnM1D5Sgc"
      },
      "source": [
        "Similar to the wind direction the time in seconds is not a useful model input. Being weather data it has clear daily and yearly periodicity. There are many ways you could deal with periodicity.\n",
        "\n",
        "A simple approach to convert it to a usable signal is to use `sin` and `cos` to convert the time to clear \"Time of day\" and \"Time of year\" signals:"
      ]
    },
    {
      "cell_type": "code",
      "metadata": {
        "id": "MBfX6CDwax73"
      },
      "source": [
        "# day = 24*60*60\n",
        "# year = (365.2425)*day\n",
        "\n",
        "# df['Day sin'] = np.sin(timestamp_s * (2 * np.pi / day))\n",
        "# df['Day cos'] = np.cos(timestamp_s * (2 * np.pi / day))\n",
        "# df['Year sin'] = np.sin(timestamp_s * (2 * np.pi / year))\n",
        "# df['Year cos'] = np.cos(timestamp_s * (2 * np.pi / year))"
      ],
      "execution_count": null,
      "outputs": []
    },
    {
      "cell_type": "code",
      "metadata": {
        "colab": {
          "base_uri": "https://localhost:8080/"
        },
        "id": "STdgOzs23T4J",
        "outputId": "e83df446-419a-4786-d54d-75c0de20200f"
      },
      "source": [
        "Year = 12\n",
        "# Year5 = 5*year\n",
        "\n",
        "df['Year sin'] = np.sin(timestamp_m * (2 * np.pi / Year))\n",
        "df['Year cos'] = np.cos(timestamp_m * (2 * np.pi / Year))\n",
        "# df['Year5 sin'] = np.sin(timestamp_s * (2 * np.pi / Year5))\n",
        "# df['Year5 cos'] = np.cos(timestamp_s * (2 * np.pi / Year5))"
      ],
      "execution_count": null,
      "outputs": [
        {
          "output_type": "stream",
          "text": [
            "/usr/local/lib/python3.7/dist-packages/ipykernel_launcher.py:4: SettingWithCopyWarning: \n",
            "A value is trying to be set on a copy of a slice from a DataFrame.\n",
            "Try using .loc[row_indexer,col_indexer] = value instead\n",
            "\n",
            "See the caveats in the documentation: https://pandas.pydata.org/pandas-docs/stable/user_guide/indexing.html#returning-a-view-versus-a-copy\n",
            "  after removing the cwd from sys.path.\n",
            "/usr/local/lib/python3.7/dist-packages/ipykernel_launcher.py:5: SettingWithCopyWarning: \n",
            "A value is trying to be set on a copy of a slice from a DataFrame.\n",
            "Try using .loc[row_indexer,col_indexer] = value instead\n",
            "\n",
            "See the caveats in the documentation: https://pandas.pydata.org/pandas-docs/stable/user_guide/indexing.html#returning-a-view-versus-a-copy\n",
            "  \"\"\"\n"
          ],
          "name": "stderr"
        }
      ]
    },
    {
      "cell_type": "code",
      "metadata": {
        "colab": {
          "base_uri": "https://localhost:8080/",
          "height": 404
        },
        "id": "mXBbTJZfuuTC",
        "outputId": "77209256-d37c-43bd-899a-56c4bcee7719"
      },
      "source": [
        "plt.plot(np.array(df['Year sin'])[:25])\n",
        "plt.plot(np.array(df['Year cos'])[:25])\n",
        "plt.xlabel('Time [month]')\n",
        "plt.title('Time of month signal')\n",
        "plt.savefig(output_dirs[0]+'/'+'assumemontSINE.png')"
      ],
      "execution_count": null,
      "outputs": [
        {
          "output_type": "display_data",
          "data": {
            "image/png": "[encoded data removed]",
            "text/plain": [
              "<Figure size 576x432 with 1 Axes>"
            ]
          },
          "metadata": {
            "tags": [],
            "needs_background": "light"
          }
        }
      ]
    },
    {
      "cell_type": "markdown",
      "metadata": {
        "id": "HiurzTGQgf_D"
      },
      "source": [
        "This gives the model access to the most important frequency features. In this case you knew ahead of time which frequencies were important. \n",
        "\n",
        "If you didn't know, you can determine which frequencies are important using an `fft`. To check our assumptions, here is the `tf.signal.rfft` of the temperature over time. Note the obvious peaks at frequencies near `1/year` and `1/day`: "
      ]
    },
    {
      "cell_type": "code",
      "metadata": {
        "colab": {
          "base_uri": "https://localhost:8080/",
          "height": 388
        },
        "id": "EN4U1fcMiTYs",
        "outputId": "bb903466-7748-454e-cdf5-ec9322fb2961"
      },
      "source": [
        "# T(degC) is replace by Andong106 or list2[k]\n",
        "list2=listi # thay bang cluster\n",
        "list2[k]\n",
        "fft = tf.signal.rfft(df[list2[k]])\n",
        "f_per_dataset = np.arange(0, len(fft))\n",
        "\n",
        "n_samples_m = len(df[list2[k]])\n",
        "months_per_year = 12\n",
        "years_per_dataset = n_samples_m/(months_per_year)\n",
        "\n",
        "f_per_year = f_per_dataset/years_per_dataset\n",
        "plt.step(f_per_year, np.abs(fft))\n",
        "plt.xscale('log')\n",
        "# plt.ylim(0, 400000)\n",
        "plt.xlim([0.1, max(plt.xlim())])\n",
        "plt.xticks([1], labels=['1/Year'])\n",
        "_ = plt.xlabel('Frequency (log scale)')\n",
        "plt.savefig(output_dirs[0]+'/'+'spectral.png')"
      ],
      "execution_count": null,
      "outputs": [
        {
          "output_type": "display_data",
          "data": {
            "image/png": "[encoded data removed]",
            "text/plain": [
              "<Figure size 576x432 with 1 Axes>"
            ]
          },
          "metadata": {
            "tags": [],
            "needs_background": "light"
          }
        }
      ]
    },
    {
      "cell_type": "markdown",
      "metadata": {
        "id": "2rbL8bSGDHy3"
      },
      "source": [
        "### Split the data"
      ]
    },
    {
      "cell_type": "markdown",
      "metadata": {
        "id": "qoFJZmXBaxCc"
      },
      "source": [
        "We'll use a `(70%, 20%, 10%)` split for the training, validation, and test sets. Note the data is **not** being randomly shuffled before splitting. This is for two reasons.\n",
        "\n",
        "1. It ensures that chopping the data into windows of consecutive samples is still possible.\n",
        "2. It ensures that the validation/test results are more realistic, being evaluated on data collected after the model was trained."
      ]
    },
    {
      "cell_type": "code",
      "metadata": {
        "id": "ia-MPAHxbInX"
      },
      "source": [
        "column_indices = {name: i for i, name in enumerate(df.columns)}\n",
        "\n",
        "n = len(df)\n",
        "train_df = df[0:int(n*0.7)]\n",
        "val_df = df[int(n*0.7):int(n*0.9)]\n",
        "test_df = df[int(n*0.7):]\n",
        "\n",
        "num_features = df.shape[1]"
      ],
      "execution_count": null,
      "outputs": []
    },
    {
      "cell_type": "markdown",
      "metadata": {
        "id": "-eFckdUUHWmT"
      },
      "source": [
        "### Normalize the data\n",
        "\n",
        "It is important to scale features before training a neural network. Normalization is a common way of doing this scaling. Subtract the mean and divide by the standard deviation of each feature."
      ]
    },
    {
      "cell_type": "markdown",
      "metadata": {
        "id": "mxbIic5TMlxx"
      },
      "source": [
        "The mean and standard deviation should only be computed using the training data so that the models have no access to the values in the validation and test sets.\n",
        "\n",
        "It's also arguable that the model shouldn't have access to future values in the training set when training, and that this normalization should be done using moving averages. That's not the focus of this tutorial, and the validation and test sets ensure that you get (somewhat) honest metrics. So in the interest of simplicity this tutorial uses a simple average."
      ]
    },
    {
      "cell_type": "code",
      "metadata": {
        "id": "Eji6njXvHusN"
      },
      "source": [
        "# ORG\n",
        "train_mean = train_df.mean()\n",
        "train_std = train_df.std()\n",
        "\n",
        "train_df = (train_df - train_mean) / train_std\n",
        "val_df = (val_df - train_mean) / train_std\n",
        "test_df = (test_df - train_mean) / train_std"
      ],
      "execution_count": null,
      "outputs": []
    },
    {
      "cell_type": "markdown",
      "metadata": {
        "id": "2jUZmWnSb3LU"
      },
      "source": [
        "# Customer standardarized data "
      ]
    },
    {
      "cell_type": "code",
      "metadata": {
        "id": "ReGz_VTicEbk"
      },
      "source": [
        "# # REV\n",
        "# train_min = train_df.min()\n",
        "# train_max = train_df.max()\n",
        "# train_df = (train_df - train_min) / (train_max-train_min)\n",
        "\n",
        "# val_min = val_df.min()\n",
        "# val_max = val_df.max()\n",
        "# val_df = (val_df - val_min) / (val_max-val_min)\n",
        "\n",
        "# test_min = test_df.min()\n",
        "# test_max = test_df.max()\n",
        "# test_df = (test_df - test_min) / (test_max-test_min)"
      ],
      "execution_count": null,
      "outputs": []
    },
    {
      "cell_type": "markdown",
      "metadata": {
        "id": "G6ufs8kk9JQw"
      },
      "source": [
        "Now peek at the distribution of the features. Some features do have long tails, but there are no obvious errors like the `-9999` wind velocity value."
      ]
    },
    {
      "cell_type": "code",
      "metadata": {
        "colab": {
          "base_uri": "https://localhost:8080/",
          "height": 453
        },
        "id": "T0UYEnkwm8Fe",
        "outputId": "3ad0d02b-66ce-408e-e2b9-2e7073b864e9"
      },
      "source": [
        "# ORG\n",
        "df_std = (df - train_mean) / train_std\n",
        "df_std = df_std.melt(var_name='Column', value_name='Normalized')\n",
        "plt.figure(figsize=(8, 6))\n",
        "ax = sns.boxplot(x='Column', y='Normalized', data=df_std)\n",
        "_ = ax.set_xticklabels(df.keys(), rotation=90)\n",
        "\n",
        "plt.savefig(output_dirs[0]+'/'+'normalizedata.png')"
      ],
      "execution_count": null,
      "outputs": [
        {
          "output_type": "display_data",
          "data": {
            "image/png": "[encoded data removed]",
            "text/plain": [
              "<Figure size 576x432 with 1 Axes>"
            ]
          },
          "metadata": {
            "tags": [],
            "needs_background": "light"
          }
        }
      ]
    },
    {
      "cell_type": "code",
      "metadata": {
        "id": "7Yw0maLeeD-_"
      },
      "source": [
        "# # REV\n",
        "# df_std = train_df\n",
        "# df_std = df_std.melt(var_name='Column', value_name='Normalized')\n",
        "# plt.figure(figsize=(8, 6))\n",
        "# ax = sns.boxplot(x='Column', y='Normalized', data=df_std)\n",
        "# _ = ax.set_xticklabels(df.keys(), rotation=90)\n",
        "\n",
        "# plt.savefig(output_dirs[0]+'/'+'normalize_max_min_data.png')"
      ],
      "execution_count": null,
      "outputs": []
    },
    {
      "cell_type": "markdown",
      "metadata": {
        "id": "ZBBmdxZ2HgfJ"
      },
      "source": [
        "## Data windowing\n",
        "\n",
        "The models in this tutorial will make a set of predictions based on a window of consecutive samples from the data. \n",
        "\n",
        "The main features of the input windows are:\n",
        "\n",
        "* The width (number of time steps) of the input and label windows\n",
        "* The time offset between them.\n",
        "* Which features are used as inputs, labels, or both. \n",
        "\n",
        "This tutorial builds a variety of models (including Linear, DNN, CNN and RNN models), and uses them for both:\n",
        "\n",
        "* *Single-output*, and *multi-output* predictions.\n",
        "* *Single-time-step* and *multi-time-step* predictions.\n",
        "\n",
        "This section focuses on implementing the data windowing so that it can be reused for all of those models.\n"
      ]
    },
    {
      "cell_type": "markdown",
      "metadata": {
        "id": "YAhGUVx1jtOy"
      },
      "source": [
        "Depending on the task and type of model you may want to generate a variety of data windows. Here are some examples:\n",
        "\n",
        "1. For example, to make a single prediction 24h into the future, given 24h of history you might define a window like this:\n",
        "\n",
        "  ![One prediction 24h into the future.](https://github.com/tensorflow/docs/blob/master/site/en/tutorials/structured_data/images/raw_window_24h.png?raw=1)\n",
        "\n",
        "2. A model that makes a prediction 1h into the future, given 6h of history would need a window like this:\n",
        "\n",
        "  ![One prediction 1h into the future.](https://github.com/tensorflow/docs/blob/master/site/en/tutorials/structured_data/images/raw_window_1h.png?raw=1)"
      ]
    },
    {
      "cell_type": "markdown",
      "metadata": {
        "id": "sa2BbfNZt8wy"
      },
      "source": [
        "The rest of this section defines a `WindowGenerator` class. This class can:\n",
        "\n",
        "1. Handle the indexes and offsets as shown in the diagrams above.\n",
        "1. Split windows of features into a `(features, labels)` pairs.\n",
        "2. Plot the content of the resulting windows.\n",
        "3. Efficiently generate batches of these windows from the training, evaluation, and test data, using `tf.data.Dataset`s."
      ]
    },
    {
      "cell_type": "markdown",
      "metadata": {
        "id": "rfx3jGjyziUF"
      },
      "source": [
        "### 1. Indexes and offsets\n",
        "\n",
        "Start by creating the `WindowGenerator` class. The `__init__` method includes all the necessary logic for the input and label indices.\n",
        "\n",
        "It also takes the train, eval, and test dataframes as input. These will be converted to `tf.data.Dataset`s of windows later."
      ]
    },
    {
      "cell_type": "code",
      "metadata": {
        "id": "Kem30j8QHxyW"
      },
      "source": [
        "class WindowGenerator():\n",
        "  def __init__(self, input_width, label_width, shift,\n",
        "               train_df=train_df, val_df=val_df, test_df=test_df,\n",
        "               label_columns=None):\n",
        "    # Store the raw data.\n",
        "    self.train_df = train_df\n",
        "    self.val_df = val_df\n",
        "    self.test_df = test_df\n",
        "\n",
        "    # Work out the label column indices.\n",
        "    self.label_columns = label_columns\n",
        "    if label_columns is not None:\n",
        "      self.label_columns_indices = {name: i for i, name in\n",
        "                                    enumerate(label_columns)}\n",
        "    self.column_indices = {name: i for i, name in\n",
        "                           enumerate(train_df.columns)}\n",
        "\n",
        "    # Work out the window parameters.\n",
        "    self.input_width = input_width\n",
        "    self.label_width = label_width\n",
        "    self.shift = shift\n",
        "\n",
        "    self.total_window_size = input_width + shift\n",
        "\n",
        "    self.input_slice = slice(0, input_width)\n",
        "    self.input_indices = np.arange(self.total_window_size)[self.input_slice]\n",
        "\n",
        "    self.label_start = self.total_window_size - self.label_width\n",
        "    self.labels_slice = slice(self.label_start, None)\n",
        "    self.label_indices = np.arange(self.total_window_size)[self.labels_slice]\n",
        "\n",
        "  def __repr__(self):\n",
        "    return '\\n'.join([\n",
        "        f'Total window size: {self.total_window_size}',\n",
        "        f'Input indices: {self.input_indices}',\n",
        "        f'Label indices: {self.label_indices}',\n",
        "        f'Label column name(s): {self.label_columns}'])"
      ],
      "execution_count": null,
      "outputs": []
    },
    {
      "cell_type": "markdown",
      "metadata": {
        "id": "yVJgblsYzL1g"
      },
      "source": [
        "Here is code to create the 2 windows shown in the diagrams at the start of this section:"
      ]
    },
    {
      "cell_type": "code",
      "metadata": {
        "colab": {
          "base_uri": "https://localhost:8080/"
        },
        "id": "IsM5kRkz0UwK",
        "outputId": "b05612a2-ce15-46ea-9432-850cafb611b5"
      },
      "source": [
        "w1 = WindowGenerator(input_width=3, label_width=1, shift=3,\n",
        "                     label_columns=[list2[k]])\n",
        "w1"
      ],
      "execution_count": null,
      "outputs": [
        {
          "output_type": "execute_result",
          "data": {
            "text/plain": [
              "Total window size: 6\n",
              "Input indices: [0 1 2]\n",
              "Label indices: [5]\n",
              "Label column name(s): ['Cheorwon54']"
            ]
          },
          "metadata": {
            "tags": []
          },
          "execution_count": 154
        }
      ]
    },
    {
      "cell_type": "code",
      "metadata": {
        "colab": {
          "base_uri": "https://localhost:8080/"
        },
        "id": "viwKsYeAKFUn",
        "outputId": "9bffa145-22dc-44e9-e35b-01d91632f703"
      },
      "source": [
        "w2 = WindowGenerator(input_width=3, label_width=1, shift=1,\n",
        "                     label_columns=[list2[k]])\n",
        "w2"
      ],
      "execution_count": null,
      "outputs": [
        {
          "output_type": "execute_result",
          "data": {
            "text/plain": [
              "Total window size: 4\n",
              "Input indices: [0 1 2]\n",
              "Label indices: [3]\n",
              "Label column name(s): ['Cheorwon54']"
            ]
          },
          "metadata": {
            "tags": []
          },
          "execution_count": 155
        }
      ]
    },
    {
      "cell_type": "markdown",
      "metadata": {
        "id": "kJaUyTWQJd-L"
      },
      "source": [
        "### 2. Split\n",
        "Given a list consecutive inputs, the `split_window` method will convert them to a window of inputs and a window of labels.\n",
        "\n",
        "The example `w2`, above, will be split like this:\n",
        "\n",
        "![The initial window is all consecutive samples, this splits it into an (inputs, labels) pairs](https://github.com/tensorflow/docs/blob/master/site/en/tutorials/structured_data/images/split_window.png?raw=1)\n",
        "\n",
        "This diagram doesn't show the `features` axis of the data, but this `split_window` function also handles the `label_columns` so it can be used for both the single output and multi-output examples."
      ]
    },
    {
      "cell_type": "code",
      "metadata": {
        "id": "W4KbxfzqkXPW"
      },
      "source": [
        "def split_window(self, features):\n",
        "  inputs = features[:, self.input_slice, :]\n",
        "  labels = features[:, self.labels_slice, :]\n",
        "  if self.label_columns is not None:\n",
        "    labels = tf.stack(\n",
        "        [labels[:, :, self.column_indices[name]] for name in self.label_columns],\n",
        "        axis=-1)\n",
        "\n",
        "  # Slicing doesn't preserve static shape information, so set the shapes\n",
        "  # manually. This way the `tf.data.Datasets` are easier to inspect.\n",
        "  inputs.set_shape([None, self.input_width, None])\n",
        "  labels.set_shape([None, self.label_width, None])\n",
        "\n",
        "  return inputs, labels\n",
        "\n",
        "WindowGenerator.split_window = split_window"
      ],
      "execution_count": null,
      "outputs": []
    },
    {
      "cell_type": "markdown",
      "metadata": {
        "id": "G6U6VtVuM15s"
      },
      "source": [
        "Try it out:"
      ]
    },
    {
      "cell_type": "code",
      "metadata": {
        "colab": {
          "base_uri": "https://localhost:8080/"
        },
        "id": "YeCWbq6KLmL7",
        "outputId": "04589c65-a31e-4aeb-fe4c-9571ef12fc2b"
      },
      "source": [
        "# Stack three slices, the length of the total window:\n",
        "example_window = tf.stack([np.array(train_df[:w2.total_window_size]),\n",
        "                           np.array(train_df[100:100+w2.total_window_size]),\n",
        "                           np.array(train_df[200:200+w2.total_window_size])])\n",
        "\n",
        "\n",
        "example_inputs, example_labels = w2.split_window(example_window)\n",
        "\n",
        "print('All shapes are: (batch, time, features)')\n",
        "print(f'Window shape: {example_window.shape}')\n",
        "print(f'Inputs shape: {example_inputs.shape}')\n",
        "print(f'labels shape: {example_labels.shape}')"
      ],
      "execution_count": null,
      "outputs": [
        {
          "output_type": "stream",
          "text": [
            "All shapes are: (batch, time, features)\n",
            "Window shape: (3, 4, 18)\n",
            "Inputs shape: (3, 3, 18)\n",
            "labels shape: (3, 1, 1)\n"
          ],
          "name": "stdout"
        }
      ]
    },
    {
      "cell_type": "markdown",
      "metadata": {
        "id": "xtMk1ffk2Mmd"
      },
      "source": [
        "Typically data in TensorFlow is packed into arrays where the outermost index is across examples (the \"batch\" dimension). The middle indices are the \"time\" or \"space\" (width, height) dimension(s). The innermost indices are the features.\n",
        "\n",
        "The code above took a batch of 3, 7-timestep windows, with 19 features at each time step. It split them into a batch of 6-timestep, 19 feature inputs, and a 1-timestep 1-feature label. The label only has one feature because the `WindowGenerator` was initialized with `label_columns=['T (degC)']`. Initially this tutorial will build models that predict single output labels."
      ]
    },
    {
      "cell_type": "markdown",
      "metadata": {
        "id": "tFZukGXrJoGo"
      },
      "source": [
        "### 3. Plot\n",
        "\n",
        "Here is a plot method that allows a simple visualization of the split window:"
      ]
    },
    {
      "cell_type": "code",
      "metadata": {
        "id": "fmgd1qkYUWT7"
      },
      "source": [
        "w2.example = example_inputs, example_labels\n"
      ],
      "execution_count": null,
      "outputs": []
    },
    {
      "cell_type": "code",
      "metadata": {
        "id": "jIrYccI-Hm3B"
      },
      "source": [
        "def plot(self, model=None, plot_col=list2[k], max_subplots=3,model_name='Model'):\n",
        "  inputs, labels = self.example\n",
        "  fig=plt.figure(figsize=(8, 6))\n",
        "  # plt.title(model_name) \n",
        "  plot_col_index = self.column_indices[plot_col]\n",
        "  max_n = min(max_subplots, len(inputs))\n",
        "    \n",
        "  for n in range(max_n):\n",
        "    \n",
        "\n",
        "    \n",
        "    plt.subplot(max_n, 1, n+1)\n",
        "    plt.ylabel(f'{list2[n+1]}')\n",
        "    # plt.title(f'{list2[n+1]}')\n",
        "    # plt.title(model_name)  \n",
        "    plt.plot(self.input_indices, inputs[n, :, plot_col_index],\n",
        "            label='Inputs', marker='s',linestyle='-.', zorder=-10)\n",
        "    \n",
        "\n",
        "    if self.label_columns:\n",
        "      label_col_index = self.label_columns_indices.get(plot_col, None)\n",
        "    else:\n",
        "      label_col_index = plot_col_index\n",
        "\n",
        "    if label_col_index is None:\n",
        "      continue\n",
        "\n",
        "    # plt.scatter(self.label_indices, labels[n, :, label_col_index],\n",
        "    #             edgecolors='k', label='Observation', c='#2ca02c', s=64)\n",
        "    plt.plot(self.label_indices, labels[n, :, label_col_index],\n",
        "                '-.s', label='Expectation', c='black')\n",
        "    if model is not None:\n",
        "      predictions = model(inputs)\n",
        "      # plt.scatter(self.label_indices, predictions[n, :, label_col_index],\n",
        "      #             marker='x', linestyle='-.',edgecolors='k', label='Predictions',\n",
        "      #             c='#ff7f0e', s=64)\n",
        "      plt.plot(self.label_indices, predictions[n, :, label_col_index],\n",
        "                  '-.x', label='Predictions',c='red')\n",
        "                  \n",
        "      plt.axvspan(self.label_indices[0],self.label_indices[-1],alpha=0.2,color='grey')\n",
        "    if n == 0:\n",
        "      plt.legend()\n",
        "\n",
        "    # plt.xlabel('Date [months]')\n",
        "    # plt.title(model_name)\n",
        "  plt.tight_layout()\n",
        "  plt.xlabel('months')\n",
        "  fig.suptitle(model_name) # or plt.suptitle('Main title')\n",
        "  # plt.tight_layout()\n",
        "  # fig.suptitle(model_name) # or plt.suptitle('Main title')\n",
        "    \n",
        "\n",
        "\n",
        "WindowGenerator.plot = plot"
      ],
      "execution_count": null,
      "outputs": []
    },
    {
      "cell_type": "markdown",
      "metadata": {
        "id": "HXvctEuK68vX"
      },
      "source": [
        "This plot aligns inputs, labels, and (later) predictions based on the time that the item refers to:"
      ]
    },
    {
      "cell_type": "code",
      "metadata": {
        "id": "XjTqUnglOOni"
      },
      "source": [
        "# w2.plot()"
      ],
      "execution_count": null,
      "outputs": []
    },
    {
      "cell_type": "markdown",
      "metadata": {
        "id": "UqiqcPOldPG6"
      },
      "source": [
        "You can plot the other columns, but the example window `w2` configuration only has labels for the `T (degC)` column."
      ]
    },
    {
      "cell_type": "code",
      "metadata": {
        "id": "EBRe4wnlfCH8"
      },
      "source": [
        "# w2.plot(plot_col=list2[k+1])"
      ],
      "execution_count": null,
      "outputs": []
    },
    {
      "cell_type": "markdown",
      "metadata": {
        "id": "xCvD-UaUzYMw"
      },
      "source": [
        "### 4. Create `tf.data.Dataset`s"
      ]
    },
    {
      "cell_type": "markdown",
      "metadata": {
        "id": "kLO3SFR9Osdf"
      },
      "source": [
        "Finally this `make_dataset` method will take a time series `DataFrame` and convert it to a `tf.data.Dataset` of `(input_window, label_window)` pairs using the `preprocessing.timeseries_dataset_from_array` function."
      ]
    },
    {
      "cell_type": "code",
      "metadata": {
        "id": "35qoSQeRVfJg"
      },
      "source": [
        "def make_dataset(self, data):\n",
        "  data = np.array(data, dtype=np.float32)\n",
        "  ds = tf.keras.preprocessing.timeseries_dataset_from_array(\n",
        "      data=data,\n",
        "      targets=None,\n",
        "      sequence_length=self.total_window_size,\n",
        "      sequence_stride=1,\n",
        "      shuffle=True,\n",
        "      batch_size=64,)\n",
        "\n",
        "  ds = ds.map(self.split_window)\n",
        "\n",
        "  return ds\n",
        "\n",
        "WindowGenerator.make_dataset = make_dataset"
      ],
      "execution_count": null,
      "outputs": []
    },
    {
      "cell_type": "markdown",
      "metadata": {
        "id": "LvsxQwJaCift"
      },
      "source": [
        "The `WindowGenerator` object holds training, validation and test data. Add properties for accessing them as `tf.data.Datasets` using the above `make_dataset` method. Also add a standard example batch for easy access and plotting:"
      ]
    },
    {
      "cell_type": "code",
      "metadata": {
        "id": "2jZ2KkqGCfzu"
      },
      "source": [
        "@property\n",
        "def train(self):\n",
        "  return self.make_dataset(self.train_df)\n",
        "\n",
        "@property\n",
        "def val(self):\n",
        "  return self.make_dataset(self.val_df)\n",
        "\n",
        "@property\n",
        "def test(self):\n",
        "  return self.make_dataset(self.test_df)\n",
        "\n",
        "@property\n",
        "def example(self):\n",
        "  \"\"\"Get and cache an example batch of `inputs, labels` for plotting.\"\"\"\n",
        "  result = getattr(self, '_example', None)\n",
        "  if result is None:\n",
        "    # No example batch was found, so get one from the `.train` dataset\n",
        "    result = next(iter(self.train))\n",
        "    # And cache it for next time\n",
        "    self._example = result\n",
        "  return result\n",
        "\n",
        "WindowGenerator.train = train\n",
        "WindowGenerator.val = val\n",
        "WindowGenerator.test = test\n",
        "WindowGenerator.example = example"
      ],
      "execution_count": null,
      "outputs": []
    },
    {
      "cell_type": "markdown",
      "metadata": {
        "id": "fF_Vj6Iw3Y2w"
      },
      "source": [
        "Now the `WindowGenerator` object gives you access to the `tf.data.Dataset` objects, so you can easily iterate over the data.\n",
        "\n",
        "The `Dataset.element_spec` property tells you the structure, `dtypes` and shapes of the dataset elements."
      ]
    },
    {
      "cell_type": "code",
      "metadata": {
        "colab": {
          "base_uri": "https://localhost:8080/"
        },
        "id": "daJ0-U383YVs",
        "outputId": "dc2f30bd-d0c5-445e-82dc-dba04ae778d9"
      },
      "source": [
        "# Each element is an (inputs, label) pair\n",
        "w2.train.element_spec"
      ],
      "execution_count": null,
      "outputs": [
        {
          "output_type": "execute_result",
          "data": {
            "text/plain": [
              "(TensorSpec(shape=(None, 3, 18), dtype=tf.float32, name=None),\n",
              " TensorSpec(shape=(None, 1, 1), dtype=tf.float32, name=None))"
            ]
          },
          "metadata": {
            "tags": []
          },
          "execution_count": 164
        }
      ]
    },
    {
      "cell_type": "markdown",
      "metadata": {
        "id": "XKTx3_Z7ua-n"
      },
      "source": [
        "Iterating over a `Dataset` yields concrete batches:"
      ]
    },
    {
      "cell_type": "code",
      "metadata": {
        "colab": {
          "base_uri": "https://localhost:8080/"
        },
        "id": "6gtKXEgf4Iml",
        "outputId": "f7cc31ee-477d-4c39-eecb-4ef3972a746b"
      },
      "source": [
        "for example_inputs, example_labels in w2.train.take(1):\n",
        "  print(f'Inputs shape (batch, time, features): {example_inputs.shape}')\n",
        "  print(f'Labels shape (batch, time, features): {example_labels.shape}')"
      ],
      "execution_count": null,
      "outputs": [
        {
          "output_type": "stream",
          "text": [
            "Inputs shape (batch, time, features): (64, 3, 18)\n",
            "Labels shape (batch, time, features): (64, 1, 1)\n"
          ],
          "name": "stdout"
        }
      ]
    },
    {
      "cell_type": "markdown",
      "metadata": {
        "id": "LyuGuJUgjUK3"
      },
      "source": [
        "## Single step models\n",
        "\n",
        "The simplest model you can build on this sort of data is one that predicts a single feature's value, 1 timestep (1h) in the future based only on the current conditions.\n",
        "\n",
        "So start by building models to predict the `T (degC)` value 1h into the future.\n",
        "\n",
        "![Predict the next time step](https://github.com/tensorflow/docs/blob/master/site/en/tutorials/structured_data/images/narrow_window.png?raw=1)\n",
        "\n",
        "Configure a `WindowGenerator` object to produce these single-step `(input, label)` pairs:"
      ]
    },
    {
      "cell_type": "code",
      "metadata": {
        "id": "G5QX1G1JTPCr"
      },
      "source": [
        "# single_step_window = WindowGenerator(\n",
        "#     input_width=1, label_width=1, shift=1,\n",
        "#     label_columns=[list2[k]])\n",
        "# single_step_window"
      ],
      "execution_count": null,
      "outputs": []
    },
    {
      "cell_type": "markdown",
      "metadata": {
        "id": "RKTm8ajVGw4N"
      },
      "source": [
        "The `window` object creates `tf.data.Datasets` from the training, validation, and test sets, allowing you to easily iterate over batches of data.\n"
      ]
    },
    {
      "cell_type": "code",
      "metadata": {
        "id": "Do4ILUaBF8oc"
      },
      "source": [
        "# for example_inputs, example_labels in single_step_window.train.take(1):\n",
        "#   print(f'Inputs shape (batch, time, features): {example_inputs.shape}')\n",
        "#   print(f'Labels shape (batch, time, features): {example_labels.shape}')"
      ],
      "execution_count": null,
      "outputs": []
    },
    {
      "cell_type": "markdown",
      "metadata": {
        "id": "D1bbPiR3VAm_"
      },
      "source": [
        "### Baseline\n",
        "\n",
        "Before building a trainable model it would be good to have a performance baseline as a point for comparison with the later more complicated models.\n",
        "\n",
        "This first task is to predict temperature 1h in the future given the current value of all features. The current values include the current temperature. \n",
        "\n",
        "So start with a model that just returns the current temperature as the prediction, predicting \"No change\". This is a reasonable baseline since temperature changes slowly. Of course, this baseline will work less well if you make a prediction further in the future.\n",
        "\n",
        "![Send the input to the output](https://github.com/tensorflow/docs/blob/master/site/en/tutorials/structured_data/images/baseline.png?raw=1)"
      ]
    },
    {
      "cell_type": "code",
      "metadata": {
        "id": "9TybQaIsi3yg"
      },
      "source": [
        "# class Baseline(tf.keras.Model):\n",
        "#   def __init__(self, label_index=None):\n",
        "#     super().__init__()\n",
        "#     self.label_index = label_index\n",
        "\n",
        "#   def call(self, inputs):\n",
        "#     if self.label_index is None:\n",
        "#       return inputs\n",
        "#     result = inputs[:, :, self.label_index]\n",
        "#     return result[:, :, tf.newaxis]"
      ],
      "execution_count": null,
      "outputs": []
    },
    {
      "cell_type": "markdown",
      "metadata": {
        "id": "0vb3f948i8p8"
      },
      "source": [
        "Instantiate and evaluate this model:"
      ]
    },
    {
      "cell_type": "code",
      "metadata": {
        "id": "IS3-QKc4sX0D"
      },
      "source": [
        "# baseline = Baseline(label_index=column_indices[list2[k]])\n",
        "\n",
        "# baseline.compile(loss=tf.losses.MeanSquaredError(),\n",
        "#                  metrics=[tf.metrics.MeanAbsoluteError()])\n",
        "\n",
        "# val_performance = {}\n",
        "# performance = {}\n",
        "# val_performance['Baseline'] = baseline.evaluate(single_step_window.val)\n",
        "# performance['Baseline'] = baseline.evaluate(single_step_window.test, verbose=0)"
      ],
      "execution_count": null,
      "outputs": []
    },
    {
      "cell_type": "markdown",
      "metadata": {
        "id": "nhBxQcCSs7Ec"
      },
      "source": [
        "That printed some performance metrics, but those don't give you a feeling for how well the model is doing.\n",
        "\n",
        "The `WindowGenerator` has a plot method, but the plots won't be very interesting with only a single sample. So, create a wider `WindowGenerator` that generates windows 24h of consecutive inputs and labels at a time. \n",
        "\n",
        "The `wide_window` doesn't change the way the model operates. The model still makes predictions 1h into the future based on a single input time step. Here the `time` axis acts like the `batch` axis: Each prediction is made independently with no interaction between time steps."
      ]
    },
    {
      "cell_type": "code",
      "metadata": {
        "id": "C8jNR5uuJ5Zp"
      },
      "source": [
        "# wide_window = WindowGenerator(\n",
        "#     # input_width=24, label_width=24, shift=1, #ORG\n",
        "#     input_width=12, label_width=12, shift=1,\n",
        "#     label_columns=[list2[k]])\n",
        "\n",
        "# wide_window"
      ],
      "execution_count": null,
      "outputs": []
    },
    {
      "cell_type": "markdown",
      "metadata": {
        "id": "ZAnj7CFZkuYv"
      },
      "source": [
        "This expanded window can be passed directly to the same `baseline` model without any code changes. This is possible because the inputs and labels have the same number of timesteps, and the baseline just forwards the input to the output:\n",
        "\n",
        "  ![One prediction 1h into the future, ever hour.](https://github.com/tensorflow/docs/blob/master/site/en/tutorials/structured_data/images/last_window.png?raw=1)"
      ]
    },
    {
      "cell_type": "code",
      "metadata": {
        "id": "sGKdvdg087qs"
      },
      "source": [
        "# print('Input shape:', wide_window.example[0].shape)\n",
        "# print('Output shape:', baseline(wide_window.example[0]).shape)"
      ],
      "execution_count": null,
      "outputs": []
    },
    {
      "cell_type": "markdown",
      "metadata": {
        "id": "SKqQHX1K0JW-"
      },
      "source": [
        "Plotting the baseline model's predictions you can see that it is simply the labels, shifted right by 1h."
      ]
    },
    {
      "cell_type": "code",
      "metadata": {
        "id": "jQyAPVLgWTOZ"
      },
      "source": [
        "# wide_window.plot(baseline)"
      ],
      "execution_count": null,
      "outputs": []
    },
    {
      "cell_type": "markdown",
      "metadata": {
        "id": "e93TLUhfAVg2"
      },
      "source": [
        "In the above plots of three examples the single step model is run over the course of 24h. This deserves some explanation:\n",
        "\n",
        "* The blue \"Inputs\" line shows the input temperature at each time step. The model recieves all features, this plot only shows the temperature.\n",
        "* The green \"Labels\" dots show the target prediction value. These dots are shown at the prediction time, not the input time. That is why the range of labels is shifted 1 step relative to the inputs.\n",
        "* The orange \"Predictions\" crosses are the model's prediction's for each output time step. If the model were predicting perfectly the predictions would land directly on the \"labels\"."
      ]
    },
    {
      "cell_type": "markdown",
      "metadata": {
        "id": "E4aOJScj52Yu"
      },
      "source": [
        "### Linear model\n",
        "\n",
        "The simplest **trainable** model you can apply to this task is to insert linear transformation between the input and output. In this case the output from a time step only depends on that step:\n",
        "\n",
        "![A single step prediction](https://github.com/tensorflow/docs/blob/master/site/en/tutorials/structured_data/images/narrow_window.png?raw=1)\n",
        "\n",
        "A `layers.Dense` with no `activation` set is a linear model. The layer only transforms the last axis of the data from `(batch, time, inputs)` to `(batch, time, units)`, it is applied independently to every item across the `batch` and `time` axes."
      ]
    },
    {
      "cell_type": "code",
      "metadata": {
        "id": "6341OXuQ5xA9"
      },
      "source": [
        "# linear = tf.keras.Sequential([\n",
        "#     tf.keras.layers.Dense(units=1)\n",
        "# ])"
      ],
      "execution_count": null,
      "outputs": []
    },
    {
      "cell_type": "code",
      "metadata": {
        "id": "KwaOM8RucUSn"
      },
      "source": [
        "# print('Input shape:', single_step_window.example[0].shape)\n",
        "# print('Output shape:', linear(single_step_window.example[0]).shape)"
      ],
      "execution_count": null,
      "outputs": []
    },
    {
      "cell_type": "markdown",
      "metadata": {
        "id": "OMZTYIj3bYLg"
      },
      "source": [
        "This tutorial trains many models, so package the training procedure into a function:"
      ]
    },
    {
      "cell_type": "markdown",
      "metadata": {
        "id": "_DabrqxAMrjs"
      },
      "source": [
        "# Input parameters"
      ]
    },
    {
      "cell_type": "code",
      "metadata": {
        "id": "CbCL6VIrk-Gt"
      },
      "source": [
        "MAX_EPOCHS = 800\n",
        "\n",
        "def compile_and_fit(model, window, patience=50):\n",
        "  early_stopping = tf.keras.callbacks.EarlyStopping(monitor='val_loss',\n",
        "                                                    patience=patience,\n",
        "                                                    mode='min') # change to max values\n",
        "  learing_rate0=0.5\n",
        "  beta_1_0=0.9\n",
        "  beta_2_0=0.999\n",
        "  epsilon_0=1e-07\n",
        "\n",
        "  model.compile(loss=tf.losses.MeanSquaredError(),\n",
        "                optimizer=tf.optimizers.Adam(learning_rate=learing_rate0, \n",
        "                                             beta_1=beta_1_0, \n",
        "                                             beta_2=beta_2_0,\n",
        "                                             epsilon=epsilon_0, \n",
        "                                             amsgrad=False),\n",
        "                metrics=[tf.metrics.MeanAbsoluteError()])\n",
        "\n",
        "  history = model.fit(window.train, epochs=MAX_EPOCHS,\n",
        "                      validation_data=window.val,\n",
        "                      callbacks=[early_stopping])\n",
        "  return history"
      ],
      "execution_count": null,
      "outputs": []
    },
    {
      "cell_type": "markdown",
      "metadata": {
        "id": "OobVjM-schwj"
      },
      "source": [
        "Train the model and evaluate its performance:"
      ]
    },
    {
      "cell_type": "code",
      "metadata": {
        "id": "9agbz2qB9bLS"
      },
      "source": [
        "# history = compile_and_fit(linear, single_step_window)\n",
        "\n",
        "# val_performance['Linear'] = linear.evaluate(single_step_window.val)\n",
        "# performance['Linear'] = linear.evaluate(single_step_window.test, verbose=0)"
      ],
      "execution_count": null,
      "outputs": []
    },
    {
      "cell_type": "markdown",
      "metadata": {
        "id": "7U9XukYh8beN"
      },
      "source": [
        "Like the `baseline` model, the linear model can be called on batches of wide windows. Used this way the model makes a set of independent predictions on consecutive time steps. The `time` axis acts like another `batch` axis. There are no interactions between the predictions at each time step.\n",
        "\n",
        "![A single step prediction](https://github.com/tensorflow/docs/blob/master/site/en/tutorials/structured_data/images/wide_window.png?raw=1)"
      ]
    },
    {
      "cell_type": "code",
      "metadata": {
        "id": "K9UVM5Sw9KQN"
      },
      "source": [
        "# print('Input shape:', wide_window.example[0].shape)\n",
        "# print('Output shape:', baseline(wide_window.example[0]).shape)"
      ],
      "execution_count": null,
      "outputs": []
    },
    {
      "cell_type": "markdown",
      "metadata": {
        "id": "X-CGj85oKaOG"
      },
      "source": [
        "Here is the plot of its example predictions on the `wide_window`, note how in many cases the prediction is clearly better than just returning the input temperature, but in a few cases it's worse:"
      ]
    },
    {
      "cell_type": "code",
      "metadata": {
        "id": "bCC8VVo-OvwV"
      },
      "source": [
        "# wide_window.plot(linear)"
      ],
      "execution_count": null,
      "outputs": []
    },
    {
      "cell_type": "markdown",
      "metadata": {
        "id": "Is51vU8EMl6c"
      },
      "source": [
        "One advantage to linear models is that they're relatively simple to  interpret.\n",
        "You can pull out the layer's weights, and see the weight assigned to each input:"
      ]
    },
    {
      "cell_type": "code",
      "metadata": {
        "id": "d4uCTbsmK8VI"
      },
      "source": [
        "# plt.bar(x = range(len(train_df.columns)),\n",
        "#         height=linear.layers[0].kernel[:,0].numpy())\n",
        "# axis = plt.gca()\n",
        "# axis.set_xticks(range(len(train_df.columns)))\n",
        "# _ = axis.set_xticklabels(train_df.columns, rotation=90)"
      ],
      "execution_count": null,
      "outputs": []
    },
    {
      "cell_type": "markdown",
      "metadata": {
        "id": "Ylng7215boIY"
      },
      "source": [
        "Sometimes the model doesn't even place the most weight on the input `T (degC)`. This is one of the risks of random initialization. "
      ]
    },
    {
      "cell_type": "markdown",
      "metadata": {
        "id": "W18e6da1cNbw"
      },
      "source": [
        "### Dense\n",
        "\n",
        "Before applying models that actually operate on multiple time-steps, it's worth checking the performance of deeper, more powerful, single input step models.\n",
        "\n",
        "Here's a model similar to the `linear` model, except it stacks several a few `Dense` layers between the input and the output: "
      ]
    },
    {
      "cell_type": "code",
      "metadata": {
        "id": "Z86WkYp7cNAD"
      },
      "source": [
        "# dense = tf.keras.Sequential([\n",
        "#     tf.keras.layers.Dense(units=64, activation='relu'),\n",
        "#     tf.keras.layers.Dense(units=64, activation='relu'),\n",
        "#     tf.keras.layers.Dense(units=1)\n",
        "# ])\n",
        "\n",
        "# history = compile_and_fit(dense, single_step_window)\n",
        "\n",
        "# val_performance['Dense'] = dense.evaluate(single_step_window.val)\n",
        "# performance['Dense'] = dense.evaluate(single_step_window.test, verbose=0)"
      ],
      "execution_count": null,
      "outputs": []
    },
    {
      "cell_type": "markdown",
      "metadata": {
        "id": "j5dv_whJdswH"
      },
      "source": [
        "### Multi-step dense\n",
        "\n",
        "A single-time-step model has no context for the current values of its inputs. It can't see how the input features are changing over time. To address this issue the model needs access to multiple time steps when making predictions:\n",
        "\n",
        "![Three time steps are used for each prediction.](https://github.com/tensorflow/docs/blob/master/site/en/tutorials/structured_data/images/conv_window.png?raw=1)\n"
      ]
    },
    {
      "cell_type": "markdown",
      "metadata": {
        "id": "Zac-ti8agbJ7"
      },
      "source": [
        "The `baseline`, `linear` and `dense` models handled each time step independently. Here the model will take multiple time steps as input to produce a single output.\n",
        "\n",
        "Create a `WindowGenerator` that will produce batches of the 3h of inputs and, 1h of labels:"
      ]
    },
    {
      "cell_type": "markdown",
      "metadata": {
        "id": "gtN4BwZ37niR"
      },
      "source": [
        "Note that the `Window`'s `shift` parameter is relative to the end of the two windows.\n"
      ]
    },
    {
      "cell_type": "code",
      "metadata": {
        "id": "lBh0j5djUKY2"
      },
      "source": [
        "# CONV_WIDTH = 3\n",
        "# conv_window = WindowGenerator(\n",
        "#     input_width=CONV_WIDTH,\n",
        "#     label_width=1,\n",
        "#     shift=1,\n",
        "#     label_columns=[list2[k]])\n",
        "\n",
        "# conv_window"
      ],
      "execution_count": null,
      "outputs": []
    },
    {
      "cell_type": "code",
      "metadata": {
        "id": "dCQ5gvs68Xkd"
      },
      "source": [
        "# conv_window.plot()\n",
        "# plt.title(\"Given 3h as input, predict 1h into the future.\")"
      ],
      "execution_count": null,
      "outputs": []
    },
    {
      "cell_type": "markdown",
      "metadata": {
        "id": "We0HdMxKeqB_"
      },
      "source": [
        "You could train a `dense` model on a multiple-input-step window by adding a `layers.Flatten` as the first layer of the model:"
      ]
    },
    {
      "cell_type": "code",
      "metadata": {
        "id": "oNQnUOkOnC1G"
      },
      "source": [
        "# multi_step_dense = tf.keras.Sequential([\n",
        "#     # Shape: (time, features) => (time*features)\n",
        "#     tf.keras.layers.Flatten(),\n",
        "#     tf.keras.layers.Dense(units=32, activation='relu'),\n",
        "#     tf.keras.layers.Dense(units=32, activation='relu'),\n",
        "#     tf.keras.layers.Dense(units=1),\n",
        "#     # Add back the time dimension.\n",
        "#     # Shape: (outputs) => (1, outputs)\n",
        "#     tf.keras.layers.Reshape([1, -1]),\n",
        "# ])"
      ],
      "execution_count": null,
      "outputs": []
    },
    {
      "cell_type": "code",
      "metadata": {
        "id": "cayD74luo4Vq"
      },
      "source": [
        "# print('Input shape:', conv_window.example[0].shape)\n",
        "# print('Output shape:', multi_step_dense(conv_window.example[0]).shape)"
      ],
      "execution_count": null,
      "outputs": []
    },
    {
      "cell_type": "code",
      "metadata": {
        "id": "fu91yEbRo9-J"
      },
      "source": [
        "# history = compile_and_fit(multi_step_dense, conv_window)\n",
        "\n",
        "# IPython.display.clear_output()\n",
        "# val_performance['Multi step dense'] = multi_step_dense.evaluate(conv_window.val)\n",
        "# performance['Multi step dense'] = multi_step_dense.evaluate(conv_window.test, verbose=0)"
      ],
      "execution_count": null,
      "outputs": []
    },
    {
      "cell_type": "code",
      "metadata": {
        "id": "tnqdXYT6pkEh"
      },
      "source": [
        "# conv_window.plot(multi_step_dense)"
      ],
      "execution_count": null,
      "outputs": []
    },
    {
      "cell_type": "markdown",
      "metadata": {
        "id": "gWfrsP8mq8lV"
      },
      "source": [
        "The main down-side of this approach is that the resulting model can only be executed on input windows of exactly this shape. "
      ]
    },
    {
      "cell_type": "code",
      "metadata": {
        "id": "j-q6tz5Yq8Jk"
      },
      "source": [
        "# print('Input shape:', wide_window.example[0].shape)\n",
        "# try:\n",
        "#   print('Output shape:', multi_step_dense(wide_window.example[0]).shape)\n",
        "# except Exception as e:\n",
        "#   print(f'\\n{type(e).__name__}:{e}')"
      ],
      "execution_count": null,
      "outputs": []
    },
    {
      "cell_type": "markdown",
      "metadata": {
        "id": "bvvajm3ip_8V"
      },
      "source": [
        "The convolutional models in the next section fix this problem."
      ]
    },
    {
      "cell_type": "markdown",
      "metadata": {
        "id": "CrpU6gwSJome"
      },
      "source": [
        "### Convolution neural network\n",
        " \n",
        "A convolution layer (`layers.Conv1D`) also takes multiple time steps as input to each prediction."
      ]
    },
    {
      "cell_type": "markdown",
      "metadata": {
        "id": "cdLBwoaHmsWb"
      },
      "source": [
        "Below is the **same** model as `multi_step_dense`, re-written with a convolution. \n",
        "\n",
        "Note the changes:\n",
        "* The `layers.Flatten` and the first `layers.Dense` are replaced by a `layers.Conv1D`.\n",
        "* The `layers.Reshape` is no longer necessary since the convolution keeps the time axis in its output."
      ]
    },
    {
      "cell_type": "code",
      "metadata": {
        "id": "5azaMBj4ac9t"
      },
      "source": [
        "# conv_model = tf.keras.Sequential([\n",
        "#     tf.keras.layers.Conv1D(filters=32,\n",
        "#                            kernel_size=(CONV_WIDTH,),\n",
        "#                            activation='relu'),\n",
        "#     tf.keras.layers.Dense(units=32, activation='relu'),\n",
        "#     tf.keras.layers.Dense(units=1),\n",
        "# ])"
      ],
      "execution_count": null,
      "outputs": []
    },
    {
      "cell_type": "markdown",
      "metadata": {
        "id": "ftaH6B5ECRiK"
      },
      "source": [
        "Run it on an example batch to see that the model produces outputs with the expected shape:"
      ]
    },
    {
      "cell_type": "code",
      "metadata": {
        "id": "5YNgt1-e98lH"
      },
      "source": [
        "# print(\"Conv model on `conv_window`\")\n",
        "# print('Input shape:', conv_window.example[0].shape)\n",
        "# print('Output shape:', conv_model(conv_window.example[0]).shape)"
      ],
      "execution_count": null,
      "outputs": []
    },
    {
      "cell_type": "markdown",
      "metadata": {
        "id": "5m4kC-jGCY3x"
      },
      "source": [
        "Train and evaluate it on the ` conv_window` and it should give performance similar to the `multi_step_dense` model."
      ]
    },
    {
      "cell_type": "code",
      "metadata": {
        "id": "QDVWdm4paUW7"
      },
      "source": [
        "# history = compile_and_fit(conv_model, conv_window)\n",
        "\n",
        "# IPython.display.clear_output()\n",
        "# val_performance['Conv'] = conv_model.evaluate(conv_window.val)\n",
        "# performance['Conv'] = conv_model.evaluate(conv_window.test, verbose=0)"
      ],
      "execution_count": null,
      "outputs": []
    },
    {
      "cell_type": "markdown",
      "metadata": {
        "id": "sYRipDeXs0Kr"
      },
      "source": [
        "The difference between this `conv_model` and the `multi_step_dense` model is that the `conv_model` can be run on inputs of any length. The convolutional layer is applied to a sliding window of inputs:\n",
        "\n",
        "![Executing a convolutional model on a sequence](https://github.com/tensorflow/docs/blob/master/site/en/tutorials/structured_data/images/wide_conv_window.png?raw=1)\n",
        "\n",
        "If you run it on wider input, it produces wider output:"
      ]
    },
    {
      "cell_type": "code",
      "metadata": {
        "id": "hoqccxx9r5jF"
      },
      "source": [
        "# print(\"Wide window\")\n",
        "# print('Input shape:', wide_window.example[0].shape)\n",
        "# print('Labels shape:', wide_window.example[1].shape)\n",
        "# print('Output shape:', conv_model(wide_window.example[0]).shape)"
      ],
      "execution_count": null,
      "outputs": []
    },
    {
      "cell_type": "markdown",
      "metadata": {
        "id": "h_WGxtLIHhRF"
      },
      "source": [
        "Note that the output is shorter than the input. To make training or plotting work, you need the labels, and prediction to have the same length. So build a `WindowGenerator` to produce wide windows with a few extra input time steps so the label and prediction lengths match: "
      ]
    },
    {
      "cell_type": "code",
      "metadata": {
        "id": "_VPvJ_VwTc0f"
      },
      "source": [
        "# LABEL_WIDTH = 3 # change from 24 to 6\n",
        "# INPUT_WIDTH = LABEL_WIDTH + (CONV_WIDTH - 1)\n",
        "# wide_conv_window = WindowGenerator(\n",
        "#     input_width=INPUT_WIDTH,\n",
        "#     label_width=LABEL_WIDTH,\n",
        "#     shift=1,\n",
        "#     label_columns=[list2[k]])\n",
        "\n",
        "# wide_conv_window"
      ],
      "execution_count": null,
      "outputs": []
    },
    {
      "cell_type": "code",
      "metadata": {
        "id": "gtqlWYXeKXej"
      },
      "source": [
        "# print(\"Wide conv window\")\n",
        "# print('Input shape:', wide_conv_window.example[0].shape)\n",
        "# print('Labels shape:', wide_conv_window.example[1].shape)\n",
        "# print('Output shape:', conv_model(wide_conv_window.example[0]).shape)"
      ],
      "execution_count": null,
      "outputs": []
    },
    {
      "cell_type": "markdown",
      "metadata": {
        "id": "yzxbbS56cSBV"
      },
      "source": [
        "Now you can plot the model's predictions on a wider window. Note the 3 input time steps before the first prediction. Every prediction here is based on the 3 preceding timesteps:"
      ]
    },
    {
      "cell_type": "code",
      "metadata": {
        "id": "gR7VyL45UuEe"
      },
      "source": [
        "# wide_conv_window.plot(conv_model)"
      ],
      "execution_count": null,
      "outputs": []
    },
    {
      "cell_type": "markdown",
      "metadata": {
        "id": "H4crpOcoMlSe"
      },
      "source": [
        "### Recurrent neural network\n",
        "\n",
        "A Recurrent Neural Network (RNN) is a type of neural network well-suited to time series data. RNNs process a time series step-by-step, maintaining an internal state from time-step to time-step.\n",
        "\n",
        "For more details, read the [text generation tutorial](https://www.tensorflow.org/tutorials/text/text_generation) or the [RNN guide](https://www.tensorflow.org/guide/keras/rnn). \n",
        "\n",
        "In this tutorial, you will use an RNN layer called Long Short Term Memory ([LSTM](https://www.tensorflow.org/versions/r2.0/api_docs/python/tf/keras/layers/LSTM))."
      ]
    },
    {
      "cell_type": "markdown",
      "metadata": {
        "id": "vfQbHSMb1ATa"
      },
      "source": [
        "An important constructor argument for all keras RNN layers is the `return_sequences` argument. This setting can configure the layer in one of two ways.\n",
        "\n",
        "1. If `False`, the default, the layer only returns the output of the final timestep, giving the model time to warm up its internal state before making a single prediction: \n",
        "\n",
        "![An lstm warming up and making a single prediction](https://github.com/tensorflow/docs/blob/master/site/en/tutorials/structured_data/images/lstm_1_window.png?raw=1)\n",
        "\n",
        "2. If `True` the layer returns an output for each input. This is useful for:\n",
        "  * Stacking RNN layers. \n",
        "  * Training a model on multiple timesteps simultaneously.\n",
        "\n",
        "![An lstm making a prediction after every timestep](https://github.com/tensorflow/docs/blob/master/site/en/tutorials/structured_data/images/lstm_many_window.png?raw=1)"
      ]
    },
    {
      "cell_type": "code",
      "metadata": {
        "id": "DXKLCJy8nWNU"
      },
      "source": [
        "# lstm_model = tf.keras.models.Sequential([\n",
        "#     # Shape [batch, time, features] => [batch, time, lstm_units]\n",
        "#     tf.keras.layers.LSTM(32, return_sequences=True),\n",
        "#     # Shape => [batch, time, features]\n",
        "#     tf.keras.layers.Dense(units=1)\n",
        "# ])"
      ],
      "execution_count": null,
      "outputs": []
    },
    {
      "cell_type": "markdown",
      "metadata": {
        "id": "F124B00KZcLC"
      },
      "source": [
        "With `return_sequences=True` the model can be trained on 24h of data at a time.\n",
        "\n",
        "Note: This will give a pessimistic view of the model's performance. On the first timestep the model has no access to previous steps, and so can't do any better than the simple `linear` and `dense` models shown earlier."
      ]
    },
    {
      "cell_type": "code",
      "metadata": {
        "id": "eZEROCQVYV6q"
      },
      "source": [
        "# print('Input shape:', wide_window.example[0].shape)\n",
        "# print('Output shape:', lstm_model(wide_window.example[0]).shape)"
      ],
      "execution_count": null,
      "outputs": []
    },
    {
      "cell_type": "code",
      "metadata": {
        "id": "uvdWRl1e9WJl"
      },
      "source": [
        "# history = compile_and_fit(lstm_model, wide_window)\n",
        "\n",
        "# IPython.display.clear_output()\n",
        "# val_performance['LSTM'] = lstm_model.evaluate(wide_window.val)\n",
        "# performance['LSTM'] = lstm_model.evaluate(wide_window.test, verbose=0)"
      ],
      "execution_count": null,
      "outputs": []
    },
    {
      "cell_type": "code",
      "metadata": {
        "id": "NwAOWCVgB26e"
      },
      "source": [
        "# wide_window.plot(lstm_model)"
      ],
      "execution_count": null,
      "outputs": []
    },
    {
      "cell_type": "markdown",
      "metadata": {
        "id": "pYglOCKehi8F"
      },
      "source": [
        "### Performance of single-step model"
      ]
    },
    {
      "cell_type": "markdown",
      "metadata": {
        "id": "2pCk0_rwhi8H"
      },
      "source": [
        "With this dataset typically each of the models does slightly better than the one before it."
      ]
    },
    {
      "cell_type": "code",
      "metadata": {
        "id": "JjEkt488hi8I"
      },
      "source": [
        "# x = np.arange(len(performance))\n",
        "# width = 0.3\n",
        "# metric_name = 'mean_absolute_error'\n",
        "# metric_index = lstm_model.metrics_names.index('mean_absolute_error')\n",
        "# val_mae = [v[metric_index] for v in val_performance.values()]\n",
        "# test_mae = [v[metric_index] for v in performance.values()]\n",
        "\n",
        "# plt.ylabel('mean_absolute_error [T (degC), normalized]')\n",
        "# plt.bar(x - 0.17, val_mae, width, label='Validation')\n",
        "# plt.bar(x + 0.17, test_mae, width, label='Test')\n",
        "# plt.xticks(ticks=x, labels=performance.keys(),\n",
        "#            rotation=45)\n",
        "# _ = plt.legend()"
      ],
      "execution_count": null,
      "outputs": []
    },
    {
      "cell_type": "code",
      "metadata": {
        "id": "cBMCpsdphi8L"
      },
      "source": [
        "# for name, value in performance.items():\n",
        "#   print(f'{name:12s}: {value[1]:0.4f}')"
      ],
      "execution_count": null,
      "outputs": []
    },
    {
      "cell_type": "markdown",
      "metadata": {
        "id": "b5rUJ_2YMWzG"
      },
      "source": [
        "### Multi-output models\n",
        "\n",
        "The models so far all predicted a single output feature, `T (degC)`, for a single time step.\n",
        "\n",
        "All of these models can be converted to predict multiple features just by changing the number of units in the output layer and adjusting the training windows to include all features in the `labels`.\n"
      ]
    },
    {
      "cell_type": "code",
      "metadata": {
        "id": "9Gk0Z91xjOwv"
      },
      "source": [
        "# single_step_window = WindowGenerator(\n",
        "#     # `WindowGenerator` returns all features as labels if you \n",
        "#     # don't set the `label_columns` argument.\n",
        "#     input_width=1, label_width=1, shift=1)\n",
        "\n",
        "# wide_window = WindowGenerator(\n",
        "#     input_width=24, label_width=24, shift=1)\n",
        "\n",
        "# for example_inputs, example_labels in wide_window.train.take(1):\n",
        "#   print(f'Inputs shape (batch, time, features): {example_inputs.shape}')\n",
        "#   print(f'Labels shape (batch, time, features): {example_labels.shape}')"
      ],
      "execution_count": null,
      "outputs": []
    },
    {
      "cell_type": "markdown",
      "metadata": {
        "id": "XmcjHfDskX1N"
      },
      "source": [
        "Note above that the `features` axis of the labels now has the same depth as the inputs, instead of 1."
      ]
    },
    {
      "cell_type": "markdown",
      "metadata": {
        "id": "9k7S5IHNhSNF"
      },
      "source": [
        "#### Baseline\n",
        "\n",
        "The same baseline model can be used here, but this time repeating all features instead of selecting a specific `label_index`."
      ]
    },
    {
      "cell_type": "code",
      "metadata": {
        "id": "sqqB9W-pjr5i"
      },
      "source": [
        "# baseline = Baseline()\n",
        "# baseline.compile(loss=tf.losses.MeanSquaredError(),\n",
        "#                  metrics=[tf.metrics.MeanAbsoluteError()])"
      ],
      "execution_count": null,
      "outputs": []
    },
    {
      "cell_type": "code",
      "metadata": {
        "id": "ltQdgaqQjQWu"
      },
      "source": [
        "# val_performance = {}\n",
        "# performance = {}\n",
        "# val_performance['Baseline'] = baseline.evaluate(wide_window.val)\n",
        "# performance['Baseline'] = baseline.evaluate(wide_window.test, verbose=0)"
      ],
      "execution_count": null,
      "outputs": []
    },
    {
      "cell_type": "markdown",
      "metadata": {
        "id": "dfbCrf5q3P6n"
      },
      "source": [
        "#### Dense"
      ]
    },
    {
      "cell_type": "code",
      "metadata": {
        "id": "NdpzH1dYjdIN"
      },
      "source": [
        "# dense = tf.keras.Sequential([\n",
        "#     tf.keras.layers.Dense(units=64, activation='relu'),\n",
        "#     tf.keras.layers.Dense(units=64, activation='relu'),\n",
        "#     tf.keras.layers.Dense(units=num_features)\n",
        "# ])"
      ],
      "execution_count": null,
      "outputs": []
    },
    {
      "cell_type": "code",
      "metadata": {
        "id": "6uHuU9Cd3PTo"
      },
      "source": [
        "# history = compile_and_fit(dense, single_step_window)\n",
        "\n",
        "# IPython.display.clear_output()\n",
        "# val_performance['Dense'] = dense.evaluate(single_step_window.val)\n",
        "# performance['Dense'] = dense.evaluate(single_step_window.test, verbose=0)"
      ],
      "execution_count": null,
      "outputs": []
    },
    {
      "cell_type": "markdown",
      "metadata": {
        "id": "dsc9pur_mHsx"
      },
      "source": [
        "#### RNN\n"
      ]
    },
    {
      "cell_type": "code",
      "metadata": {
        "id": "4QbGLMyomXaz"
      },
      "source": [
        "# %%time\n",
        "# wide_window = WindowGenerator(\n",
        "#     input_width=24, label_width=24, shift=1)\n",
        "\n",
        "# lstm_model = tf.keras.models.Sequential([\n",
        "#     # Shape [batch, time, features] => [batch, time, lstm_units]\n",
        "#     tf.keras.layers.LSTM(32, return_sequences=True),\n",
        "#     # Shape => [batch, time, features]\n",
        "#     tf.keras.layers.Dense(units=num_features)\n",
        "# ])\n",
        "\n",
        "# history = compile_and_fit(lstm_model, wide_window)\n",
        "\n",
        "# IPython.display.clear_output()\n",
        "# val_performance['LSTM'] = lstm_model.evaluate( wide_window.val)\n",
        "# performance['LSTM'] = lstm_model.evaluate( wide_window.test, verbose=0)\n",
        "\n",
        "# print()"
      ],
      "execution_count": null,
      "outputs": []
    },
    {
      "cell_type": "markdown",
      "metadata": {
        "id": "UwhY2f_Nn0_K"
      },
      "source": [
        "<a id=\"residual\"></a>\n",
        "\n",
        "#### Advanced: Residual connections\n",
        "\n",
        "The `Baseline` model from earlier took advantage of the fact that the sequence doesn't change drastically from time step to time step. Every model trained in this tutorial so far was randomly initialized, and then had to learn that the output is a a small change from the previous time step.\n",
        "\n",
        "While you can get around this issue with careful initialization, it's  simpler to build this into the model structure.\n",
        "\n",
        "It's common in time series analysis to build models that instead of predicting the next value, predict how the value will change in the next timestep.\n",
        "Similarly, \"Residual networks\" or \"ResNets\" in deep learning refer to architectures where each layer adds to the model's accumulating result.\n",
        "\n",
        "That is how you take advantage of the knowledge that the change should be small.\n",
        "\n",
        "![A model with a residual connection](https://github.com/tensorflow/docs/blob/master/site/en/tutorials/structured_data/images/residual.png?raw=1)\n",
        "\n",
        "Essentially this initializes the model to match the `Baseline`. For this task it helps models converge faster, with slightly better performance."
      ]
    },
    {
      "cell_type": "markdown",
      "metadata": {
        "id": "yP58A_ORx0kM"
      },
      "source": [
        "This approach can be used in conjunction with any model discussed in this tutorial. \n",
        "\n",
        "Here it is being applied to the LSTM model, note the use of the `tf.initializers.zeros` to ensure that the initial predicted changes are small, and don't overpower the residual connection. There are no symmetry-breaking concerns for the gradients here, since the `zeros` are only used on the last layer."
      ]
    },
    {
      "cell_type": "code",
      "metadata": {
        "id": "7YlfnDQC22TQ"
      },
      "source": [
        "# class ResidualWrapper(tf.keras.Model):\n",
        "#   def __init__(self, model):\n",
        "#     super().__init__()\n",
        "#     self.model = model\n",
        "\n",
        "#   def call(self, inputs, *args, **kwargs):\n",
        "#     delta = self.model(inputs, *args, **kwargs)\n",
        "\n",
        "#     # The prediction for each timestep is the input\n",
        "#     # from the previous time step plus the delta\n",
        "#     # calculated by the model.\n",
        "#     return inputs + delta"
      ],
      "execution_count": null,
      "outputs": []
    },
    {
      "cell_type": "code",
      "metadata": {
        "id": "NNeH02pspc9B"
      },
      "source": [
        "# %%time\n",
        "# residual_lstm = ResidualWrapper(\n",
        "#     tf.keras.Sequential([\n",
        "#     tf.keras.layers.LSTM(32, return_sequences=True),\n",
        "#     tf.keras.layers.Dense(\n",
        "#         num_features,\n",
        "#         # The predicted deltas should start small\n",
        "#         # So initialize the output layer with zeros\n",
        "#         kernel_initializer=tf.initializers.zeros())\n",
        "# ]))\n",
        "\n",
        "# history = compile_and_fit(residual_lstm, wide_window)\n",
        "\n",
        "# IPython.display.clear_output()\n",
        "# val_performance['Residual LSTM'] = residual_lstm.evaluate(wide_window.val)\n",
        "# performance['Residual LSTM'] = residual_lstm.evaluate(wide_window.test, verbose=0)\n",
        "# print()"
      ],
      "execution_count": null,
      "outputs": []
    },
    {
      "cell_type": "markdown",
      "metadata": {
        "id": "I42Er9Du6co1"
      },
      "source": [
        "#### Performance of multi-output model"
      ]
    },
    {
      "cell_type": "markdown",
      "metadata": {
        "id": "LZxR38P_6pUi"
      },
      "source": [
        "Here is the overall performance for these multi-output models."
      ]
    },
    {
      "cell_type": "code",
      "metadata": {
        "id": "6XgTK9tnr7rc"
      },
      "source": [
        "# for name, value in performance.items():\n",
        "#   print(f'{name:15s}: {value[1]:0.4f}')\n",
        "# x = np.arange(len(performance))\n",
        "# width = 0.3\n",
        "\n",
        "# metric_name = 'mean_absolute_error'\n",
        "# metric_index = lstm_model.metrics_names.index('mean_absolute_error')\n",
        "# val_mae = [v[metric_index] for v in val_performance.values()]\n",
        "# test_mae = [v[metric_index] for v in performance.values()]\n",
        "\n",
        "# plt.bar(x - 0.17, val_mae, width, label='Validation')\n",
        "# ax=plt.bar(x + 0.17, test_mae, width, label='Test')\n",
        "# rects = ax.patches\n",
        "# # Make some labels.\n",
        "# # labels = [\"label%0.4f\" % i for i in range(len(rects))]\n",
        "# labels = [\"%0.3f\" % i for i in np.array(list(performance.values()))[:,1]]\n",
        "\n",
        "# for rect, label in zip(rects, labels):\n",
        "#     height = rect.get_height()\n",
        "#     plt.text(rect.get_x() + rect.get_width() / 2, height + 0, label,\n",
        "#             ha='center', va='bottom')\n",
        "    \n",
        "# # rects0 = ax0.patches\n",
        "# # # Make some labels.\n",
        "# # # labels = [\"label%0.4f\" % i for i in range(len(rects))]\n",
        "# # labels0 = [\"%0.3f\" % i for i in np.array(list(multi_performance.values()))[:,0]]\n",
        "\n",
        "# # for rect, label in zip(rects0, labels0):\n",
        "# #     height = rect.get_height()\n",
        "# #     plt.text(rect.get_x() + rect.get_width() / 2, height + 0, label,\n",
        "# #             ha='center', va='bottom')\n",
        "    \n",
        "# plt.xticks(ticks=x, labels=performance.keys(),\n",
        "#            rotation=45)\n",
        "# plt.ylabel(f'MAE (average over all times and outputs)')\n",
        "# _ = plt.legend()"
      ],
      "execution_count": null,
      "outputs": []
    },
    {
      "cell_type": "code",
      "metadata": {
        "id": "URz3ajCc6kBj"
      },
      "source": [
        "# for name, value in performance.items():\n",
        "#   print(f'{name:15s}: {value[1]:0.4f}')"
      ],
      "execution_count": null,
      "outputs": []
    },
    {
      "cell_type": "markdown",
      "metadata": {
        "id": "_Vt2MJhNxwPU"
      },
      "source": [
        "The above performances are averaged across all model outputs."
      ]
    },
    {
      "cell_type": "markdown",
      "metadata": {
        "id": "eYokb7Om2YbK"
      },
      "source": [
        "## Multi-step models\n",
        "\n",
        "Both the single-output and multiple-output models in the previous sections made **single time step predictions**, 1h into the future.\n",
        "\n",
        "This section looks at how to expand these models to make **multiple time step predictions**.\n",
        "\n",
        "In a multi-step prediction, the model needs to learn to predict a range of future values. Thus, unlike a single step model, where only a single future point is predicted, a multi-step model predicts a sequence of the future values.\n",
        "\n",
        "There are two rough approaches to this:\n",
        "\n",
        "1. Single shot predictions where the entire time series is predicted at once.\n",
        "2. Autoregressive predictions where the model only makes single step predictions and its output is fed back as its input.\n",
        "\n",
        "In this section all the models will predict **all the features across all output time steps**.\n"
      ]
    },
    {
      "cell_type": "markdown",
      "metadata": {
        "id": "WFsDAwVt4_rq"
      },
      "source": [
        "For the multi-step model, the training data again consists of hourly samples. However, here, the models will learn to predict 24h of the future, given 24h of the past.\n",
        "\n",
        "Here is a `Window` object that generates these slices from the dataset:"
      ]
    },
    {
      "cell_type": "code",
      "metadata": {
        "colab": {
          "base_uri": "https://localhost:8080/",
          "height": 524
        },
        "id": "1cFYtsz6XiGw",
        "outputId": "5a1984e9-6bf3-4d03-b4a9-6d24cb21935d"
      },
      "source": [
        "OUT_STEPS = int(12*1) # change from 6 to 6\n",
        "input_width0=int(12*2)\n",
        "multi_window = WindowGenerator(input_width=input_width0, # change from 24 to 6\n",
        "                               label_width=OUT_STEPS,\n",
        "                               shift=OUT_STEPS)\n",
        "\n",
        "multi_window.plot()\n",
        "plt.savefig(output_dirs[0]+'/'+'model_input'+str(input_width0)+'_'+str(OUT_STEPS)+'.png')\n",
        "multi_window"
      ],
      "execution_count": null,
      "outputs": [
        {
          "output_type": "execute_result",
          "data": {
            "text/plain": [
              "Total window size: 36\n",
              "Input indices: [ 0  1  2  3  4  5  6  7  8  9 10 11 12 13 14 15 16 17 18 19 20 21 22 23]\n",
              "Label indices: [24 25 26 27 28 29 30 31 32 33 34 35]\n",
              "Label column name(s): None"
            ]
          },
          "metadata": {
            "tags": []
          },
          "execution_count": 211
        },
        {
          "output_type": "display_data",
          "data": {
            "image/png": "[encoded data removed]",
            "text/plain": [
              "<Figure size 576x432 with 3 Axes>"
            ]
          },
          "metadata": {
            "tags": [],
            "needs_background": "light"
          }
        }
      ]
    },
    {
      "cell_type": "markdown",
      "metadata": {
        "id": "5lg8SInh9Jzd"
      },
      "source": [
        "### Baselines"
      ]
    },
    {
      "cell_type": "markdown",
      "metadata": {
        "id": "axwpoWYOApJL"
      },
      "source": [
        "A simple baseline for this task is to repeat the last input time step for the required number of output timesteps:\n",
        "\n",
        "![Repeat the last input, for each output step](https://github.com/tensorflow/docs/blob/master/site/en/tutorials/structured_data/images/multistep_last.png?raw=1)"
      ]
    },
    {
      "cell_type": "code",
      "metadata": {
        "colab": {
          "base_uri": "https://localhost:8080/",
          "height": 474
        },
        "id": "_5iaHSaJ9Rxv",
        "outputId": "508c2bcf-af24-4ec9-e57e-082c427e2c99"
      },
      "source": [
        "class MultiStepLastBaseline(tf.keras.Model):\n",
        "  def call(self, inputs):\n",
        "    return tf.tile(inputs[:, -1:, :], [1, OUT_STEPS, 1])\n",
        "\n",
        "last_baseline = MultiStepLastBaseline()\n",
        "last_baseline.compile(loss=tf.losses.MeanSquaredError(),\n",
        "                      metrics=[tf.metrics.MeanAbsoluteError()])\n",
        "\n",
        "multi_val_performance = {}\n",
        "multi_performance = {}\n",
        "\n",
        "multi_val_performance['Naive'] = last_baseline.evaluate(multi_window.val)\n",
        "multi_performance['Naive'] = last_baseline.evaluate(multi_window.test, verbose=0)\n",
        "multi_window.plot(last_baseline,model_name='Naive')\n",
        "plt.savefig(output_dirs[0]+'/'+'Naive'+str(input_width0)+'_'+str(OUT_STEPS)+'.png')"
      ],
      "execution_count": null,
      "outputs": [
        {
          "output_type": "stream",
          "text": [
            "1/1 [==============================] - 0s 92ms/step - loss: 2.0719 - mean_absolute_error: 1.1255\n"
          ],
          "name": "stdout"
        },
        {
          "output_type": "display_data",
          "data": {
            "image/png": "[encoded data removed]",
            "text/plain": [
              "<Figure size 576x432 with 3 Axes>"
            ]
          },
          "metadata": {
            "tags": [],
            "needs_background": "light"
          }
        }
      ]
    },
    {
      "cell_type": "markdown",
      "metadata": {
        "id": "AvHZ93ObAfMA"
      },
      "source": [
        "Since this task is to predict 24h given 24h another simple approach is to repeat the previous day, assuming tomorrow will be similar:\n",
        "\n",
        "![Repeat the previous day](https://github.com/tensorflow/docs/blob/master/site/en/tutorials/structured_data/images/multistep_repeat.png?raw=1)"
      ]
    },
    {
      "cell_type": "code",
      "metadata": {
        "id": "L8Y1uMhGwIRs"
      },
      "source": [
        "# # Khi dung repeated thi input va output phai cung do dai voi nhau\n",
        "# class RepeatBaseline(tf.keras.Model):\n",
        "#   def call(self, inputs):\n",
        "#     return inputs\n",
        "\n",
        "# repeat_baseline = RepeatBaseline()\n",
        "# repeat_baseline.compile(loss=tf.losses.MeanSquaredError(),\n",
        "#                         metrics=[tf.metrics.MeanAbsoluteError()])\n",
        "\n",
        "# multi_val_performance['Repeat'] = repeat_baseline.evaluate(multi_window.val)\n",
        "# multi_performance['Repeat'] = repeat_baseline.evaluate(multi_window.test, verbose=0)\n",
        "# multi_window.plot(repeat_baseline,model_name='MSE of '+list(multi_performance.keys())[-1]+':'+f'{list(multi_performance.values())[-1][-1]:0.4f}')\n",
        "# plt.savefig(output_dirs[0]+'/'+list(multi_performance.keys())[-1]+str(input_width0)+'_'+str(OUT_STEPS)+'.png')"
      ],
      "execution_count": null,
      "outputs": []
    },
    {
      "cell_type": "markdown",
      "metadata": {
        "id": "tbndS-ct9C2Q"
      },
      "source": [
        "### Single-shot models\n",
        "\n",
        "One high level approach to this problem is use a \"single-shot\" model, where the model makes the entire sequence prediction in a single step.\n",
        "\n",
        "This can be implemented efficiently as a `layers.Dense` with `OUT_STEPS*features` output units. The model just needs to reshape that output to the required `(OUTPUT_STEPS, features)`."
      ]
    },
    {
      "cell_type": "markdown",
      "metadata": {
        "id": "NCKS4m1VKrDQ"
      },
      "source": [
        "#### Linear\n",
        "\n",
        "A simple linear model based on the last input time step does better than either baseline, but is underpowered. The model needs to predict `OUTPUT_STEPS` time steps, from a single input time step with a linear projection. It can only capture a low-dimensional slice of the behavior, likely based mainly on the time of day and time of year.\n",
        "\n",
        "![Predct all timesteps from the last time-step](https://github.com/tensorflow/docs/blob/master/site/en/tutorials/structured_data/images/multistep_dense.png?raw=1)"
      ]
    },
    {
      "cell_type": "markdown",
      "metadata": {
        "id": "nMAQTWlBzKBS"
      },
      "source": [
        "### Viết lại function multi_window\n",
        "\n",
        "* Thay multi_window = multi_window1\n",
        "* nhân chuỗi với 0 để không hiển thị input"
      ]
    },
    {
      "cell_type": "code",
      "metadata": {
        "colab": {
          "base_uri": "https://localhost:8080/",
          "height": 524
        },
        "id": "X5UIgJf-zUDC",
        "outputId": "9a6aa5f2-5043-4356-a568-edbae12ba1ca"
      },
      "source": [
        "OUT_STEPS = int(12*1) # change from 6 to 6\n",
        "input_width0=int(12*2)\n",
        "multi_window1 = WindowGenerator(input_width=input_width0, # change from 24 to 6\n",
        "                               label_width=OUT_STEPS,\n",
        "                               shift=OUT_STEPS)\n",
        "\n",
        "multi_window1.plot()\n",
        "# plt.savefig(output_dirs[0]+'/'+'model_input'+str(input_width0)+'_'+str(OUT_STEPS)+'.png')\n",
        "multi_window1"
      ],
      "execution_count": null,
      "outputs": [
        {
          "output_type": "execute_result",
          "data": {
            "text/plain": [
              "Total window size: 36\n",
              "Input indices: [ 0  1  2  3  4  5  6  7  8  9 10 11 12 13 14 15 16 17 18 19 20 21 22 23]\n",
              "Label indices: [24 25 26 27 28 29 30 31 32 33 34 35]\n",
              "Label column name(s): None"
            ]
          },
          "metadata": {
            "tags": []
          },
          "execution_count": 244
        },
        {
          "output_type": "display_data",
          "data": {
            "image/png": "[encoded data removed]",
            "text/plain": [
              "<Figure size 576x432 with 3 Axes>"
            ]
          },
          "metadata": {
            "tags": [],
            "needs_background": "light"
          }
        }
      ]
    },
    {
      "cell_type": "code",
      "metadata": {
        "colab": {
          "base_uri": "https://localhost:8080/",
          "height": 881
        },
        "id": "kfRz_WVhIQcd",
        "outputId": "a397fde8-2ecf-4ccb-ae58-50f811650540"
      },
      "source": [
        "multi_linear_model = tf.keras.Sequential([\n",
        "    # Take the last time-step.\n",
        "    # Shape [batch, time, features] => [batch, 1, features]\n",
        "    tf.keras.layers.Lambda(lambda x: x[:, -1:, :]),\n",
        "    # Shape => [batch, 1, out_steps*features]\n",
        "    tf.keras.layers.Dense(OUT_STEPS*num_features,\n",
        "                          kernel_initializer=tf.initializers.zeros()),\n",
        "    # Shape => [batch, out_steps, features]\n",
        "    tf.keras.layers.Reshape([OUT_STEPS, num_features])\n",
        "])\n",
        "\n",
        "history = compile_and_fit(multi_linear_model, multi_window)\n",
        "\n",
        "#######################################################################################\n",
        "# Ve cai training/validating process\n",
        "# plot history\n",
        "plt.figure(figsize=(8, 6))\n",
        "plt.plot(history.history['loss'], label='train')\n",
        "plt.plot(history.history['val_loss'], label='test')\n",
        "plt.grid(True,linestyle='-.')\n",
        "plt.xlabel('epochs')\n",
        "plt.ylabel('mse')\n",
        "plt.legend()\n",
        "plt.tight_layout()\n",
        "plt.savefig(output_dirs[0]+'/'+'lossLinear'+'_'+str(OUT_STEPS)+'.png')\n",
        "######################################################################################\n",
        "\n",
        "IPython.display.clear_output()\n",
        "multi_val_performance['Linear'] = multi_linear_model.evaluate(multi_window.val,verbose=0)\n",
        "multi_performance['Linear'] = multi_linear_model.evaluate(multi_window.test, verbose=0)\n",
        "multi_window.plot(multi_linear_model,model_name='Linear')\n",
        "plt.savefig(output_dirs[0]+'/'+'Linear'+'_'+str(OUT_STEPS)+'.png')\n"
      ],
      "execution_count": null,
      "outputs": [
        {
          "output_type": "display_data",
          "data": {
            "image/png": "[encoded data removed]",
            "text/plain": [
              "<Figure size 576x432 with 1 Axes>"
            ]
          },
          "metadata": {
            "tags": [],
            "needs_background": "light"
          }
        },
        {
          "output_type": "display_data",
          "data": {
            "image/png": "[encoded data removed]",
            "text/plain": [
              "<Figure size 576x432 with 3 Axes>"
            ]
          },
          "metadata": {
            "tags": [],
            "needs_background": "light"
          }
        }
      ]
    },
    {
      "cell_type": "markdown",
      "metadata": {
        "id": "zi2TMHk2IRrh"
      },
      "source": [
        "#### Dense\n",
        "\n",
        "Adding a `layers.Dense` between the input and output gives the linear model more power, but is still only based on a single input timestep."
      ]
    },
    {
      "cell_type": "code",
      "metadata": {
        "id": "jezm-BKaGj91"
      },
      "source": [
        "# multi_dense_model = tf.keras.Sequential([\n",
        "#     # Take the last time step.\n",
        "#     # Shape [batch, time, features] => [batch, 1, features]\n",
        "#     tf.keras.layers.Lambda(lambda x: x[:, -1:, :]),\n",
        "#     # Shape => [batch, 1, dense_units]\n",
        "#     tf.keras.layers.Dense(32, activation='relu'),\n",
        "#     # Shape => [batch, out_steps*features]\n",
        "#     tf.keras.layers.Dense(OUT_STEPS*num_features,\n",
        "#                           kernel_initializer=tf.initializers.zeros()),\n",
        "#     # Shape => [batch, out_steps, features]\n",
        "#     tf.keras.layers.Reshape([OUT_STEPS, num_features])\n",
        "# ])\n",
        "\n",
        "# history = compile_and_fit(multi_dense_model, multi_window)\n",
        "\n",
        "# #######################################################################################\n",
        "# # Ve cai training/validating process\n",
        "# # plot history\n",
        "# plt.figure(figsize=(8, 6))\n",
        "# plt.plot(history.history['loss'], label='train')\n",
        "# plt.plot(history.history['val_loss'], label='test')\n",
        "# plt.grid(True,linestyle='-.')\n",
        "# plt.xlabel('epochs')\n",
        "# plt.ylabel('mse')\n",
        "# plt.legend()\n",
        "# plt.tight_layout()\n",
        "# # plt.savefig(output_dirs[0]+'/'+'model_dense'+str(input_width0)+'_'+str(OUT_STEPS)+'.png')\n",
        "# #######################################################################################\n",
        "\n",
        "# IPython.display.clear_output()\n",
        "# multi_val_performance['Dense'] = multi_dense_model.evaluate(multi_window.val)\n",
        "# multi_performance['Dense'] = multi_dense_model.evaluate(multi_window.test, verbose=0)\n",
        "# multi_window.plot(multi_dense_model,model_name='MSE of '+list(multi_performance.keys())[-1]+':'+f'{list(multi_performance.values())[-1][-1]:0.4f}')\n",
        "# plt.savefig(output_dirs[0]+'/'+list(multi_performance.keys())[-1]+str(input_width0)+'_'+str(OUT_STEPS)+'.png')"
      ],
      "execution_count": null,
      "outputs": []
    },
    {
      "cell_type": "markdown",
      "metadata": {
        "id": "icsBAjCzMaMl"
      },
      "source": [
        "#### CNN"
      ]
    },
    {
      "cell_type": "markdown",
      "metadata": {
        "id": "34lCZrWYNBwd"
      },
      "source": [
        "A convolutional model makes predictions based on a fixed-width history, which may lead to better performance than the dense model since it can see how things are changing over time:\n",
        "\n",
        "![A convolutional model sees how things change over time](https://github.com/tensorflow/docs/blob/master/site/en/tutorials/structured_data/images/multistep_conv.png?raw=1)"
      ]
    },
    {
      "cell_type": "code",
      "metadata": {
        "id": "0xJoIP6PMWMI"
      },
      "source": [
        "# CONV_WIDTH = 3\n",
        "# multi_conv_model = tf.keras.Sequential([\n",
        "#     # Shape [batch, time, features] => [batch, CONV_WIDTH, features]\n",
        "#     tf.keras.layers.Lambda(lambda x: x[:, -CONV_WIDTH:, :]),\n",
        "#     # Shape => [batch, 1, conv_units]\n",
        "#     tf.keras.layers.Conv1D(128, activation='relu', kernel_size=(CONV_WIDTH)),\n",
        "#     # Shape => [batch, 1,  out_steps*features]\n",
        "#     tf.keras.layers.Dense(OUT_STEPS*num_features,\n",
        "#                           kernel_initializer=tf.initializers.zeros()),\n",
        "#     # Shape => [batch, out_steps, features]\n",
        "#     tf.keras.layers.Reshape([OUT_STEPS, num_features])\n",
        "# ])\n",
        "\n",
        "# history = compile_and_fit(multi_conv_model, multi_window)\n",
        "\n",
        "# #######################################################################################\n",
        "# # Ve cai training/validating process\n",
        "# # plot history\n",
        "# plt.figure(figsize=(8, 6))\n",
        "# plt.plot(history.history['loss'], label='train')\n",
        "# plt.plot(history.history['val_loss'], label='test')\n",
        "# plt.grid(True,linestyle='-.')\n",
        "# plt.xlabel('epochs')\n",
        "# plt.ylabel('mse')\n",
        "# plt.legend()\n",
        "# plt.tight_layout()\n",
        "# ######################################################################################\n",
        "\n",
        "# IPython.display.clear_output()\n",
        "\n",
        "# multi_val_performance['Conv'] = multi_conv_model.evaluate(multi_window.val)\n",
        "# multi_performance['Conv'] = multi_conv_model.evaluate(multi_window.test, verbose=0)\n",
        "# multi_window.plot(multi_conv_model,model_name='MSE of '+list(multi_performance.keys())[-1]+':'+f'{list(multi_performance.values())[-1][-1]:0.4f}')\n",
        "# plt.savefig(output_dirs[0]+'/'+list(multi_performance.keys())[-1]+str(input_width0)+'_'+str(OUT_STEPS)+'.png')\n"
      ],
      "execution_count": null,
      "outputs": []
    },
    {
      "cell_type": "markdown",
      "metadata": {
        "id": "weBjeZAFJOP4"
      },
      "source": [
        "#### RNN"
      ]
    },
    {
      "cell_type": "markdown",
      "metadata": {
        "id": "8022xOKxOO92"
      },
      "source": [
        "A recurrent model can learn to use a long history of inputs, if it's relevant to the predictions the model is making. Here the model will accumulate internal state for 24h, before making a single prediction for the next 24h.\n",
        "\n",
        "In this single-shot format, the LSTM only needs to produce an output at the last time step, so set `return_sequences=False`.\n",
        "\n",
        "![The lstm accumulates state over the input window, and makes a single prediction for the next 24h](https://github.com/tensorflow/docs/blob/master/site/en/tutorials/structured_data/images/multistep_lstm.png?raw=1)\n"
      ]
    },
    {
      "cell_type": "code",
      "metadata": {
        "colab": {
          "base_uri": "https://localhost:8080/",
          "height": 918
        },
        "id": "Bf1ks6RTzF64",
        "outputId": "f6044970-f7f8-4cdb-adeb-972aa1f24e40"
      },
      "source": [
        "units0=64\n",
        "multi_lstm_model = tf.keras.Sequential([\n",
        "    # Shape [batch, time, features] => [batch, lstm_units]\n",
        "    # Adding more `lstm_units` just overfits more quickly.\n",
        "    \n",
        "    tf.keras.layers.LSTM(units0, return_sequences=True),\n",
        "    tf.keras.layers.LSTM(units0, return_sequences=False),\n",
        "          \n",
        "                                    \n",
        "    # Shape => [batch, out_steps*features]\n",
        "    tf.keras.layers.Dense(OUT_STEPS*num_features,\n",
        "                          kernel_initializer=tf.initializers.zeros()),\n",
        "    # Shape => [batch, out_steps, features]\n",
        "    tf.keras.layers.Reshape([OUT_STEPS, num_features])\n",
        "    \n",
        "])\n",
        "\n",
        "history = compile_and_fit(multi_lstm_model, multi_window)\n",
        "\n",
        "#######################################################################################\n",
        "# Ve cai training/validating process\n",
        "# plot history\n",
        "plt.figure(figsize=(8, 6))\n",
        "plt.plot(history.history['loss'], label='train')\n",
        "plt.plot(history.history['val_loss'], label='test')\n",
        "plt.grid(True,linestyle='-.')\n",
        "plt.xlabel('epochs')\n",
        "plt.ylabel('mse')\n",
        "plt.legend()\n",
        "plt.tight_layout()\n",
        "plt.savefig(output_dirs[0]+'/'+'loss_LSTM'+str(input_width0)+'_'+str(OUT_STEPS)+'.png')\n",
        "######################################################################################\n",
        "\n",
        "IPython.display.clear_output()\n",
        "\n",
        "multi_val_performance['LSTM'] = multi_lstm_model.evaluate(multi_window.val)\n",
        "multi_performance['LSTM'] = multi_lstm_model.evaluate(multi_window.test, verbose=0)\n",
        "multi_window.plot(multi_lstm_model,model_name='LSTM')\n",
        "plt.savefig(output_dirs[0]+'/'+'LSTM'+str(input_width0)+'_'+str(OUT_STEPS)+'.png')\n",
        "# # trinh bai lai ket qua\n",
        "# res_multi_lstm_model=multi_lstm_model.predict(multi_window.test, verbose=0)\n",
        "# plt.plot(res_multi_lstm_model[0,:,0])"
      ],
      "execution_count": null,
      "outputs": [
        {
          "output_type": "stream",
          "text": [
            "1/1 [==============================] - 0s 42ms/step - loss: 1.0489 - mean_absolute_error: 0.7964\n"
          ],
          "name": "stdout"
        },
        {
          "output_type": "display_data",
          "data": {
            "image/png": "[encoded data removed]",
            "text/plain": [
              "<Figure size 576x432 with 1 Axes>"
            ]
          },
          "metadata": {
            "tags": [],
            "needs_background": "light"
          }
        },
        {
          "output_type": "display_data",
          "data": {
            "image/png": "[encoded data removed]",
            "text/plain": [
              "<Figure size 576x432 with 3 Axes>"
            ]
          },
          "metadata": {
            "tags": [],
            "needs_background": "light"
          }
        }
      ]
    },
    {
      "cell_type": "markdown",
      "metadata": {
        "id": "L975DPAineRE"
      },
      "source": [
        "### Train and fit for LSTM_AT"
      ]
    },
    {
      "cell_type": "code",
      "metadata": {
        "id": "U74GMDVXnmpP"
      },
      "source": [
        "def compile_and_fit_lstm_at(model, window, patience=5):\n",
        "  early_stopping = tf.keras.callbacks.EarlyStopping(monitor='val_loss',\n",
        "                                                    patience=patience,\n",
        "                                                    mode='min')\n",
        "  learing_rate0=0\n",
        "  beta_1_0=0.9\n",
        "  beta_2_0=0.999\n",
        "  epsilon_0=1e-07\n",
        "\n",
        "  model.compile(loss=tf.losses.MeanSquaredError(), # thay mse bang mape\n",
        "                optimizer=tf.optimizers.Adam(learning_rate=learing_rate0, \n",
        "                                             beta_1=beta_1_0, \n",
        "                                             beta_2=beta_2_0,\n",
        "                                             epsilon=epsilon_0, \n",
        "                                             amsgrad=True),\n",
        "                \n",
        "                metrics=[tf.metrics.MeanSquaredError()]) # thay mse cho mae\n",
        "\n",
        "  history = model.fit(window.train, epochs=MAX_EPOCHS,\n",
        "                      verbose=0,\n",
        "                      \n",
        "                      validation_data=window.val,\n",
        "                      callbacks=[early_stopping])\n",
        "  return history"
      ],
      "execution_count": null,
      "outputs": []
    },
    {
      "cell_type": "markdown",
      "metadata": {
        "id": "97Co6Vt7fMmc"
      },
      "source": [
        "#### RNN_AT\n",
        "su dung attention base vao mo hinh bang cach them lop Time distributed\n",
        "encode and decode model"
      ]
    },
    {
      "cell_type": "code",
      "metadata": {
        "id": "ngAHg9O4r6nF"
      },
      "source": [
        "# demonstrate data normalization with sklearn\n",
        "from sklearn.preprocessing import MinMaxScaler\n",
        "from sklearn.preprocessing import StandardScaler\n",
        "# create scaler\n",
        "scaler = MinMaxScaler([-1,1])\n",
        "# scaler = StandardScaler()\n",
        "datasetsc=scaler.fit_transform(dataset)\n",
        "max_values=pd.DataFrame(datasetsc).describe().iloc[7,:].max()\n",
        "min_values=pd.DataFrame(datasetsc).describe().iloc[3,:].min()\n",
        "abs_max=np.array([max_values,np.abs(min_values)]).max()"
      ],
      "execution_count": null,
      "outputs": []
    },
    {
      "cell_type": "code",
      "metadata": {
        "id": "OKKBSgiXgCG1"
      },
      "source": [
        "# Custom activation function\n",
        "from keras.layers import Activation\n",
        "from keras import backend as K\n",
        "from keras.utils.generic_utils import get_custom_objects\n",
        "# using customize functions\n",
        "def custom_activation(x):\n",
        "    return (K.tanh(x) * abs_max) \n",
        "\n",
        "get_custom_objects().update({'custom_activation': Activation(custom_activation)})\n",
        "\n",
        "activation_function0='custom_activation'\n"
      ],
      "execution_count": null,
      "outputs": []
    },
    {
      "cell_type": "code",
      "metadata": {
        "id": "HjXtQq2csE7A"
      },
      "source": [
        "# K.clear_session()\n",
        "# units0=32\n",
        "# multi_lstm_at_model = tf.keras.Sequential([\n",
        "#     # Shape [batch, time, features] => [batch, lstm_units]\n",
        "#     # Adding more `lstm_units` just overfits more quickly.\n",
        "#     tf.keras.layers.LSTM(units0, return_sequences=True),\n",
        "#     # tf.keras.layers.LSTM(units0, return_sequences=True),\n",
        "#     tf.keras.layers.LSTM(units0, return_sequences=False),\n",
        "#     tf.keras.layers.RepeatVector(OUT_STEPS),\n",
        "#     tf.keras.layers.LSTM(units0,return_sequences=False),\n",
        "#     # tf.keras.layers.Activation('sigmoid'),\n",
        "#     # tf.keras.layers.Activation('relu'),\n",
        "#     tf.keras.layers.Activation('tanh'),\n",
        "#     # tf.keras.layers.Activation(custom_activation,name='custom_activation'),\n",
        "#     tf.keras.layers.Dropout(0),                                   \n",
        "#     # Shape => [batch, out_steps*features]\n",
        "#     tf.keras.layers.Dense(OUT_STEPS*num_features,\n",
        "#                           kernel_initializer=tf.initializers.zeros()),\n",
        "#     # Shape => [batch, out_steps, features]\n",
        "#     tf.keras.layers.Reshape([OUT_STEPS, num_features])\n",
        "# ])\n",
        "\n",
        "# history = compile_and_fit_lstm_at(multi_lstm_at_model, multi_window)\n",
        "# multi_lstm_at_model.summary()\n",
        "# #plot model\n",
        "# tf.keras.utils.plot_model(\n",
        "#     multi_lstm_at_model, to_file=output_dirs[0]+'/'+'LSTM_AT_struct'+str(input_width0)+'_'+str(OUT_STEPS)+'.png', show_shapes=False, show_dtype=False,\n",
        "#     show_layer_names=True, rankdir='TB', expand_nested=False, dpi=96\n",
        "# )\n",
        "# # danh gia du lieu test\n",
        "# multi_lstm_at_model.predict(multi_window.test, verbose=1)\n",
        "\n",
        "# #######################################################################################\n",
        "# # Ve cai training/validating process\n",
        "# # plot history\n",
        "# plt.figure(figsize=(8, 6))\n",
        "# plt.plot(history.history['loss'], label='train')\n",
        "# plt.plot(history.history['val_loss'], label='test')\n",
        "# plt.grid(True,linestyle='-.')\n",
        "# plt.xlabel('epochs')\n",
        "# plt.ylabel('mse')\n",
        "# plt.legend()\n",
        "# plt.tight_layout()\n",
        "# ######################################################################################\n",
        "\n",
        "# IPython.display.clear_output()\n",
        "\n",
        "# multi_val_performance['AT_LSTM'] = multi_lstm_at_model.evaluate(multi_window.val)\n",
        "# multi_performance['AT_LSTM'] = multi_lstm_at_model.evaluate(multi_window.test, verbose=0)\n",
        "# multi_window.plot(multi_lstm_at_model,model_name='LSTM_AT')\n",
        "# plt.savefig(output_dirs[0]+'/'+'LSTM_AT'+str(input_width0)+'_'+str(OUT_STEPS)+'.png')"
      ],
      "execution_count": null,
      "outputs": []
    },
    {
      "cell_type": "markdown",
      "metadata": {
        "id": "PTKK0G0hCpOG"
      },
      "source": [
        "# Train and fit GRU"
      ]
    },
    {
      "cell_type": "code",
      "metadata": {
        "id": "56MIpOfBCwxn"
      },
      "source": [
        "def compile_and_fit_gru(model, window, patience=100):\n",
        "  early_stopping = tf.keras.callbacks.EarlyStopping(monitor='val_loss',\n",
        "                                                    patience=patience,\n",
        "                                                    mode='min')\n",
        "  learing_rate0=0.005\n",
        "  beta_1_0=0.9\n",
        "  beta_2_0=0.999\n",
        "  epsilon_0=1e-07\n",
        "\n",
        "  model.compile(loss=tf.losses.MeanSquaredError(), # thay mse bang mape\n",
        "                optimizer=tf.optimizers.Adam(learning_rate=learing_rate0, \n",
        "                                             beta_1=beta_1_0, \n",
        "                                             beta_2=beta_2_0,\n",
        "                                             epsilon=epsilon_0, \n",
        "                                             amsgrad=True),\n",
        "                metrics=[tf.metrics.MeanSquaredError()]) # thay mse cho mae\n",
        "\n",
        "  history = model.fit(window.train, epochs=MAX_EPOCHS,\n",
        "                      \n",
        "                      validation_data=window.val,\n",
        "                      callbacks=[early_stopping])\n",
        "  return history"
      ],
      "execution_count": null,
      "outputs": []
    },
    {
      "cell_type": "markdown",
      "metadata": {
        "id": "fNOXO9YEC-5d"
      },
      "source": [
        "# GRU"
      ]
    },
    {
      "cell_type": "code",
      "metadata": {
        "id": "wt7XLyasDBn2"
      },
      "source": [
        "# units0=32\n",
        "# multi_gru_model = tf.keras.Sequential([\n",
        "#     # Shape [batch, time, features] => [batch, lstm_units]\n",
        "#     # Adding more `lstm_units` just overfits more quickly.\n",
        "#     tf.keras.layers.GRU(units0, return_sequences=True),\n",
        "#     # tf.keras.layers.LSTM(units0, return_sequences=True),\n",
        "#     tf.keras.layers.GRU(units0, return_sequences=False),\n",
        "#     tf.keras.layers.RepeatVector(OUT_STEPS),\n",
        "#     tf.keras.layers.GRU(units0,return_sequences=False),\n",
        "#     # tf.keras.layers.Activation('sigmoid'),\n",
        "#     # tf.keras.layers.Activation('relu'),\n",
        "#     # tf.keras.layers.Activation('tanh'),\n",
        "#     tf.keras.layers.Activation(custom_activation,name='custom_activation'),\n",
        "#     tf.keras.layers.Dropout(0),                                   \n",
        "#     # Shape => [batch, out_steps*features]\n",
        "#     tf.keras.layers.Dense(OUT_STEPS*num_features,\n",
        "#                           kernel_initializer=tf.initializers.zeros()),\n",
        "#     # Shape => [batch, out_steps, features]\n",
        "#     tf.keras.layers.Reshape([OUT_STEPS, num_features])\n",
        "# ])\n",
        "\n",
        "# history = compile_and_fit_gru(multi_gru_model, multi_window)\n",
        "\n",
        "# #######################################################################################\n",
        "# # Ve cai training/validating process\n",
        "# # plot history\n",
        "# plt.figure(figsize=(8, 6))\n",
        "# plt.plot(history.history['loss'], label='train')\n",
        "# plt.plot(history.history['val_loss'], label='test')\n",
        "# plt.grid(True,linestyle='-.')\n",
        "# plt.xlabel('epochs')\n",
        "# plt.ylabel('mse')\n",
        "# plt.legend()\n",
        "# plt.tight_layout()\n",
        "# ######################################################################################\n",
        "\n",
        "# IPython.display.clear_output()\n",
        "\n",
        "# multi_val_performance['gru'] = multi_lstm_at_model.evaluate(multi_window.val)\n",
        "# multi_performance['gru'] = multi_lstm_at_model.evaluate(multi_window.test, verbose=0)\n",
        "# multi_window.plot(multi_lstm_at_model,model_name='MSE of '+list(multi_performance.keys())[-1]+':'+f'{list(multi_performance.values())[-1][-1]:0.4f}')\n",
        "# plt.savefig(output_dirs[0]+'/'+list(multi_performance.keys())[-1]+str(input_width0)+'_'+str(OUT_STEPS)+'.png')"
      ],
      "execution_count": null,
      "outputs": []
    },
    {
      "cell_type": "markdown",
      "metadata": {
        "id": "d5n-1cDW12Vo"
      },
      "source": [
        "### Advanced: Autoregressive model\n",
        "\n",
        "The above models all predict the entire output sequence in a single step.\n",
        "\n",
        "In some cases it may be helpful for the model to decompose this prediction into individual time steps. Then each model's output can be fed back into itself at each step and predictions can be made conditioned on the previous one, like in the classic [Generating Sequences With Recurrent Neural Networks](https://arxiv.org/abs/1308.0850).\n",
        "\n",
        "One clear advantage to this style of model is that it can be set up to produce output with a varying length.\n",
        "\n",
        "You could take any of the single-step multi-output models trained in the first half of this tutorial and run  in an autoregressive feedback loop, but here you'll focus on building a model that's been explicitly trained to do that.\n",
        "\n",
        "![Feedback a model's output to its input](https://github.com/tensorflow/docs/blob/master/site/en/tutorials/structured_data/images/multistep_autoregressive.png?raw=1)\n"
      ]
    },
    {
      "cell_type": "markdown",
      "metadata": {
        "id": "PKRreBbULRXY"
      },
      "source": [
        "#### RNN\n",
        "\n",
        "This tutorial only builds an autoregressive RNN model, but this pattern could be applied to any model that was designed to output a single timestep.\n",
        "\n",
        "The model will have the same basic form as the single-step `LSTM` models: An `LSTM` followed by a `layers.Dense` that converts the `LSTM` outputs to model predictions.\n",
        "\n",
        "A `layers.LSTM` is a `layers.LSTMCell` wrapped in the higher level `layers.RNN` that manages the state and sequence results for you (See [Keras RNNs](https://www.tensorflow.org/guide/keras/rnn) for details).\n",
        "\n",
        "In this case the model has to manually manage the inputs for each step so it uses `layers.LSTMCell` directly for the lower level, single time step interface."
      ]
    },
    {
      "cell_type": "code",
      "metadata": {
        "id": "s5tz3Nu0R5JG"
      },
      "source": [
        "class FeedBack(tf.keras.Model):\n",
        "  def __init__(self, units, out_steps):\n",
        "    super().__init__()\n",
        "    self.out_steps = out_steps\n",
        "    self.units = units\n",
        "    self.lstm_cell = tf.keras.layers.LSTMCell(units)\n",
        "    # Also wrap the LSTMCell in an RNN to simplify the `warmup` method.\n",
        "    self.lstm_rnn = tf.keras.layers.RNN(self.lstm_cell, return_state=True)\n",
        "    self.lstm_rnn = tf.keras.layers.RNN(self.lstm_cell, return_state=True) # them mot layer\n",
        "    self.dense = tf.keras.layers.Dense(num_features)"
      ],
      "execution_count": null,
      "outputs": []
    },
    {
      "cell_type": "code",
      "metadata": {
        "id": "2OXVM9G1U7xR"
      },
      "source": [
        "feedback_model = FeedBack(units=256, out_steps=OUT_STEPS)"
      ],
      "execution_count": null,
      "outputs": []
    },
    {
      "cell_type": "markdown",
      "metadata": {
        "id": "ph5uFSfTUNho"
      },
      "source": [
        "The first method this model needs is a `warmup` method to initialize its internal state based on the inputs. Once trained this state will capture the relevant parts of the input history. This is equivalent to the single-step `LSTM` model from earlier:"
      ]
    },
    {
      "cell_type": "code",
      "metadata": {
        "id": "vM2K_LLdRjDZ"
      },
      "source": [
        "def warmup(self, inputs):\n",
        "  # inputs.shape => (batch, time, features)\n",
        "  # x.shape => (batch, lstm_units)\n",
        "  x, *state = self.lstm_rnn(inputs)\n",
        "\n",
        "  # predictions.shape => (batch, features)\n",
        "  prediction = self.dense(x)\n",
        "  return prediction, state\n",
        "\n",
        "FeedBack.warmup = warmup"
      ],
      "execution_count": null,
      "outputs": []
    },
    {
      "cell_type": "markdown",
      "metadata": {
        "id": "6JkaSYaZ9eB7"
      },
      "source": [
        "This method returns a single time-step prediction, and the internal state of the LSTM:"
      ]
    },
    {
      "cell_type": "code",
      "metadata": {
        "colab": {
          "base_uri": "https://localhost:8080/"
        },
        "id": "w9Fz6NTKXXwU",
        "outputId": "fddafeae-d115-4902-ad86-0b520fe34cb2"
      },
      "source": [
        "prediction, state = feedback_model.warmup(multi_window.example[0])\n",
        "prediction.shape"
      ],
      "execution_count": null,
      "outputs": [
        {
          "output_type": "execute_result",
          "data": {
            "text/plain": [
              "TensorShape([64, 18])"
            ]
          },
          "metadata": {
            "tags": []
          },
          "execution_count": 227
        }
      ]
    },
    {
      "cell_type": "markdown",
      "metadata": {
        "id": "S_ZdvPjdX3y3"
      },
      "source": [
        "With the `RNN`'s state, and an initial prediction you can now continue iterating the model feeding the predictions at each step back as the input.\n",
        "\n",
        "The simplest approach to collecting the output predictions is to use a python list, and `tf.stack` after the loop."
      ]
    },
    {
      "cell_type": "markdown",
      "metadata": {
        "id": "yotTad3nZXQU"
      },
      "source": [
        "Note: Stacking a python list like this only works with eager-execution, using `Model.compile(..., run_eagerly=True)` for training, or with a fixed length output. For a dynamic output length you would need to use a `tf.TensorArray` instead of a python list, and `tf.range` instead of the python `range`."
      ]
    },
    {
      "cell_type": "code",
      "metadata": {
        "id": "g1GRDu3mZtr9"
      },
      "source": [
        "def call(self, inputs, training=None):\n",
        "  # Use a TensorArray to capture dynamically unrolled outputs.\n",
        "  predictions = []\n",
        "  # Initialize the lstm state\n",
        "  prediction, state = self.warmup(inputs)\n",
        "\n",
        "  # Insert the first prediction\n",
        "  predictions.append(prediction)\n",
        "\n",
        "  # Run the rest of the prediction steps\n",
        "  for n in range(1, self.out_steps):\n",
        "    # Use the last prediction as input.\n",
        "    x = prediction\n",
        "    # Execute one lstm step.\n",
        "    x, state = self.lstm_cell(x, states=state,\n",
        "                              training=training)\n",
        "    # Convert the lstm output to a prediction.\n",
        "    prediction = self.dense(x)\n",
        "    # Add the prediction to the output\n",
        "    predictions.append(prediction)\n",
        "\n",
        "  # predictions.shape => (time, batch, features)\n",
        "  predictions = tf.stack(predictions)\n",
        "  # predictions.shape => (batch, time, features)\n",
        "  predictions = tf.transpose(predictions, [1, 0, 2])\n",
        "  return predictions\n",
        "\n",
        "FeedBack.call = call"
      ],
      "execution_count": null,
      "outputs": []
    },
    {
      "cell_type": "markdown",
      "metadata": {
        "id": "Ubop-YWp15XW"
      },
      "source": [
        "Test run this model on the example inputs:"
      ]
    },
    {
      "cell_type": "code",
      "metadata": {
        "colab": {
          "base_uri": "https://localhost:8080/"
        },
        "id": "Xja83zEYaM2D",
        "outputId": "95506165-efec-494a-d926-e997dbba8c63"
      },
      "source": [
        "print('Output shape (batch, time, features): ', feedback_model(multi_window.example[0]).shape)"
      ],
      "execution_count": null,
      "outputs": [
        {
          "output_type": "stream",
          "text": [
            "Output shape (batch, time, features):  (64, 12, 18)\n"
          ],
          "name": "stdout"
        }
      ]
    },
    {
      "cell_type": "markdown",
      "metadata": {
        "id": "qMs0rYB8be9M"
      },
      "source": [
        "Now train the model:"
      ]
    },
    {
      "cell_type": "code",
      "metadata": {
        "id": "VBRVG2hnNyrO"
      },
      "source": [
        "# history = compile_and_fit(feedback_model, multi_window)\n",
        "\n",
        "# #######################################################################################\n",
        "# # Ve cai training/validating process\n",
        "# # plot history\n",
        "# plt.figure(figsize=(8, 6))\n",
        "# plt.plot(history.history['loss'], label='train')\n",
        "# plt.plot(history.history['val_loss'], label='test')\n",
        "# plt.grid(True,linestyle='-.')\n",
        "# plt.xlabel('epochs')\n",
        "# plt.ylabel('mse')\n",
        "# plt.legend()\n",
        "# plt.tight_layout()\n",
        "# ######################################################################################\n",
        "\n",
        "# IPython.display.clear_output()\n",
        "\n",
        "# multi_val_performance['AR LSTM'] = feedback_model.evaluate(multi_window.val)\n",
        "# multi_performance['AR LSTM'] = feedback_model.evaluate(multi_window.test, verbose=0)\n",
        "# multi_window.plot(feedback_model,model_name='MSE of '+list(multi_performance.keys())[-1]+':'+f'{list(multi_performance.values())[-1][-1]:0.4f}')\n",
        "# plt.savefig(output_dirs[0]+'/'+list(multi_performance.keys())[-1]+str(input_width0)+'_'+str(OUT_STEPS)+'.png')"
      ],
      "execution_count": null,
      "outputs": []
    },
    {
      "cell_type": "markdown",
      "metadata": {
        "id": "hGjcJsAQJUkI"
      },
      "source": [
        "### Performance of Multi-step models"
      ]
    },
    {
      "cell_type": "markdown",
      "metadata": {
        "id": "sODAwr2ndtDB"
      },
      "source": [
        "There are clearly diminishing returns as a function of model complexity on this problem."
      ]
    },
    {
      "cell_type": "code",
      "metadata": {
        "colab": {
          "base_uri": "https://localhost:8080/"
        },
        "id": "2WpdI16ktRZW",
        "outputId": "8caf2d96-547b-4a5b-eb91-9e409ecbef8f"
      },
      "source": [
        "for name, value in multi_performance.items():\n",
        "  print(f'{name:8s}: {value[1]:0.4f}')"
      ],
      "execution_count": null,
      "outputs": [
        {
          "output_type": "stream",
          "text": [
            "Naive   : 1.1154\n",
            "Linear  : 0.9102\n",
            "LSTM    : 0.7818\n"
          ],
          "name": "stdout"
        }
      ]
    },
    {
      "cell_type": "code",
      "metadata": {
        "colab": {
          "base_uri": "https://localhost:8080/",
          "height": 409
        },
        "id": "WZwWBA8S6B3L",
        "outputId": "f4856aca-cf09-4a18-e0e2-5c8a3cb5d679"
      },
      "source": [
        "x = np.arange(len(multi_performance))\n",
        "width = 0.3\n",
        "\n",
        "\n",
        "metric_name = 'mean_absolute_error'\n",
        "metric_index = multi_lstm_model.metrics_names.index('mean_absolute_error')\n",
        "val_mae = [v[metric_index] for v in multi_val_performance.values()]\n",
        "test_mae = [v[metric_index] for v in multi_performance.values()]\n",
        "plt.title('Performance of multi steps models')\n",
        "ax0=plt.bar(x - 0.17, val_mae, width, label='Validation')\n",
        "ax=plt.bar(x + 0.17, test_mae, width, label='Test')\n",
        "rects = ax.patches\n",
        "# Make some labels.\n",
        "# labels = [\"label%0.4f\" % i for i in range(len(rects))]\n",
        "labels = [\"%0.3f\" % i for i in np.array(list(multi_performance.values()))[:,1]]\n",
        "\n",
        "for rect, label in zip(rects, labels):\n",
        "    height = rect.get_height()\n",
        "    plt.text(rect.get_x() + rect.get_width() / 2, height + 0, label,\n",
        "            ha='center', va='bottom')\n",
        "    \n",
        "# rects0 = ax0.patches\n",
        "# # Make some labels.\n",
        "# # labels = [\"label%0.4f\" % i for i in range(len(rects))]\n",
        "# labels0 = [\"%0.3f\" % i for i in np.array(list(multi_performance.values()))[:,0]]\n",
        "\n",
        "# for rect, label in zip(rects0, labels0):\n",
        "#     height = rect.get_height()\n",
        "#     plt.text(rect.get_x() + rect.get_width() / 2, height + 0, label,\n",
        "#             ha='center', va='bottom')\n",
        "    \n",
        "plt.xticks(ticks=x, labels=multi_performance.keys(),\n",
        "           rotation=45)\n",
        "plt.ylabel(f'MAE (average over all times and outputs)')\n",
        "_ = plt.legend()\n",
        "plt.savefig(output_dirs[0]+'/'+'summary'+str(input_width0)+'_'+str(OUT_STEPS)+'.png')"
      ],
      "execution_count": null,
      "outputs": [
        {
          "output_type": "display_data",
          "data": {
            "image/png": "[encoded data removed]",
            "text/plain": [
              "<Figure size 576x432 with 1 Axes>"
            ]
          },
          "metadata": {
            "tags": [],
            "needs_background": "light"
          }
        }
      ]
    },
    {
      "cell_type": "markdown",
      "metadata": {
        "id": "Zq3hUsedCEmJ"
      },
      "source": [
        "The metrics for the multi-output models in the first half of this tutorial show the performance averaged across all output features. These performances similar but also averaged across output timesteps. "
      ]
    },
    {
      "cell_type": "code",
      "metadata": {
        "id": "jKq3eAIvH4Db",
        "colab": {
          "base_uri": "https://localhost:8080/"
        },
        "outputId": "42bb58bf-1655-42d6-8f06-c059c75f697c"
      },
      "source": [
        "for name, value in multi_performance.items():\n",
        "  print(f'{name:8s}: {value[1]:0.4f}')"
      ],
      "execution_count": null,
      "outputs": [
        {
          "output_type": "stream",
          "text": [
            "Naive   : 1.1154\n",
            "Linear  : 0.9102\n",
            "LSTM    : 0.7818\n"
          ],
          "name": "stdout"
        }
      ]
    },
    {
      "cell_type": "markdown",
      "metadata": {
        "id": "MpBFwfnaHP23"
      },
      "source": [
        "The gains achieved going from a dense model to convolutional and recurrent models are only a few percent (if any), and the autoregressive model performed clearly worse. So these more complex approaches may not be worth while on **this** problem, but there was no way to know without trying, and these models could be helpful for **your** problem."
      ]
    },
    {
      "cell_type": "markdown",
      "metadata": {
        "id": "pOzaIRYBhqwg"
      },
      "source": [
        "## Next steps\n",
        "\n",
        "This tutorial was a quick introduction to time series forecasting using TensorFlow.\n",
        "\n",
        "* For further understanding, see:\n",
        "  * Chapter 15 of [Hands-on Machine Learning with Scikit-Learn, Keras, and TensorFlow](https://www.oreilly.com/library/view/hands-on-machine-learning/9781492032632/), 2nd Edition \n",
        "  * Chapter 6 of [Deep Learning with Python](https://www.manning.com/books/deep-learning-with-python).\n",
        "  * Lesson 8 of [Udacity's intro to TensorFlow for deep learning](https://www.udacity.com/course/intro-to-tensorflow-for-deep-learning--ud187), and the [exercise notebooks](https://github.com/tensorflow/examples/tree/master/courses/udacity_intro_to_tensorflow_for_deep_learning) \n",
        "* Also remember that you can implement any [classical time series model](https://otexts.com/fpp2/index.html) in TensorFlow, this tutorial just focuses on TensorFlow's built-in functionality."
      ]
    }
  ]
}