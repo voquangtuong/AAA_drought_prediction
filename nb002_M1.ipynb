{
  "nbformat": 4,
  "nbformat_minor": 0,
  "metadata": {
    "kernelspec": {
      "display_name": "Python 3",
      "language": "python",
      "name": "python3"
    },
    "language_info": {
      "codemirror_mode": {
        "name": "ipython",
        "version": 3
      },
      "file_extension": ".py",
      "mimetype": "text/x-python",
      "name": "python",
      "nbconvert_exporter": "python",
      "pygments_lexer": "ipython3",
      "version": "3.8.5"
    },
    "toc": {
      "base_numbering": 1,
      "nav_menu": {},
      "number_sections": true,
      "sideBar": true,
      "skip_h1_title": false,
      "title_cell": "Table of Contents",
      "title_sidebar": "Contents",
      "toc_cell": false,
      "toc_position": {},
      "toc_section_display": true,
      "toc_window_display": false
    },
    "varInspector": {
      "cols": {
        "lenName": 16,
        "lenType": 16,
        "lenVar": 40
      },
      "kernels_config": {
        "python": {
          "delete_cmd_postfix": "",
          "delete_cmd_prefix": "del ",
          "library": "var_list.py",
          "varRefreshCmd": "print(var_dic_list())"
        },
        "r": {
          "delete_cmd_postfix": ") ",
          "delete_cmd_prefix": "rm(",
          "library": "var_list.r",
          "varRefreshCmd": "cat(var_dic_list()) "
        }
      },
      "types_to_exclude": [
        "module",
        "function",
        "builtin_function_or_method",
        "instance",
        "_Feature"
      ],
      "window_display": false
    },
    "colab": {
      "name": "nb002_chon_mo_hinh_du_bao.ipynb",
      "provenance": [],
      "collapsed_sections": [],
      "toc_visible": true,
      "history_visible": true,
      "include_colab_link": true
    }
  },
  "cells": [
    {
      "cell_type": "markdown",
      "metadata": {
        "id": "view-in-github",
        "colab_type": "text"
      },
      "source": [
        "<a href=\"https://colab.research.google.com/github/voquangtuong/AAA_drought_prediction/blob/main/nb002_M1.ipynb\" target=\"_parent\"><img src=\"https://colab.research.google.com/assets/colab-badge.svg\" alt=\"Open In Colab\"/></a>"
      ]
    },
    {
      "cell_type": "markdown",
      "metadata": {
        "id": "wcxIWHuBOrbZ"
      },
      "source": [
        "https://machinelearningmastery.com/how-to-develop-lstm-models-for-time-series-forecasting/"
      ]
    },
    {
      "cell_type": "code",
      "metadata": {
        "colab": {
          "base_uri": "https://localhost:8080/"
        },
        "id": "wZZQRdF-RObn",
        "outputId": "4d7c2af4-460f-47d4-9958-2d1f6af066e6"
      },
      "source": [
        "from google.colab import drive\n",
        "drive.mount('/content/drive')"
      ],
      "execution_count": 227,
      "outputs": [
        {
          "output_type": "stream",
          "name": "stdout",
          "text": [
            "Drive already mounted at /content/drive; to attempt to forcibly remount, call drive.mount(\"/content/drive\", force_remount=True).\n"
          ]
        }
      ]
    },
    {
      "cell_type": "code",
      "metadata": {
        "id": "bcYi4sMERazF"
      },
      "source": [
        "import os \n",
        "os.chdir('/content/drive/MyDrive/hybrid_model_final')\n",
        "outs=['save_model','tab','fig']\n",
        "for out in outs:\n",
        "  if not os.path.exists(out):\n",
        "    os.makedirs(out)"
      ],
      "execution_count": 228,
      "outputs": []
    },
    {
      "cell_type": "code",
      "metadata": {
        "id": "hK7RIsmnR3qB"
      },
      "source": [
        ""
      ],
      "execution_count": 228,
      "outputs": []
    },
    {
      "cell_type": "code",
      "metadata": {
        "id": "82htnZuQ-9Ml"
      },
      "source": [
        "import scipy\n",
        "from sklearn.metrics import r2_score\n",
        "import tensorflow as tf\n",
        "import keras\n",
        "import numpy as np\n",
        "import pandas as pd\n",
        "import matplotlib.pyplot as plt\n",
        "from sklearn.preprocessing import MinMaxScaler\n",
        "from tensorflow.keras import Sequential, optimizers, backend\n",
        "from tensorflow.keras.layers import LSTM, Dense, Dropout\n",
        "from tensorflow import keras # tai sao import tu tensorflow\n",
        "from tensorflow.keras.models import load_model\n",
        "# import statsmodels as sm\n",
        "import seaborn as sns\n",
        "from scipy.stats import pearsonr\n",
        "\n",
        "#\n",
        "tf.random.set_seed(10000000)\n",
        "np.random.seed(10000000)\n",
        "\n",
        "##\n",
        "from pandas import DataFrame\n",
        "from pandas import concat\n",
        " \n",
        "def series_to_supervised_df(data, n_in, n_out, dropnan=True): # dung cho pandas\n",
        "\t\"\"\"\n",
        "\tFrame a time series as a supervised learning dataset.\n",
        "\tArguments:\n",
        "\t\tdata: Sequence of observations as a list or NumPy array.\n",
        "\t\tn_in: Number of lag observations as input (X).\n",
        "\t\tn_out: Number of observations as output (y).\n",
        "\t\tdropnan: Boolean whether or not to drop rows with NaN values.\n",
        "\tReturns:\n",
        "\t\tPandas DataFrame of series framed for supervised learning.\n",
        "\t\"\"\"\n",
        "\tn_vars = 1 if type(data) is list else data.shape[1]\n",
        "\tdf = DataFrame(data)\n",
        "\tcols, names = list(), list()\n",
        "\t# input sequence (t-n, ... t-1)\n",
        "\tfor i in range(n_in, 0, -1):\n",
        "\t\tcols.append(df.shift(i))\n",
        "\t\tnames += [('var%d(t-%d)' % (j+1, i)) for j in range(n_vars)]\n",
        "\t# forecast sequence (t, t+1, ... t+n)\n",
        "\tfor i in range(0, n_out):\n",
        "\t\tcols.append(df.shift(-i))\n",
        "\t\tif i == 0:\n",
        "\t\t\tnames += [('var%d(t)' % (j+1)) for j in range(n_vars)]\n",
        "\t\telse:\n",
        "\t\t\tnames += [('var%d(t+%d)' % (j+1, i)) for j in range(n_vars)]\n",
        "\t# put it all together\n",
        "\tagg = concat(cols, axis=1)\n",
        "\tagg.columns = names\n",
        "\t# drop rows with NaN values\n",
        "\tif dropnan:\n",
        "\t\tagg.dropna(inplace=True)\n",
        "\treturn agg\n",
        "################################################################################\n",
        "  # functions nay dung cho array\n",
        "def to_supervised_ar(data0, n_input, n_out):\n",
        "  # flatten data\n",
        "  data = data0.reshape((data0.shape[0]*data0.shape[1], data0.shape[1]))\n",
        "  X, y = list(), list()\n",
        "  in_start = 0\n",
        "  # step over the entire history one time step at a time\n",
        "  for _ in range(len(data)):\n",
        "    # define the end of the input sequence\n",
        "    in_end = in_start + n_input\n",
        "    out_end = in_end + n_out\n",
        "    # ensure we have enough data for this instance\n",
        "    if out_end < len(data):\n",
        "      x_input = data[in_start:in_end, 0]\n",
        "      x_input = x_input.reshape((len(x_input), 1))\n",
        "      X.append(x_input)\n",
        "      y.append(data[in_end+n_output0-1:out_end, 0]) # M2 tăng lên 1 bước\n",
        "  # move along one time step\n",
        "    in_start += 1\n",
        "  return np.array(X), np.array(y)\n",
        "\t#################################################################################\n",
        "\t# ve duong 45 do\n",
        "def add_identity(axes, *line_args, **line_kwargs):\n",
        "\tidentity, = axes.plot([], [], *line_args, **line_kwargs)\n",
        "\tdef callback(axes):\n",
        "\t\t\tlow_x, high_x = axes.get_xlim()\n",
        "\t\t\tlow_y, high_y = axes.get_ylim()\n",
        "\t\t\tlow = max(low_x, low_y)\n",
        "\t\t\thigh = min(high_x, high_y)\n",
        "\t\t\tidentity.set_data([low, high], [low, high])\n",
        "\tcallback(axes)\n",
        "\taxes.callbacks.connect('xlim_changed', callback)\n",
        "\taxes.callbacks.connect('ylim_changed', callback)\n",
        "\treturn axes\n",
        "\t\n",
        "\t# ham de tao ra cac thu muc luu tru thong so optimal cua mo hinh\n",
        "\t# Helper record parameter into directory\n",
        "def log_dir_name(epochs):\n",
        "\n",
        "    # The dir-name for the TensorBoard log-dir.\n",
        "    s = \"./19_logs/lr_{}/\"\n",
        "\t\t# s = \"./19_logs/lr_{0:.0e}_layers_{1}_nodes_{2}_{3}/\"\n",
        "\n",
        "    # Insert all the hyper-parameters in the dir-name.\n",
        "    log_dir = s.format(epochs)\n",
        "\n",
        "    return log_dir\n",
        "\n",
        "###################################################################################\n",
        "# =============================================================================\n",
        "# Customize activate functions\n",
        "# Custom activation function\n",
        "from keras.layers import Activation\n",
        "from keras import backend as K\n",
        "from keras.utils.generic_utils import get_custom_objects\n",
        "\n",
        "\n",
        "def custom_activation(x):\n",
        "    return (K.sigmoid(x) * 3.5) \n",
        "\n",
        "get_custom_objects().update({'custom_activation': Activation(custom_activation)})"
      ],
      "execution_count": 229,
      "outputs": []
    },
    {
      "cell_type": "markdown",
      "metadata": {
        "id": "0G5PDWUDOrbb"
      },
      "source": [
        "# Univariate LSTM"
      ]
    },
    {
      "cell_type": "markdown",
      "metadata": {
        "id": "WHqKBQFD-lDm"
      },
      "source": [
        "# Thay doi du lieu"
      ]
    },
    {
      "cell_type": "code",
      "metadata": {
        "colab": {
          "base_uri": "https://localhost:8080/"
        },
        "id": "i5e6zTnG-nya",
        "outputId": "576baf78-402c-4d79-93d5-b07a44015e84"
      },
      "source": [
        "url_NDI3_names=\"https://docs.google.com/spreadsheets/d/e/2PACX-1vT3LwwkD5v6sA75MNMbOPhLlHJpKSlEFZiG-7qZkk08rOYYSYfqtaqfqVOnW1eEfumW9rSsOvk8PLVS/pub?output=csv\"\n",
        "\n",
        "dataset0=pd.read_csv(url_NDI3_names,header=0)\n",
        "dataset0.head()\n",
        "dataset=dataset0.iloc[:,29]\n",
        "print(dataset0.columns[29])\n",
        "dataset=np.array(dataset)\n",
        "# print(dataset)\n",
        "raw_seq=dataset[:20*12] # day la du lieu train\n",
        "raw_seq_val=dataset[20*12:-96] # day la du lieu validate\n",
        "raw_seq_test=dataset[-96:]\n",
        "print(len(raw_seq))\n",
        "print(len(raw_seq_test))"
      ],
      "execution_count": 230,
      "outputs": [
        {
          "output_type": "stream",
          "name": "stdout",
          "text": [
            "Ganghwa\n",
            "240\n",
            "96\n"
          ]
        }
      ]
    },
    {
      "cell_type": "code",
      "metadata": {
        "colab": {
          "base_uri": "https://localhost:8080/"
        },
        "id": "UyPKPiKqL1u2",
        "outputId": "a9ae185c-aa5e-4d7c-adbb-4aa81a5e84df"
      },
      "source": [
        "# url_rain_runoff_soil_ganghwa=\"https://docs.google.com/spreadsheets/d/e/2PACX-1vRybuBH3zhwTmJ0fFz3RUuNxlJbhmySeDqNyjRpZxTEa4knE2s1rX4K79uyWHzXch4fCp2MzShsp3Jx/pub?output=csv\"\t # tu nam 1980\n",
        "# # rrs_df: rain runoff  soil\n",
        "# rrs_df=pd.read_csv(url_rain_runoff_soil_ganghwa,header=None)\n",
        "# # rrs_df.head()\n",
        "# rrs_df1=rrs_df.iloc[12:,2:] # lay tu nam 1981, chi lay 3 cuoc cuoi\n",
        "# rrs_df1.shape\n",
        "# rrs_df1.reset_index(level=None, drop=True, inplace=True, col_level=0, col_fill='')\n",
        "# rrs_df1.columns=['precipitation','runoff','soilmoisture']\n",
        "# rrs_df1['NDI']=''\n",
        "# rrs_df1['NDI']=dataset0\n",
        "# rrs_df1.to_csv(outs[1]+'/'+'prs_NDI'+'.csv')\n",
        "\n",
        "url_rain_runoff_soil_NDI=\"https://docs.google.com/spreadsheets/d/e/2PACX-1vQyBMn_8ir0BgvokMVKSncFUIWxlrhTNY_0nkA-xBEihHtP667Gtc3Wb-UlglkIPgVJODRvvqEDv0wH/pub?output=csv\"\t\n",
        "df_prs_NDI=pd.read_csv(url_rain_runoff_soil_NDI,usecols=range(1,5))\n",
        "print(df_prs_NDI.head())\n",
        "df_prec_NDI=df_prs_NDI.drop(columns=['runoff','soilmoisture'])\n",
        "print(df_prec_NDI)\n",
        "\n"
      ],
      "execution_count": 231,
      "outputs": [
        {
          "output_type": "stream",
          "name": "stdout",
          "text": [
            "   precipitation  runoff  soilmoisture   NDI\n",
            "0           24.6    6.95        554.52 -1.63\n",
            "1            8.4    9.85        559.21 -1.44\n",
            "2           52.6   20.12        563.80  1.03\n",
            "3           59.5   23.09        564.46 -0.44\n",
            "4           83.2   28.71        565.23  0.60\n",
            "     precipitation   NDI\n",
            "0             24.6 -1.63\n",
            "1              8.4 -1.44\n",
            "2             52.6  1.03\n",
            "3             59.5 -0.44\n",
            "4             83.2  0.60\n",
            "..             ...   ...\n",
            "427           24.5  0.44\n",
            "428            5.6 -0.22\n",
            "429           38.5  1.01\n",
            "430            1.8  1.17\n",
            "431           65.0  0.15\n",
            "\n",
            "[432 rows x 2 columns]\n"
          ]
        }
      ]
    },
    {
      "cell_type": "code",
      "metadata": {
        "id": "D5dLm4a8_7Ap"
      },
      "source": [
        "# Scaled data\n",
        "dataset0=pd.read_csv(url_NDI3_names)\n",
        "# dataset0.head()\n",
        "arr_input0=dataset0.values[:,29]\n",
        "arr_input=arr_input0.reshape(arr_input0.shape[0],1)\n",
        "arr_input.shape\n",
        "raw_seq=arr_input[0:20*12]\n",
        "raw_seq_val=arr_input[20*12:28*12]\n",
        "raw_seq_test=arr_input[28*12:36*12]\n",
        "\n",
        "scaler01=MinMaxScaler()\n",
        "raw_seq_sc=scaler01.fit_transform(raw_seq)\n",
        "\n",
        "raw_seq_val_sc=scaler01.transform(raw_seq_val)\n",
        "raw_seq_test_sc=scaler01.transform(raw_seq_test)"
      ],
      "execution_count": 279,
      "outputs": []
    },
    {
      "cell_type": "markdown",
      "metadata": {
        "id": "PuiP7kcKOrbc"
      },
      "source": [
        "## Data Preparation"
      ]
    },
    {
      "cell_type": "code",
      "metadata": {
        "ExecuteTime": {
          "end_time": "2021-04-29T15:21:09.389399Z",
          "start_time": "2021-04-29T15:21:09.368567Z"
        },
        "id": "jMfVMSkzOrbc"
      },
      "source": [
        "# univariate data preparation\n",
        "from numpy import array\n",
        " \n",
        "# split a univariate sequence into samples\n",
        "def split_sequence(sequence, n_steps):\n",
        "\tX, y = list(), list()\n",
        "\tfor i in range(len(sequence)):\n",
        "\t\t# find the end of this pattern\n",
        "\t\tend_ix = i + n_steps\n",
        "\t\t# check if we are beyond the sequence\n",
        "\t\tif end_ix > len(sequence)-1:\n",
        "\t\t\tbreak\n",
        "\t\t# gather input and output parts of the pattern\n",
        "\t\tseq_x, seq_y = sequence[i:end_ix], sequence[end_ix]\n",
        "\t\tX.append(seq_x)\n",
        "\t\ty.append(seq_y)\n",
        "\treturn array(X), array(y)\n",
        " \n",
        "# define input sequence\n",
        "# raw_seq = [10, 20, 30, 40, 50, 60, 70, 80, 90]\n",
        "# choose a number of time steps\n",
        "n_steps = 12\n",
        "# split into samples\n",
        "X, y = split_sequence(raw_seq_sc, n_steps)\n",
        "X_val, y_val = split_sequence(raw_seq_val_sc, n_steps)\n",
        "X_test, y_test = split_sequence(raw_seq_test_sc, n_steps)\n",
        "# # summarize the data\n",
        "# for i in range(len(X)):\n",
        "\t# print(X[i], y[i])"
      ],
      "execution_count": 280,
      "outputs": []
    },
    {
      "cell_type": "code",
      "metadata": {
        "id": "gJ88p8BRmSGu"
      },
      "source": [
        "vector_date=pd.date_range(start='1981-01',end='2016-12',freq='MS')"
      ],
      "execution_count": 310,
      "outputs": []
    },
    {
      "cell_type": "markdown",
      "metadata": {
        "id": "bMXgfO_hOrbd"
      },
      "source": [
        "## Vanila LSTM"
      ]
    },
    {
      "cell_type": "code",
      "metadata": {
        "ExecuteTime": {
          "end_time": "2021-04-29T15:21:24.374533Z",
          "start_time": "2021-04-29T15:21:24.352213Z"
        },
        "colab": {
          "base_uri": "https://localhost:8080/",
          "height": 988
        },
        "id": "rEEtWcxAOrbe",
        "outputId": "636fceb3-e77c-4e9a-dd67-ab5bc0e882db"
      },
      "source": [
        "# univariate lstm example\n",
        "from numpy import array\n",
        "from keras.models import Sequential\n",
        "from keras.layers import LSTM\n",
        "from keras.layers import Dense\n",
        " \n",
        " \n",
        "# # split a univariate sequence into samples\n",
        "# def split_sequence(sequence, n_steps):\n",
        "# \tX, y = list(), list()\n",
        "# \tfor i in range(len(sequence)):\n",
        "# \t\t# find the end of this pattern\n",
        "# \t\tend_ix = i + n_steps\n",
        "# \t\t# check if we are beyond the sequence\n",
        "# \t\tif end_ix > len(sequence)-1:\n",
        "# \t\t\tbreak\n",
        "# \t\t# gather input and output parts of the pattern\n",
        "# \t\tseq_x, seq_y = sequence[i:end_ix], sequence[end_ix]\n",
        "# \t\tX.append(seq_x)\n",
        "# \t\ty.append(seq_y)\n",
        "# \treturn array(X), array(y)\n",
        " \n",
        "# # define input sequence\n",
        "# # raw_seq = [10, 20, 30, 40, 50, 60, 70, 80, 90]\n",
        "# # choose a number of time steps\n",
        "# # n_steps = 3\n",
        "# # split into samples\n",
        "# X, y = split_sequence(raw_seq, n_steps)\n",
        "# X_val, y_val = split_sequence(raw_seq_val, n_steps)\n",
        "# reshape from [samples, timesteps] into [samples, timesteps, features]\n",
        "n_steps = 12\n",
        "# split into samples\n",
        "X, y = split_sequence(raw_seq_sc, n_steps)\n",
        "X_val, y_val = split_sequence(raw_seq_val_sc, n_steps)\n",
        "X_test, y_test = split_sequence(raw_seq_test_sc, n_steps)\n",
        "n_features = 1\n",
        "X = X.reshape((X.shape[0], X.shape[1], n_features))\n",
        "X_val = X_val.reshape((X_val.shape[0], X_val.shape[1], n_features))\n",
        "# define model\n",
        "model = Sequential()\n",
        "model.add(LSTM(60, activation='relu', input_shape=(n_steps, n_features)))\n",
        "model.add(Dense(1))\n",
        "model.compile(optimizer='adam', loss='mse')\n",
        "# fit model\n",
        "model.fit(X, y, epochs=200, verbose=0,validation_data=(X_val,y_val))\n",
        "# save lai mo hinh\n",
        "model.save(outs[0]+'/'+'vanila_LSTM'+'.tf',save_format='tf')\n",
        "# ve learning rate\n",
        "fig,ax=plt.subplots(figsize=(8,5))\n",
        "plt.plot(model.history.history['loss'])\n",
        "plt.plot(model.history.history['val_loss'])\n",
        "df_val_loss=pd.DataFrame({'val_loss':model.history.history['val_loss']})\n",
        "\n",
        "# # print(df_val_loss)\n",
        "# idxmin=df_val_loss[['val_loss']].idxmin().values\n",
        "# val_loss_min_values=df_val_loss.loc[idxmin,:].values.flatten()\n",
        "# print(idxmin,val_loss_min_values)\n",
        "# plt.annotate('optimal epochs: '+str(idxmin[0])+'\\n'+'min_val_loss: '+str(np.round(val_loss_min_values[0],3)),\n",
        "#              xy=(idxmin,val_loss_min_values), xycoords='data',\n",
        "#             xytext=(idxmin-50, val_loss_min_values+0.01), textcoords='data',\n",
        "#             arrowprops=dict(arrowstyle=\"->\",\n",
        "#                             connectionstyle=\"arc3\"),\n",
        "#             )\n",
        "\n",
        "\n",
        "plt.legend(['train','val'])\n",
        "plt.xlabel('epochs')\n",
        "plt.ylabel('mse')\n",
        "plt.title('')\n",
        "plt.savefig(outs[2]+'/'+'M1_learning_rate'+'.jpeg')\n",
        "\n",
        "#########################################################\n",
        "\n",
        "# demonstrate prediction\n",
        "# x_input = array([70, 80, 90])\n",
        "# pred=[]\n",
        "# obs=[]\n",
        "# for tt in np.arange(96-n_steps):\n",
        "# \t# tt=1\n",
        "# \tx_input0 = raw_seq_test[-(tt+n_steps+1):-(1+tt)]\n",
        "# \tx_input = x_input0.reshape((1, n_steps, n_features))\n",
        "# \tyhat = model.predict(x_input, verbose=0)\n",
        "# \tpred.append(yhat[0][0])\n",
        "# \tobs.append(raw_seq_test[-tt])\n",
        "# # yhat=model.predict(X_test,verbose=0)\n",
        "# pred_vanila=pred\n",
        "# obs_vanila=obs\n",
        "\t# print('prediction:'+str(yhat)+'\\n'+'obs: '+str(raw_seq[-tt]))\n",
        "# ve ket qua thu \n",
        "# slope, intercept, r_value, p_value, std_err = scipy.stats.linregress(obs_vanila, pred_vanila)\n",
        "pred=model.predict(X_test)\n",
        "pearson,dotincay=pearsonr(pred.flatten(),y_test.flatten())\n",
        "r2_vanila=pearson\n",
        "# kiem tra train\n",
        "# y_train_hat=model.predict(X,verbose=0)\n",
        "\n",
        "# r2_vanila=r2_score(pred_vanila,obs_vanila)\n",
        "obs=y_test\n",
        "fig,ax=plt.subplots(figsize=(5,5))\n",
        "min_values1=np.min([pred,obs])\n",
        "# min_values2=np.min([y.flatten(),y_train_hat.flatten()])\n",
        "# min_values=np.min(min_values1,min_values2)\n",
        "\n",
        "min_values=min_values1\n",
        "max_values1=np.max([pred,obs])\n",
        "# max_values2=np.max([y,y_train_hat])\n",
        "# max_values=np.max(max_value1,max_values2)\n",
        "max_values=max_values1\n",
        "plt.xlim(min_values,max_values)\n",
        "plt.ylim(min_values,max_values)\n",
        "# # ve training\n",
        "# plt.scatter(x=y.flatten(),\n",
        "#             y=y_train_hat.flatten(),\n",
        "#             s=None,\n",
        "#             c='b', \n",
        "#             marker='x', \n",
        "#             cmap=None,\n",
        "#             norm=None,\n",
        "#             vmin=None, \n",
        "#             vmax=None,\n",
        "#             alpha=None,            \n",
        "#             linewidths=None,\n",
        "#             edgecolors=None,plotnonfinite=False,data=None)\n",
        "# ve testing\n",
        "# \n",
        "plt.scatter(x=obs,\n",
        "            y=pred,\n",
        "            s=None,\n",
        "            c='k', \n",
        "            marker='.', \n",
        "            cmap=None,\n",
        "            norm=None,\n",
        "            vmin=None, \n",
        "            vmax=None,\n",
        "            alpha=None,            \n",
        "            linewidths=None,\n",
        "            edgecolors=None,plotnonfinite=False,data=None)\n",
        "\n",
        "# ve duong 45\n",
        "plt.legend(['test'])\n",
        "plt.xlabel('obs')\n",
        "plt.ylabel('pred')\n",
        "add_identity(ax, color='r', ls='--')\n",
        "plt.text(0,0,'R= '+str(round(r2_vanila,2)))\n",
        "plt.savefig(outs[2]+'/'+'M1_testing'+'.jpeg')\n",
        "plt.show()\n",
        "plt.close()\n",
        "###############################################################\n",
        "# df_result_gia=dataset_test.copy\n",
        "y_test_hat_rescaled=scaler01.inverse_transform(pred)\n",
        "test_y_rescaled=scaler01.inverse_transform(y_test)\n",
        "fig,ax=plt.subplots(figsize=(8,5))\n",
        "plt.plot(vector_date[28*12+n_input0:],test_y_rescaled,'r-.')\n",
        "plt.plot(vector_date[28*12+n_input0:],y_test_hat_rescaled,'k-.')\n",
        "plt.legend(['obs','simulation'])\n",
        "\n",
        "plt.ylabel('NDI')\n",
        "plt.title('evaluate testing phase')\n",
        "plt.show()\n",
        "plt.close()\n",
        "\n"
      ],
      "execution_count": 321,
      "outputs": [
        {
          "output_type": "stream",
          "name": "stdout",
          "text": [
            "INFO:tensorflow:Assets written to: save_model/vanila_LSTM.tf/assets\n"
          ]
        },
        {
          "output_type": "display_data",
          "data": {
            "image/png": "[encoded data removed]",
            "text/plain": [
              "<Figure size 576x360 with 1 Axes>"
            ]
          },
          "metadata": {
            "needs_background": "light"
          }
        },
        {
          "output_type": "display_data",
          "data": {
            "image/png": "[encoded data removed]",
            "text/plain": [
              "<Figure size 360x360 with 1 Axes>"
            ]
          },
          "metadata": {
            "needs_background": "light"
          }
        },
        {
          "output_type": "display_data",
          "data": {
            "image/png": "[encoded data removed]",
            "text/plain": [
              "<Figure size 576x360 with 1 Axes>"
            ]
          },
          "metadata": {
            "needs_background": "light"
          }
        }
      ]
    },
    {
      "cell_type": "markdown",
      "metadata": {
        "id": "Q-ESsweBa7nf"
      },
      "source": [
        "# Vanila LSTM 2 months"
      ]
    },
    {
      "cell_type": "code",
      "metadata": {
        "colab": {
          "base_uri": "https://localhost:8080/",
          "height": 1000
        },
        "id": "ovN5VxBebjdo",
        "outputId": "fae56a6e-b22b-485f-9035-6c3adcb986e9"
      },
      "source": [
        "\"\"\"# Chọn bước thời gian cho mô hình\"\"\"\n",
        "model_names=['M1','M2','M3']\n",
        "####################################################################################\n",
        "# for leadtime in [1,2,3]:\n",
        "# for leadtime in [2]:\n",
        "leadtime=2\n",
        "####################################################################################\n",
        "n_input0,n_output0=12,leadtime\n",
        "def to_supervised(train, n_input, n_out):\n",
        "  # flatten data\n",
        "  data = train.reshape((train.shape[0]*train.shape[1], train.shape[1]))\n",
        "  X, y = list(), list()\n",
        "  in_start = 0\n",
        "  # step over the entire history one time step at a time\n",
        "  for _ in range(len(data)):\n",
        "    # define the end of the input sequence\n",
        "    in_end = in_start + n_input\n",
        "    out_end = in_end + n_out\n",
        "    # ensure we have enough data for this instance\n",
        "    if out_end < len(data):\n",
        "      x_input = data[in_start:in_end, 0]\n",
        "      x_input = x_input.reshape((len(x_input), 1))\n",
        "      X.append(x_input)\n",
        "      y.append(data[in_end+n_output0-1:out_end, 0]) # M2 tăng lên 1 bước\n",
        "  # move along one time step\n",
        "    in_start += 1\n",
        "  return np.array(X), np.array(y)\n",
        "data_test_function=np.arange(10).reshape(10,1)\n",
        "X_test_function,y_test_function=to_supervised(data_test_function,3,2)\n",
        "print(X_test_function)\n",
        "print(y_test_function)\n",
        "\n",
        "################################################\n",
        "# univariate lstm example\n",
        "from numpy import array\n",
        "from keras.models import Sequential\n",
        "from keras.layers import LSTM\n",
        "from keras.layers import Dense\n",
        " \n",
        " \n",
        "# # split a univariate sequence into samples\n",
        "# def split_sequence(sequence, n_steps):\n",
        "# \tX, y = list(), list()\n",
        "# \tfor i in range(len(sequence)):\n",
        "# \t\t# find the end of this pattern\n",
        "# \t\tend_ix = i + n_steps\n",
        "# \t\t# check if we are beyond the sequence\n",
        "# \t\tif end_ix > len(sequence)-1:\n",
        "# \t\t\tbreak\n",
        "# \t\t# gather input and output parts of the pattern\n",
        "# \t\tseq_x, seq_y = sequence[i:end_ix], sequence[end_ix]\n",
        "# \t\tX.append(seq_x)\n",
        "# \t\ty.append(seq_y)\n",
        "# \treturn array(X), array(y)\n",
        " \n",
        "# # define input sequence\n",
        "# # raw_seq = [10, 20, 30, 40, 50, 60, 70, 80, 90]\n",
        "# # choose a number of time steps\n",
        "# # n_steps = 3\n",
        "# # split into samples\n",
        "# X, y = split_sequence(raw_seq, n_steps)\n",
        "# X_val, y_val = split_sequence(raw_seq_val, n_steps)\n",
        "# reshape from [samples, timesteps] into [samples, timesteps, features]\n",
        "n_steps = 12\n",
        "# split into samples\n",
        "# thay split_sequence bang ham to_supervised\n",
        "X, y = to_supervised(raw_seq_sc, n_input0,n_output0)\n",
        "X_val, y_val = to_supervised(raw_seq_val_sc, n_input0,n_output0)\n",
        "X_test, y_test = to_supervised(raw_seq_test_sc, n_input0,n_output0)\n",
        "n_features = 1\n",
        "# n_steps=leadtime # ghi lai de sot. Neu sai thi n_steps =1\n",
        "n_steps=1\n",
        "X = X.reshape((X.shape[0], X.shape[1], n_features))\n",
        "X_val = X_val.reshape((X_val.shape[0], X_val.shape[1], n_features))\n",
        "# define model\n",
        "model = Sequential()\n",
        "model.add(LSTM(60, activation='relu', input_shape=(n_steps, n_features)))\n",
        "model.add(Dense(1))\n",
        "model.compile(optimizer='adam', loss='mse')\n",
        "# fit model\n",
        "model.fit(X, y, epochs=200, verbose=0,validation_data=(X_val,y_val))\n",
        "# save lai mo hinh\n",
        "model.save(outs[0]+'/'+'vanila_LSTM_2months'+'.tf',save_format='tf')\n",
        "# ve learning rate\n",
        "fig,ax=plt.subplots(figsize=(8,5))\n",
        "plt.plot(model.history.history['loss'])\n",
        "plt.plot(model.history.history['val_loss'])\n",
        "df_val_loss=pd.DataFrame({'val_loss':model.history.history['val_loss']})\n",
        "\n",
        "# # print(df_val_loss)\n",
        "# idxmin=df_val_loss[['val_loss']].idxmin().values\n",
        "# val_loss_min_values=df_val_loss.loc[idxmin,:].values.flatten()\n",
        "# print(idxmin,val_loss_min_values)\n",
        "# plt.annotate('optimal epochs: '+str(idxmin[0])+'\\n'+'min_val_loss: '+str(np.round(val_loss_min_values[0],3)),\n",
        "#              xy=(idxmin,val_loss_min_values), xycoords='data',\n",
        "#             xytext=(idxmin-50, val_loss_min_values+0.01), textcoords='data',\n",
        "#             arrowprops=dict(arrowstyle=\"->\",\n",
        "#                             connectionstyle=\"arc3\"),\n",
        "#             )\n",
        "\n",
        "\n",
        "plt.legend(['train','val'])\n",
        "plt.xlabel('epochs')\n",
        "plt.ylabel('mse')\n",
        "plt.title('')\n",
        "plt.savefig(outs[2]+'/'+'M1_learning_rate_2months'+'.jpeg')\n",
        "\n",
        "#########################################################\n",
        "\n",
        "# demonstrate prediction\n",
        "# x_input = array([70, 80, 90])\n",
        "# pred=[]\n",
        "# obs=[]\n",
        "# for tt in np.arange(96-n_steps):\n",
        "# \t# tt=1\n",
        "# \tx_input0 = raw_seq_test[-(tt+n_steps+1):-(1+tt)]\n",
        "# \tx_input = x_input0.reshape((1, n_steps, n_features))\n",
        "# \tyhat = model.predict(x_input, verbose=0)\n",
        "# \tpred.append(yhat[0][0])\n",
        "# \tobs.append(raw_seq_test[-tt])\n",
        "# # yhat=model.predict(X_test,verbose=0)\n",
        "# pred_vanila=pred\n",
        "# obs_vanila=obs\n",
        "\t# print('prediction:'+str(yhat)+'\\n'+'obs: '+str(raw_seq[-tt]))\n",
        "# ve ket qua thu \n",
        "# slope, intercept, r_value, p_value, std_err = scipy.stats.linregress(obs_vanila, pred_vanila)\n",
        "pred=model.predict(X_test)\n",
        "obs=y_test\n",
        "pearson,dotincay=pearsonr(pred.flatten(),y_test.flatten())\n",
        "r2_vanila=pearson\n",
        "# kiem tra train\n",
        "# y_train_hat=model.predict(X,verbose=0)\n",
        "\n",
        "# r2_vanila=r2_score(pred_vanila,obs_vanila)\n",
        "\n",
        "fig,ax=plt.subplots(figsize=(5,5))\n",
        "min_values1=np.min([pred,obs])\n",
        "# min_values2=np.min([y.flatten(),y_train_hat.flatten()])\n",
        "# min_values=np.min(min_values1,min_values2)\n",
        "\n",
        "min_values=min_values1\n",
        "max_values1=np.max([pred,obs])\n",
        "# max_values2=np.max([y,y_train_hat])\n",
        "# max_values=np.max(max_value1,max_values2)\n",
        "max_values=max_values1\n",
        "plt.xlim(min_values,max_values)\n",
        "plt.ylim(min_values,max_values)\n",
        "# # ve training\n",
        "# plt.scatter(x=y.flatten(),\n",
        "#             y=y_train_hat.flatten(),\n",
        "#             s=None,\n",
        "#             c='b', \n",
        "#             marker='x', \n",
        "#             cmap=None,\n",
        "#             norm=None,\n",
        "#             vmin=None, \n",
        "#             vmax=None,\n",
        "#             alpha=None,            \n",
        "#             linewidths=None,\n",
        "#             edgecolors=None,plotnonfinite=False,data=None)\n",
        "# ve testing\n",
        "# \n",
        "plt.scatter(x=obs,\n",
        "            y=pred,\n",
        "            s=None,\n",
        "            c='k', \n",
        "            marker='.', \n",
        "            cmap=None,\n",
        "            norm=None,\n",
        "            vmin=None, \n",
        "            vmax=None,\n",
        "            alpha=None,            \n",
        "            linewidths=None,\n",
        "            edgecolors=None,plotnonfinite=False,data=None)\n",
        "\n",
        "# ve duong 45\n",
        "plt.legend(['test'])\n",
        "plt.xlabel('obs')\n",
        "plt.ylabel('pred')\n",
        "add_identity(ax, color='r', ls='--')\n",
        "plt.text(max_values-0.5,min_values+0.5,'R= '+str(round(r2_vanila,2)))\n",
        "plt.savefig(outs[2]+'/'+'M1_testing_2months'+'.jpeg')\n",
        "plt.show()\n",
        "plt.close()\n",
        "###############################################################"
      ],
      "execution_count": 308,
      "outputs": [
        {
          "output_type": "stream",
          "name": "stdout",
          "text": [
            "[[[0]\n",
            "  [1]\n",
            "  [2]]\n",
            "\n",
            " [[1]\n",
            "  [2]\n",
            "  [3]]\n",
            "\n",
            " [[2]\n",
            "  [3]\n",
            "  [4]]\n",
            "\n",
            " [[3]\n",
            "  [4]\n",
            "  [5]]\n",
            "\n",
            " [[4]\n",
            "  [5]\n",
            "  [6]]]\n",
            "[[4]\n",
            " [5]\n",
            " [6]\n",
            " [7]\n",
            " [8]]\n",
            "WARNING:tensorflow:Model was constructed with shape (None, 1, 1) for input KerasTensor(type_spec=TensorSpec(shape=(None, 1, 1), dtype=tf.float32, name='lstm_144_input'), name='lstm_144_input', description=\"created by layer 'lstm_144_input'\"), but it was called on an input with incompatible shape (None, 12, 1).\n",
            "WARNING:tensorflow:Model was constructed with shape (None, 1, 1) for input KerasTensor(type_spec=TensorSpec(shape=(None, 1, 1), dtype=tf.float32, name='lstm_144_input'), name='lstm_144_input', description=\"created by layer 'lstm_144_input'\"), but it was called on an input with incompatible shape (None, 12, 1).\n",
            "WARNING:tensorflow:Model was constructed with shape (None, 1, 1) for input KerasTensor(type_spec=TensorSpec(shape=(None, 1, 1), dtype=tf.float32, name='lstm_144_input'), name='lstm_144_input', description=\"created by layer 'lstm_144_input'\"), but it was called on an input with incompatible shape (None, 12, 1).\n",
            "INFO:tensorflow:Assets written to: save_model/vanila_LSTM_2months.tf/assets\n",
            "WARNING:tensorflow:Model was constructed with shape (None, 1, 1) for input KerasTensor(type_spec=TensorSpec(shape=(None, 1, 1), dtype=tf.float32, name='lstm_144_input'), name='lstm_144_input', description=\"created by layer 'lstm_144_input'\"), but it was called on an input with incompatible shape (None, 12, 1).\n"
          ]
        },
        {
          "output_type": "display_data",
          "data": {
            "image/png": "[encoded data removed]",
            "text/plain": [
              "<Figure size 576x360 with 1 Axes>"
            ]
          },
          "metadata": {
            "needs_background": "light"
          }
        },
        {
          "output_type": "display_data",
          "data": {
            "image/png": "[encoded data removed]",
            "text/plain": [
              "<Figure size 360x360 with 1 Axes>"
            ]
          },
          "metadata": {
            "needs_background": "light"
          }
        }
      ]
    },
    {
      "cell_type": "markdown",
      "metadata": {
        "id": "AFNXteA3ka0y"
      },
      "source": [
        "# Vanila 3 months"
      ]
    },
    {
      "cell_type": "code",
      "metadata": {
        "colab": {
          "base_uri": "https://localhost:8080/",
          "height": 1000
        },
        "id": "41y9NAVwkf9p",
        "outputId": "1873b692-0f4f-491f-a2c3-9004665478ec"
      },
      "source": [
        "\"\"\"# Chọn bước thời gian cho mô hình\"\"\"\n",
        "model_names=['M1','M2','M3']\n",
        "####################################################################################\n",
        "# for leadtime in [1,2,3]:\n",
        "# for leadtime in [2]:\n",
        "leadtime=3\n",
        "####################################################################################\n",
        "n_input0,n_output0=12,leadtime\n",
        "def to_supervised(train, n_input, n_out):\n",
        "  # flatten data\n",
        "  data = train.reshape((train.shape[0]*train.shape[1], train.shape[1]))\n",
        "  X, y = list(), list()\n",
        "  in_start = 0\n",
        "  # step over the entire history one time step at a time\n",
        "  for _ in range(len(data)):\n",
        "    # define the end of the input sequence\n",
        "    in_end = in_start + n_input\n",
        "    out_end = in_end + n_out\n",
        "    # ensure we have enough data for this instance\n",
        "    if out_end < len(data):\n",
        "      x_input = data[in_start:in_end, 0]\n",
        "      x_input = x_input.reshape((len(x_input), 1))\n",
        "      X.append(x_input)\n",
        "      y.append(data[in_end+n_output0-1:out_end, 0]) # M2 tăng lên 1 bước\n",
        "  # move along one time step\n",
        "    in_start += 1\n",
        "  return np.array(X), np.array(y)\n",
        "data_test_function=np.arange(10).reshape(10,1)\n",
        "X_test_function,y_test_function=to_supervised(data_test_function,3,2)\n",
        "print(X_test_function)\n",
        "print(y_test_function)\n",
        "\n",
        "################################################\n",
        "# univariate lstm example\n",
        "from numpy import array\n",
        "from keras.models import Sequential\n",
        "from keras.layers import LSTM\n",
        "from keras.layers import Dense\n",
        " \n",
        " \n",
        "# # split a univariate sequence into samples\n",
        "# def split_sequence(sequence, n_steps):\n",
        "# \tX, y = list(), list()\n",
        "# \tfor i in range(len(sequence)):\n",
        "# \t\t# find the end of this pattern\n",
        "# \t\tend_ix = i + n_steps\n",
        "# \t\t# check if we are beyond the sequence\n",
        "# \t\tif end_ix > len(sequence)-1:\n",
        "# \t\t\tbreak\n",
        "# \t\t# gather input and output parts of the pattern\n",
        "# \t\tseq_x, seq_y = sequence[i:end_ix], sequence[end_ix]\n",
        "# \t\tX.append(seq_x)\n",
        "# \t\ty.append(seq_y)\n",
        "# \treturn array(X), array(y)\n",
        " \n",
        "# # define input sequence\n",
        "# # raw_seq = [10, 20, 30, 40, 50, 60, 70, 80, 90]\n",
        "# # choose a number of time steps\n",
        "# # n_steps = 3\n",
        "# # split into samples\n",
        "# X, y = split_sequence(raw_seq, n_steps)\n",
        "# X_val, y_val = split_sequence(raw_seq_val, n_steps)\n",
        "# reshape from [samples, timesteps] into [samples, timesteps, features]\n",
        "n_steps = 12\n",
        "# split into samples\n",
        "# thay split_sequence bang ham to_supervised\n",
        "X, y = to_supervised(raw_seq_sc, n_input0,n_output0)\n",
        "X_val, y_val = to_supervised(raw_seq_val_sc, n_input0,n_output0)\n",
        "X_test, y_test = to_supervised(raw_seq_test_sc, n_input0,n_output0)\n",
        "n_features = 1\n",
        "# n_steps=leadtime # ghi lai de sot. Neu sai thi n_steps =1\n",
        "n_steps=1\n",
        "X = X.reshape((X.shape[0], X.shape[1], n_features))\n",
        "X_val = X_val.reshape((X_val.shape[0], X_val.shape[1], n_features))\n",
        "# define model\n",
        "model = Sequential()\n",
        "model.add(LSTM(60, activation='relu', input_shape=(n_steps, n_features)))\n",
        "model.add(Dense(1))\n",
        "model.compile(optimizer='adam', loss='mse')\n",
        "# fit model\n",
        "model.fit(X, y, epochs=200, verbose=0,validation_data=(X_val,y_val))\n",
        "# save lai mo hinh\n",
        "model.save(outs[0]+'/'+'vanila_LSTM_3months'+'.tf',save_format='tf')\n",
        "# ve learning rate\n",
        "fig,ax=plt.subplots(figsize=(8,5))\n",
        "plt.plot(model.history.history['loss'])\n",
        "plt.plot(model.history.history['val_loss'])\n",
        "df_val_loss=pd.DataFrame({'val_loss':model.history.history['val_loss']})\n",
        "\n",
        "# # print(df_val_loss)\n",
        "# idxmin=df_val_loss[['val_loss']].idxmin().values\n",
        "# val_loss_min_values=df_val_loss.loc[idxmin,:].values.flatten()\n",
        "# print(idxmin,val_loss_min_values)\n",
        "# plt.annotate('optimal epochs: '+str(idxmin[0])+'\\n'+'min_val_loss: '+str(np.round(val_loss_min_values[0],3)),\n",
        "#              xy=(idxmin,val_loss_min_values), xycoords='data',\n",
        "#             xytext=(idxmin-50, val_loss_min_values+0.01), textcoords='data',\n",
        "#             arrowprops=dict(arrowstyle=\"->\",\n",
        "#                             connectionstyle=\"arc3\"),\n",
        "#             )\n",
        "\n",
        "\n",
        "plt.legend(['train','val'])\n",
        "plt.xlabel('epochs')\n",
        "plt.ylabel('mse')\n",
        "plt.title('')\n",
        "plt.savefig(outs[2]+'/'+'M1_learning_rate_3months'+'.jpeg')\n",
        "\n",
        "#########################################################\n",
        "\n",
        "# demonstrate prediction\n",
        "# x_input = array([70, 80, 90])\n",
        "# pred=[]\n",
        "# obs=[]\n",
        "# for tt in np.arange(96-n_steps):\n",
        "# \t# tt=1\n",
        "# \tx_input0 = raw_seq_test[-(tt+n_steps+1):-(1+tt)]\n",
        "# \tx_input = x_input0.reshape((1, n_steps, n_features))\n",
        "# \tyhat = model.predict(x_input, verbose=0)\n",
        "# \tpred.append(yhat[0][0])\n",
        "# \tobs.append(raw_seq_test[-tt])\n",
        "# # yhat=model.predict(X_test,verbose=0)\n",
        "# pred_vanila=pred\n",
        "# obs_vanila=obs\n",
        "\t# print('prediction:'+str(yhat)+'\\n'+'obs: '+str(raw_seq[-tt]))\n",
        "# ve ket qua thu \n",
        "# slope, intercept, r_value, p_value, std_err = scipy.stats.linregress(obs_vanila, pred_vanila)\n",
        "pred=model.predict(X_test)\n",
        "obs=y_test\n",
        "pearson,dotincay=pearsonr(pred.flatten(),y_test.flatten())\n",
        "r2_vanila=pearson\n",
        "# kiem tra train\n",
        "# y_train_hat=model.predict(X,verbose=0)\n",
        "\n",
        "# r2_vanila=r2_score(pred_vanila,obs_vanila)\n",
        "\n",
        "fig,ax=plt.subplots(figsize=(5,5))\n",
        "min_values1=np.min([pred,obs])\n",
        "# min_values2=np.min([y.flatten(),y_train_hat.flatten()])\n",
        "# min_values=np.min(min_values1,min_values2)\n",
        "\n",
        "min_values=min_values1\n",
        "max_values1=np.max([pred,obs])\n",
        "# max_values2=np.max([y,y_train_hat])\n",
        "# max_values=np.max(max_value1,max_values2)\n",
        "max_values=max_values1\n",
        "plt.xlim(min_values,max_values)\n",
        "plt.ylim(min_values,max_values)\n",
        "# # ve training\n",
        "# plt.scatter(x=y.flatten(),\n",
        "#             y=y_train_hat.flatten(),\n",
        "#             s=None,\n",
        "#             c='b', \n",
        "#             marker='x', \n",
        "#             cmap=None,\n",
        "#             norm=None,\n",
        "#             vmin=None, \n",
        "#             vmax=None,\n",
        "#             alpha=None,            \n",
        "#             linewidths=None,\n",
        "#             edgecolors=None,plotnonfinite=False,data=None)\n",
        "# ve testing\n",
        "# \n",
        "plt.scatter(x=obs,\n",
        "            y=pred,\n",
        "            s=None,\n",
        "            c='k', \n",
        "            marker='.', \n",
        "            cmap=None,\n",
        "            norm=None,\n",
        "            vmin=None, \n",
        "            vmax=None,\n",
        "            alpha=None,            \n",
        "            linewidths=None,\n",
        "            edgecolors=None,plotnonfinite=False,data=None)\n",
        "\n",
        "# ve duong 45\n",
        "plt.legend(['test'])\n",
        "plt.xlabel('obs')\n",
        "plt.ylabel('pred')\n",
        "add_identity(ax, color='r', ls='--')\n",
        "plt.text(max_values-0.5,min_values+0.5,'R= '+str(round(r2_vanila,2)))\n",
        "plt.savefig(outs[2]+'/'+'M1_testing_3months'+'.jpeg')\n",
        "plt.show()\n",
        "plt.close()\n",
        "###############################################################"
      ],
      "execution_count": 309,
      "outputs": [
        {
          "output_type": "stream",
          "name": "stdout",
          "text": [
            "[[[0]\n",
            "  [1]\n",
            "  [2]]\n",
            "\n",
            " [[1]\n",
            "  [2]\n",
            "  [3]]\n",
            "\n",
            " [[2]\n",
            "  [3]\n",
            "  [4]]\n",
            "\n",
            " [[3]\n",
            "  [4]\n",
            "  [5]]\n",
            "\n",
            " [[4]\n",
            "  [5]\n",
            "  [6]]]\n",
            "[]\n",
            "WARNING:tensorflow:Model was constructed with shape (None, 1, 1) for input KerasTensor(type_spec=TensorSpec(shape=(None, 1, 1), dtype=tf.float32, name='lstm_145_input'), name='lstm_145_input', description=\"created by layer 'lstm_145_input'\"), but it was called on an input with incompatible shape (None, 12, 1).\n",
            "WARNING:tensorflow:Model was constructed with shape (None, 1, 1) for input KerasTensor(type_spec=TensorSpec(shape=(None, 1, 1), dtype=tf.float32, name='lstm_145_input'), name='lstm_145_input', description=\"created by layer 'lstm_145_input'\"), but it was called on an input with incompatible shape (None, 12, 1).\n",
            "WARNING:tensorflow:Model was constructed with shape (None, 1, 1) for input KerasTensor(type_spec=TensorSpec(shape=(None, 1, 1), dtype=tf.float32, name='lstm_145_input'), name='lstm_145_input', description=\"created by layer 'lstm_145_input'\"), but it was called on an input with incompatible shape (None, 12, 1).\n",
            "INFO:tensorflow:Assets written to: save_model/vanila_LSTM_3months.tf/assets\n",
            "WARNING:tensorflow:Model was constructed with shape (None, 1, 1) for input KerasTensor(type_spec=TensorSpec(shape=(None, 1, 1), dtype=tf.float32, name='lstm_145_input'), name='lstm_145_input', description=\"created by layer 'lstm_145_input'\"), but it was called on an input with incompatible shape (None, 12, 1).\n"
          ]
        },
        {
          "output_type": "display_data",
          "data": {
            "image/png": "[encoded data removed]",
            "text/plain": [
              "<Figure size 576x360 with 1 Axes>"
            ]
          },
          "metadata": {
            "needs_background": "light"
          }
        },
        {
          "output_type": "display_data",
          "data": {
            "image/png": "[encoded data removed]",
            "text/plain": [
              "<Figure size 360x360 with 1 Axes>"
            ]
          },
          "metadata": {
            "needs_background": "light"
          }
        }
      ]
    },
    {
      "cell_type": "markdown",
      "metadata": {
        "id": "EOtATbgjOrbe"
      },
      "source": [
        "## Stacked LSTM"
      ]
    },
    {
      "cell_type": "code",
      "metadata": {
        "ExecuteTime": {
          "end_time": "2021-04-29T15:21:29.694127Z",
          "start_time": "2021-04-29T15:21:29.671310Z"
        },
        "colab": {
          "base_uri": "https://localhost:8080/",
          "height": 352
        },
        "id": "PwjYyQ5NOrbf",
        "outputId": "7c2f07b6-1131-4e9d-ad3d-24fae65b578d"
      },
      "source": [
        "# univariate stacked lstm example\n",
        "from numpy import array\n",
        "from keras.models import Sequential\n",
        "from keras.layers import LSTM\n",
        "from keras.layers import Dense\n",
        " \n",
        "# split a univariate sequence\n",
        "def split_sequence(sequence, n_steps):\n",
        "\tX, y = list(), list()\n",
        "\tfor i in range(len(sequence)):\n",
        "\t\t# find the end of this pattern\n",
        "\t\tend_ix = i + n_steps\n",
        "\t\t# check if we are beyond the sequence\n",
        "\t\tif end_ix > len(sequence)-1:\n",
        "\t\t\tbreak\n",
        "\t\t# gather input and output parts of the pattern\n",
        "\t\tseq_x, seq_y = sequence[i:end_ix], sequence[end_ix]\n",
        "\t\tX.append(seq_x)\n",
        "\t\ty.append(seq_y)\n",
        "\treturn array(X), array(y)\n",
        " \n",
        "# define input sequence\n",
        "# raw_seq = [10, 20, 30, 40, 50, 60, 70, 80, 90]\n",
        "# choose a number of time steps\n",
        "n_steps = 3\n",
        "# split into samples\n",
        "X, y = split_sequence(raw_seq, n_steps)\n",
        "# reshape from [samples, timesteps] into [samples, timesteps, features]\n",
        "n_features = 1\n",
        "X = X.reshape((X.shape[0], X.shape[1], n_features))\n",
        "# define model\n",
        "model = Sequential()\n",
        "model.add(LSTM(50, activation='relu', return_sequences=True, input_shape=(n_steps, n_features)))\n",
        "model.add(LSTM(50, activation='relu'))\n",
        "model.add(Dense(1))\n",
        "model.compile(optimizer='adam', loss='mse')\n",
        "# fit model\n",
        "model.fit(X, y, epochs=200, verbose=0)\n",
        "# # demonstrate prediction\n",
        "# x_input = array([70, 80, 90])\n",
        "# x_input = x_input.reshape((1, n_steps, n_features))\n",
        "# yhat = model.predict(x_input, verbose=0)\n",
        "# print(yhat)\n",
        "\n",
        "# demonstrate prediction\n",
        "# x_input = array([70, 80, 90])\n",
        "pred=[]\n",
        "obs=[]\n",
        "for tt in np.arange(0,96-n_steps):\n",
        "\t# tt=1\n",
        "\tx_input0 = raw_seq_test[-(4+tt):-(1+tt)]\n",
        "\tx_input = x_input0.reshape((1, n_steps, n_features))\n",
        "\tyhat = model.predict(x_input, verbose=0)\n",
        "\tpred.append(yhat[0][0])\n",
        "\tobs.append(raw_seq_test[-tt])\n",
        "pred_vanila=pred\n",
        "obs_vanila=obs\n",
        "\t# print('prediction:'+str(yhat)+'\\n'+'obs: '+str(raw_seq[-tt]))\n",
        "# ve ket qua thu \n",
        "# slope, intercept, r_value, p_value, std_err = scipy.stats.linregress(obs_vanila, pred_vanila)\n",
        "# r2_vanila=slope\n",
        "pearson,dotincay=pearsonr(obs_vanila,pred_vanila)\n",
        "r2_vanila=pearson\n",
        "# r2_vanila=r2_score(pred_vanila,obs_vanila)\n",
        "\n",
        "fig,ax=plt.subplots(figsize=(5,5))\n",
        "min_values=np.min([pred,obs])-2\n",
        "max_values=np.max([pred,obs])+2\n",
        "plt.xlim(min_values,max_values)\n",
        "plt.ylim(min_values,max_values)\n",
        "plt.scatter(x=obs,\n",
        "            y=pred,\n",
        "            s=None,\n",
        "            c='k', \n",
        "            marker='o', \n",
        "            cmap=None,\n",
        "            norm=None,\n",
        "            vmin=None, \n",
        "            vmax=None,\n",
        "            alpha=None,            \n",
        "            linewidths=None,\n",
        "            edgecolors=None,plotnonfinite=False,data=None)\n",
        "\n",
        "# ve duong 45\n",
        "plt.legend(['NDI'])\n",
        "plt.xlabel('obs')\n",
        "plt.ylabel('pred')\n",
        "add_identity(ax, color='r', ls='--')\n",
        "plt.text(max_values-2,min_values+2,str(round(r2_vanila,2)))"
      ],
      "execution_count": 234,
      "outputs": [
        {
          "output_type": "execute_result",
          "data": {
            "text/plain": [
              "Text(5.82, -4.5893354415893555, '-0.02')"
            ]
          },
          "metadata": {},
          "execution_count": 234
        },
        {
          "output_type": "display_data",
          "data": {
            "image/png": "[encoded data removed]",
            "text/plain": [
              "<Figure size 360x360 with 1 Axes>"
            ]
          },
          "metadata": {
            "needs_background": "light"
          }
        }
      ]
    },
    {
      "cell_type": "markdown",
      "metadata": {
        "id": "5lEpCPT3Orbf"
      },
      "source": [
        "## Bidirectional LSTM "
      ]
    },
    {
      "cell_type": "code",
      "metadata": {
        "ExecuteTime": {
          "end_time": "2021-04-29T15:21:34.526649Z",
          "start_time": "2021-04-29T15:21:34.504825Z"
        },
        "colab": {
          "base_uri": "https://localhost:8080/",
          "height": 352
        },
        "id": "JnpUBgvKOrbf",
        "outputId": "a6288fdf-f815-46e0-b616-fd095f6661fd"
      },
      "source": [
        "# univariate bidirectional lstm example\n",
        "from numpy import array\n",
        "from keras.models import Sequential\n",
        "from keras.layers import LSTM\n",
        "from keras.layers import Dense\n",
        "from keras.layers import Bidirectional\n",
        " \n",
        "# split a univariate sequence\n",
        "def split_sequence(sequence, n_steps):\n",
        "\tX, y = list(), list()\n",
        "\tfor i in range(len(sequence)):\n",
        "\t\t# find the end of this pattern\n",
        "\t\tend_ix = i + n_steps\n",
        "\t\t# check if we are beyond the sequence\n",
        "\t\tif end_ix > len(sequence)-1:\n",
        "\t\t\tbreak\n",
        "\t\t# gather input and output parts of the pattern\n",
        "\t\tseq_x, seq_y = sequence[i:end_ix], sequence[end_ix]\n",
        "\t\tX.append(seq_x)\n",
        "\t\ty.append(seq_y)\n",
        "\treturn array(X), array(y)\n",
        " \n",
        "# define input sequence\n",
        "# raw_seq = [10, 20, 30, 40, 50, 60, 70, 80, 90]\n",
        "# choose a number of time steps\n",
        "n_steps = 3\n",
        "# split into samples\n",
        "X, y = split_sequence(raw_seq, n_steps)\n",
        "# reshape from [samples, timesteps] into [samples, timesteps, features]\n",
        "n_features = 1\n",
        "X = X.reshape((X.shape[0], X.shape[1], n_features))\n",
        "# define model\n",
        "model = Sequential()\n",
        "model.add(Bidirectional(LSTM(50, activation='relu'), input_shape=(n_steps, n_features)))\n",
        "model.add(Dense(1))\n",
        "model.compile(optimizer='adam', loss='mse')\n",
        "# fit model\n",
        "model.fit(X, y, epochs=155, verbose=0)\n",
        "# demonstrate prediction\n",
        "# x_input = array([70, 80, 90])\n",
        "# x_input = x_input.reshape((1, n_steps, n_features))\n",
        "# yhat = model.predict(x_input, verbose=0)\n",
        "# print(yhat)\n",
        "pred=[]\n",
        "obs=[]\n",
        "for tt in np.arange(0,36):\n",
        "\t# tt=1\n",
        "\tx_input0 = raw_seq_test[-(4+tt):-(1+tt)]\n",
        "\tx_input = x_input0.reshape((1, n_steps, n_features))\n",
        "\tyhat = model.predict(x_input, verbose=0)\n",
        "\tpred.append(yhat[0][0])\n",
        "\tobs.append(raw_seq_test[-tt])\n",
        "pred_vanila=pred\n",
        "obs_vanila=obs\n",
        "\t# print('prediction:'+str(yhat)+'\\n'+'obs: '+str(raw_seq[-tt]))\n",
        "# ve ket qua thu \n",
        "# slope, intercept, r_value, p_value, std_err = scipy.stats.linregress(obs_vanila, pred_vanila)\n",
        "# r2_vanila=slope\n",
        "pearson,dotincay=pearsonr(obs_vanila,pred_vanila)\n",
        "r2_vanila=pearson\n",
        "# r2_vanila=r2_score(pred_vanila,obs_vanila)\n",
        "\n",
        "fig,ax=plt.subplots(figsize=(5,5))\n",
        "min_values=np.min([pred,obs])-2\n",
        "max_values=np.max([pred,obs])+2\n",
        "plt.xlim(min_values,max_values)\n",
        "plt.ylim(min_values,max_values)\n",
        "plt.scatter(x=obs,\n",
        "            y=pred,\n",
        "            s=None,\n",
        "            c='k', \n",
        "            marker='o', \n",
        "            cmap=None,\n",
        "            norm=None,\n",
        "            vmin=None, \n",
        "            vmax=None,\n",
        "            alpha=None,            \n",
        "            linewidths=None,\n",
        "            edgecolors=None,plotnonfinite=False,data=None)\n",
        "\n",
        "# ve duong 45\n",
        "plt.legend(['NDI'])\n",
        "plt.xlabel('obs')\n",
        "plt.ylabel('pred')\n",
        "add_identity(ax, color='r', ls='--')\n",
        "plt.text(max_values-2,min_values+2,str(round(r2_vanila,2)))"
      ],
      "execution_count": 235,
      "outputs": [
        {
          "output_type": "execute_result",
          "data": {
            "text/plain": [
              "Text(5.82, -4.732975959777832, '-0.13')"
            ]
          },
          "metadata": {},
          "execution_count": 235
        },
        {
          "output_type": "display_data",
          "data": {
            "image/png": "[encoded data removed]",
            "text/plain": [
              "<Figure size 360x360 with 1 Axes>"
            ]
          },
          "metadata": {
            "needs_background": "light"
          }
        }
      ]
    },
    {
      "cell_type": "markdown",
      "metadata": {
        "id": "kkdcj4fuOrbg"
      },
      "source": [
        "## CNN LSTM"
      ]
    },
    {
      "cell_type": "code",
      "metadata": {
        "ExecuteTime": {
          "end_time": "2021-04-29T15:20:57.348518Z",
          "start_time": "2021-04-29T15:20:56.929Z"
        },
        "colab": {
          "base_uri": "https://localhost:8080/",
          "height": 352
        },
        "id": "d8ilbGCYOrbh",
        "outputId": "c2ddd96c-073a-43a1-c1eb-4e0dbf02cf29"
      },
      "source": [
        "# univariate cnn lstm example\n",
        "from numpy import array\n",
        "from keras.models import Sequential\n",
        "from keras.layers import LSTM\n",
        "from keras.layers import Dense\n",
        "from keras.layers import Flatten\n",
        "from keras.layers import TimeDistributed\n",
        "from keras.layers.convolutional import Conv1D\n",
        "from keras.layers.convolutional import MaxPooling1D\n",
        " \n",
        "# split a univariate sequence into samples\n",
        "def split_sequence(sequence, n_steps):\n",
        "\tX, y = list(), list()\n",
        "\tfor i in range(len(sequence)):\n",
        "\t\t# find the end of this pattern\n",
        "\t\tend_ix = i + n_steps\n",
        "\t\t# check if we are beyond the sequence\n",
        "\t\tif end_ix > len(sequence)-1:\n",
        "\t\t\tbreak\n",
        "\t\t# gather input and output parts of the pattern\n",
        "\t\tseq_x, seq_y = sequence[i:end_ix], sequence[end_ix]\n",
        "\t\tX.append(seq_x)\n",
        "\t\ty.append(seq_y)\n",
        "\treturn array(X), array(y)\n",
        " \n",
        "# define input sequence\n",
        "raw_seq = [10, 20, 30, 40, 50, 60, 70, 80, 90]\n",
        "# choose a number of time steps\n",
        "n_steps = 4\n",
        "# split into samples\n",
        "X, y = split_sequence(raw_seq, n_steps)\n",
        "# reshape from [samples, timesteps] into [samples, subsequences, timesteps, features]\n",
        "n_features = 1\n",
        "n_seq = 2\n",
        "n_steps = 2\n",
        "X = X.reshape((X.shape[0], n_seq, n_steps, n_features))\n",
        "# define model\n",
        "model = Sequential()\n",
        "model.add(TimeDistributed(Conv1D(filters=64, kernel_size=1, activation='relu'), input_shape=(None, n_steps, n_features)))\n",
        "model.add(TimeDistributed(MaxPooling1D(pool_size=2)))\n",
        "model.add(TimeDistributed(Flatten()))\n",
        "model.add(LSTM(50, activation='relu'))\n",
        "model.add(Dense(1))\n",
        "model.compile(optimizer='adam', loss='mse')\n",
        "# fit model\n",
        "model.fit(X, y, epochs=500, verbose=0)\n",
        "# # demonstrate prediction\n",
        "# x_input = array([60, 70, 80, 90])\n",
        "# x_input = x_input.reshape((1, n_seq, n_steps, n_features))\n",
        "# yhat = model.predict(x_input, verbose=0)\n",
        "# print(yhat)\n",
        "pred=[]\n",
        "obs=[]\n",
        "for tt in np.arange(96-n_seq-n_steps):\n",
        "# tt=1\n",
        "\tx_input = raw_seq_test[-(n_steps+tt+n_seq+1):-(tt+1)]\n",
        "\t# x_input=np.array(x_input0)\n",
        "\tx_input = x_input.reshape((1, n_seq, n_steps, n_features))\n",
        "\tyhat = model.predict(x_input, verbose=0)\n",
        "\tpred.append(yhat[0][0])\n",
        "\tobs.append(raw_seq_test[-tt])\n",
        "pred_vanila=pred\n",
        "obs_vanila=obs\n",
        "\t# print('prediction:'+str(yhat)+'\\n'+'obs: '+str(raw_seq[-tt]))\n",
        "# ve ket qua thu \n",
        "# slope, intercept, r_value, p_value, std_err = scipy.stats.linregress(obs_vanila, pred_vanila)\n",
        "# r2_vanila=slope\n",
        "pearson,dotincay=pearsonr(obs_vanila,pred_vanila)\n",
        "r2_vanila=pearson\n",
        "# r2_vanila=r2_score(pred_vanila,obs_vanila)\n",
        "\n",
        "fig,ax=plt.subplots(figsize=(5,5))\n",
        "min_values=np.min([pred,obs])-2\n",
        "max_values=np.max([pred,obs])+2\n",
        "plt.xlim(min_values,max_values)\n",
        "plt.ylim(min_values,max_values)\n",
        "plt.scatter(x=obs,\n",
        "            y=pred,\n",
        "            s=None,\n",
        "            c='k', \n",
        "            marker='o', \n",
        "            cmap=None,\n",
        "            norm=None,\n",
        "            vmin=None, \n",
        "            vmax=None,\n",
        "            alpha=None,            \n",
        "            linewidths=None,\n",
        "            edgecolors=None,plotnonfinite=False,data=None)\n",
        "\n",
        "# ve duong 45\n",
        "plt.legend(['NDI'])\n",
        "plt.xlabel('obs')\n",
        "plt.ylabel('pred')\n",
        "add_identity(ax, color='r', ls='--')\n",
        "plt.text(max_values-2,min_values+2,str(round(r2_vanila,2)))"
      ],
      "execution_count": 236,
      "outputs": [
        {
          "output_type": "execute_result",
          "data": {
            "text/plain": [
              "Text(6.508683204650879, -3.25, '-0.07')"
            ]
          },
          "metadata": {},
          "execution_count": 236
        },
        {
          "output_type": "display_data",
          "data": {
            "image/png": "[encoded data removed]",
            "text/plain": [
              "<Figure size 360x360 with 1 Axes>"
            ]
          },
          "metadata": {
            "needs_background": "light"
          }
        }
      ]
    },
    {
      "cell_type": "markdown",
      "metadata": {
        "id": "5r4QPesIOrbh"
      },
      "source": [
        "## ConvLSTM"
      ]
    },
    {
      "cell_type": "code",
      "metadata": {
        "ExecuteTime": {
          "end_time": "2021-04-29T15:20:57.350006Z",
          "start_time": "2021-04-29T15:20:56.932Z"
        },
        "colab": {
          "base_uri": "https://localhost:8080/",
          "height": 352
        },
        "id": "AmAc9oSgOrbi",
        "outputId": "0036768e-94f7-4de4-9c57-577fa9daac89"
      },
      "source": [
        "# univariate convlstm example\n",
        "from numpy import array\n",
        "from keras.models import Sequential\n",
        "from keras.layers import LSTM\n",
        "from keras.layers import Dense\n",
        "from keras.layers import Flatten\n",
        "from keras.layers import ConvLSTM2D\n",
        " \n",
        "# split a univariate sequence into samples\n",
        "def split_sequence(sequence, n_steps):\n",
        "\tX, y = list(), list()\n",
        "\tfor i in range(len(sequence)):\n",
        "\t\t# find the end of this pattern\n",
        "\t\tend_ix = i + n_steps\n",
        "\t\t# check if we are beyond the sequence\n",
        "\t\tif end_ix > len(sequence)-1:\n",
        "\t\t\tbreak\n",
        "\t\t# gather input and output parts of the pattern\n",
        "\t\tseq_x, seq_y = sequence[i:end_ix], sequence[end_ix]\n",
        "\t\tX.append(seq_x)\n",
        "\t\ty.append(seq_y)\n",
        "\treturn array(X), array(y)\n",
        " \n",
        "# define input sequence\n",
        "# raw_seq = [10, 20, 30, 40, 50, 60, 70, 80, 90]\n",
        "# choose a number of time steps\n",
        "n_steps = 4\n",
        "# split into samples\n",
        "X, y = split_sequence(raw_seq, n_steps)\n",
        "# reshape from [samples, timesteps] into [samples, timesteps, rows, columns, features]\n",
        "n_features = 1\n",
        "n_seq = 2\n",
        "n_steps = 2\n",
        "X = X.reshape((X.shape[0], n_seq, 1, n_steps, n_features))\n",
        "# define model\n",
        "model = Sequential()\n",
        "model.add(ConvLSTM2D(filters=64, kernel_size=(1,2), activation='relu', input_shape=(n_seq, 1, n_steps, n_features)))\n",
        "model.add(Flatten())\n",
        "model.add(Dense(1))\n",
        "model.compile(optimizer='adam', loss='mse')\n",
        "# fit model\n",
        "model.fit(X, y, epochs=500, verbose=0)\n",
        "# demonstrate prediction\n",
        "# x_input = array([60, 70, 80, 90])\n",
        "# x_input = x_input.reshape((1, n_seq, 1, n_steps, n_features))\n",
        "# yhat = model.predict(x_input, verbose=0)\n",
        "# print(yhat)\n",
        "pred=[]\n",
        "obs=[]\n",
        "for tt in np.arange(96-n_seq-n_steps):\n",
        "# tt=1\n",
        "\tx_input = raw_seq_test[-(n_steps+tt+n_seq+1):-(tt+1)]\n",
        "\t# x_input=np.array(x_input0)\n",
        "\tx_input = x_input.reshape((1, n_seq, 1, n_steps, n_features))\n",
        "\tyhat = model.predict(x_input, verbose=0)\n",
        "\tpred.append(yhat[0][0])\n",
        "\tobs.append(raw_seq_test[-tt])\n",
        "pred_vanila=pred\n",
        "obs_vanila=obs\n",
        "\t# print('prediction:'+str(yhat)+'\\n'+'obs: '+str(raw_seq[-tt]))\n",
        "# ve ket qua thu \n",
        "# slope, intercept, r_value, p_value, std_err = scipy.stats.linregress(obs_vanila, pred_vanila)\n",
        "# r2_vanila=slope\n",
        "pearson,dotincay=pearsonr(obs_vanila,pred_vanila)\n",
        "r2_vanila=pearson\n",
        "# r2_vanila=r2_score(pred_vanila,obs_vanila)\n",
        "\n",
        "fig,ax=plt.subplots(figsize=(5,5))\n",
        "min_values=np.min([pred,obs])-2\n",
        "max_values=np.max([pred,obs])+2\n",
        "plt.xlim(min_values,max_values)\n",
        "plt.ylim(min_values,max_values)\n",
        "plt.scatter(x=obs,\n",
        "            y=pred,\n",
        "            s=None,\n",
        "            c='k', \n",
        "            marker='o', \n",
        "            cmap=None,\n",
        "            norm=None,\n",
        "            vmin=None, \n",
        "            vmax=None,\n",
        "            alpha=None,            \n",
        "            linewidths=None,\n",
        "            edgecolors=None,plotnonfinite=False,data=None)\n",
        "\n",
        "# ve duong 45\n",
        "plt.legend(['NDI'])\n",
        "plt.xlabel('obs')\n",
        "plt.ylabel('pred')\n",
        "add_identity(ax, color='r', ls='--')\n",
        "plt.text(max_values-2,min_values+2,str(round(r2_vanila,2)))"
      ],
      "execution_count": 237,
      "outputs": [
        {
          "output_type": "execute_result",
          "data": {
            "text/plain": [
              "Text(5.82, -3.25, '-0.16')"
            ]
          },
          "metadata": {},
          "execution_count": 237
        },
        {
          "output_type": "display_data",
          "data": {
            "image/png": "[encoded data removed]",
            "text/plain": [
              "<Figure size 360x360 with 1 Axes>"
            ]
          },
          "metadata": {
            "needs_background": "light"
          }
        }
      ]
    },
    {
      "cell_type": "markdown",
      "metadata": {
        "id": "alSXyWWROrbi"
      },
      "source": [
        "# Multivariate LSTM"
      ]
    },
    {
      "cell_type": "markdown",
      "metadata": {
        "id": "7siqZpYYOrbi"
      },
      "source": [
        "## Multiple Input Series"
      ]
    },
    {
      "cell_type": "code",
      "metadata": {
        "id": "-I1ZxZyXyJlO"
      },
      "source": [
        "# scaled data\n",
        "df_prec_NDI\n",
        "df_prec_NDI_train, df_prec_NDI_val,df_prec_NDI_test=df_prec_NDI.iloc[:20*12,:],df_prec_NDI.iloc[20*12:28*12,:],df_prec_NDI.iloc[28*12:,:]\n",
        "x_scaler=MinMaxScaler()\n",
        "df_prec_NDI_train_sc=x_scaler.fit_transform(df_prec_NDI_train)\n",
        "df_prec_NDI_val_sc=x_scaler.transform(df_prec_NDI_val)\n",
        "df_prec_NDI_test_sc=x_scaler.transform(df_prec_NDI_test)"
      ],
      "execution_count": 238,
      "outputs": []
    },
    {
      "cell_type": "markdown",
      "metadata": {
        "id": "ygm93M4G_Fng"
      },
      "source": [
        "## Multiple input Precip +NDI"
      ]
    },
    {
      "cell_type": "code",
      "metadata": {
        "colab": {
          "base_uri": "https://localhost:8080/",
          "height": 674
        },
        "id": "CRUeJuuq_aEd",
        "outputId": "632ee2c9-51ce-41a3-b4aa-1f547917aa29"
      },
      "source": [
        "# multivariate lstm example\n",
        "from numpy import array\n",
        "from numpy import hstack\n",
        "from keras.models import Sequential\n",
        "from keras.layers import LSTM\n",
        "from keras.layers import Dense\n",
        " \n",
        "# split a multivariate sequence into samples\n",
        "def split_sequences(sequences, n_steps):\n",
        "\tX, y = list(), list()\n",
        "\tfor i in range(len(sequences)):\n",
        "\t\t# find the end of this pattern\n",
        "\t\tend_ix = i + n_steps\n",
        "\t\t# check if we are beyond the dataset\n",
        "\t\tif end_ix > len(sequences):\n",
        "\t\t\tbreak\n",
        "\t\t# gather input and output parts of the pattern\n",
        "\t\tseq_x, seq_y = sequences[i:end_ix, :-1], sequences[end_ix-1, -1]\n",
        "\t\tX.append(seq_x)\n",
        "\t\ty.append(seq_y)\n",
        "\treturn array(X), array(y)\n",
        " \n",
        "# define input sequence\n",
        "# in_seq1 = array([10, 20, 30, 40, 50, 60, 70, 80, 90])\n",
        "# in_seq2 = array([15, 25, 35, 45, 55, 65, 75, 85, 95])\n",
        "# out_seq = array([in_seq1[i]+in_seq2[i] for i in range(len(in_seq1))])\n",
        "# # convert to [rows, columns] structure\n",
        "# in_seq1 = in_seq1.reshape((len(in_seq1), 1))\n",
        "# in_seq2 = in_seq2.reshape((len(in_seq2), 1))\n",
        "# out_seq = out_seq.reshape((len(out_seq), 1))\n",
        "# # horizontally stack columns\n",
        "# dataset = hstack((in_seq1, in_seq2, out_seq))\n",
        "# dataset=df_prec_NDI.values[:20*12,:]\n",
        "\n",
        "# # minmaxsacler\n",
        "\n",
        "\n",
        "\n",
        "# dataset_val=df_prec_NDI.values[20*12:-96,:]\n",
        "# dataset_test=df_prec_NDI.values[-96:,:]\n",
        "dataset=df_prec_NDI_train_sc\n",
        "dataset_val=df_prec_NDI_val_sc\n",
        "dataset_test=df_prec_NDI_test_sc\n",
        "# choose a number of time steps\n",
        "n_steps = 3\n",
        "# convert into input/output\n",
        "X, y = split_sequences(dataset, n_steps)\n",
        "X_test, y_test = split_sequences(dataset_test, n_steps)\n",
        "X_val, y_val = split_sequences(dataset_val, n_steps)\n",
        "# the dataset knows the number of features, e.g. 2\n",
        "n_features = X.shape[2]\n",
        "# define model\n",
        "model = Sequential()\n",
        "model.add(LSTM(50, activation='relu', input_shape=(n_steps, n_features)))\n",
        "model.add(Dense(1))\n",
        "model.compile(optimizer='adam', loss='mse')\n",
        "# fit model\n",
        "model.fit(X, y, epochs=200, verbose=0,validation_data=(X_val,y_val))\n",
        "\n",
        "# ve learning rate\n",
        "fig,ax=plt.subplots(figsize=(8,5))\n",
        "plt.plot(model.history.history['loss'])\n",
        "plt.plot(model.history.history['val_loss'])\n",
        "df_val_loss=pd.DataFrame({'val_loss':model.history.history['val_loss']})\n",
        "\n",
        "# print(df_val_loss)\n",
        "idxmin=df_val_loss[['val_loss']].idxmin().values\n",
        "val_loss_min_values=df_val_loss.loc[idxmin,:].values.flatten()\n",
        "print(idxmin,val_loss_min_values)\n",
        "plt.annotate('optimal epochs'+str(idxmin[0])+'\\n'+'min_val_loss'+str(np.round(val_loss_min_values[0],3)),\n",
        "             xy=(idxmin,val_loss_min_values), xycoords='data',\n",
        "            xytext=(idxmin, val_loss_min_values+0.01), textcoords='data',\n",
        "            arrowprops=dict(arrowstyle=\"->\",\n",
        "                            connectionstyle=\"arc3\"),\n",
        "            )\n",
        "\n",
        "\n",
        "plt.legend(['train','val'])\n",
        "# demonstrate prediction\n",
        "# x_input = array([[80, 85,95], [90, 95,105], [100, 10,105]])\n",
        "# x_input = x_input.reshape((1, n_steps, n_features))\n",
        "# yhat = model.predict(x_input, verbose=0)\n",
        "# print(yhat)\n",
        "y_hat=model.predict(X_test, verbose=0)\n",
        "pred_vanila=model.predict(X_test, verbose=0)\n",
        "obs_vanila=y_test.reshape(y_test.shape[0],1)\n",
        "pred_vanila=pred_vanila.flatten()\n",
        "obs_vanila=obs_vanila.flatten()\n",
        "# obs_vanila=np.array(obs_vanila)\n",
        "# pred_vanila=np.array(pred_vanila)\n",
        "# plt.plot(pred_vanila)\n",
        "# plt.plot(y_test)\n",
        "# slope, intercept, r_value, p_value, std_err = scipy.stats.linregress(obs_vanila[:][:], pred_vanila[:][:])\n",
        "# r2_vanila=slope\n",
        "pearson,dotincay=pearsonr(obs_vanila,pred_vanila)\n",
        "r2_vanila=pearson\n",
        "# r2_vanila=r2_score(pred_vanila,obs_vanila)\n",
        "\n",
        "fig,ax=plt.subplots(figsize=(5,5))\n",
        "min_values=np.min([pred,obs])-2\n",
        "max_values=np.max([pred,obs])+2\n",
        "plt.xlim(min_values,max_values)\n",
        "plt.ylim(min_values,max_values)\n",
        "plt.scatter(x=obs,\n",
        "            y=pred,\n",
        "            s=None,\n",
        "            c='k', \n",
        "            marker='o', \n",
        "            cmap=None,\n",
        "            norm=None,\n",
        "            vmin=None, \n",
        "            vmax=None,\n",
        "            alpha=None,            \n",
        "            linewidths=None,\n",
        "            edgecolors=None,plotnonfinite=False,data=None)\n",
        "\n",
        "# ve duong 45\n",
        "plt.legend(['NDI'])\n",
        "plt.xlabel('obs')\n",
        "plt.ylabel('pred')\n",
        "add_identity(ax, color='r', ls='--')\n",
        "plt.text(max_values-2,min_values+2,str(round(r2_vanila,2)))"
      ],
      "execution_count": 239,
      "outputs": [
        {
          "output_type": "stream",
          "name": "stdout",
          "text": [
            "[13] [0.05449357]\n"
          ]
        },
        {
          "output_type": "execute_result",
          "data": {
            "text/plain": [
              "Text(5.82, -3.25, '0.05')"
            ]
          },
          "metadata": {},
          "execution_count": 239
        },
        {
          "output_type": "display_data",
          "data": {
            "image/png": "[encoded data removed]",
            "text/plain": [
              "<Figure size 576x360 with 1 Axes>"
            ]
          },
          "metadata": {
            "needs_background": "light"
          }
        },
        {
          "output_type": "display_data",
          "data": {
            "image/png": "[encoded data removed]",
            "text/plain": [
              "<Figure size 360x360 with 1 Axes>"
            ]
          },
          "metadata": {
            "needs_background": "light"
          }
        }
      ]
    },
    {
      "cell_type": "markdown",
      "metadata": {
        "id": "b4uYAHFc1Gzq"
      },
      "source": [
        "## PRS +NDI"
      ]
    },
    {
      "cell_type": "code",
      "metadata": {
        "id": "4pfmk_td1L1k"
      },
      "source": [
        "# scaled data\n",
        "df_prs_NDI\n",
        "df_prs_NDI_train, df_prs_NDI_val,df_prs_NDI_test=df_prs_NDI.iloc[:20*12,:],df_prs_NDI.iloc[20*12:28*12,:],df_prs_NDI.iloc[28*12:,:]\n",
        "x_scaler=MinMaxScaler()\n",
        "df_prs_NDI_train_sc=x_scaler.fit_transform(df_prs_NDI_train)\n",
        "df_prs_NDI_val_sc=x_scaler.transform(df_prs_NDI_val)\n",
        "df_prs_NDI_test_sc=x_scaler.transform(df_prs_NDI_test)"
      ],
      "execution_count": 240,
      "outputs": []
    },
    {
      "cell_type": "code",
      "metadata": {
        "colab": {
          "base_uri": "https://localhost:8080/",
          "height": 313
        },
        "id": "lUou1GPt4zSJ",
        "outputId": "37582c77-0bd6-4b9f-bf11-2d0168411ac2"
      },
      "source": [
        "fig,ax=plt.subplots(figsize=(12,4),sharey=True)\n",
        "plt.subplot(121)\n",
        "plt.hist(df_prs_NDI_train_sc,fill=None)\n",
        "plt.xlabel(\"NDI\")\n",
        "plt.ylabel(\"frequency\")\n",
        "plt.title(\"Train dataset scaling\")\n",
        "\n",
        "plt.subplot(122)\n",
        "plt.hist(df_prs_NDI_test_sc,fill=True,color=['gray','red','blue','green'],alpha=0.2,edgecolor='k')\n",
        "plt.xlabel(\"NDI\")\n",
        "# plt.ylabel(\"frequency\")\n",
        "plt.title(\"Validate dataset scaling\")\n",
        "\n",
        "# plt.subplot(133)\n",
        "# plt.hist(data_test_01,fill=True,color='gray',alpha=0.4,edgecolor='k')\n",
        "# plt.xlabel(\"NDI\")\n",
        "# # plt.ylabel(\"frequency\")\n",
        "# plt.title(\"Test dataset scaling\")"
      ],
      "execution_count": 258,
      "outputs": [
        {
          "output_type": "execute_result",
          "data": {
            "text/plain": [
              "Text(0.5, 1.0, 'Validate dataset scaling')"
            ]
          },
          "metadata": {},
          "execution_count": 258
        },
        {
          "output_type": "display_data",
          "data": {
            "image/png": "[encoded data removed]",
            "text/plain": [
              "<Figure size 864x288 with 2 Axes>"
            ]
          },
          "metadata": {
            "needs_background": "light"
          }
        }
      ]
    },
    {
      "cell_type": "code",
      "metadata": {
        "ExecuteTime": {
          "end_time": "2021-04-29T15:20:57.351990Z",
          "start_time": "2021-04-29T15:20:56.934Z"
        },
        "colab": {
          "base_uri": "https://localhost:8080/",
          "height": 674
        },
        "id": "txMG5PWCOrbi",
        "outputId": "a3fe94de-837a-4651-837a-e2312e960722"
      },
      "source": [
        "# multivariate lstm example\n",
        "from numpy import array\n",
        "from numpy import hstack\n",
        "from keras.models import Sequential\n",
        "from keras.layers import LSTM\n",
        "from keras.layers import Dense\n",
        " \n",
        "# split a multivariate sequence into samples\n",
        "def split_sequences(sequences, n_steps):\n",
        "\tX, y = list(), list()\n",
        "\tfor i in range(len(sequences)):\n",
        "\t\t# find the end of this pattern\n",
        "\t\tend_ix = i + n_steps\n",
        "\t\t# check if we are beyond the dataset\n",
        "\t\tif end_ix > len(sequences):\n",
        "\t\t\tbreak\n",
        "\t\t# gather input and output parts of the pattern\n",
        "\t\tseq_x, seq_y = sequences[i:end_ix, :-1], sequences[end_ix-1, -1]\n",
        "\t\tX.append(seq_x)\n",
        "\t\ty.append(seq_y)\n",
        "\treturn array(X), array(y)\n",
        " \n",
        "# # define input sequence\n",
        "# in_seq1 = array([10, 20, 30, 40, 50, 60, 70, 80, 90])\n",
        "# in_seq2 = array([15, 25, 35, 45, 55, 65, 75, 85, 95])\n",
        "# out_seq = array([in_seq1[i]+in_seq2[i] for i in range(len(in_seq1))])\n",
        "# # convert to [rows, columns] structure\n",
        "# in_seq1 = in_seq1.reshape((len(in_seq1), 1))\n",
        "# in_seq2 = in_seq2.reshape((len(in_seq2), 1))\n",
        "# out_seq = out_seq.reshape((len(out_seq), 1))\n",
        "# # horizontally stack columns\n",
        "# # dataset = hstack((in_seq1, in_seq2, out_seq))\n",
        "# dataset=df_prs_NDI.values[:-96,:]\n",
        "# dataset_val=df_prs_NDI.values[20*12:-96,:]\n",
        "# dataset_test=df_prs_NDI.values[-96:,:]\n",
        "dataset=df_prs_NDI_train_sc\n",
        "dataset_val=df_prs_NDI_val_sc\n",
        "dataset_test=df_prs_NDI_test_sc\n",
        "# choose a number of time steps\n",
        "n_steps = 3\n",
        "# convert into input/output\n",
        "X, y = split_sequences(dataset, n_steps)\n",
        "X_test, y_test = split_sequences(dataset_test, n_steps)\n",
        "X_val, y_val = split_sequences(dataset_val, n_steps)\n",
        "# the dataset knows the number of features, e.g. 2\n",
        "n_features = X.shape[2]\n",
        "# define model\n",
        "model = Sequential()\n",
        "model.add(LSTM(50, activation='relu', input_shape=(n_steps, n_features)))\n",
        "model.add(Dense(1))\n",
        "model.compile(optimizer='adam', loss='mse')\n",
        "# fit model\n",
        "model.fit(X, y, epochs=200, verbose=0,validation_data=(X_val,y_val))\n",
        "# ve learning rate\n",
        "fig,ax=plt.subplots(figsize=(8,5))\n",
        "plt.plot(model.history.history['loss'])\n",
        "plt.plot(model.history.history['val_loss'])\n",
        "df_val_loss=pd.DataFrame({'val_loss':model.history.history['val_loss']})\n",
        "\n",
        "# print(df_val_loss)\n",
        "idxmin=df_val_loss[['val_loss']].idxmin().values\n",
        "val_loss_min_values=df_val_loss.loc[idxmin,:].values.flatten()\n",
        "print(idxmin,val_loss_min_values)\n",
        "plt.annotate('optimal epochs'+str(idxmin[0])+'\\n'+'min_val_loss'+str(np.round(val_loss_min_values[0],3)),\n",
        "             xy=(idxmin,val_loss_min_values), xycoords='data',\n",
        "            xytext=(idxmin, val_loss_min_values+0.01), textcoords='data',\n",
        "            arrowprops=dict(arrowstyle=\"->\",\n",
        "                            connectionstyle=\"arc3\"),\n",
        "            )\n",
        "\n",
        "\n",
        "plt.legend(['train','val'])\n",
        "# demonstrate prediction\n",
        "# x_input = array([[80, 85,95], [90, 95,105], [100, 10,105]])\n",
        "# x_input = x_input.reshape((1, n_steps, n_features))\n",
        "# yhat = model.predict(x_input, verbose=0)\n",
        "# print(yhat)\n",
        "y_hat=model.predict(X_test, verbose=0)\n",
        "pred_vanila=model.predict(X_test, verbose=0)\n",
        "obs_vanila=y_test.reshape(y_test.shape[0],1)\n",
        "pred_vanila=pred_vanila.flatten()\n",
        "obs_vanila=obs_vanila.flatten()\n",
        "# obs_vanila=np.array(obs_vanila)\n",
        "# pred_vanila=np.array(pred_vanila)\n",
        "# plt.plot(pred_vanila)\n",
        "# plt.plot(y_test)\n",
        "# slope, intercept, r_value, p_value, std_err = scipy.stats.linregress(obs_vanila[:][:], pred_vanila[:][:])\n",
        "# r2_vanila=slope\n",
        "pearson,dotincay=pearsonr(obs_vanila,pred_vanila)\n",
        "r2_vanila=pearson\n",
        "# r2_vanila=r2_score(pred_vanila,obs_vanila)\n",
        "\n",
        "fig,ax=plt.subplots(figsize=(5,5))\n",
        "min_values=np.min([pred,obs])-2\n",
        "max_values=np.max([pred,obs])+2\n",
        "plt.xlim(min_values,max_values)\n",
        "plt.ylim(min_values,max_values)\n",
        "plt.scatter(x=obs,\n",
        "            y=pred,\n",
        "            s=None,\n",
        "            c='k', \n",
        "            marker='o', \n",
        "            cmap=None,\n",
        "            norm=None,\n",
        "            vmin=None, \n",
        "            vmax=None,\n",
        "            alpha=None,            \n",
        "            linewidths=None,\n",
        "            edgecolors=None,plotnonfinite=False,data=None)\n",
        "\n",
        "# ve duong 45\n",
        "plt.legend(['NDI'])\n",
        "plt.xlabel('obs')\n",
        "plt.ylabel('pred')\n",
        "add_identity(ax, color='r', ls='--')\n",
        "plt.text(max_values-2,min_values+2,str(round(r2_vanila,2)))"
      ],
      "execution_count": 241,
      "outputs": [
        {
          "output_type": "stream",
          "name": "stdout",
          "text": [
            "[30] [0.05715533]\n"
          ]
        },
        {
          "output_type": "execute_result",
          "data": {
            "text/plain": [
              "Text(5.82, -3.25, '0.06')"
            ]
          },
          "metadata": {},
          "execution_count": 241
        },
        {
          "output_type": "display_data",
          "data": {
            "image/png": "[encoded data removed]",
            "text/plain": [
              "<Figure size 576x360 with 1 Axes>"
            ]
          },
          "metadata": {
            "needs_background": "light"
          }
        },
        {
          "output_type": "display_data",
          "data": {
            "image/png": "[encoded data removed]",
            "text/plain": [
              "<Figure size 360x360 with 1 Axes>"
            ]
          },
          "metadata": {
            "needs_background": "light"
          }
        }
      ]
    },
    {
      "cell_type": "markdown",
      "metadata": {
        "id": "2ljYRi-GOrbj"
      },
      "source": [
        "## Multiple Parallel Series"
      ]
    },
    {
      "cell_type": "code",
      "metadata": {
        "ExecuteTime": {
          "end_time": "2021-04-29T15:20:57.353478Z",
          "start_time": "2021-04-29T15:20:56.936Z"
        },
        "colab": {
          "base_uri": "https://localhost:8080/"
        },
        "id": "f_c_cmnPOrbj",
        "outputId": "bc371f14-e91b-46b0-e8bd-96b40697be51"
      },
      "source": [
        "# multivariate output stacked lstm example\n",
        "from numpy import array\n",
        "from numpy import hstack\n",
        "from keras.models import Sequential\n",
        "from keras.layers import LSTM\n",
        "from keras.layers import Dense\n",
        " \n",
        "# split a multivariate sequence into samples\n",
        "def split_sequences(sequences, n_steps):\n",
        "\tX, y = list(), list()\n",
        "\tfor i in range(len(sequences)):\n",
        "\t\t# find the end of this pattern\n",
        "\t\tend_ix = i + n_steps\n",
        "\t\t# check if we are beyond the dataset\n",
        "\t\tif end_ix > len(sequences)-1:\n",
        "\t\t\tbreak\n",
        "\t\t# gather input and output parts of the pattern\n",
        "\t\tseq_x, seq_y = sequences[i:end_ix, :], sequences[end_ix, :]\n",
        "\t\tX.append(seq_x)\n",
        "\t\ty.append(seq_y)\n",
        "\treturn array(X), array(y)\n",
        " \n",
        "# define input sequence\n",
        "in_seq1 = array([10, 20, 30, 40, 50, 60, 70, 80, 90])\n",
        "in_seq2 = array([15, 25, 35, 45, 55, 65, 75, 85, 95])\n",
        "out_seq = array([in_seq1[i]+in_seq2[i] for i in range(len(in_seq1))])\n",
        "# convert to [rows, columns] structure\n",
        "in_seq1 = in_seq1.reshape((len(in_seq1), 1))\n",
        "in_seq2 = in_seq2.reshape((len(in_seq2), 1))\n",
        "out_seq = out_seq.reshape((len(out_seq), 1))\n",
        "# horizontally stack columns\n",
        "dataset = hstack((in_seq1, in_seq2, out_seq))\n",
        "# choose a number of time steps\n",
        "n_steps = 3\n",
        "# convert into input/output\n",
        "X, y = split_sequences(dataset, n_steps)\n",
        "# the dataset knows the number of features, e.g. 2\n",
        "n_features = X.shape[2]\n",
        "# define model\n",
        "model = Sequential()\n",
        "model.add(LSTM(100, activation='relu', return_sequences=True, input_shape=(n_steps, n_features)))\n",
        "model.add(LSTM(100, activation='relu'))\n",
        "model.add(Dense(n_features))\n",
        "model.compile(optimizer='adam', loss='mse')\n",
        "# fit model\n",
        "model.fit(X, y, epochs=400, verbose=0)\n",
        "# demonstrate prediction\n",
        "x_input = array([[70,75,145], [80,85,165], [90,95,185]])\n",
        "x_input = x_input.reshape((1, n_steps, n_features))\n",
        "yhat = model.predict(x_input, verbose=0)\n",
        "print(yhat)"
      ],
      "execution_count": 242,
      "outputs": [
        {
          "output_type": "stream",
          "name": "stdout",
          "text": [
            "[[ 99.94069 105.59625 205.57649]]\n"
          ]
        }
      ]
    },
    {
      "cell_type": "markdown",
      "metadata": {
        "id": "9rM2bMmEOrbk"
      },
      "source": [
        "# Multi-Step LSTM "
      ]
    },
    {
      "cell_type": "markdown",
      "metadata": {
        "id": "nBW-k9FMOrbk"
      },
      "source": [
        "## Data Preparation"
      ]
    },
    {
      "cell_type": "code",
      "metadata": {
        "ExecuteTime": {
          "end_time": "2021-04-29T15:20:57.354966Z",
          "start_time": "2021-04-29T15:20:56.939Z"
        },
        "colab": {
          "base_uri": "https://localhost:8080/"
        },
        "id": "_ocFJOM4Orbk",
        "outputId": "aa040971-1bf4-4b8c-b813-41e18800adf7"
      },
      "source": [
        "# multi-step data preparation\n",
        "from numpy import array\n",
        " \n",
        "# split a univariate sequence into samples\n",
        "def split_sequence(sequence, n_steps_in, n_steps_out):\n",
        "\tX, y = list(), list()\n",
        "\tfor i in range(len(sequence)):\n",
        "\t\t# find the end of this pattern\n",
        "\t\tend_ix = i + n_steps_in\n",
        "\t\tout_end_ix = end_ix + n_steps_out\n",
        "\t\t# check if we are beyond the sequence\n",
        "\t\tif out_end_ix > len(sequence):\n",
        "\t\t\tbreak\n",
        "\t\t# gather input and output parts of the pattern\n",
        "\t\tseq_x, seq_y = sequence[i:end_ix], sequence[end_ix:out_end_ix]\n",
        "\t\tX.append(seq_x)\n",
        "\t\ty.append(seq_y)\n",
        "\treturn array(X), array(y)\n",
        " \n",
        "# define input sequence\n",
        "raw_seq = [10, 20, 30, 40, 50, 60, 70, 80, 90]\n",
        "# choose a number of time steps\n",
        "n_steps_in, n_steps_out = 3, 2\n",
        "# split into samples\n",
        "X, y = split_sequence(raw_seq, n_steps_in, n_steps_out)\n",
        "# summarize the data\n",
        "for i in range(len(X)):\n",
        "\tprint(X[i], y[i])"
      ],
      "execution_count": 243,
      "outputs": [
        {
          "output_type": "stream",
          "name": "stdout",
          "text": [
            "[10 20 30] [40 50]\n",
            "[20 30 40] [50 60]\n",
            "[30 40 50] [60 70]\n",
            "[40 50 60] [70 80]\n",
            "[50 60 70] [80 90]\n"
          ]
        }
      ]
    },
    {
      "cell_type": "markdown",
      "metadata": {
        "id": "e35fXTNGOrbk"
      },
      "source": [
        "## Vector Output"
      ]
    },
    {
      "cell_type": "code",
      "metadata": {
        "ExecuteTime": {
          "end_time": "2021-04-29T15:20:57.356950Z",
          "start_time": "2021-04-29T15:20:56.943Z"
        },
        "colab": {
          "base_uri": "https://localhost:8080/"
        },
        "id": "MLjXO7U3Orbl",
        "outputId": "3a3880bb-0a09-4ff0-f790-d3b6667dff35"
      },
      "source": [
        "# univariate multi-step vector-output stacked lstm example\n",
        "from numpy import array\n",
        "from keras.models import Sequential\n",
        "from keras.layers import LSTM\n",
        "from keras.layers import Dense\n",
        " \n",
        "# split a univariate sequence into samples\n",
        "def split_sequence(sequence, n_steps_in, n_steps_out):\n",
        "\tX, y = list(), list()\n",
        "\tfor i in range(len(sequence)):\n",
        "\t\t# find the end of this pattern\n",
        "\t\tend_ix = i + n_steps_in\n",
        "\t\tout_end_ix = end_ix + n_steps_out\n",
        "\t\t# check if we are beyond the sequence\n",
        "\t\tif out_end_ix > len(sequence):\n",
        "\t\t\tbreak\n",
        "\t\t# gather input and output parts of the pattern\n",
        "\t\tseq_x, seq_y = sequence[i:end_ix], sequence[end_ix:out_end_ix]\n",
        "\t\tX.append(seq_x)\n",
        "\t\ty.append(seq_y)\n",
        "\treturn array(X), array(y)\n",
        " \n",
        "# define input sequence\n",
        "raw_seq = [10, 20, 30, 40, 50, 60, 70, 80, 90]\n",
        "# choose a number of time steps\n",
        "n_steps_in, n_steps_out = 3, 2\n",
        "# split into samples\n",
        "X, y = split_sequence(raw_seq, n_steps_in, n_steps_out)\n",
        "# reshape from [samples, timesteps] into [samples, timesteps, features]\n",
        "n_features = 1\n",
        "X = X.reshape((X.shape[0], X.shape[1], n_features))\n",
        "# define model\n",
        "model = Sequential()\n",
        "model.add(LSTM(100, activation='relu', return_sequences=True, input_shape=(n_steps_in, n_features)))\n",
        "model.add(LSTM(100, activation='relu'))\n",
        "model.add(Dense(n_steps_out))\n",
        "model.compile(optimizer='adam', loss='mse')\n",
        "# fit model\n",
        "model.fit(X, y, epochs=50, verbose=0)\n",
        "# demonstrate prediction\n",
        "x_input = array([70, 80, 90])\n",
        "x_input = x_input.reshape((1, n_steps_in, n_features))\n",
        "yhat = model.predict(x_input, verbose=0)\n",
        "print(yhat)"
      ],
      "execution_count": 244,
      "outputs": [
        {
          "output_type": "stream",
          "name": "stdout",
          "text": [
            "[[122.224815 130.56343 ]]\n"
          ]
        }
      ]
    },
    {
      "cell_type": "markdown",
      "metadata": {
        "id": "H_Cm-hMkOrbl"
      },
      "source": [
        "## Encoder-Decoder "
      ]
    },
    {
      "cell_type": "code",
      "metadata": {
        "ExecuteTime": {
          "end_time": "2021-04-29T15:20:57.358933Z",
          "start_time": "2021-04-29T15:20:56.946Z"
        },
        "colab": {
          "base_uri": "https://localhost:8080/",
          "height": 352
        },
        "id": "TiDJDUw0Orbl",
        "outputId": "597ea0fc-3c17-4795-c5d1-9747e04fb1fd"
      },
      "source": [
        "# univariate multi-step encoder-decoder lstm example\n",
        "from numpy import array\n",
        "from keras.models import Sequential\n",
        "from keras.layers import LSTM\n",
        "from keras.layers import Dense\n",
        "from keras.layers import RepeatVector\n",
        "from keras.layers import TimeDistributed\n",
        " \n",
        "# split a univariate sequence into samples\n",
        "def split_sequence(sequence, n_steps_in, n_steps_out):\n",
        "\tX, y = list(), list()\n",
        "\tfor i in range(len(sequence)):\n",
        "\t\t# find the end of this pattern\n",
        "\t\tend_ix = i + n_steps_in\n",
        "\t\tout_end_ix = end_ix + n_steps_out\n",
        "\t\t# check if we are beyond the sequence\n",
        "\t\tif out_end_ix > len(sequence):\n",
        "\t\t\tbreak\n",
        "\t\t# gather input and output parts of the pattern\n",
        "\t\tseq_x, seq_y = sequence[i:end_ix], sequence[end_ix:out_end_ix]\n",
        "\t\tX.append(seq_x)\n",
        "\t\ty.append(seq_y)\n",
        "\treturn array(X), array(y)\n",
        " \n",
        "# define input sequence\n",
        "# raw_seq = [10, 20, 30, 40, 50, 60, 70, 80, 90]\n",
        "# choose a number of time steps\n",
        "n_steps_in, n_steps_out = 3, 1\n",
        "# split into samples\n",
        "X, y = split_sequence(raw_seq, n_steps_in, n_steps_out)\n",
        "X_test, y_test = split_sequence(raw_seq_test, n_steps_in, n_steps_out)\n",
        "# reshape from [samples, timesteps] into [samples, timesteps, features]\n",
        "n_features = 1\n",
        "X = X.reshape((X.shape[0], X.shape[1], n_features))\n",
        "y = y.reshape((y.shape[0], y.shape[1], n_features))\n",
        "\n",
        "X_test = X_test.reshape((X_test.shape[0], X_test.shape[1], n_features))\n",
        "y_test = y_test.reshape((y_test.shape[0], y_test.shape[1], n_features))\n",
        "\n",
        "# define model\n",
        "model = Sequential()\n",
        "model.add(LSTM(100, activation='relu', input_shape=(n_steps_in, n_features)))\n",
        "model.add(RepeatVector(n_steps_out))\n",
        "model.add(LSTM(100, activation='relu', return_sequences=True))\n",
        "model.add(TimeDistributed(Dense(1)))\n",
        "model.compile(optimizer='adam', loss='mse')\n",
        "# fit model\n",
        "model.fit(X, y, epochs=100, verbose=0)\n",
        "# # demonstrate prediction\n",
        "# x_input = array([70, 80, 90])\n",
        "# x_input = x_input.reshape((1, n_steps_in, n_features))\n",
        "# yhat = model.predict(x_input, verbose=0)\n",
        "# print(yhat)\n",
        "y_hat=model.predict(X_test, verbose=0)\n",
        "pred_vanila=model.predict(X_test, verbose=0)\n",
        "obs_vanila=y_test.reshape(y_test.shape[0],1)\n",
        "pred_vanila=pred_vanila.flatten()\n",
        "obs_vanila=obs_vanila.flatten()\n",
        "# obs_vanila=np.array(obs_vanila)\n",
        "# pred_vanila=np.array(pred_vanila)\n",
        "# plt.plot(pred_vanila)\n",
        "# plt.plot(y_test)\n",
        "slope, intercept, r_value, p_value, std_err = scipy.stats.linregress(obs_vanila[:][:], pred_vanila[:][:])\n",
        "r2_vanila=slope\n",
        "# r2_vanila=r2_score(pred_vanila,obs_vanila)\n",
        "\n",
        "fig,ax=plt.subplots(figsize=(5,5))\n",
        "min_values=np.min([pred,obs])-2\n",
        "max_values=np.max([pred,obs])+2\n",
        "plt.xlim(min_values,max_values)\n",
        "plt.ylim(min_values,max_values)\n",
        "plt.scatter(x=obs,\n",
        "            y=pred,\n",
        "            s=None,\n",
        "            c='k', \n",
        "            marker='o', \n",
        "            cmap=None,\n",
        "            norm=None,\n",
        "            vmin=None, \n",
        "            vmax=None,\n",
        "            alpha=None,            \n",
        "            linewidths=None,\n",
        "            edgecolors=None,plotnonfinite=False,data=None)\n",
        "\n",
        "# ve duong 45\n",
        "plt.legend(['NDI'])\n",
        "plt.xlabel('obs')\n",
        "plt.ylabel('pred')\n",
        "add_identity(ax, color='r', ls='--')\n",
        "plt.text(max_values-2,min_values+2,str(round(r2_vanila,2)))"
      ],
      "execution_count": 245,
      "outputs": [
        {
          "output_type": "execute_result",
          "data": {
            "text/plain": [
              "Text(5.82, -3.25, '-0.08')"
            ]
          },
          "metadata": {},
          "execution_count": 245
        },
        {
          "output_type": "display_data",
          "data": {
            "image/png": "[encoded data removed]",
            "text/plain": [
              "<Figure size 360x360 with 1 Axes>"
            ]
          },
          "metadata": {
            "needs_background": "light"
          }
        }
      ]
    },
    {
      "cell_type": "markdown",
      "metadata": {
        "id": "yQG2T-KCOrbl"
      },
      "source": [
        "# Multivariate Multi-steps "
      ]
    },
    {
      "cell_type": "markdown",
      "metadata": {
        "id": "1QWVa44rOrbm"
      },
      "source": [
        "## Multiple input Multiple-step Ouput"
      ]
    },
    {
      "cell_type": "code",
      "metadata": {
        "ExecuteTime": {
          "end_time": "2021-04-29T15:20:57.360421Z",
          "start_time": "2021-04-29T15:20:56.949Z"
        },
        "scrolled": true,
        "colab": {
          "base_uri": "https://localhost:8080/"
        },
        "id": "gJpYqU2lOrbm",
        "outputId": "b796e0af-38a0-47db-95c6-c1965445783d"
      },
      "source": [
        "# multivariate multi-step data preparation\n",
        "from numpy import array\n",
        "from numpy import hstack\n",
        " \n",
        "# split a multivariate sequence into samples\n",
        "def split_sequences(sequences, n_steps_in, n_steps_out):\n",
        "\tX, y = list(), list()\n",
        "\tfor i in range(len(sequences)):\n",
        "\t\t# find the end of this pattern\n",
        "\t\tend_ix = i + n_steps_in\n",
        "\t\tout_end_ix = end_ix + n_steps_out-1\n",
        "\t\t# check if we are beyond the dataset\n",
        "\t\tif out_end_ix > len(sequences):\n",
        "\t\t\tbreak\n",
        "\t\t# gather input and output parts of the pattern\n",
        "\t\tseq_x, seq_y = sequences[i:end_ix, :-1], sequences[end_ix-1:out_end_ix, -1]\n",
        "\t\tX.append(seq_x)\n",
        "\t\ty.append(seq_y)\n",
        "\treturn array(X), array(y)\n",
        " \n",
        "# define input sequence\n",
        "in_seq1 = array([10, 20, 30, 40, 50, 60, 70, 80, 90])\n",
        "in_seq2 = array([15, 25, 35, 45, 55, 65, 75, 85, 95])\n",
        "out_seq = array([in_seq1[i]+in_seq2[i] for i in range(len(in_seq1))])\n",
        "# convert to [rows, columns] structure\n",
        "in_seq1 = in_seq1.reshape((len(in_seq1), 1))\n",
        "in_seq2 = in_seq2.reshape((len(in_seq2), 1))\n",
        "out_seq = out_seq.reshape((len(out_seq), 1))\n",
        "# horizontally stack columns\n",
        "dataset = hstack((in_seq1, in_seq2, out_seq))\n",
        "# choose a number of time steps\n",
        "n_steps_in, n_steps_out = 3, 2\n",
        "# covert into input/output\n",
        "X, y = split_sequences(dataset, n_steps_in, n_steps_out)\n",
        "print(X.shape, y.shape)\n",
        "# summarize the data\n",
        "for i in range(len(X)):\n",
        "\tprint(X[i], y[i])"
      ],
      "execution_count": 246,
      "outputs": [
        {
          "output_type": "stream",
          "name": "stdout",
          "text": [
            "(6, 3, 2) (6, 2)\n",
            "[[10 15]\n",
            " [20 25]\n",
            " [30 35]] [65 85]\n",
            "[[20 25]\n",
            " [30 35]\n",
            " [40 45]] [ 85 105]\n",
            "[[30 35]\n",
            " [40 45]\n",
            " [50 55]] [105 125]\n",
            "[[40 45]\n",
            " [50 55]\n",
            " [60 65]] [125 145]\n",
            "[[50 55]\n",
            " [60 65]\n",
            " [70 75]] [145 165]\n",
            "[[60 65]\n",
            " [70 75]\n",
            " [80 85]] [165 185]\n"
          ]
        }
      ]
    },
    {
      "cell_type": "code",
      "metadata": {
        "ExecuteTime": {
          "end_time": "2021-04-29T15:20:57.362406Z",
          "start_time": "2021-04-29T15:20:56.952Z"
        },
        "colab": {
          "base_uri": "https://localhost:8080/"
        },
        "id": "87XHQFMQOrbm",
        "outputId": "494fd041-e92c-4dfc-e45e-35303b3d855c"
      },
      "source": [
        "# multivariate multi-step stacked lstm example\n",
        "from numpy import array\n",
        "from numpy import hstack\n",
        "from keras.models import Sequential\n",
        "from keras.layers import LSTM\n",
        "from keras.layers import Dense\n",
        " \n",
        "# split a multivariate sequence into samples\n",
        "def split_sequences(sequences, n_steps_in, n_steps_out):\n",
        "\tX, y = list(), list()\n",
        "\tfor i in range(len(sequences)):\n",
        "\t\t# find the end of this pattern\n",
        "\t\tend_ix = i + n_steps_in\n",
        "\t\tout_end_ix = end_ix + n_steps_out-1\n",
        "\t\t# check if we are beyond the dataset\n",
        "\t\tif out_end_ix > len(sequences):\n",
        "\t\t\tbreak\n",
        "\t\t# gather input and output parts of the pattern\n",
        "\t\tseq_x, seq_y = sequences[i:end_ix, :-1], sequences[end_ix-1:out_end_ix, -1]\n",
        "\t\tX.append(seq_x)\n",
        "\t\ty.append(seq_y)\n",
        "\treturn array(X), array(y)\n",
        " \n",
        "# define input sequence\n",
        "in_seq1 = array([10, 20, 30, 40, 50, 60, 70, 80, 90])\n",
        "in_seq2 = array([15, 25, 35, 45, 55, 65, 75, 85, 95])\n",
        "out_seq = array([in_seq1[i]+in_seq2[i] for i in range(len(in_seq1))])\n",
        "# convert to [rows, columns] structure\n",
        "in_seq1 = in_seq1.reshape((len(in_seq1), 1))\n",
        "in_seq2 = in_seq2.reshape((len(in_seq2), 1))\n",
        "out_seq = out_seq.reshape((len(out_seq), 1))\n",
        "# horizontally stack columns\n",
        "# dataset = hstack((in_seq1, in_seq2, out_seq))\n",
        "# choose a number of time steps\n",
        "n_steps_in, n_steps_out = 3, 2\n",
        "# covert into input/output\n",
        "X, y = split_sequences(dataset, n_steps_in, n_steps_out)\n",
        "# the dataset knows the number of features, e.g. 2\n",
        "n_features = X.shape[2]\n",
        "# define model\n",
        "model = Sequential()\n",
        "model.add(LSTM(100, activation='relu', return_sequences=True, input_shape=(n_steps_in, n_features)))\n",
        "model.add(LSTM(100, activation='relu'))\n",
        "model.add(Dense(n_steps_out))\n",
        "model.compile(optimizer='adam', loss='mse')\n",
        "# fit model\n",
        "model.fit(X, y, epochs=200, verbose=0)\n",
        "# demonstrate prediction\n",
        "x_input = array([[70, 75], [80, 85], [90, 95]])\n",
        "x_input = x_input.reshape((1, n_steps_in, n_features))\n",
        "yhat = model.predict(x_input, verbose=0)\n",
        "print(yhat)"
      ],
      "execution_count": 247,
      "outputs": [
        {
          "output_type": "stream",
          "name": "stdout",
          "text": [
            "[[185.45245 206.68456]]\n"
          ]
        }
      ]
    },
    {
      "cell_type": "markdown",
      "metadata": {
        "id": "_HyNPmetOrbm"
      },
      "source": [
        "## Multiple Parallel Input and Multi-Step Output"
      ]
    },
    {
      "cell_type": "code",
      "metadata": {
        "ExecuteTime": {
          "end_time": "2021-04-29T15:20:57.363894Z",
          "start_time": "2021-04-29T15:20:56.955Z"
        },
        "scrolled": true,
        "colab": {
          "base_uri": "https://localhost:8080/"
        },
        "id": "5tE3-b24Orbn",
        "outputId": "5ad83e59-d425-4323-9796-abef57389de0"
      },
      "source": [
        "# multivariate multi-step data preparation\n",
        "from numpy import array\n",
        "from numpy import hstack\n",
        "from keras.models import Sequential\n",
        "from keras.layers import LSTM\n",
        "from keras.layers import Dense\n",
        "from keras.layers import RepeatVector\n",
        "from keras.layers import TimeDistributed\n",
        " \n",
        "# split a multivariate sequence into samples\n",
        "def split_sequences(sequences, n_steps_in, n_steps_out):\n",
        "\tX, y = list(), list()\n",
        "\tfor i in range(len(sequences)):\n",
        "\t\t# find the end of this pattern\n",
        "\t\tend_ix = i + n_steps_in\n",
        "\t\tout_end_ix = end_ix + n_steps_out\n",
        "\t\t# check if we are beyond the dataset\n",
        "\t\tif out_end_ix > len(sequences):\n",
        "\t\t\tbreak\n",
        "\t\t# gather input and output parts of the pattern\n",
        "\t\tseq_x, seq_y = sequences[i:end_ix, :], sequences[end_ix:out_end_ix, :]\n",
        "\t\tX.append(seq_x)\n",
        "\t\ty.append(seq_y)\n",
        "\treturn array(X), array(y)\n",
        " \n",
        "# define input sequence\n",
        "in_seq1 = array([10, 20, 30, 40, 50, 60, 70, 80, 90])\n",
        "in_seq2 = array([15, 25, 35, 45, 55, 65, 75, 85, 95])\n",
        "out_seq = array([in_seq1[i]+in_seq2[i] for i in range(len(in_seq1))])\n",
        "# convert to [rows, columns] structure\n",
        "in_seq1 = in_seq1.reshape((len(in_seq1), 1))\n",
        "in_seq2 = in_seq2.reshape((len(in_seq2), 1))\n",
        "out_seq = out_seq.reshape((len(out_seq), 1))\n",
        "# horizontally stack columns\n",
        "dataset = hstack((in_seq1, in_seq2, out_seq))\n",
        "# choose a number of time steps\n",
        "n_steps_in, n_steps_out = 3, 2\n",
        "# covert into input/output\n",
        "X, y = split_sequences(dataset, n_steps_in, n_steps_out)\n",
        "print(X.shape, y.shape)\n",
        "# summarize the data\n",
        "for i in range(len(X)):\n",
        "\tprint(X[i], y[i])"
      ],
      "execution_count": 248,
      "outputs": [
        {
          "output_type": "stream",
          "name": "stdout",
          "text": [
            "(5, 3, 3) (5, 2, 3)\n",
            "[[10 15 25]\n",
            " [20 25 45]\n",
            " [30 35 65]] [[ 40  45  85]\n",
            " [ 50  55 105]]\n",
            "[[20 25 45]\n",
            " [30 35 65]\n",
            " [40 45 85]] [[ 50  55 105]\n",
            " [ 60  65 125]]\n",
            "[[ 30  35  65]\n",
            " [ 40  45  85]\n",
            " [ 50  55 105]] [[ 60  65 125]\n",
            " [ 70  75 145]]\n",
            "[[ 40  45  85]\n",
            " [ 50  55 105]\n",
            " [ 60  65 125]] [[ 70  75 145]\n",
            " [ 80  85 165]]\n",
            "[[ 50  55 105]\n",
            " [ 60  65 125]\n",
            " [ 70  75 145]] [[ 80  85 165]\n",
            " [ 90  95 185]]\n"
          ]
        }
      ]
    },
    {
      "cell_type": "code",
      "metadata": {
        "ExecuteTime": {
          "end_time": "2021-04-29T15:20:57.365382Z",
          "start_time": "2021-04-29T15:20:56.958Z"
        },
        "colab": {
          "base_uri": "https://localhost:8080/"
        },
        "id": "Qkv47EgBOrbn",
        "outputId": "2c183a9a-1f7c-41ed-9751-69f385bb0c62"
      },
      "source": [
        "# multivariate multi-step encoder-decoder lstm example\n",
        "from numpy import array\n",
        "from numpy import hstack\n",
        "from keras.models import Sequential\n",
        "from keras.layers import LSTM\n",
        "from keras.layers import Dense\n",
        "from keras.layers import RepeatVector\n",
        "from keras.layers import TimeDistributed\n",
        " \n",
        "# split a multivariate sequence into samples\n",
        "def split_sequences(sequences, n_steps_in, n_steps_out):\n",
        "\tX, y = list(), list()\n",
        "\tfor i in range(len(sequences)):\n",
        "\t\t# find the end of this pattern\n",
        "\t\tend_ix = i + n_steps_in\n",
        "\t\tout_end_ix = end_ix + n_steps_out\n",
        "\t\t# check if we are beyond the dataset\n",
        "\t\tif out_end_ix > len(sequences):\n",
        "\t\t\tbreak\n",
        "\t\t# gather input and output parts of the pattern\n",
        "\t\tseq_x, seq_y = sequences[i:end_ix, :], sequences[end_ix:out_end_ix, :]\n",
        "\t\tX.append(seq_x)\n",
        "\t\ty.append(seq_y)\n",
        "\treturn array(X), array(y)\n",
        " \n",
        "# define input sequence\n",
        "in_seq1 = array([10, 20, 30, 40, 50, 60, 70, 80, 90])\n",
        "in_seq2 = array([15, 25, 35, 45, 55, 65, 75, 85, 95])\n",
        "out_seq = array([in_seq1[i]+in_seq2[i] for i in range(len(in_seq1))])\n",
        "# convert to [rows, columns] structure\n",
        "in_seq1 = in_seq1.reshape((len(in_seq1), 1))\n",
        "in_seq2 = in_seq2.reshape((len(in_seq2), 1))\n",
        "out_seq = out_seq.reshape((len(out_seq), 1))\n",
        "# horizontally stack columns\n",
        "dataset = hstack((in_seq1, in_seq2, out_seq))\n",
        "# choose a number of time steps\n",
        "n_steps_in, n_steps_out = 3, 2\n",
        "# covert into input/output\n",
        "X, y = split_sequences(dataset, n_steps_in, n_steps_out)\n",
        "# the dataset knows the number of features, e.g. 2\n",
        "n_features = X.shape[2]\n",
        "# define model\n",
        "model = Sequential()\n",
        "model.add(LSTM(200, activation='relu', input_shape=(n_steps_in, n_features)))\n",
        "model.add(RepeatVector(n_steps_out))\n",
        "model.add(LSTM(200, activation='relu', return_sequences=True))\n",
        "model.add(TimeDistributed(Dense(n_features)))\n",
        "model.compile(optimizer='adam', loss='mse')\n",
        "# fit model\n",
        "model.fit(X, y, epochs=300, verbose=0)\n",
        "# demonstrate prediction\n",
        "x_input = array([[60, 65, 125], [70, 75, 145], [80, 85, 165]])\n",
        "x_input = x_input.reshape((1, n_steps_in, n_features))\n",
        "yhat = model.predict(x_input, verbose=0)\n",
        "print(yhat)"
      ],
      "execution_count": 249,
      "outputs": [
        {
          "output_type": "stream",
          "name": "stdout",
          "text": [
            "[[[ 90.64668   95.95445  186.02055 ]\n",
            "  [100.636215 105.7032   206.52702 ]]]\n"
          ]
        }
      ]
    },
    {
      "cell_type": "markdown",
      "metadata": {
        "id": "D-dNxy2ttplM"
      },
      "source": [
        "# HOC THEM"
      ]
    },
    {
      "cell_type": "code",
      "metadata": {
        "id": "JdYPrE58tske"
      },
      "source": [
        "df=df_prec_NDI\n",
        "x_scaler = MinMaxScaler()\n",
        "scaled_xdata = x_scaler.fit_transform(df)\n",
        "scaled_xdata_inv = x_scaler.inverse_transform(scaled_xdata)"
      ],
      "execution_count": 250,
      "outputs": []
    },
    {
      "cell_type": "code",
      "metadata": {
        "colab": {
          "base_uri": "https://localhost:8080/"
        },
        "id": "oO7-cI21vFo3",
        "outputId": "50bfd213-f6d4-4b14-e992-5b4d1dc3bd2c"
      },
      "source": [
        "# kiem tra\n",
        "dfx=pd.DataFrame({'A':np.arange(1,10),'B':np.arange(10,100,10)})\n",
        "dfx_train=dfx.iloc[:6,:]\n",
        "dfx_test=dfx.iloc[6:,:]\n",
        "print(dfx)\n",
        "print(dfx_train)\n",
        "print(dfx_test)"
      ],
      "execution_count": 251,
      "outputs": [
        {
          "output_type": "stream",
          "name": "stdout",
          "text": [
            "   A   B\n",
            "0  1  10\n",
            "1  2  20\n",
            "2  3  30\n",
            "3  4  40\n",
            "4  5  50\n",
            "5  6  60\n",
            "6  7  70\n",
            "7  8  80\n",
            "8  9  90\n",
            "   A   B\n",
            "0  1  10\n",
            "1  2  20\n",
            "2  3  30\n",
            "3  4  40\n",
            "4  5  50\n",
            "5  6  60\n",
            "   A   B\n",
            "6  7  70\n",
            "7  8  80\n",
            "8  9  90\n"
          ]
        }
      ]
    },
    {
      "cell_type": "code",
      "metadata": {
        "colab": {
          "base_uri": "https://localhost:8080/"
        },
        "id": "BpUwCOkdwEyr",
        "outputId": "f4153029-47f2-40f7-d831-7296fed09c51"
      },
      "source": [
        "x_scaler = MinMaxScaler()\n",
        "scaled_xdata_train = x_scaler.fit_transform(dfx_train)\n",
        "scaled_xdata_train"
      ],
      "execution_count": 252,
      "outputs": [
        {
          "output_type": "execute_result",
          "data": {
            "text/plain": [
              "array([[0. , 0. ],\n",
              "       [0.2, 0.2],\n",
              "       [0.4, 0.4],\n",
              "       [0.6, 0.6],\n",
              "       [0.8, 0.8],\n",
              "       [1. , 1. ]])"
            ]
          },
          "metadata": {},
          "execution_count": 252
        }
      ]
    },
    {
      "cell_type": "code",
      "metadata": {
        "colab": {
          "base_uri": "https://localhost:8080/"
        },
        "id": "0uGycrB5wmfA",
        "outputId": "fdfde8fd-5e13-4195-9326-9bea97cac50e"
      },
      "source": [
        "scaled_xdata_inv = x_scaler.inverse_transform(scaled_xdata_train)\n",
        "scaled_xdata_inv"
      ],
      "execution_count": 253,
      "outputs": [
        {
          "output_type": "execute_result",
          "data": {
            "text/plain": [
              "array([[ 1., 10.],\n",
              "       [ 2., 20.],\n",
              "       [ 3., 30.],\n",
              "       [ 4., 40.],\n",
              "       [ 5., 50.],\n",
              "       [ 6., 60.]])"
            ]
          },
          "metadata": {},
          "execution_count": 253
        }
      ]
    },
    {
      "cell_type": "code",
      "metadata": {
        "colab": {
          "base_uri": "https://localhost:8080/"
        },
        "id": "RuSngQ_mwxbo",
        "outputId": "26c4f263-3d12-48bb-d85b-eb8942feb78b"
      },
      "source": [
        "scaled_xdata_test=x_scaler.transform(dfx_test)\n",
        "scaled_xdata_test"
      ],
      "execution_count": 254,
      "outputs": [
        {
          "output_type": "execute_result",
          "data": {
            "text/plain": [
              "array([[1.2, 1.2],\n",
              "       [1.4, 1.4],\n",
              "       [1.6, 1.6]])"
            ]
          },
          "metadata": {},
          "execution_count": 254
        }
      ]
    },
    {
      "cell_type": "code",
      "metadata": {
        "colab": {
          "base_uri": "https://localhost:8080/"
        },
        "id": "FwgGv9-txUbr",
        "outputId": "39d6b2b9-6f2c-40b1-b270-feb49fd65758"
      },
      "source": [
        "scaled_xdata_inv_test = x_scaler.inverse_transform(scaled_xdata_test)\n",
        "scaled_xdata_inv_test"
      ],
      "execution_count": 255,
      "outputs": [
        {
          "output_type": "execute_result",
          "data": {
            "text/plain": [
              "array([[ 7., 70.],\n",
              "       [ 8., 80.],\n",
              "       [ 9., 90.]])"
            ]
          },
          "metadata": {},
          "execution_count": 255
        }
      ]
    }
  ]
}