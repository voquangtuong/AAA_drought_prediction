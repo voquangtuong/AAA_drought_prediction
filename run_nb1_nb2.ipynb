{
  "nbformat": 4,
  "nbformat_minor": 0,
  "metadata": {
    "colab": {
      "name": "run_nb1_nb2.ipynb",
      "provenance": [],
      "collapsed_sections": [],
      "toc_visible": true,
      "authorship_tag": "ABX9TyOQOYbDcwqtyEA+Vx5zbK+L"
    },
    "kernelspec": {
      "name": "python3",
      "display_name": "Python 3"
    },
    "language_info": {
      "name": "python"
    }
  },
  "cells": [
    {
      "cell_type": "code",
      "metadata": {
        "id": "6uPfhGY4J9FX"
      },
      "source": [
        ""
      ],
      "execution_count": 3,
      "outputs": []
    },
    {
      "cell_type": "code",
      "metadata": {
        "colab": {
          "base_uri": "https://localhost:8080/"
        },
        "id": "UDfOZUsZKIig",
        "outputId": "3103225d-2c05-4687-d95f-63e459141cf8"
      },
      "source": [
        "from google.colab import drive\n",
        "drive.mount('/content/drive')"
      ],
      "execution_count": 4,
      "outputs": [
        {
          "output_type": "stream",
          "text": [
            "Drive already mounted at /content/drive; to attempt to forcibly remount, call drive.mount(\"/content/drive\", force_remount=True).\n"
          ],
          "name": "stdout"
        }
      ]
    },
    {
      "cell_type": "code",
      "metadata": {
        "id": "Iq0a4W1jKP2O"
      },
      "source": [
        "import os\n",
        "os.chdir('/content/drive/MyDrive/multiple_nb')"
      ],
      "execution_count": 5,
      "outputs": []
    },
    {
      "cell_type": "code",
      "metadata": {
        "colab": {
          "base_uri": "https://localhost:8080/"
        },
        "id": "MNehfXUUKv6v",
        "outputId": "e3373b83-891b-401c-ae34-05496b5c9c6f"
      },
      "source": [
        "list_nb=os.listdir()\n",
        "print(list_nb)"
      ],
      "execution_count": 6,
      "outputs": [
        {
          "output_type": "stream",
          "text": [
            "['nb1.ipynb', 'nb2.ipynb']\n"
          ],
          "name": "stdout"
        }
      ]
    },
    {
      "cell_type": "code",
      "metadata": {
        "id": "mi3KXpDbLDzY"
      },
      "source": [
        "!sudo pip install runipy --q"
      ],
      "execution_count": 10,
      "outputs": []
    },
    {
      "cell_type": "code",
      "metadata": {
        "colab": {
          "base_uri": "https://localhost:8080/"
        },
        "id": "LS2jiHoOMSg-",
        "outputId": "42093029-4d72-48a2-cd3b-e3125654a543"
      },
      "source": [
        "%%bash\n",
        "runipy -o  nb1.ipynb"
      ],
      "execution_count": 11,
      "outputs": [
        {
          "output_type": "stream",
          "text": [
            "07/23/2021 02:29:14 AM INFO: Reading notebook nb1.ipynb\n",
            "07/23/2021 02:29:15 AM INFO: Running cell:\n",
            "import numpy as np\n",
            "import pandas as pd\n",
            "import matplotlib.pyplot as plt\n",
            "\n",
            "07/23/2021 02:29:15 AM INFO: Cell returned\n",
            "07/23/2021 02:29:15 AM INFO: Running cell:\n",
            "x=np.arange(1,10,2)\n",
            "\n",
            "07/23/2021 02:29:15 AM INFO: Cell returned\n",
            "07/23/2021 02:29:15 AM INFO: Running cell:\n",
            "plt.plot(x,'rs-.')\n",
            "\n",
            "07/23/2021 02:29:16 AM INFO: Cell returned\n",
            "07/23/2021 02:29:16 AM INFO: Saving to nb1.ipynb\n",
            "07/23/2021 02:29:16 AM INFO: Shutdown kernel\n"
          ],
          "name": "stderr"
        }
      ]
    },
    {
      "cell_type": "markdown",
      "metadata": {
        "id": "EM4eX32eMzde"
      },
      "source": [
        "# Understand loop in unix"
      ]
    },
    {
      "cell_type": "markdown",
      "metadata": {
        "id": "ISEAoefhM4PH"
      },
      "source": [
        "sources:https://www.tutorialspoint.com/unix/unix-shell-loops.htm"
      ]
    },
    {
      "cell_type": "markdown",
      "metadata": {
        "id": "A9MhNV44M7_Y"
      },
      "source": [
        "## while loop"
      ]
    },
    {
      "cell_type": "code",
      "metadata": {
        "colab": {
          "base_uri": "https://localhost:8080/"
        },
        "id": "mUIY_oQ8NMQ2",
        "outputId": "0855079f-f696-45ae-e89e-571496aab1d0"
      },
      "source": [
        "%%bash\n",
        "#!/bin/sh\n",
        "\n",
        "a=0\n",
        "while [ \"$a\" -lt 10 ]    # this is loop1\n",
        "do\n",
        "   b=\"$a\"\n",
        "   while [ \"$b\" -ge 0 ]  # this is loop2\n",
        "   do\n",
        "      echo -n \"$b \"\n",
        "      b=`expr $b - 1`\n",
        "   done\n",
        "   echo\n",
        "   a=`expr $a + 1`\n",
        "done"
      ],
      "execution_count": 12,
      "outputs": [
        {
          "output_type": "stream",
          "text": [
            "0 \n",
            "1 0 \n",
            "2 1 0 \n",
            "3 2 1 0 \n",
            "4 3 2 1 0 \n",
            "5 4 3 2 1 0 \n",
            "6 5 4 3 2 1 0 \n",
            "7 6 5 4 3 2 1 0 \n",
            "8 7 6 5 4 3 2 1 0 \n",
            "9 8 7 6 5 4 3 2 1 0 \n"
          ],
          "name": "stdout"
        }
      ]
    },
    {
      "cell_type": "markdown",
      "metadata": {
        "id": "xh8YwKoBNhrV"
      },
      "source": [
        "## For loop"
      ]
    },
    {
      "cell_type": "code",
      "metadata": {
        "colab": {
          "base_uri": "https://localhost:8080/"
        },
        "id": "pyz9oYBXNy-W",
        "outputId": "dc98eb02-11a1-4ef0-a4f1-db34815d1431"
      },
      "source": [
        "#!/bin/sh\n",
        "%%bash\n",
        "for var in 0 1 2 3 4 5 6 7 8 9\n",
        "do\n",
        "   echo $var\n",
        "done"
      ],
      "execution_count": 14,
      "outputs": [
        {
          "output_type": "stream",
          "text": [
            "0\n",
            "1\n",
            "2\n",
            "3\n",
            "4\n",
            "5\n",
            "6\n",
            "7\n",
            "8\n",
            "9\n"
          ],
          "name": "stdout"
        }
      ]
    },
    {
      "cell_type": "markdown",
      "metadata": {
        "id": "gEpf9bIURc7V"
      },
      "source": [
        "# Apply loop to run multiple NBs"
      ]
    },
    {
      "cell_type": "code",
      "metadata": {
        "colab": {
          "base_uri": "https://localhost:8080/"
        },
        "id": "HMyMp4LCN9Ml",
        "outputId": "22c04bac-5b53-4196-88ba-c32614b6edab"
      },
      "source": [
        "#!/bin/sh\n",
        "%%bash\n",
        "for entry in \"/content/drive/MyDrive/multiple_nb\"/*\n",
        "do\n",
        "  echo \"$entry\"\n",
        "  runipy -o  $entry\n",
        "done"
      ],
      "execution_count": 37,
      "outputs": [
        {
          "output_type": "stream",
          "text": [
            "/content/drive/MyDrive/multiple_nb/nb1.ipynb\n",
            "/content/drive/MyDrive/multiple_nb/nb2.ipynb\n"
          ],
          "name": "stdout"
        },
        {
          "output_type": "stream",
          "text": [
            "07/23/2021 02:50:08 AM INFO: Reading notebook /content/drive/MyDrive/multiple_nb/nb1.ipynb\n",
            "07/23/2021 02:50:10 AM INFO: Running cell:\n",
            "import numpy as np\n",
            "import pandas as pd\n",
            "import matplotlib.pyplot as plt\n",
            "\n",
            "07/23/2021 02:50:10 AM INFO: Cell returned\n",
            "07/23/2021 02:50:10 AM INFO: Running cell:\n",
            "x=np.arange(1,10,2)\n",
            "\n",
            "07/23/2021 02:50:10 AM INFO: Cell returned\n",
            "07/23/2021 02:50:10 AM INFO: Running cell:\n",
            "plt.plot(x,'rs-.')\n",
            "\n",
            "07/23/2021 02:50:10 AM INFO: Cell returned\n",
            "07/23/2021 02:50:10 AM INFO: Saving to /content/drive/MyDrive/multiple_nb/nb1.ipynb\n",
            "07/23/2021 02:50:10 AM INFO: Shutdown kernel\n",
            "07/23/2021 02:50:11 AM INFO: Reading notebook /content/drive/MyDrive/multiple_nb/nb2.ipynb\n",
            "07/23/2021 02:50:12 AM INFO: Running cell:\n",
            "import numpy as np\n",
            "import pandas as pd\n",
            "import matplotlib.pyplot as plt\n",
            "\n",
            "07/23/2021 02:50:12 AM INFO: Cell returned\n",
            "07/23/2021 02:50:13 AM INFO: Running cell:\n",
            "x=np.arange(1,10,2)\n",
            "\n",
            "07/23/2021 02:50:13 AM INFO: Cell returned\n",
            "07/23/2021 02:50:13 AM INFO: Running cell:\n",
            "plt.plot(x,'ko-.')\n",
            "\n",
            "07/23/2021 02:50:13 AM INFO: Cell returned\n",
            "07/23/2021 02:50:13 AM INFO: Saving to /content/drive/MyDrive/multiple_nb/nb2.ipynb\n",
            "07/23/2021 02:50:13 AM INFO: Shutdown kernel\n"
          ],
          "name": "stderr"
        }
      ]
    }
  ]
}